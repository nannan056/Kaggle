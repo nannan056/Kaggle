{
 "cells": [
  {
   "cell_type": "code",
   "execution_count": 36,
   "id": "04fa8784",
   "metadata": {
    "ExecuteTime": {
     "end_time": "2022-05-24T13:31:55.758807Z",
     "start_time": "2022-05-24T13:31:55.545107Z"
    }
   },
   "outputs": [],
   "source": [
    "import numpy as np\n",
    "import pandas as pd\n",
    "\n",
    "import seaborn as sns\n",
    "import matplotlib.pyplot as plt\n",
    "\n",
    "from sklearn.preprocessing import OneHotEncoder\n",
    "from sklearn.model_selection import train_test_split,KFold,StratifiedKFold\n",
    "\n",
    "# 模型的包\n",
    "from sklearn.linear_model import Perceptron,SGDClassifier,LogisticRegression\n",
    "from sklearn.neighbors import KNeighborsClassifier\n",
    "from sklearn.svm import LinearSVC\n",
    "from sklearn.ensemble import GradientBoostingClassifier,RandomForestClassifier\n",
    "\n",
    "from sklearn.gaussian_process import GaussianProcessClassifier\n",
    "from sklearn.naive_bayes import BernoulliNB\n",
    "\n",
    "from lightgbm import LGBMClassifier\n",
    "from xgboost import XGBClassifier\n",
    "from catboost import CatBoostClassifier\n",
    "\n",
    "\n",
    "import warnings\n",
    "warnings.filterwarnings(\"ignore\")\n",
    "\n",
    "pd.set_option('display.max_rows',None)\n",
    "pd.set_option('display.max_columns',None)\n"
   ]
  },
  {
   "cell_type": "code",
   "execution_count": 2,
   "id": "9c64912e",
   "metadata": {
    "ExecuteTime": {
     "end_time": "2022-05-24T12:45:25.231641Z",
     "start_time": "2022-05-24T12:45:25.205641Z"
    }
   },
   "outputs": [],
   "source": [
    "train=pd.read_csv(\"./data/train.csv\")#(891,12)\n",
    "test=pd.read_csv(\"./data/test.csv\")#(418,11)\n",
    "train['is_train']=1\n",
    "test['is_train']=0\n",
    "data=pd.concat([train,test])"
   ]
  },
  {
   "cell_type": "code",
   "execution_count": 65,
   "id": "86ef23d8",
   "metadata": {
    "ExecuteTime": {
     "end_time": "2022-05-23T14:27:16.411167Z",
     "start_time": "2022-05-23T14:27:16.382162Z"
    }
   },
   "outputs": [
    {
     "data": {
      "text/html": [
       "<div>\n",
       "<style scoped>\n",
       "    .dataframe tbody tr th:only-of-type {\n",
       "        vertical-align: middle;\n",
       "    }\n",
       "\n",
       "    .dataframe tbody tr th {\n",
       "        vertical-align: top;\n",
       "    }\n",
       "\n",
       "    .dataframe thead th {\n",
       "        text-align: right;\n",
       "    }\n",
       "</style>\n",
       "<table border=\"1\" class=\"dataframe\">\n",
       "  <thead>\n",
       "    <tr style=\"text-align: right;\">\n",
       "      <th></th>\n",
       "      <th>Survived</th>\n",
       "      <th>Pclass</th>\n",
       "      <th>Age</th>\n",
       "      <th>SibSp</th>\n",
       "      <th>Parch</th>\n",
       "      <th>Fare</th>\n",
       "      <th>is_train</th>\n",
       "      <th>Cabins</th>\n",
       "      <th>familyNum</th>\n",
       "      <th>has_family</th>\n",
       "      <th>CabinA</th>\n",
       "      <th>CabinB</th>\n",
       "      <th>CabinC</th>\n",
       "      <th>CabinD</th>\n",
       "      <th>CabinE</th>\n",
       "      <th>CabinF</th>\n",
       "      <th>CabinG</th>\n",
       "      <th>CabinT</th>\n",
       "      <th>CabinZ</th>\n",
       "      <th>EmbarkedC</th>\n",
       "      <th>EmbarkedQ</th>\n",
       "      <th>EmbarkedS</th>\n",
       "      <th>TitleMaster</th>\n",
       "      <th>TitleMiss</th>\n",
       "      <th>TitleMr</th>\n",
       "      <th>TitleMrs</th>\n",
       "      <th>TitleRare</th>\n",
       "      <th>Sexfemale</th>\n",
       "      <th>Sexmale</th>\n",
       "      <th>female1</th>\n",
       "      <th>female2</th>\n",
       "      <th>female3</th>\n",
       "      <th>male1</th>\n",
       "      <th>male2</th>\n",
       "      <th>male3</th>\n",
       "      <th>Age_range</th>\n",
       "    </tr>\n",
       "  </thead>\n",
       "  <tbody>\n",
       "    <tr>\n",
       "      <th>0</th>\n",
       "      <td>0.0</td>\n",
       "      <td>3</td>\n",
       "      <td>22.0</td>\n",
       "      <td>1</td>\n",
       "      <td>0</td>\n",
       "      <td>7.2500</td>\n",
       "      <td>1</td>\n",
       "      <td>0</td>\n",
       "      <td>1</td>\n",
       "      <td>1</td>\n",
       "      <td>0</td>\n",
       "      <td>0</td>\n",
       "      <td>0</td>\n",
       "      <td>0</td>\n",
       "      <td>0</td>\n",
       "      <td>0</td>\n",
       "      <td>0</td>\n",
       "      <td>0</td>\n",
       "      <td>1</td>\n",
       "      <td>0</td>\n",
       "      <td>0</td>\n",
       "      <td>1</td>\n",
       "      <td>0</td>\n",
       "      <td>0</td>\n",
       "      <td>1</td>\n",
       "      <td>0</td>\n",
       "      <td>0</td>\n",
       "      <td>0</td>\n",
       "      <td>1</td>\n",
       "      <td>0</td>\n",
       "      <td>0</td>\n",
       "      <td>0</td>\n",
       "      <td>0</td>\n",
       "      <td>0</td>\n",
       "      <td>1</td>\n",
       "      <td>2</td>\n",
       "    </tr>\n",
       "    <tr>\n",
       "      <th>1</th>\n",
       "      <td>1.0</td>\n",
       "      <td>1</td>\n",
       "      <td>38.0</td>\n",
       "      <td>1</td>\n",
       "      <td>0</td>\n",
       "      <td>71.2833</td>\n",
       "      <td>1</td>\n",
       "      <td>1</td>\n",
       "      <td>1</td>\n",
       "      <td>1</td>\n",
       "      <td>0</td>\n",
       "      <td>0</td>\n",
       "      <td>1</td>\n",
       "      <td>0</td>\n",
       "      <td>0</td>\n",
       "      <td>0</td>\n",
       "      <td>0</td>\n",
       "      <td>0</td>\n",
       "      <td>0</td>\n",
       "      <td>1</td>\n",
       "      <td>0</td>\n",
       "      <td>0</td>\n",
       "      <td>0</td>\n",
       "      <td>0</td>\n",
       "      <td>0</td>\n",
       "      <td>1</td>\n",
       "      <td>0</td>\n",
       "      <td>1</td>\n",
       "      <td>0</td>\n",
       "      <td>1</td>\n",
       "      <td>0</td>\n",
       "      <td>0</td>\n",
       "      <td>0</td>\n",
       "      <td>0</td>\n",
       "      <td>0</td>\n",
       "      <td>2</td>\n",
       "    </tr>\n",
       "    <tr>\n",
       "      <th>2</th>\n",
       "      <td>1.0</td>\n",
       "      <td>3</td>\n",
       "      <td>26.0</td>\n",
       "      <td>0</td>\n",
       "      <td>0</td>\n",
       "      <td>7.9250</td>\n",
       "      <td>1</td>\n",
       "      <td>0</td>\n",
       "      <td>0</td>\n",
       "      <td>0</td>\n",
       "      <td>0</td>\n",
       "      <td>0</td>\n",
       "      <td>0</td>\n",
       "      <td>0</td>\n",
       "      <td>0</td>\n",
       "      <td>0</td>\n",
       "      <td>0</td>\n",
       "      <td>0</td>\n",
       "      <td>1</td>\n",
       "      <td>0</td>\n",
       "      <td>0</td>\n",
       "      <td>1</td>\n",
       "      <td>0</td>\n",
       "      <td>1</td>\n",
       "      <td>0</td>\n",
       "      <td>0</td>\n",
       "      <td>0</td>\n",
       "      <td>1</td>\n",
       "      <td>0</td>\n",
       "      <td>0</td>\n",
       "      <td>0</td>\n",
       "      <td>1</td>\n",
       "      <td>0</td>\n",
       "      <td>0</td>\n",
       "      <td>0</td>\n",
       "      <td>2</td>\n",
       "    </tr>\n",
       "    <tr>\n",
       "      <th>3</th>\n",
       "      <td>1.0</td>\n",
       "      <td>1</td>\n",
       "      <td>35.0</td>\n",
       "      <td>1</td>\n",
       "      <td>0</td>\n",
       "      <td>53.1000</td>\n",
       "      <td>1</td>\n",
       "      <td>1</td>\n",
       "      <td>1</td>\n",
       "      <td>1</td>\n",
       "      <td>0</td>\n",
       "      <td>0</td>\n",
       "      <td>1</td>\n",
       "      <td>0</td>\n",
       "      <td>0</td>\n",
       "      <td>0</td>\n",
       "      <td>0</td>\n",
       "      <td>0</td>\n",
       "      <td>0</td>\n",
       "      <td>0</td>\n",
       "      <td>0</td>\n",
       "      <td>1</td>\n",
       "      <td>0</td>\n",
       "      <td>0</td>\n",
       "      <td>0</td>\n",
       "      <td>1</td>\n",
       "      <td>0</td>\n",
       "      <td>1</td>\n",
       "      <td>0</td>\n",
       "      <td>1</td>\n",
       "      <td>0</td>\n",
       "      <td>0</td>\n",
       "      <td>0</td>\n",
       "      <td>0</td>\n",
       "      <td>0</td>\n",
       "      <td>2</td>\n",
       "    </tr>\n",
       "    <tr>\n",
       "      <th>4</th>\n",
       "      <td>0.0</td>\n",
       "      <td>3</td>\n",
       "      <td>35.0</td>\n",
       "      <td>0</td>\n",
       "      <td>0</td>\n",
       "      <td>8.0500</td>\n",
       "      <td>1</td>\n",
       "      <td>0</td>\n",
       "      <td>0</td>\n",
       "      <td>0</td>\n",
       "      <td>0</td>\n",
       "      <td>0</td>\n",
       "      <td>0</td>\n",
       "      <td>0</td>\n",
       "      <td>0</td>\n",
       "      <td>0</td>\n",
       "      <td>0</td>\n",
       "      <td>0</td>\n",
       "      <td>1</td>\n",
       "      <td>0</td>\n",
       "      <td>0</td>\n",
       "      <td>1</td>\n",
       "      <td>0</td>\n",
       "      <td>0</td>\n",
       "      <td>1</td>\n",
       "      <td>0</td>\n",
       "      <td>0</td>\n",
       "      <td>0</td>\n",
       "      <td>1</td>\n",
       "      <td>0</td>\n",
       "      <td>0</td>\n",
       "      <td>0</td>\n",
       "      <td>0</td>\n",
       "      <td>0</td>\n",
       "      <td>1</td>\n",
       "      <td>2</td>\n",
       "    </tr>\n",
       "  </tbody>\n",
       "</table>\n",
       "</div>"
      ],
      "text/plain": [
       "   Survived  Pclass   Age  SibSp  Parch     Fare  is_train  Cabins  familyNum  \\\n",
       "0       0.0       3  22.0      1      0   7.2500         1       0          1   \n",
       "1       1.0       1  38.0      1      0  71.2833         1       1          1   \n",
       "2       1.0       3  26.0      0      0   7.9250         1       0          0   \n",
       "3       1.0       1  35.0      1      0  53.1000         1       1          1   \n",
       "4       0.0       3  35.0      0      0   8.0500         1       0          0   \n",
       "\n",
       "   has_family  CabinA  CabinB  CabinC  CabinD  CabinE  CabinF  CabinG  CabinT  \\\n",
       "0           1       0       0       0       0       0       0       0       0   \n",
       "1           1       0       0       1       0       0       0       0       0   \n",
       "2           0       0       0       0       0       0       0       0       0   \n",
       "3           1       0       0       1       0       0       0       0       0   \n",
       "4           0       0       0       0       0       0       0       0       0   \n",
       "\n",
       "   CabinZ  EmbarkedC  EmbarkedQ  EmbarkedS  TitleMaster  TitleMiss  TitleMr  \\\n",
       "0       1          0          0          1            0          0        1   \n",
       "1       0          1          0          0            0          0        0   \n",
       "2       1          0          0          1            0          1        0   \n",
       "3       0          0          0          1            0          0        0   \n",
       "4       1          0          0          1            0          0        1   \n",
       "\n",
       "   TitleMrs  TitleRare  Sexfemale  Sexmale  female1  female2  female3  male1  \\\n",
       "0         0          0          0        1        0        0        0      0   \n",
       "1         1          0          1        0        1        0        0      0   \n",
       "2         0          0          1        0        0        0        1      0   \n",
       "3         1          0          1        0        1        0        0      0   \n",
       "4         0          0          0        1        0        0        0      0   \n",
       "\n",
       "   male2  male3  Age_range  \n",
       "0      0      1          2  \n",
       "1      0      0          2  \n",
       "2      0      0          2  \n",
       "3      0      0          2  \n",
       "4      0      1          2  "
      ]
     },
     "execution_count": 65,
     "metadata": {},
     "output_type": "execute_result"
    }
   ],
   "source": [
    "data.head()"
   ]
  },
  {
   "cell_type": "markdown",
   "id": "37069803",
   "metadata": {},
   "source": [
    "# 数据预处理\n",
    "## 数据预处理"
   ]
  },
  {
   "cell_type": "code",
   "execution_count": 3,
   "id": "a7a31011",
   "metadata": {
    "ExecuteTime": {
     "end_time": "2022-05-24T12:45:33.950679Z",
     "start_time": "2022-05-24T12:45:33.932565Z"
    }
   },
   "outputs": [],
   "source": [
    "def getAgeRange(x):\n",
    "    if 0<=x<16:return 1\n",
    "    elif 16<=x<40:return 2\n",
    "    else: return 3\n",
    "data['Age_range']=data['Age'].apply(getAgeRange)"
   ]
  },
  {
   "cell_type": "code",
   "execution_count": 4,
   "id": "2a1887be",
   "metadata": {
    "ExecuteTime": {
     "end_time": "2022-05-24T12:45:36.303393Z",
     "start_time": "2022-05-24T12:45:36.288390Z"
    }
   },
   "outputs": [],
   "source": [
    "data['SexPclass']=data['Sex'].str.cat(data['Pclass'].map(lambda x:str(x)))"
   ]
  },
  {
   "cell_type": "code",
   "execution_count": 5,
   "id": "8fb584f7",
   "metadata": {
    "ExecuteTime": {
     "end_time": "2022-05-24T12:45:37.990252Z",
     "start_time": "2022-05-24T12:45:37.946158Z"
    }
   },
   "outputs": [],
   "source": [
    "data['Fare']=data['Fare'].fillna(data['Fare'].median())# 有一个空值，中位数填充\n",
    "\n",
    "data['Embarked']=data['Embarked'].fillna(\"S\")# 就2个缺失值，填充了众数\n",
    "\n",
    "# Cabin只有204个非空值\n",
    "data['Cabins']=data['Cabin'].apply(lambda x:2 if len(str(x))>4 else(1 if pd.notna(x) else 0) )\n",
    "data['Cabin']=data['Cabin'].str[:1]\n",
    "data['Cabin']=data['Cabin'].fillna(\"Z\")\n",
    "\n",
    "# ticket比较复杂，先算了\n",
    "# train['Ticket'].apply(lambda x:x.split(\" \")[0]).value_counts()\n",
    "\n",
    "data['Title']=data['Name'].str.extract(' ([A-Za-z]+)\\.', expand=False)\n",
    "data['Title'] = data['Title'].replace(['Lady', 'Countess','Capt','Don','Col','Dr','Rev', 'Major', 'Sir', 'Jonkheer', 'Dona'], 'Rare')\n",
    "data['Title'] = data['Title'].replace('Mlle', 'Miss')\n",
    "data['Title'] = data['Title'].replace('Ms', 'Miss')\n",
    "data['Title'] = data['Title'].replace('Mme', 'Mrs')\n",
    "\n",
    "data['familyNum']=data['SibSp']+data['Parch']\n",
    "data['has_family']=data['familyNum'].apply(lambda x:1 if x>0 else 0)\n",
    "\n",
    "data=data.drop(['Name','Ticket','PassengerId'],axis=1)"
   ]
  },
  {
   "cell_type": "code",
   "execution_count": 55,
   "id": "f2ff5799",
   "metadata": {
    "ExecuteTime": {
     "end_time": "2022-05-16T14:22:36.042691Z",
     "start_time": "2022-05-16T14:22:36.026390Z"
    }
   },
   "outputs": [],
   "source": [
    "# ohe = OneHotEncoder(handle_unknown='ignore')\n",
    "\n",
    "# ohe.fit(train[['Cabin','Embarked','Title','Sex']])#训练规则\n",
    "# feature_names=ohe.get_feature_names(['Cabin','Embarked','Title','Sex'])#获取编码后的特征名\n",
    "# data_train_onehot=pd.DataFrame(ohe.transform(train[['Cabin','Embarked','Title','Sex']]).toarray(),columns=feature_names)#应用规则在训练集上\n",
    " \n",
    "# data_new_onehot=pd.DataFrame(ohe.transform(test[['Cabin','Embarked','Title','Sex']]).toarray(),columns=feature_names)#应用规则在预测集上"
   ]
  },
  {
   "cell_type": "code",
   "execution_count": 6,
   "id": "1889816c",
   "metadata": {
    "ExecuteTime": {
     "end_time": "2022-05-24T12:45:40.335423Z",
     "start_time": "2022-05-24T12:45:40.296384Z"
    }
   },
   "outputs": [],
   "source": [
    "for col in ['Cabin','Embarked','Title','Sex','Age_range']:\n",
    "    df=pd.get_dummies(data[col],sparse=True)\n",
    "    for c in df.columns:\n",
    "        df.rename(columns={c:col+str(c)},inplace=True)\n",
    "    data=pd.concat([data.drop([col],axis=1),df],axis=1)\n",
    "\n",
    "df=pd.get_dummies(data['SexPclass'],sparse=True)\n",
    "data=pd.concat([data.drop(['SexPclass'],axis=1),df],axis=1)\n",
    "\n",
    "# data=data.drop(['CabinA','CabinD','CabinF','CabinG','CabinT','Sexmale'],axis=1)"
   ]
  },
  {
   "cell_type": "markdown",
   "id": "1c474266",
   "metadata": {},
   "source": [
    "## 预测测试集是否生存，用来填充缺失值"
   ]
  },
  {
   "cell_type": "code",
   "execution_count": 79,
   "id": "ef97fd2f",
   "metadata": {
    "ExecuteTime": {
     "end_time": "2022-05-23T14:43:33.556794Z",
     "start_time": "2022-05-23T14:43:33.528790Z"
    }
   },
   "outputs": [],
   "source": [
    "X_train=np.array(data[data['is_train']==1].drop(['Survived','is_train'],axis=1))\n",
    "y_train=np.array(data[data['is_train']==1]['Survived'])\n",
    "X_test=np.array(data[data['is_train']==0].drop(['Survived','is_train'],axis=1))"
   ]
  },
  {
   "cell_type": "code",
   "execution_count": 80,
   "id": "f7435ea4",
   "metadata": {
    "ExecuteTime": {
     "end_time": "2022-05-23T14:43:38.381272Z",
     "start_time": "2022-05-23T14:43:38.229844Z"
    }
   },
   "outputs": [
    {
     "name": "stdout",
     "output_type": "stream",
     "text": [
      "0th fold train：0.927, test：0.816\n",
      "1th fold train：0.933, test：0.770\n",
      "2th fold train：0.920, test：0.803\n",
      "3th fold train：0.903, test：0.888\n",
      "4th fold train：0.917, test：0.848\n",
      "avg train score= 0.920, avg score=0.825\n"
     ]
    }
   ],
   "source": [
    "from lightgbm import LGBMClassifier\n",
    "\n",
    "best_model=None\n",
    "folds=5\n",
    "avg_score=0\n",
    "avg_ccore_train=0\n",
    "best_score=0\n",
    "result=np.zeros(418)\n",
    "\n",
    "kf=KFold(n_splits=folds,shuffle=True,random_state=2022)\n",
    "for i, (train_index,test_index) in enumerate(kf.split(X_train)):\n",
    "    lgb=LGBMClassifier(learning_rate=0.07,max_depth=20,n_estimators=70)\n",
    "    lgb.fit(X_train[train_index],y_train[train_index])\n",
    "    \n",
    "    score_train=lgb.score(X_train[train_index],y_train[train_index])\n",
    "    score=lgb.score(X_train[test_index],y_train[test_index])\n",
    "    print('{}th fold train：{:.3f}, test：{:.3f}'.format(i,score_train,score))\n",
    "    if best_score<score:\n",
    "        best_score=score\n",
    "        best_model=lgb    \n",
    "    avg_score+=score\n",
    "    avg_ccore_train+=score_train\n",
    "    result+=lgb.predict(X_test)\n",
    "avg_score/=folds\n",
    "avg_ccore_train/=folds\n",
    "result/=folds\n",
    "\n",
    "print(\"avg train score= {:.3f}, avg score={:.3f}\".format(avg_ccore_train,avg_score))"
   ]
  },
  {
   "cell_type": "code",
   "execution_count": 62,
   "id": "725f3559",
   "metadata": {
    "ExecuteTime": {
     "end_time": "2022-05-23T14:25:11.273748Z",
     "start_time": "2022-05-23T14:25:11.264192Z"
    }
   },
   "outputs": [
    {
     "data": {
      "text/plain": [
       "Index(['Pclass', 'Age', 'SibSp', 'Parch', 'Fare', 'Cabins', 'familyNum',\n",
       "       'has_family', 'CabinA', 'CabinB', 'CabinC', 'CabinD', 'CabinE',\n",
       "       'CabinF', 'CabinG', 'CabinT', 'CabinZ', 'EmbarkedC', 'EmbarkedQ',\n",
       "       'EmbarkedS', 'TitleMaster', 'TitleMiss', 'TitleMr', 'TitleMrs',\n",
       "       'TitleRare', 'Sexfemale', 'Sexmale', 'female1', 'female2', 'female3',\n",
       "       'male1', 'male2', 'male3'],\n",
       "      dtype='object')"
      ]
     },
     "execution_count": 62,
     "metadata": {},
     "output_type": "execute_result"
    }
   ],
   "source": [
    "data[data['is_train']==1].drop(['Survived','is_train'],axis=1).columns# CabinA,CabinD,CabinF,CabinG,CabinT,Sexmale"
   ]
  },
  {
   "cell_type": "code",
   "execution_count": 63,
   "id": "f3c56fbd",
   "metadata": {
    "ExecuteTime": {
     "end_time": "2022-05-23T14:25:14.062875Z",
     "start_time": "2022-05-23T14:25:14.052750Z"
    }
   },
   "outputs": [
    {
     "data": {
      "text/plain": [
       "array([ 47, 711,  31,  30, 676,  22,  57,   1,   0,   6,  18,   0,   4,\n",
       "         0,   0,   0,   5,  25,  10,  59,  15,  21,  26,  22,   6,  27,\n",
       "         0,  17,  16,   8,   2,   9,  19])"
      ]
     },
     "execution_count": 63,
     "metadata": {},
     "output_type": "execute_result"
    }
   ],
   "source": [
    "lgb.feature_importances_"
   ]
  },
  {
   "cell_type": "markdown",
   "id": "daf5e2ce",
   "metadata": {},
   "source": [
    "## age缺失值填充\n",
    "### 用lgb预测"
   ]
  },
  {
   "cell_type": "code",
   "execution_count": 8,
   "id": "a3dbcd57",
   "metadata": {
    "ExecuteTime": {
     "end_time": "2022-05-24T12:45:58.795578Z",
     "start_time": "2022-05-24T12:45:58.782451Z"
    }
   },
   "outputs": [],
   "source": [
    "X_test_pred=pd.read_csv(\"./results/result_20220522_ss.txt\").iloc[:,1]# 历史最好成绩survival预测成绩\n",
    "# X_test_pred=best_model.predict(X_test)\n",
    "data.iloc[891:,0]=X_test_pred\n",
    "data=data.reset_index(drop=True)"
   ]
  },
  {
   "cell_type": "code",
   "execution_count": 9,
   "id": "b59992ef",
   "metadata": {
    "ExecuteTime": {
     "end_time": "2022-05-24T12:46:00.910048Z",
     "start_time": "2022-05-24T12:46:00.886959Z"
    }
   },
   "outputs": [],
   "source": [
    "data_age=data[data['Age'].notnull()]\n",
    "data_noAge=data[data['Age'].isnull()]\n",
    "\n",
    "X_train_age=np.array(data_age.drop(['is_train','Age'],axis=1))\n",
    "y_train_age=np.array(data_age['Age'])\n",
    "X_test_age=np.array(data_noAge.drop(['is_train','Age'],axis=1))"
   ]
  },
  {
   "cell_type": "code",
   "execution_count": 10,
   "id": "40b4839d",
   "metadata": {
    "ExecuteTime": {
     "end_time": "2022-05-24T12:46:03.739403Z",
     "start_time": "2022-05-24T12:46:02.907874Z"
    }
   },
   "outputs": [
    {
     "name": "stdout",
     "output_type": "stream",
     "text": [
      "0 th fold 0： 32.50407328911594\n",
      "0 th fold： 42.29508833216884\n",
      "1 th fold 0： 34.33495307804861\n",
      "1 th fold： 42.189574012097964\n",
      "2 th fold 0： 33.449934192719425\n",
      "2 th fold： 45.4152860702446\n",
      "3 th fold 0： 33.5138219126721\n",
      "3 th fold： 43.22114768003491\n",
      "4 th fold 0： 32.72438632536917\n",
      "4 th fold： 43.36415271695179\n",
      "avg score=  43.29704976229962\n"
     ]
    }
   ],
   "source": [
    "from lightgbm import LGBMRegressor\n",
    "from sklearn.metrics import mean_squared_error\n",
    "\n",
    "best_model=None\n",
    "folds=5\n",
    "avg_score=0\n",
    "best_score=0\n",
    "\n",
    "kf=KFold(n_splits=folds,shuffle=True,random_state=2022)\n",
    "for i, (train_index,test_index) in enumerate(kf.split(X_train_age)):\n",
    "    lgb=LGBMRegressor(learning_rate=0.5,max_depth=5,n_estimators=7)\n",
    "    lgb.fit(X_train_age[train_index],y_train_age[train_index])\n",
    "    \n",
    "    \n",
    "    pred=lgb.predict(X_train_age[train_index])\n",
    "    score0=mean_squared_error(pred,y_train_age[train_index])\n",
    "    print(i,'th fold 0：',score0)\n",
    "    \n",
    "    pred=lgb.predict(X_train_age[test_index])\n",
    "    score=mean_squared_error(pred,y_train_age[test_index])\n",
    "    print(i,'th fold：',score)\n",
    "    if best_score<score:\n",
    "        best_score=score\n",
    "        best_model=lgb    \n",
    "    avg_score+=score\n",
    "avg_score/=folds\n",
    "\n",
    "print(\"avg score= \",avg_score)"
   ]
  },
  {
   "cell_type": "code",
   "execution_count": 11,
   "id": "c7f02f22",
   "metadata": {
    "ExecuteTime": {
     "end_time": "2022-05-24T12:46:05.747766Z",
     "start_time": "2022-05-24T12:46:05.729226Z"
    }
   },
   "outputs": [],
   "source": [
    "age_pred=best_model.predict(X_test_age)\n",
    "data.iloc[data[data['Age'].isnull()].index,2]=age_pred"
   ]
  },
  {
   "cell_type": "markdown",
   "id": "3aa46d69",
   "metadata": {},
   "source": [
    "# 模型训练"
   ]
  },
  {
   "cell_type": "code",
   "execution_count": 12,
   "id": "06d652d2",
   "metadata": {
    "ExecuteTime": {
     "end_time": "2022-05-24T12:46:07.576200Z",
     "start_time": "2022-05-24T12:46:07.540958Z"
    }
   },
   "outputs": [],
   "source": [
    "X_train=np.array(data[data['is_train']==1].drop(['Survived','is_train'],axis=1))\n",
    "y_train=np.array(data[data['is_train']==1]['Survived'])\n",
    "X_test=np.array(data[data['is_train']==0].drop(['Survived','is_train'],axis=1))"
   ]
  },
  {
   "cell_type": "code",
   "execution_count": 108,
   "id": "efb14ec7",
   "metadata": {
    "ExecuteTime": {
     "end_time": "2022-05-24T14:47:46.063835Z",
     "start_time": "2022-05-24T14:47:46.056765Z"
    }
   },
   "outputs": [],
   "source": [
    "# 模型函数\n",
    "def train_model(model,params,X_train,y_train,X_test):\n",
    "    folds=5\n",
    "    train_Acc,valid_Acc=0,0\n",
    "    train_pred,test_pred=np.zeros(891),np.zeros(418)\n",
    "\n",
    "    kf=StratifiedKFold(n_splits=folds,shuffle=True,random_state=2022)\n",
    "    model.set_params(**params)\n",
    "    for i, (train_index,valid_index) in enumerate(kf.split(X_train,y_train)):\n",
    "        model.fit(X_train[train_index],y_train[train_index])\n",
    "\n",
    "        train_score=model.score(X_train[train_index],y_train[train_index])\n",
    "        valid_score=model.score(X_train[valid_index],y_train[valid_index])\n",
    "        print('{}th fold train：{:.3f}, valid：{:.3f}'.format(i,train_score,valid_score))\n",
    "\n",
    "        valid_Acc+=valid_score\n",
    "        train_Acc+=train_score\n",
    "        try:\n",
    "            test_pred+=model.predict_proba(X_test)[:,1]\n",
    "            train_pred[valid_index]=model.predict_proba(X_train[valid_index])[:,1]\n",
    "        except:\n",
    "            test_pred+=model.predict(X_test)\n",
    "            train_pred[valid_index]=model.predict(X_train[valid_index])\n",
    "\n",
    "    valid_Acc/=folds\n",
    "    train_Acc/=folds\n",
    "    test_pred/=folds\n",
    "    print(\"avg train score= {:.3f}, avg valid score={:.3f}\".format(train_Acc,valid_Acc))\n",
    "    \n",
    "    return train_pred,test_pred,valid_Acc"
   ]
  },
  {
   "cell_type": "markdown",
   "id": "b61ecfd5",
   "metadata": {
    "ExecuteTime": {
     "end_time": "2022-05-15T14:23:20.498796Z",
     "start_time": "2022-05-15T14:23:20.486634Z"
    }
   },
   "source": [
    "## lgb"
   ]
  },
  {
   "cell_type": "code",
   "execution_count": 89,
   "id": "716f7630",
   "metadata": {
    "ExecuteTime": {
     "end_time": "2022-05-24T14:28:39.171320Z",
     "start_time": "2022-05-24T14:28:38.967763Z"
    }
   },
   "outputs": [
    {
     "name": "stdout",
     "output_type": "stream",
     "text": [
      "0th fold train：0.923, test：0.832\n",
      "1th fold train：0.914, test：0.848\n",
      "2th fold train：0.916, test：0.843\n",
      "3th fold train：0.924, test：0.820\n",
      "4th fold train：0.924, test：0.860\n",
      "avg train score= 0.920, avg score=0.841\n"
     ]
    }
   ],
   "source": [
    "model=LGBMClassifier()\n",
    "params={\"learning_rate\":0.07,\"max_depth\":12,\"n_estimators\":80}\n",
    "train_pred_lgb,test_pred_lgb,valid_acc_lgb=train_model(model,params,X_train,y_train,X_test)"
   ]
  },
  {
   "cell_type": "markdown",
   "id": "6c9a8382",
   "metadata": {},
   "source": [
    "## xgb"
   ]
  },
  {
   "cell_type": "code",
   "execution_count": 90,
   "id": "9beeed47",
   "metadata": {
    "ExecuteTime": {
     "end_time": "2022-05-24T14:28:59.492253Z",
     "start_time": "2022-05-24T14:28:58.988928Z"
    },
    "scrolled": true
   },
   "outputs": [
    {
     "name": "stdout",
     "output_type": "stream",
     "text": [
      "[22:28:58] WARNING: D:\\bld\\xgboost-split_1645118015404\\work\\src\\learner.cc:1115: Starting in XGBoost 1.3.0, the default evaluation metric used with the objective 'binary:logistic' was changed from 'error' to 'logloss'. Explicitly set eval_metric if you'd like to restore the old behavior.\n",
      "0th fold train：0.937, test：0.838\n",
      "[22:28:59] WARNING: D:\\bld\\xgboost-split_1645118015404\\work\\src\\learner.cc:1115: Starting in XGBoost 1.3.0, the default evaluation metric used with the objective 'binary:logistic' was changed from 'error' to 'logloss'. Explicitly set eval_metric if you'd like to restore the old behavior.\n",
      "1th fold train：0.941, test：0.871\n",
      "[22:28:59] WARNING: D:\\bld\\xgboost-split_1645118015404\\work\\src\\learner.cc:1115: Starting in XGBoost 1.3.0, the default evaluation metric used with the objective 'binary:logistic' was changed from 'error' to 'logloss'. Explicitly set eval_metric if you'd like to restore the old behavior.\n",
      "2th fold train：0.927, test：0.815\n",
      "[22:28:59] WARNING: D:\\bld\\xgboost-split_1645118015404\\work\\src\\learner.cc:1115: Starting in XGBoost 1.3.0, the default evaluation metric used with the objective 'binary:logistic' was changed from 'error' to 'logloss'. Explicitly set eval_metric if you'd like to restore the old behavior.\n",
      "3th fold train：0.935, test：0.820\n",
      "[22:28:59] WARNING: D:\\bld\\xgboost-split_1645118015404\\work\\src\\learner.cc:1115: Starting in XGBoost 1.3.0, the default evaluation metric used with the objective 'binary:logistic' was changed from 'error' to 'logloss'. Explicitly set eval_metric if you'd like to restore the old behavior.\n",
      "4th fold train：0.938, test：0.865\n",
      "avg train score= 0.936, avg score=0.842\n"
     ]
    }
   ],
   "source": [
    "model=XGBClassifier()\n",
    "params={\"learning_rate\":0.05,\"max_depth\":16,\"n_estimators\":73}\n",
    "train_pred_xgb,test_pred_xgb,valid_acc_xgb=train_model(model,params,X_train,y_train,X_test)"
   ]
  },
  {
   "cell_type": "markdown",
   "id": "207b82fe",
   "metadata": {},
   "source": [
    "## catboost"
   ]
  },
  {
   "cell_type": "code",
   "execution_count": 91,
   "id": "7be1c0a8",
   "metadata": {
    "ExecuteTime": {
     "end_time": "2022-05-24T14:29:12.291167Z",
     "start_time": "2022-05-24T14:29:11.455497Z"
    }
   },
   "outputs": [
    {
     "name": "stdout",
     "output_type": "stream",
     "text": [
      "0:\tlearn: 0.6510113\ttotal: 15.6ms\tremaining: 1.26s\n",
      "1:\tlearn: 0.6133505\ttotal: 17.3ms\tremaining: 691ms\n",
      "2:\tlearn: 0.5811610\ttotal: 18.6ms\tremaining: 489ms\n",
      "3:\tlearn: 0.5453595\ttotal: 19.8ms\tremaining: 386ms\n",
      "4:\tlearn: 0.5209648\ttotal: 21.2ms\tremaining: 326ms\n",
      "5:\tlearn: 0.5020514\ttotal: 22.4ms\tremaining: 284ms\n",
      "6:\tlearn: 0.4866192\ttotal: 23.6ms\tremaining: 253ms\n",
      "7:\tlearn: 0.4697546\ttotal: 24.8ms\tremaining: 229ms\n",
      "8:\tlearn: 0.4533939\ttotal: 26.1ms\tremaining: 211ms\n",
      "9:\tlearn: 0.4408463\ttotal: 27.4ms\tremaining: 198ms\n",
      "10:\tlearn: 0.4302414\ttotal: 28.7ms\tremaining: 185ms\n",
      "11:\tlearn: 0.4229265\ttotal: 29.9ms\tremaining: 174ms\n",
      "12:\tlearn: 0.4157579\ttotal: 31ms\tremaining: 165ms\n",
      "13:\tlearn: 0.4091516\ttotal: 32.1ms\tremaining: 156ms\n",
      "14:\tlearn: 0.4030553\ttotal: 33.3ms\tremaining: 149ms\n",
      "15:\tlearn: 0.3978494\ttotal: 34.5ms\tremaining: 142ms\n",
      "16:\tlearn: 0.3909924\ttotal: 35.7ms\tremaining: 136ms\n",
      "17:\tlearn: 0.3870642\ttotal: 36.8ms\tremaining: 131ms\n",
      "18:\tlearn: 0.3821718\ttotal: 38ms\tremaining: 126ms\n",
      "19:\tlearn: 0.3765212\ttotal: 39.1ms\tremaining: 121ms\n",
      "20:\tlearn: 0.3724855\ttotal: 40.3ms\tremaining: 117ms\n",
      "21:\tlearn: 0.3682446\ttotal: 41.5ms\tremaining: 113ms\n",
      "22:\tlearn: 0.3643728\ttotal: 42.7ms\tremaining: 110ms\n",
      "23:\tlearn: 0.3608852\ttotal: 43.9ms\tremaining: 106ms\n",
      "24:\tlearn: 0.3582481\ttotal: 45.1ms\tremaining: 103ms\n",
      "25:\tlearn: 0.3543734\ttotal: 46.4ms\tremaining: 100ms\n",
      "26:\tlearn: 0.3518185\ttotal: 47.6ms\tremaining: 96.9ms\n",
      "27:\tlearn: 0.3494152\ttotal: 48.8ms\tremaining: 94.1ms\n",
      "28:\tlearn: 0.3486135\ttotal: 49.9ms\tremaining: 91.2ms\n",
      "29:\tlearn: 0.3469692\ttotal: 51.1ms\tremaining: 88.6ms\n",
      "30:\tlearn: 0.3452084\ttotal: 52.3ms\tremaining: 86ms\n",
      "31:\tlearn: 0.3434618\ttotal: 53.4ms\tremaining: 83.4ms\n",
      "32:\tlearn: 0.3417578\ttotal: 54.5ms\tremaining: 81ms\n",
      "33:\tlearn: 0.3400703\ttotal: 55.7ms\tremaining: 78.6ms\n",
      "34:\tlearn: 0.3380396\ttotal: 57ms\tremaining: 76.6ms\n",
      "35:\tlearn: 0.3365057\ttotal: 58.2ms\tremaining: 74.4ms\n",
      "36:\tlearn: 0.3349321\ttotal: 59.3ms\tremaining: 72.1ms\n",
      "37:\tlearn: 0.3334563\ttotal: 60.5ms\tremaining: 70ms\n",
      "38:\tlearn: 0.3324112\ttotal: 61.6ms\tremaining: 67.9ms\n",
      "39:\tlearn: 0.3310501\ttotal: 62.7ms\tremaining: 65.8ms\n",
      "40:\tlearn: 0.3290067\ttotal: 63.8ms\tremaining: 63.8ms\n",
      "41:\tlearn: 0.3253997\ttotal: 72.7ms\tremaining: 69.3ms\n",
      "42:\tlearn: 0.3247644\ttotal: 74.1ms\tremaining: 67.2ms\n",
      "43:\tlearn: 0.3229778\ttotal: 75.2ms\tremaining: 65ms\n",
      "44:\tlearn: 0.3217562\ttotal: 76.4ms\tremaining: 62.8ms\n",
      "45:\tlearn: 0.3208508\ttotal: 77.5ms\tremaining: 60.7ms\n",
      "46:\tlearn: 0.3197554\ttotal: 78.6ms\tremaining: 58.5ms\n",
      "47:\tlearn: 0.3192187\ttotal: 79.5ms\tremaining: 56.3ms\n",
      "48:\tlearn: 0.3185090\ttotal: 80.6ms\tremaining: 54.3ms\n",
      "49:\tlearn: 0.3174111\ttotal: 81.7ms\tremaining: 52.3ms\n",
      "50:\tlearn: 0.3166302\ttotal: 82.8ms\tremaining: 50.3ms\n",
      "51:\tlearn: 0.3154145\ttotal: 84ms\tremaining: 48.5ms\n",
      "52:\tlearn: 0.3146995\ttotal: 85.1ms\tremaining: 46.6ms\n",
      "53:\tlearn: 0.3131501\ttotal: 86.2ms\tremaining: 44.7ms\n",
      "54:\tlearn: 0.3118298\ttotal: 87.4ms\tremaining: 42.9ms\n",
      "55:\tlearn: 0.3117434\ttotal: 88ms\tremaining: 40.8ms\n",
      "56:\tlearn: 0.3104220\ttotal: 89.1ms\tremaining: 39.1ms\n",
      "57:\tlearn: 0.3096165\ttotal: 90.2ms\tremaining: 37.3ms\n",
      "58:\tlearn: 0.3081396\ttotal: 91.5ms\tremaining: 35.7ms\n",
      "59:\tlearn: 0.3060403\ttotal: 92.6ms\tremaining: 34ms\n",
      "60:\tlearn: 0.3047194\ttotal: 93.7ms\tremaining: 32.3ms\n",
      "61:\tlearn: 0.3043328\ttotal: 94.9ms\tremaining: 30.6ms\n",
      "62:\tlearn: 0.3034244\ttotal: 96.2ms\tremaining: 29ms\n",
      "63:\tlearn: 0.3026481\ttotal: 97.5ms\tremaining: 27.4ms\n",
      "64:\tlearn: 0.3024580\ttotal: 98.1ms\tremaining: 25.7ms\n",
      "65:\tlearn: 0.3016206\ttotal: 99.2ms\tremaining: 24.1ms\n",
      "66:\tlearn: 0.3011011\ttotal: 100ms\tremaining: 22.5ms\n",
      "67:\tlearn: 0.3003121\ttotal: 102ms\tremaining: 20.9ms\n",
      "68:\tlearn: 0.2989766\ttotal: 103ms\tremaining: 19.4ms\n",
      "69:\tlearn: 0.2976770\ttotal: 104ms\tremaining: 17.8ms\n",
      "70:\tlearn: 0.2952571\ttotal: 105ms\tremaining: 16.3ms\n",
      "71:\tlearn: 0.2950484\ttotal: 106ms\tremaining: 14.8ms\n",
      "72:\tlearn: 0.2933379\ttotal: 108ms\tremaining: 13.3ms\n",
      "73:\tlearn: 0.2916387\ttotal: 109ms\tremaining: 11.8ms\n",
      "74:\tlearn: 0.2912542\ttotal: 110ms\tremaining: 10.3ms\n",
      "75:\tlearn: 0.2905087\ttotal: 111ms\tremaining: 8.77ms\n",
      "76:\tlearn: 0.2897694\ttotal: 112ms\tremaining: 7.29ms\n",
      "77:\tlearn: 0.2889039\ttotal: 113ms\tremaining: 5.81ms\n",
      "78:\tlearn: 0.2883925\ttotal: 115ms\tremaining: 4.35ms\n",
      "79:\tlearn: 0.2883622\ttotal: 115ms\tremaining: 2.88ms\n",
      "80:\tlearn: 0.2873741\ttotal: 116ms\tremaining: 1.43ms\n",
      "81:\tlearn: 0.2866106\ttotal: 117ms\tremaining: 0us\n",
      "0th fold train：0.904, test：0.827\n",
      "0:\tlearn: 0.6461310\ttotal: 17.1ms\tremaining: 1.39s\n",
      "1:\tlearn: 0.6069004\ttotal: 18.8ms\tremaining: 751ms\n",
      "2:\tlearn: 0.5728044\ttotal: 20.3ms\tremaining: 536ms\n",
      "3:\tlearn: 0.5442393\ttotal: 21.5ms\tremaining: 420ms\n",
      "4:\tlearn: 0.5154661\ttotal: 22.8ms\tremaining: 351ms\n",
      "5:\tlearn: 0.4946071\ttotal: 24.1ms\tremaining: 306ms\n",
      "6:\tlearn: 0.4778259\ttotal: 25.4ms\tremaining: 272ms\n",
      "7:\tlearn: 0.4658208\ttotal: 26.5ms\tremaining: 245ms\n",
      "8:\tlearn: 0.4565295\ttotal: 27.6ms\tremaining: 224ms\n",
      "9:\tlearn: 0.4442184\ttotal: 29.2ms\tremaining: 210ms\n",
      "10:\tlearn: 0.4365326\ttotal: 30.6ms\tremaining: 198ms\n",
      "11:\tlearn: 0.4299092\ttotal: 31.7ms\tremaining: 185ms\n",
      "12:\tlearn: 0.4228436\ttotal: 33ms\tremaining: 175ms\n",
      "13:\tlearn: 0.4181559\ttotal: 34ms\tremaining: 165ms\n",
      "14:\tlearn: 0.4104695\ttotal: 35.2ms\tremaining: 157ms\n",
      "15:\tlearn: 0.4062732\ttotal: 36.4ms\tremaining: 150ms\n",
      "16:\tlearn: 0.4020151\ttotal: 37.6ms\tremaining: 144ms\n",
      "17:\tlearn: 0.3982326\ttotal: 38.8ms\tremaining: 138ms\n",
      "18:\tlearn: 0.3949945\ttotal: 40.1ms\tremaining: 133ms\n",
      "19:\tlearn: 0.3915154\ttotal: 41.4ms\tremaining: 128ms\n",
      "20:\tlearn: 0.3877065\ttotal: 42.6ms\tremaining: 124ms\n",
      "21:\tlearn: 0.3853961\ttotal: 43.9ms\tremaining: 120ms\n",
      "22:\tlearn: 0.3817638\ttotal: 45.1ms\tremaining: 116ms\n",
      "23:\tlearn: 0.3783453\ttotal: 46.4ms\tremaining: 112ms\n",
      "24:\tlearn: 0.3764270\ttotal: 47.7ms\tremaining: 109ms\n",
      "25:\tlearn: 0.3748320\ttotal: 49.3ms\tremaining: 106ms\n",
      "26:\tlearn: 0.3715865\ttotal: 50.5ms\tremaining: 103ms\n",
      "27:\tlearn: 0.3694067\ttotal: 51.7ms\tremaining: 99.7ms\n",
      "28:\tlearn: 0.3685848\ttotal: 52.8ms\tremaining: 96.5ms\n",
      "29:\tlearn: 0.3661352\ttotal: 54ms\tremaining: 93.7ms\n",
      "30:\tlearn: 0.3645587\ttotal: 55.3ms\tremaining: 91ms\n",
      "31:\tlearn: 0.3633754\ttotal: 56.6ms\tremaining: 88.4ms\n",
      "32:\tlearn: 0.3620972\ttotal: 57.7ms\tremaining: 85.7ms\n",
      "33:\tlearn: 0.3605120\ttotal: 58.8ms\tremaining: 83ms\n",
      "34:\tlearn: 0.3589788\ttotal: 60ms\tremaining: 80.6ms\n",
      "35:\tlearn: 0.3580404\ttotal: 61.1ms\tremaining: 78.1ms\n",
      "36:\tlearn: 0.3538419\ttotal: 62.3ms\tremaining: 75.8ms\n",
      "37:\tlearn: 0.3529127\ttotal: 63.5ms\tremaining: 73.5ms\n",
      "38:\tlearn: 0.3515458\ttotal: 64.5ms\tremaining: 71.2ms\n",
      "39:\tlearn: 0.3497133\ttotal: 65.6ms\tremaining: 68.9ms\n",
      "40:\tlearn: 0.3480540\ttotal: 66.8ms\tremaining: 66.8ms\n",
      "41:\tlearn: 0.3466726\ttotal: 67.9ms\tremaining: 64.6ms\n",
      "42:\tlearn: 0.3449803\ttotal: 69ms\tremaining: 62.6ms\n",
      "43:\tlearn: 0.3435493\ttotal: 70.4ms\tremaining: 60.8ms\n",
      "44:\tlearn: 0.3414772\ttotal: 71.6ms\tremaining: 58.9ms\n",
      "45:\tlearn: 0.3396836\ttotal: 72.7ms\tremaining: 56.9ms\n",
      "46:\tlearn: 0.3391752\ttotal: 73.9ms\tremaining: 55ms\n",
      "47:\tlearn: 0.3383936\ttotal: 75ms\tremaining: 53.1ms\n",
      "48:\tlearn: 0.3372428\ttotal: 76.2ms\tremaining: 51.3ms\n",
      "49:\tlearn: 0.3355061\ttotal: 77.4ms\tremaining: 49.5ms\n",
      "50:\tlearn: 0.3339643\ttotal: 78.5ms\tremaining: 47.7ms\n",
      "51:\tlearn: 0.3318428\ttotal: 79.6ms\tremaining: 46ms\n",
      "52:\tlearn: 0.3310340\ttotal: 80.7ms\tremaining: 44.2ms\n",
      "53:\tlearn: 0.3293517\ttotal: 81.8ms\tremaining: 42.4ms\n",
      "54:\tlearn: 0.3289489\ttotal: 82.9ms\tremaining: 40.7ms\n",
      "55:\tlearn: 0.3282492\ttotal: 84ms\tremaining: 39ms\n",
      "56:\tlearn: 0.3266954\ttotal: 85.2ms\tremaining: 37.4ms\n",
      "57:\tlearn: 0.3258385\ttotal: 86.3ms\tremaining: 35.7ms\n",
      "58:\tlearn: 0.3242831\ttotal: 87.5ms\tremaining: 34.1ms\n",
      "59:\tlearn: 0.3234364\ttotal: 88.6ms\tremaining: 32.5ms\n",
      "60:\tlearn: 0.3218791\ttotal: 89.8ms\tremaining: 30.9ms\n",
      "61:\tlearn: 0.3194684\ttotal: 90.9ms\tremaining: 29.3ms\n",
      "62:\tlearn: 0.3191838\ttotal: 92ms\tremaining: 27.7ms\n",
      "63:\tlearn: 0.3178147\ttotal: 93.2ms\tremaining: 26.2ms\n",
      "64:\tlearn: 0.3174370\ttotal: 94.5ms\tremaining: 24.7ms\n",
      "65:\tlearn: 0.3161691\ttotal: 95.8ms\tremaining: 23.2ms\n",
      "66:\tlearn: 0.3151309\ttotal: 97ms\tremaining: 21.7ms\n",
      "67:\tlearn: 0.3147009\ttotal: 98.2ms\tremaining: 20.2ms\n",
      "68:\tlearn: 0.3133712\ttotal: 99.4ms\tremaining: 18.7ms\n",
      "69:\tlearn: 0.3128449\ttotal: 101ms\tremaining: 17.2ms\n",
      "70:\tlearn: 0.3118772\ttotal: 102ms\tremaining: 15.8ms\n",
      "71:\tlearn: 0.3108480\ttotal: 104ms\tremaining: 14.4ms\n",
      "72:\tlearn: 0.3098662\ttotal: 105ms\tremaining: 13ms\n",
      "73:\tlearn: 0.3086664\ttotal: 106ms\tremaining: 11.5ms\n",
      "74:\tlearn: 0.3074638\ttotal: 107ms\tremaining: 10ms\n",
      "75:\tlearn: 0.3055366\ttotal: 109ms\tremaining: 8.57ms\n",
      "76:\tlearn: 0.3041426\ttotal: 110ms\tremaining: 7.12ms\n",
      "77:\tlearn: 0.3031459\ttotal: 111ms\tremaining: 5.68ms\n",
      "78:\tlearn: 0.3010449\ttotal: 112ms\tremaining: 4.25ms\n",
      "79:\tlearn: 0.3003555\ttotal: 113ms\tremaining: 2.83ms\n",
      "80:\tlearn: 0.3002424\ttotal: 114ms\tremaining: 1.4ms\n",
      "81:\tlearn: 0.2999770\ttotal: 115ms\tremaining: 0us\n",
      "1th fold train：0.889, test：0.854\n",
      "0:\tlearn: 0.6424138\ttotal: 6.71ms\tremaining: 544ms\n",
      "1:\tlearn: 0.6027763\ttotal: 9.06ms\tremaining: 362ms\n",
      "2:\tlearn: 0.5733905\ttotal: 9.75ms\tremaining: 257ms\n",
      "3:\tlearn: 0.5417713\ttotal: 10.8ms\tremaining: 210ms\n",
      "4:\tlearn: 0.5121823\ttotal: 11.9ms\tremaining: 183ms\n",
      "5:\tlearn: 0.4918571\ttotal: 12.6ms\tremaining: 160ms\n",
      "6:\tlearn: 0.4831564\ttotal: 13.1ms\tremaining: 140ms\n",
      "7:\tlearn: 0.4631567\ttotal: 14.1ms\tremaining: 131ms\n",
      "8:\tlearn: 0.4445653\ttotal: 15.2ms\tremaining: 124ms\n",
      "9:\tlearn: 0.4298635\ttotal: 16.3ms\tremaining: 118ms\n",
      "10:\tlearn: 0.4216328\ttotal: 17.5ms\tremaining: 113ms\n",
      "11:\tlearn: 0.4127051\ttotal: 18.6ms\tremaining: 109ms\n",
      "12:\tlearn: 0.4054837\ttotal: 19.8ms\tremaining: 105ms\n",
      "13:\tlearn: 0.3969222\ttotal: 20.9ms\tremaining: 101ms\n",
      "14:\tlearn: 0.3936153\ttotal: 22.1ms\tremaining: 98.7ms\n",
      "15:\tlearn: 0.3857132\ttotal: 23.2ms\tremaining: 95.9ms\n",
      "16:\tlearn: 0.3824495\ttotal: 24.1ms\tremaining: 92ms\n",
      "17:\tlearn: 0.3789243\ttotal: 25.1ms\tremaining: 89.2ms\n",
      "18:\tlearn: 0.3740901\ttotal: 26.1ms\tremaining: 86.6ms\n",
      "19:\tlearn: 0.3701693\ttotal: 27.2ms\tremaining: 84.3ms\n",
      "20:\tlearn: 0.3661880\ttotal: 28.2ms\tremaining: 82ms\n",
      "21:\tlearn: 0.3631143\ttotal: 29.3ms\tremaining: 79.9ms\n",
      "22:\tlearn: 0.3600163\ttotal: 30.4ms\tremaining: 77.9ms\n",
      "23:\tlearn: 0.3571640\ttotal: 31.5ms\tremaining: 76ms\n",
      "24:\tlearn: 0.3546133\ttotal: 32.6ms\tremaining: 74.2ms\n",
      "25:\tlearn: 0.3531739\ttotal: 33.7ms\tremaining: 72.5ms\n",
      "26:\tlearn: 0.3505920\ttotal: 34.8ms\tremaining: 71ms\n",
      "27:\tlearn: 0.3486306\ttotal: 36ms\tremaining: 69.5ms\n",
      "28:\tlearn: 0.3452994\ttotal: 37.2ms\tremaining: 68ms\n",
      "29:\tlearn: 0.3430816\ttotal: 38.4ms\tremaining: 66.5ms\n",
      "30:\tlearn: 0.3409182\ttotal: 39.6ms\tremaining: 65.1ms\n",
      "31:\tlearn: 0.3376922\ttotal: 40.6ms\tremaining: 63.5ms\n",
      "32:\tlearn: 0.3354994\ttotal: 41.8ms\tremaining: 62.1ms\n",
      "33:\tlearn: 0.3339983\ttotal: 42.9ms\tremaining: 60.6ms\n",
      "34:\tlearn: 0.3338027\ttotal: 43.6ms\tremaining: 58.6ms\n",
      "35:\tlearn: 0.3331973\ttotal: 44.7ms\tremaining: 57.1ms\n"
     ]
    },
    {
     "name": "stdout",
     "output_type": "stream",
     "text": [
      "36:\tlearn: 0.3321895\ttotal: 46.3ms\tremaining: 56.3ms\n",
      "37:\tlearn: 0.3312400\ttotal: 47.6ms\tremaining: 55.1ms\n",
      "38:\tlearn: 0.3292916\ttotal: 48.9ms\tremaining: 53.9ms\n",
      "39:\tlearn: 0.3274829\ttotal: 50ms\tremaining: 52.5ms\n",
      "40:\tlearn: 0.3257858\ttotal: 51.1ms\tremaining: 51.1ms\n",
      "41:\tlearn: 0.3247253\ttotal: 52.3ms\tremaining: 49.8ms\n",
      "42:\tlearn: 0.3232847\ttotal: 53.5ms\tremaining: 48.5ms\n",
      "43:\tlearn: 0.3220153\ttotal: 54.6ms\tremaining: 47.1ms\n",
      "44:\tlearn: 0.3209593\ttotal: 55.7ms\tremaining: 45.8ms\n",
      "45:\tlearn: 0.3196726\ttotal: 57ms\tremaining: 44.6ms\n",
      "46:\tlearn: 0.3186319\ttotal: 58.1ms\tremaining: 43.3ms\n",
      "47:\tlearn: 0.3179370\ttotal: 59.3ms\tremaining: 42ms\n",
      "48:\tlearn: 0.3162861\ttotal: 60.6ms\tremaining: 40.8ms\n",
      "49:\tlearn: 0.3148681\ttotal: 61.9ms\tremaining: 39.6ms\n",
      "50:\tlearn: 0.3137347\ttotal: 63.1ms\tremaining: 38.4ms\n",
      "51:\tlearn: 0.3131910\ttotal: 64.3ms\tremaining: 37.1ms\n",
      "52:\tlearn: 0.3113711\ttotal: 65.6ms\tremaining: 35.9ms\n",
      "53:\tlearn: 0.3108866\ttotal: 66.9ms\tremaining: 34.7ms\n",
      "54:\tlearn: 0.3101254\ttotal: 68.2ms\tremaining: 33.5ms\n",
      "55:\tlearn: 0.3079018\ttotal: 69.5ms\tremaining: 32.3ms\n",
      "56:\tlearn: 0.3069659\ttotal: 70.8ms\tremaining: 31ms\n",
      "57:\tlearn: 0.3061490\ttotal: 71.9ms\tremaining: 29.7ms\n",
      "58:\tlearn: 0.3056371\ttotal: 73.2ms\tremaining: 28.5ms\n",
      "59:\tlearn: 0.3036178\ttotal: 74.4ms\tremaining: 27.3ms\n",
      "60:\tlearn: 0.3022532\ttotal: 75.6ms\tremaining: 26ms\n",
      "61:\tlearn: 0.3012220\ttotal: 77ms\tremaining: 24.9ms\n",
      "62:\tlearn: 0.3004698\ttotal: 78.2ms\tremaining: 23.6ms\n",
      "63:\tlearn: 0.2992862\ttotal: 79.4ms\tremaining: 22.3ms\n",
      "64:\tlearn: 0.2984442\ttotal: 80.6ms\tremaining: 21.1ms\n",
      "65:\tlearn: 0.2973710\ttotal: 81.8ms\tremaining: 19.8ms\n",
      "66:\tlearn: 0.2955418\ttotal: 82.9ms\tremaining: 18.6ms\n",
      "67:\tlearn: 0.2946602\ttotal: 84.2ms\tremaining: 17.3ms\n",
      "68:\tlearn: 0.2935018\ttotal: 85.6ms\tremaining: 16.1ms\n",
      "69:\tlearn: 0.2927119\ttotal: 86.7ms\tremaining: 14.9ms\n",
      "70:\tlearn: 0.2918171\ttotal: 87.9ms\tremaining: 13.6ms\n",
      "71:\tlearn: 0.2909363\ttotal: 89ms\tremaining: 12.4ms\n",
      "72:\tlearn: 0.2899012\ttotal: 90.2ms\tremaining: 11.1ms\n",
      "73:\tlearn: 0.2892597\ttotal: 91.8ms\tremaining: 9.93ms\n",
      "74:\tlearn: 0.2884823\ttotal: 92.9ms\tremaining: 8.67ms\n",
      "75:\tlearn: 0.2866877\ttotal: 94.3ms\tremaining: 7.45ms\n",
      "76:\tlearn: 0.2860454\ttotal: 95.6ms\tremaining: 6.21ms\n",
      "77:\tlearn: 0.2852238\ttotal: 96.8ms\tremaining: 4.96ms\n",
      "78:\tlearn: 0.2838529\ttotal: 98ms\tremaining: 3.72ms\n",
      "79:\tlearn: 0.2825389\ttotal: 99.2ms\tremaining: 2.48ms\n",
      "80:\tlearn: 0.2818451\ttotal: 100ms\tremaining: 1.24ms\n",
      "81:\tlearn: 0.2797525\ttotal: 101ms\tremaining: 0us\n",
      "2th fold train：0.906, test：0.815\n",
      "0:\tlearn: 0.6375623\ttotal: 3.52ms\tremaining: 285ms\n",
      "1:\tlearn: 0.6054575\ttotal: 4.99ms\tremaining: 200ms\n",
      "2:\tlearn: 0.5766649\ttotal: 5.68ms\tremaining: 150ms\n",
      "3:\tlearn: 0.5457863\ttotal: 6.81ms\tremaining: 133ms\n",
      "4:\tlearn: 0.5148738\ttotal: 7.95ms\tremaining: 122ms\n",
      "5:\tlearn: 0.4902549\ttotal: 9.07ms\tremaining: 115ms\n",
      "6:\tlearn: 0.4703846\ttotal: 10.2ms\tremaining: 109ms\n",
      "7:\tlearn: 0.4518588\ttotal: 11.3ms\tremaining: 105ms\n",
      "8:\tlearn: 0.4370267\ttotal: 12.5ms\tremaining: 101ms\n",
      "9:\tlearn: 0.4270232\ttotal: 13.6ms\tremaining: 97.9ms\n",
      "10:\tlearn: 0.4172843\ttotal: 14.7ms\tremaining: 95ms\n",
      "11:\tlearn: 0.4107133\ttotal: 15.8ms\tremaining: 92.4ms\n",
      "12:\tlearn: 0.4030902\ttotal: 17ms\tremaining: 90.3ms\n",
      "13:\tlearn: 0.3993718\ttotal: 18.2ms\tremaining: 88.4ms\n",
      "14:\tlearn: 0.3957297\ttotal: 18.9ms\tremaining: 84.3ms\n",
      "15:\tlearn: 0.3898816\ttotal: 19.9ms\tremaining: 82.3ms\n",
      "16:\tlearn: 0.3836177\ttotal: 21.1ms\tremaining: 80.5ms\n",
      "17:\tlearn: 0.3787847\ttotal: 22.2ms\tremaining: 79ms\n",
      "18:\tlearn: 0.3742601\ttotal: 23.7ms\tremaining: 78.4ms\n",
      "19:\tlearn: 0.3701330\ttotal: 24.8ms\tremaining: 76.9ms\n",
      "20:\tlearn: 0.3661125\ttotal: 26ms\tremaining: 75.5ms\n",
      "21:\tlearn: 0.3636131\ttotal: 27.3ms\tremaining: 74.4ms\n",
      "22:\tlearn: 0.3621271\ttotal: 28.4ms\tremaining: 72.8ms\n",
      "23:\tlearn: 0.3603413\ttotal: 33.2ms\tremaining: 80.3ms\n",
      "24:\tlearn: 0.3575738\ttotal: 34.4ms\tremaining: 78.5ms\n",
      "25:\tlearn: 0.3554615\ttotal: 35.5ms\tremaining: 76.5ms\n",
      "26:\tlearn: 0.3526327\ttotal: 36.6ms\tremaining: 74.5ms\n",
      "27:\tlearn: 0.3499146\ttotal: 37.7ms\tremaining: 72.7ms\n",
      "28:\tlearn: 0.3486214\ttotal: 38.8ms\tremaining: 70.9ms\n",
      "29:\tlearn: 0.3462362\ttotal: 39.9ms\tremaining: 69.1ms\n",
      "30:\tlearn: 0.3441898\ttotal: 41ms\tremaining: 67.5ms\n",
      "31:\tlearn: 0.3412563\ttotal: 42.1ms\tremaining: 65.8ms\n",
      "32:\tlearn: 0.3395108\ttotal: 43.3ms\tremaining: 64.3ms\n",
      "33:\tlearn: 0.3375593\ttotal: 44.4ms\tremaining: 62.7ms\n",
      "34:\tlearn: 0.3363012\ttotal: 45.5ms\tremaining: 61.1ms\n",
      "35:\tlearn: 0.3350335\ttotal: 47ms\tremaining: 60ms\n",
      "36:\tlearn: 0.3327655\ttotal: 48.3ms\tremaining: 58.8ms\n",
      "37:\tlearn: 0.3310426\ttotal: 49.5ms\tremaining: 57.3ms\n",
      "38:\tlearn: 0.3293429\ttotal: 50.6ms\tremaining: 55.8ms\n",
      "39:\tlearn: 0.3278776\ttotal: 51.8ms\tremaining: 54.4ms\n",
      "40:\tlearn: 0.3269432\ttotal: 52.9ms\tremaining: 52.9ms\n",
      "41:\tlearn: 0.3250607\ttotal: 54.1ms\tremaining: 51.5ms\n",
      "42:\tlearn: 0.3239419\ttotal: 55.2ms\tremaining: 50.1ms\n",
      "43:\tlearn: 0.3224644\ttotal: 56.3ms\tremaining: 48.7ms\n",
      "44:\tlearn: 0.3218734\ttotal: 57.5ms\tremaining: 47.3ms\n",
      "45:\tlearn: 0.3214141\ttotal: 58.6ms\tremaining: 45.9ms\n",
      "46:\tlearn: 0.3202584\ttotal: 59.8ms\tremaining: 44.5ms\n",
      "47:\tlearn: 0.3190188\ttotal: 61ms\tremaining: 43.2ms\n",
      "48:\tlearn: 0.3183175\ttotal: 62.2ms\tremaining: 41.9ms\n",
      "49:\tlearn: 0.3173850\ttotal: 63.4ms\tremaining: 40.6ms\n",
      "50:\tlearn: 0.3165183\ttotal: 64.5ms\tremaining: 39.2ms\n",
      "51:\tlearn: 0.3147700\ttotal: 65.7ms\tremaining: 37.9ms\n",
      "52:\tlearn: 0.3139759\ttotal: 66.9ms\tremaining: 36.6ms\n",
      "53:\tlearn: 0.3132546\ttotal: 67.9ms\tremaining: 35.2ms\n",
      "54:\tlearn: 0.3114456\ttotal: 69ms\tremaining: 33.9ms\n",
      "55:\tlearn: 0.3104044\ttotal: 70.1ms\tremaining: 32.5ms\n",
      "56:\tlearn: 0.3096180\ttotal: 71.4ms\tremaining: 31.3ms\n",
      "57:\tlearn: 0.3090999\ttotal: 72.6ms\tremaining: 30ms\n",
      "58:\tlearn: 0.3075418\ttotal: 74.2ms\tremaining: 28.9ms\n",
      "59:\tlearn: 0.3059627\ttotal: 75.6ms\tremaining: 27.7ms\n",
      "60:\tlearn: 0.3057740\ttotal: 76.8ms\tremaining: 26.5ms\n",
      "61:\tlearn: 0.3047790\ttotal: 78.2ms\tremaining: 25.2ms\n",
      "62:\tlearn: 0.3031447\ttotal: 79.5ms\tremaining: 24ms\n",
      "63:\tlearn: 0.3025743\ttotal: 80.7ms\tremaining: 22.7ms\n",
      "64:\tlearn: 0.3018924\ttotal: 82ms\tremaining: 21.4ms\n",
      "65:\tlearn: 0.3017621\ttotal: 82.7ms\tremaining: 20.1ms\n",
      "66:\tlearn: 0.3010885\ttotal: 84.1ms\tremaining: 18.8ms\n",
      "67:\tlearn: 0.3002302\ttotal: 85.3ms\tremaining: 17.6ms\n",
      "68:\tlearn: 0.2984423\ttotal: 86.5ms\tremaining: 16.3ms\n",
      "69:\tlearn: 0.2978661\ttotal: 87.7ms\tremaining: 15ms\n",
      "70:\tlearn: 0.2969755\ttotal: 88.9ms\tremaining: 13.8ms\n",
      "71:\tlearn: 0.2953141\ttotal: 90ms\tremaining: 12.5ms\n",
      "72:\tlearn: 0.2943323\ttotal: 91.1ms\tremaining: 11.2ms\n",
      "73:\tlearn: 0.2937924\ttotal: 92.4ms\tremaining: 9.99ms\n",
      "74:\tlearn: 0.2924462\ttotal: 93.6ms\tremaining: 8.73ms\n",
      "75:\tlearn: 0.2903962\ttotal: 94.7ms\tremaining: 7.47ms\n",
      "76:\tlearn: 0.2895611\ttotal: 95.8ms\tremaining: 6.22ms\n",
      "77:\tlearn: 0.2886654\ttotal: 96.9ms\tremaining: 4.97ms\n",
      "78:\tlearn: 0.2875760\ttotal: 98.1ms\tremaining: 3.72ms\n",
      "79:\tlearn: 0.2869805\ttotal: 99.2ms\tremaining: 2.48ms\n",
      "80:\tlearn: 0.2853323\ttotal: 100ms\tremaining: 1.24ms\n",
      "81:\tlearn: 0.2839984\ttotal: 102ms\tremaining: 0us\n",
      "3th fold train：0.903, test：0.787\n",
      "0:\tlearn: 0.6410146\ttotal: 17.3ms\tremaining: 1.4s\n",
      "1:\tlearn: 0.6045839\ttotal: 19.1ms\tremaining: 763ms\n",
      "2:\tlearn: 0.5782280\ttotal: 19.9ms\tremaining: 525ms\n",
      "3:\tlearn: 0.5498975\ttotal: 21.5ms\tremaining: 419ms\n",
      "4:\tlearn: 0.5253629\ttotal: 22.7ms\tremaining: 349ms\n",
      "5:\tlearn: 0.5076033\ttotal: 23.9ms\tremaining: 302ms\n",
      "6:\tlearn: 0.4888943\ttotal: 25.3ms\tremaining: 271ms\n",
      "7:\tlearn: 0.4725994\ttotal: 26.5ms\tremaining: 245ms\n",
      "8:\tlearn: 0.4584106\ttotal: 31.3ms\tremaining: 254ms\n",
      "9:\tlearn: 0.4474710\ttotal: 32.7ms\tremaining: 235ms\n",
      "10:\tlearn: 0.4364498\ttotal: 34.1ms\tremaining: 220ms\n",
      "11:\tlearn: 0.4279638\ttotal: 35.4ms\tremaining: 207ms\n",
      "12:\tlearn: 0.4213023\ttotal: 36.7ms\tremaining: 195ms\n",
      "13:\tlearn: 0.4148344\ttotal: 38ms\tremaining: 184ms\n",
      "14:\tlearn: 0.4076943\ttotal: 39.2ms\tremaining: 175ms\n",
      "15:\tlearn: 0.4018044\ttotal: 40.7ms\tremaining: 168ms\n",
      "16:\tlearn: 0.3980284\ttotal: 42ms\tremaining: 161ms\n",
      "17:\tlearn: 0.3942925\ttotal: 43.1ms\tremaining: 153ms\n",
      "18:\tlearn: 0.3918056\ttotal: 44.3ms\tremaining: 147ms\n",
      "19:\tlearn: 0.3900868\ttotal: 45.8ms\tremaining: 142ms\n",
      "20:\tlearn: 0.3872743\ttotal: 46.8ms\tremaining: 136ms\n",
      "21:\tlearn: 0.3837081\ttotal: 47.9ms\tremaining: 131ms\n",
      "22:\tlearn: 0.3806227\ttotal: 49.1ms\tremaining: 126ms\n",
      "23:\tlearn: 0.3795675\ttotal: 50.2ms\tremaining: 121ms\n",
      "24:\tlearn: 0.3765805\ttotal: 51.4ms\tremaining: 117ms\n",
      "25:\tlearn: 0.3745856\ttotal: 52.6ms\tremaining: 113ms\n",
      "26:\tlearn: 0.3725066\ttotal: 53.7ms\tremaining: 109ms\n",
      "27:\tlearn: 0.3702700\ttotal: 54.9ms\tremaining: 106ms\n",
      "28:\tlearn: 0.3691022\ttotal: 56ms\tremaining: 102ms\n",
      "29:\tlearn: 0.3679968\ttotal: 57.2ms\tremaining: 99.2ms\n",
      "30:\tlearn: 0.3657780\ttotal: 58.4ms\tremaining: 96.1ms\n",
      "31:\tlearn: 0.3641109\ttotal: 59.7ms\tremaining: 93.2ms\n",
      "32:\tlearn: 0.3616310\ttotal: 60.8ms\tremaining: 90.3ms\n",
      "33:\tlearn: 0.3589981\ttotal: 61.9ms\tremaining: 87.4ms\n",
      "34:\tlearn: 0.3567267\ttotal: 63ms\tremaining: 84.6ms\n",
      "35:\tlearn: 0.3556589\ttotal: 64.2ms\tremaining: 82ms\n",
      "36:\tlearn: 0.3537298\ttotal: 65.7ms\tremaining: 79.9ms\n",
      "37:\tlearn: 0.3516230\ttotal: 66.9ms\tremaining: 77.5ms\n",
      "38:\tlearn: 0.3509541\ttotal: 68.1ms\tremaining: 75.1ms\n",
      "39:\tlearn: 0.3494922\ttotal: 69.4ms\tremaining: 72.9ms\n",
      "40:\tlearn: 0.3487972\ttotal: 70.9ms\tremaining: 70.9ms\n",
      "41:\tlearn: 0.3475963\ttotal: 72.2ms\tremaining: 68.8ms\n",
      "42:\tlearn: 0.3475892\ttotal: 72.8ms\tremaining: 66ms\n",
      "43:\tlearn: 0.3465866\ttotal: 74ms\tremaining: 63.9ms\n",
      "44:\tlearn: 0.3452655\ttotal: 75.2ms\tremaining: 61.8ms\n",
      "45:\tlearn: 0.3444539\ttotal: 76.3ms\tremaining: 59.7ms\n",
      "46:\tlearn: 0.3425270\ttotal: 77.4ms\tremaining: 57.6ms\n",
      "47:\tlearn: 0.3419385\ttotal: 78.6ms\tremaining: 55.6ms\n",
      "48:\tlearn: 0.3397046\ttotal: 79.7ms\tremaining: 53.6ms\n",
      "49:\tlearn: 0.3384083\ttotal: 80.7ms\tremaining: 51.7ms\n",
      "50:\tlearn: 0.3368445\ttotal: 81.9ms\tremaining: 49.8ms\n",
      "51:\tlearn: 0.3356751\ttotal: 83ms\tremaining: 47.9ms\n",
      "52:\tlearn: 0.3353557\ttotal: 83.8ms\tremaining: 45.9ms\n",
      "53:\tlearn: 0.3338076\ttotal: 84.9ms\tremaining: 44ms\n",
      "54:\tlearn: 0.3323624\ttotal: 86.3ms\tremaining: 42.4ms\n",
      "55:\tlearn: 0.3307184\ttotal: 87.7ms\tremaining: 40.7ms\n",
      "56:\tlearn: 0.3290419\ttotal: 88.8ms\tremaining: 38.9ms\n",
      "57:\tlearn: 0.3273481\ttotal: 89.9ms\tremaining: 37.2ms\n",
      "58:\tlearn: 0.3255254\ttotal: 91ms\tremaining: 35.5ms\n",
      "59:\tlearn: 0.3241801\ttotal: 92.1ms\tremaining: 33.8ms\n",
      "60:\tlearn: 0.3233190\ttotal: 93ms\tremaining: 32ms\n",
      "61:\tlearn: 0.3222963\ttotal: 94.1ms\tremaining: 30.3ms\n",
      "62:\tlearn: 0.3202895\ttotal: 95.2ms\tremaining: 28.7ms\n",
      "63:\tlearn: 0.3196239\ttotal: 96.3ms\tremaining: 27.1ms\n",
      "64:\tlearn: 0.3190391\ttotal: 97.4ms\tremaining: 25.5ms\n",
      "65:\tlearn: 0.3181324\ttotal: 98.6ms\tremaining: 23.9ms\n",
      "66:\tlearn: 0.3173124\ttotal: 99.7ms\tremaining: 22.3ms\n",
      "67:\tlearn: 0.3164067\ttotal: 101ms\tremaining: 20.7ms\n",
      "68:\tlearn: 0.3153777\ttotal: 102ms\tremaining: 19.2ms\n"
     ]
    },
    {
     "name": "stdout",
     "output_type": "stream",
     "text": [
      "69:\tlearn: 0.3147317\ttotal: 104ms\tremaining: 17.8ms\n",
      "70:\tlearn: 0.3135985\ttotal: 105ms\tremaining: 16.3ms\n",
      "71:\tlearn: 0.3129352\ttotal: 106ms\tremaining: 14.8ms\n",
      "72:\tlearn: 0.3121112\ttotal: 108ms\tremaining: 13.3ms\n",
      "73:\tlearn: 0.3110037\ttotal: 109ms\tremaining: 11.8ms\n",
      "74:\tlearn: 0.3098939\ttotal: 110ms\tremaining: 10.3ms\n",
      "75:\tlearn: 0.3088949\ttotal: 111ms\tremaining: 8.77ms\n",
      "76:\tlearn: 0.3081278\ttotal: 112ms\tremaining: 7.3ms\n",
      "77:\tlearn: 0.3077805\ttotal: 114ms\tremaining: 5.82ms\n",
      "78:\tlearn: 0.3071031\ttotal: 115ms\tremaining: 4.36ms\n",
      "79:\tlearn: 0.3056084\ttotal: 116ms\tremaining: 2.9ms\n",
      "80:\tlearn: 0.3046020\ttotal: 117ms\tremaining: 1.45ms\n",
      "81:\tlearn: 0.3037455\ttotal: 119ms\tremaining: 0us\n",
      "4th fold train：0.886, test：0.865\n",
      "avg train score= 0.898, avg score=0.829\n"
     ]
    }
   ],
   "source": [
    "model=CatBoostClassifier()\n",
    "params={\"learning_rate\":0.08,\"n_estimators\":82}\n",
    "train_pred_cat,test_pred_cat,valid_acc_cat=train_model(model,params,X_train,y_train,X_test)"
   ]
  },
  {
   "cell_type": "markdown",
   "id": "c9421d7a",
   "metadata": {},
   "source": [
    "## gbt"
   ]
  },
  {
   "cell_type": "code",
   "execution_count": 92,
   "id": "0de07f09",
   "metadata": {
    "ExecuteTime": {
     "end_time": "2022-05-24T14:29:23.644753Z",
     "start_time": "2022-05-24T14:29:22.452503Z"
    }
   },
   "outputs": [
    {
     "name": "stdout",
     "output_type": "stream",
     "text": [
      "0th fold train：0.949, test：0.827\n",
      "1th fold train：0.948, test：0.860\n",
      "2th fold train：0.955, test：0.826\n",
      "3th fold train：0.947, test：0.803\n",
      "4th fold train：0.950, test：0.843\n",
      "avg train score= 0.950, avg score=0.832\n"
     ]
    }
   ],
   "source": [
    "model=GradientBoostingClassifier()\n",
    "params={\"learning_rate\":0.11,\"n_estimators\":222}\n",
    "train_pred_gbt,test_pred_gbt,valid_acc_gbt=train_model(model,params,X_train,y_train,X_test)"
   ]
  },
  {
   "cell_type": "markdown",
   "id": "d161dd24",
   "metadata": {},
   "source": [
    "## RF"
   ]
  },
  {
   "cell_type": "code",
   "execution_count": 93,
   "id": "bb518fc5",
   "metadata": {
    "ExecuteTime": {
     "end_time": "2022-05-24T14:29:40.217528Z",
     "start_time": "2022-05-24T14:29:39.133580Z"
    }
   },
   "outputs": [
    {
     "name": "stdout",
     "output_type": "stream",
     "text": [
      "0th fold train：0.834, test：0.844\n",
      "1th fold train：0.832, test：0.831\n",
      "2th fold train：0.835, test：0.815\n",
      "3th fold train：0.836, test：0.770\n",
      "4th fold train：0.830, test：0.854\n",
      "avg train score= 0.833, avg score=0.823\n"
     ]
    }
   ],
   "source": [
    "model=RandomForestClassifier()\n",
    "params={\"n_estimators\":150,\"max_depth\":4,\"min_samples_split\":5,\"min_samples_leaf\":3}\n",
    "train_pred_rf,test_pred_rf,valid_acc_rf=train_model(model,params,X_train,y_train,X_test)"
   ]
  },
  {
   "cell_type": "markdown",
   "id": "6326d0f0",
   "metadata": {},
   "source": [
    "## lr"
   ]
  },
  {
   "cell_type": "code",
   "execution_count": 94,
   "id": "f978818e",
   "metadata": {
    "ExecuteTime": {
     "end_time": "2022-05-24T14:30:03.851528Z",
     "start_time": "2022-05-24T14:30:03.748123Z"
    }
   },
   "outputs": [
    {
     "name": "stdout",
     "output_type": "stream",
     "text": [
      "0th fold train：0.840, test：0.832\n",
      "1th fold train：0.847, test：0.860\n",
      "2th fold train：0.849, test：0.820\n",
      "3th fold train：0.857, test：0.815\n",
      "4th fold train：0.836, test：0.876\n",
      "avg train score= 0.846, avg score=0.841\n"
     ]
    }
   ],
   "source": [
    "model=LogisticRegression()\n",
    "params={}\n",
    "train_pred_lr,test_pred_lr,valid_acc_lr=train_model(model,params,X_train,y_train,X_test)"
   ]
  },
  {
   "cell_type": "markdown",
   "id": "28d7abe0",
   "metadata": {},
   "source": [
    "## SVC"
   ]
  },
  {
   "cell_type": "code",
   "execution_count": 95,
   "id": "257ef419",
   "metadata": {
    "ExecuteTime": {
     "end_time": "2022-05-24T14:30:23.110699Z",
     "start_time": "2022-05-24T14:30:22.966580Z"
    }
   },
   "outputs": [
    {
     "name": "stdout",
     "output_type": "stream",
     "text": [
      "0th fold train：0.838, test：0.838\n",
      "1th fold train：0.837, test：0.854\n",
      "2th fold train：0.846, test：0.815\n",
      "3th fold train：0.849, test：0.781\n",
      "4th fold train：0.826, test：0.876\n",
      "avg train score= 0.839, avg score=0.833\n"
     ]
    }
   ],
   "source": [
    "model=LinearSVC()\n",
    "params={\"C\":0.12,\"tol\":1e-4,\"max_iter\":1000}\n",
    "train_pred_svc,test_pred_svc,valid_acc_svc=train_model(model,params,X_train,y_train,X_test)"
   ]
  },
  {
   "cell_type": "markdown",
   "id": "8a1f175f",
   "metadata": {},
   "source": [
    "## knn"
   ]
  },
  {
   "cell_type": "code",
   "execution_count": 96,
   "id": "34f8f747",
   "metadata": {
    "ExecuteTime": {
     "end_time": "2022-05-24T14:30:31.616462Z",
     "start_time": "2022-05-24T14:30:31.341994Z"
    }
   },
   "outputs": [
    {
     "name": "stdout",
     "output_type": "stream",
     "text": [
      "0th fold train：0.816, test：0.810\n",
      "1th fold train：0.811, test：0.815\n",
      "2th fold train：0.819, test：0.736\n",
      "3th fold train：0.806, test：0.792\n",
      "4th fold train：0.804, test：0.831\n",
      "avg train score= 0.811, avg score=0.797\n"
     ]
    }
   ],
   "source": [
    "model=KNeighborsClassifier()\n",
    "params={\"n_neighbors\":15,\"p\":1}\n",
    "train_pred_knn,test_pred_knn,valid_acc_knn=train_model(model,params,X_train,y_train,X_test)"
   ]
  },
  {
   "cell_type": "markdown",
   "id": "22406314",
   "metadata": {},
   "source": [
    "## perceptron"
   ]
  },
  {
   "cell_type": "code",
   "execution_count": 97,
   "id": "aa035203",
   "metadata": {
    "ExecuteTime": {
     "end_time": "2022-05-24T14:30:43.740963Z",
     "start_time": "2022-05-24T14:30:43.714963Z"
    }
   },
   "outputs": [
    {
     "name": "stdout",
     "output_type": "stream",
     "text": [
      "0th fold train：0.779, test：0.810\n",
      "1th fold train：0.767, test：0.781\n",
      "2th fold train：0.809, test：0.787\n",
      "3th fold train：0.804, test：0.753\n",
      "4th fold train：0.784, test：0.815\n",
      "avg train score= 0.789, avg score=0.789\n"
     ]
    }
   ],
   "source": [
    "model=Perceptron()\n",
    "params={\"penalty\":'l2',\"alpha\":1e-5,\"max_iter\":19,\"validation_fraction\":0.1,\"n_iter_no_change\":10,\"warm_start\":True}\n",
    "train_pred_pt,test_pred_pt,valid_acc_pt=train_model(model,params,X_train,y_train,X_test)"
   ]
  },
  {
   "cell_type": "markdown",
   "id": "b6dc6177",
   "metadata": {},
   "source": [
    "## SGD"
   ]
  },
  {
   "cell_type": "code",
   "execution_count": 98,
   "id": "91cf5045",
   "metadata": {
    "ExecuteTime": {
     "end_time": "2022-05-24T14:30:53.493921Z",
     "start_time": "2022-05-24T14:30:53.462417Z"
    }
   },
   "outputs": [
    {
     "name": "stdout",
     "output_type": "stream",
     "text": [
      "0th fold train：0.802, test：0.821\n",
      "1th fold train：0.798, test：0.809\n",
      "2th fold train：0.771, test：0.753\n",
      "3th fold train：0.759, test：0.719\n",
      "4th fold train：0.721, test：0.770\n",
      "avg train score= 0.770, avg score=0.774\n"
     ]
    }
   ],
   "source": [
    "model=SGDClassifier()\n",
    "params={\"loss\":'log',\"alpha\":1e-5,\"max_iter\":20,\"validation_fraction\":0.1,\"n_iter_no_change\":10,\"warm_start\":True}\n",
    "train_pred_sgd,test_pred_sgd,valid_acc_sgd=train_model(model,params,X_train,y_train,X_test)"
   ]
  },
  {
   "cell_type": "markdown",
   "id": "b76c21cb",
   "metadata": {
    "ExecuteTime": {
     "end_time": "2022-05-19T12:55:33.942037Z",
     "start_time": "2022-05-19T12:55:33.936501Z"
    }
   },
   "source": [
    "## gp"
   ]
  },
  {
   "cell_type": "code",
   "execution_count": 99,
   "id": "3f8ee915",
   "metadata": {
    "ExecuteTime": {
     "end_time": "2022-05-24T14:31:21.694458Z",
     "start_time": "2022-05-24T14:31:20.443116Z"
    }
   },
   "outputs": [
    {
     "name": "stdout",
     "output_type": "stream",
     "text": [
      "0th fold train：0.963, test：0.749\n",
      "1th fold train：0.961, test：0.747\n",
      "2th fold train：0.965, test：0.708\n",
      "3th fold train：0.959, test：0.725\n",
      "4th fold train：0.966, test：0.798\n",
      "avg train score= 0.963, avg score=0.745\n"
     ]
    }
   ],
   "source": [
    "model=GaussianProcessClassifier()\n",
    "params={}\n",
    "train_pred_gp,test_pred_gp,valid_acc_gp=train_model(model,params,X_train,y_train,X_test)"
   ]
  },
  {
   "cell_type": "markdown",
   "id": "a119f069",
   "metadata": {},
   "source": [
    "##  bayes"
   ]
  },
  {
   "cell_type": "code",
   "execution_count": 100,
   "id": "6ba53436",
   "metadata": {
    "ExecuteTime": {
     "end_time": "2022-05-24T14:31:33.565549Z",
     "start_time": "2022-05-24T14:31:33.530384Z"
    }
   },
   "outputs": [
    {
     "name": "stdout",
     "output_type": "stream",
     "text": [
      "0th fold train：0.788, test：0.816\n",
      "1th fold train：0.795, test：0.803\n",
      "2th fold train：0.801, test：0.781\n",
      "3th fold train：0.808, test：0.736\n",
      "4th fold train：0.785, test：0.837\n",
      "avg train score= 0.795, avg score=0.795\n"
     ]
    }
   ],
   "source": [
    "model=BernoulliNB()\n",
    "params={\"alpha\":20}\n",
    "train_pred_by,test_pred_by,valid_acc_by=train_model(model,params,X_train,y_train,X_test)"
   ]
  },
  {
   "cell_type": "markdown",
   "id": "e9a699bd",
   "metadata": {},
   "source": [
    "# 模型融合\n",
    "## 简单平均"
   ]
  },
  {
   "cell_type": "code",
   "execution_count": 103,
   "id": "467f63fd",
   "metadata": {
    "ExecuteTime": {
     "end_time": "2022-05-24T14:35:31.787307Z",
     "start_time": "2022-05-24T14:35:31.782348Z"
    }
   },
   "outputs": [],
   "source": [
    "result1=(test_pred_lgb+test_pred_xgb+test_pred_cat+test_pred_gbt+test_pred_rf+test_pred_lr+test_pred_svc\\\n",
    "         +test_pred_knn+test_pred_pt+test_pred_sgd+test_pred_gp+test_pred_by)/12"
   ]
  },
  {
   "cell_type": "code",
   "execution_count": 198,
   "id": "b1290ac9",
   "metadata": {
    "ExecuteTime": {
     "end_time": "2022-05-22T14:31:51.431488Z",
     "start_time": "2022-05-22T14:31:51.419485Z"
    }
   },
   "outputs": [],
   "source": [
    "result1_round=np.round(result1)\n",
    "pd.DataFrame(data=np.c_[list(range(892,1310)),result1_round],columns=[\"PassengerId\",\"Survived\"],dtype=np.int64).to_csv('result_20220522_avg_bestSuvivalAge.txt',index=False,header=True)# 得分：0.73444"
   ]
  },
  {
   "cell_type": "code",
   "execution_count": 470,
   "id": "ec8257b1",
   "metadata": {
    "ExecuteTime": {
     "end_time": "2022-05-22T15:15:28.311141Z",
     "start_time": "2022-05-22T15:15:28.292060Z"
    }
   },
   "outputs": [
    {
     "data": {
      "text/plain": [
       "(array([234, 280], dtype=int64),)"
      ]
     },
     "execution_count": 470,
     "metadata": {},
     "output_type": "execute_result"
    }
   ],
   "source": [
    "np.where(np.round(result2)!=np.round(result1))"
   ]
  },
  {
   "cell_type": "code",
   "execution_count": 200,
   "id": "9e200a49",
   "metadata": {
    "ExecuteTime": {
     "end_time": "2022-05-22T14:36:09.803763Z",
     "start_time": "2022-05-22T14:36:09.787518Z"
    }
   },
   "outputs": [],
   "source": [
    "avg_0519=pd.read_csv(\"result_20220519_avg.txt\")[\"Survived\"].values"
   ]
  },
  {
   "cell_type": "code",
   "execution_count": 104,
   "id": "9c693c67",
   "metadata": {
    "ExecuteTime": {
     "end_time": "2022-05-24T14:43:58.602693Z",
     "start_time": "2022-05-24T14:43:58.588688Z"
    }
   },
   "outputs": [
    {
     "data": {
      "text/plain": [
       "(array([], dtype=int64),)"
      ]
     },
     "execution_count": 104,
     "metadata": {},
     "output_type": "execute_result"
    }
   ],
   "source": [
    "np.where(np.round(result2)!=np.round(result1))"
   ]
  },
  {
   "cell_type": "markdown",
   "id": "db091f47",
   "metadata": {
    "ExecuteTime": {
     "end_time": "2022-05-19T13:19:21.761363Z",
     "start_time": "2022-05-19T13:19:21.744415Z"
    }
   },
   "source": [
    "## 加权平均"
   ]
  },
  {
   "cell_type": "code",
   "execution_count": 101,
   "id": "de33db61",
   "metadata": {
    "ExecuteTime": {
     "end_time": "2022-05-24T14:35:17.455900Z",
     "start_time": "2022-05-24T14:35:17.444764Z"
    }
   },
   "outputs": [],
   "source": [
    "result2=(valid_acc_lgb*test_pred_lgb\\\n",
    "        +valid_acc_xgb*test_pred_xgb\\\n",
    "        +valid_acc_cat*test_pred_cat\\\n",
    "        +valid_acc_gbt*test_pred_gbt\\\n",
    "        +valid_acc_rf*test_pred_rf\\\n",
    "        +valid_acc_lr*test_pred_lr\\\n",
    "        +valid_acc_svc*test_pred_svc\\\n",
    "        +valid_acc_knn*test_pred_knn\\\n",
    "        +valid_acc_pt*test_pred_pt\\\n",
    "        +valid_acc_sgd*test_pred_sgd\\\n",
    "        +valid_acc_gp*test_pred_gp\\\n",
    "        +valid_acc_by*test_pred_by)/(valid_acc_lgb+valid_acc_xgb+valid_acc_cat+valid_acc_gbt+valid_acc_rf+valid_acc_lr+valid_acc_svc\\\n",
    "                                 +valid_acc_knn+valid_acc_pt+valid_acc_sgd+valid_acc_gp+valid_acc_by)"
   ]
  },
  {
   "cell_type": "code",
   "execution_count": 328,
   "id": "bf7316bd",
   "metadata": {
    "ExecuteTime": {
     "end_time": "2022-05-19T13:44:41.109208Z",
     "start_time": "2022-05-19T13:44:41.098245Z"
    }
   },
   "outputs": [
    {
     "data": {
      "text/plain": [
       "(array([], dtype=int64),)"
      ]
     },
     "execution_count": 328,
     "metadata": {},
     "output_type": "execute_result"
    }
   ],
   "source": [
    "np.where(result1_round!=result2_round)# 简单平均和加权平均结果一样"
   ]
  },
  {
   "cell_type": "markdown",
   "id": "03c5d983",
   "metadata": {
    "ExecuteTime": {
     "end_time": "2022-05-19T13:44:02.002784Z",
     "start_time": "2022-05-19T13:44:01.996811Z"
    }
   },
   "source": [
    "## stacking"
   ]
  },
  {
   "cell_type": "code",
   "execution_count": 106,
   "id": "daaad518",
   "metadata": {
    "ExecuteTime": {
     "end_time": "2022-05-24T14:46:00.318993Z",
     "start_time": "2022-05-24T14:46:00.312997Z"
    }
   },
   "outputs": [],
   "source": [
    "train_stacking=np.c_[train_pred_lgb,train_pred_xgb,train_pred_cat,train_pred_gbt,train_pred_rf,train_pred_lr,train_pred_svc,\\\n",
    "      train_pred_knn,train_pred_pt,train_pred_sgd,train_pred_gp,train_pred_by]\n",
    "y_train_stacking=y_train.copy()\n",
    "test_stacking=np.c_[test_pred_lgb,test_pred_xgb,test_pred_cat,test_pred_gbt,test_pred_rf,test_pred_lr,test_pred_svc,\\\n",
    "      test_pred_knn,test_pred_pt,test_pred_sgd,test_pred_gp,test_pred_by]"
   ]
  },
  {
   "cell_type": "code",
   "execution_count": 333,
   "id": "3cb8d5ef",
   "metadata": {
    "ExecuteTime": {
     "end_time": "2022-05-22T12:37:42.199173Z",
     "start_time": "2022-05-22T12:37:42.193193Z"
    }
   },
   "outputs": [],
   "source": [
    "# 带上原数据的stacking\n",
    "train_stacking=np.c_[X_train,train_result_lgb,train_result_xgb,train_result_cat,train_result_gbt,train_result_rf,train_result_lr,train_result_svc,\\\n",
    "      train_result_knn,train_result_pt,train_result_sgd,train_result_gp,train_result_by]\n",
    "y_train_stacking=y_train.copy()\n",
    "test_stacking=np.c_[X_test,result_lgb,result_xgb,result_cat,result_gbt,result_rf,result_lr,result_svc,\\\n",
    "      result_knn,result_pt,result_sgd,result_gp,result_by]"
   ]
  },
  {
   "cell_type": "markdown",
   "id": "526d6253",
   "metadata": {},
   "source": [
    "### rf"
   ]
  },
  {
   "cell_type": "code",
   "execution_count": 110,
   "id": "d06f523e",
   "metadata": {
    "ExecuteTime": {
     "end_time": "2022-05-24T14:49:34.333475Z",
     "start_time": "2022-05-24T14:49:33.855983Z"
    }
   },
   "outputs": [
    {
     "name": "stdout",
     "output_type": "stream",
     "text": [
      "0th fold train：0.879, valid：0.838\n",
      "1th fold train：0.864, valid：0.843\n",
      "2th fold train：0.885, valid：0.820\n",
      "3th fold train：0.881, valid：0.787\n",
      "4th fold train：0.872, valid：0.876\n",
      "avg train score= 0.876, avg valid score=0.833\n"
     ]
    }
   ],
   "source": [
    "model=RandomForestClassifier()\n",
    "params={\"n_estimators\":70,\"max_depth\":8,\"min_samples_split\":4,\"min_samples_leaf\":3}\n",
    "train_s_pred_rf,test_s_pred_rf,valid_s_acc_rf=train_model(model,params,X_train,y_train,X_test)"
   ]
  },
  {
   "cell_type": "code",
   "execution_count": 143,
   "id": "552a7d85",
   "metadata": {
    "ExecuteTime": {
     "end_time": "2022-05-22T04:34:58.302796Z",
     "start_time": "2022-05-22T04:34:58.290835Z"
    }
   },
   "outputs": [
    {
     "data": {
      "text/plain": [
       "(array([  4,   6,  19,  21,  32,  33,  36,  37,  86, 125, 138, 158, 159,\n",
       "        165, 169, 181, 192, 197, 199, 225, 242, 249, 252, 268, 280, 283,\n",
       "        293, 323, 347, 359, 367, 382, 383, 412], dtype=int64),)"
      ]
     },
     "execution_count": 143,
     "metadata": {},
     "output_type": "execute_result"
    }
   ],
   "source": [
    "np.where(np.round(result_rf_s)!=np.round(result1))"
   ]
  },
  {
   "cell_type": "code",
   "execution_count": 167,
   "id": "9ed40823",
   "metadata": {
    "ExecuteTime": {
     "end_time": "2022-05-20T14:05:49.358709Z",
     "start_time": "2022-05-20T14:05:49.347213Z"
    }
   },
   "outputs": [],
   "source": [
    "pd.DataFrame(data=np.c_[list(range(892,1310)),result_lr_s],columns=[\"PassengerId\",\"Survived\"],dtype=np.int64).to_csv('result_20220520_rf_s.txt',index=False,header=True)# 得分：0.73444"
   ]
  },
  {
   "cell_type": "markdown",
   "id": "8ff56c7e",
   "metadata": {},
   "source": [
    "### lr"
   ]
  },
  {
   "cell_type": "code",
   "execution_count": 111,
   "id": "a4a76f22",
   "metadata": {
    "ExecuteTime": {
     "end_time": "2022-05-24T14:50:43.337038Z",
     "start_time": "2022-05-24T14:50:42.538682Z"
    }
   },
   "outputs": [
    {
     "name": "stdout",
     "output_type": "stream",
     "text": [
      "0th fold train：0.990, valid：0.821\n",
      "1th fold train：0.987, valid：0.843\n",
      "2th fold train：0.992, valid：0.820\n",
      "3th fold train：0.987, valid：0.770\n",
      "4th fold train：0.990, valid：0.820\n",
      "avg train score= 0.989, avg valid score=0.815\n"
     ]
    }
   ],
   "source": [
    "model=RandomForestClassifier()\n",
    "params={}\n",
    "train_s_pred_lr,test_s_pred_lr,valid_s_acc_lr=train_model(model,params,X_train,y_train,X_test)"
   ]
  },
  {
   "cell_type": "code",
   "execution_count": 145,
   "id": "6fe873c1",
   "metadata": {
    "ExecuteTime": {
     "end_time": "2022-05-22T04:35:11.798710Z",
     "start_time": "2022-05-22T04:35:11.790606Z"
    }
   },
   "outputs": [
    {
     "data": {
      "text/plain": [
       "(array([  6,  19,  28,  36,  37,  41, 138, 158, 165, 169, 225, 242, 249,\n",
       "        252, 268, 280, 283, 323, 347, 412], dtype=int64),)"
      ]
     },
     "execution_count": 145,
     "metadata": {},
     "output_type": "execute_result"
    }
   ],
   "source": [
    "np.where(np.round(result_lr_s)!=np.round(result1))"
   ]
  },
  {
   "cell_type": "markdown",
   "id": "f7e7a0a8",
   "metadata": {},
   "source": [
    "### lgb"
   ]
  },
  {
   "cell_type": "code",
   "execution_count": 122,
   "id": "04b1f9d0",
   "metadata": {
    "ExecuteTime": {
     "end_time": "2022-05-24T14:53:40.054968Z",
     "start_time": "2022-05-24T14:53:39.848757Z"
    }
   },
   "outputs": [
    {
     "name": "stdout",
     "output_type": "stream",
     "text": [
      "0th fold train：0.947, valid：0.838\n",
      "1th fold train：0.947, valid：0.860\n",
      "2th fold train：0.952, valid：0.837\n",
      "3th fold train：0.959, valid：0.809\n",
      "4th fold train：0.948, valid：0.860\n",
      "avg train score= 0.951, avg valid score=0.841\n"
     ]
    }
   ],
   "source": [
    "model=LGBMClassifier()\n",
    "params={\"learning_rate\":0.1,\"max_depth\":10,\"n_estimators\":100}\n",
    "train_s_pred_lgb,test_s_pred_lgb,valid_s_acc_lgb=train_model(model,params,X_train,y_train,X_test)"
   ]
  },
  {
   "cell_type": "code",
   "execution_count": 457,
   "id": "f3992266",
   "metadata": {
    "ExecuteTime": {
     "end_time": "2022-05-22T12:49:59.090424Z",
     "start_time": "2022-05-22T12:49:59.077467Z"
    }
   },
   "outputs": [],
   "source": [
    "pd.DataFrame(data=np.c_[list(range(892,1310)),np.round(result_lgb_s)],columns=[\"PassengerId\",\"Survived\"],dtype=np.int64).to_csv('result_20220522_sso_lgb.txt',index=False,header=True)# 得分：0.73444"
   ]
  },
  {
   "cell_type": "markdown",
   "id": "e4197ea1",
   "metadata": {},
   "source": [
    "### cat"
   ]
  },
  {
   "cell_type": "code",
   "execution_count": 139,
   "id": "5ccda9e8",
   "metadata": {
    "ExecuteTime": {
     "end_time": "2022-05-24T14:57:55.797404Z",
     "start_time": "2022-05-24T14:57:54.981197Z"
    }
   },
   "outputs": [
    {
     "name": "stdout",
     "output_type": "stream",
     "text": [
      "0:\tlearn: 0.6610697\ttotal: 21.9ms\tremaining: 1.51s\n",
      "1:\tlearn: 0.6311421\ttotal: 23.7ms\tremaining: 805ms\n",
      "2:\tlearn: 0.6033573\ttotal: 37.6ms\tremaining: 840ms\n",
      "3:\tlearn: 0.5729409\ttotal: 39.4ms\tremaining: 651ms\n",
      "4:\tlearn: 0.5508827\ttotal: 41.5ms\tremaining: 539ms\n",
      "5:\tlearn: 0.5327376\ttotal: 42.8ms\tremaining: 457ms\n",
      "6:\tlearn: 0.5175350\ttotal: 44.1ms\tremaining: 397ms\n",
      "7:\tlearn: 0.5009654\ttotal: 45.3ms\tremaining: 351ms\n",
      "8:\tlearn: 0.4847992\ttotal: 46.5ms\tremaining: 315ms\n",
      "9:\tlearn: 0.4715334\ttotal: 47.7ms\tremaining: 286ms\n",
      "10:\tlearn: 0.4663076\ttotal: 48.4ms\tremaining: 260ms\n",
      "11:\tlearn: 0.4566568\ttotal: 49.5ms\tremaining: 239ms\n",
      "12:\tlearn: 0.4477544\ttotal: 50.6ms\tremaining: 222ms\n",
      "13:\tlearn: 0.4401259\ttotal: 51.7ms\tremaining: 207ms\n",
      "14:\tlearn: 0.4333776\ttotal: 52.9ms\tremaining: 194ms\n",
      "15:\tlearn: 0.4266652\ttotal: 54.1ms\tremaining: 183ms\n",
      "16:\tlearn: 0.4195312\ttotal: 55.3ms\tremaining: 172ms\n",
      "17:\tlearn: 0.4153514\ttotal: 56.5ms\tremaining: 163ms\n",
      "18:\tlearn: 0.4113014\ttotal: 57.7ms\tremaining: 155ms\n",
      "19:\tlearn: 0.4078607\ttotal: 58.4ms\tremaining: 146ms\n",
      "20:\tlearn: 0.4035563\ttotal: 59.6ms\tremaining: 139ms\n",
      "21:\tlearn: 0.3987625\ttotal: 60.8ms\tremaining: 133ms\n",
      "22:\tlearn: 0.3976955\ttotal: 61.3ms\tremaining: 125ms\n",
      "23:\tlearn: 0.3920706\ttotal: 62.4ms\tremaining: 120ms\n",
      "24:\tlearn: 0.3886240\ttotal: 63.7ms\tremaining: 115ms\n",
      "25:\tlearn: 0.3855881\ttotal: 65ms\tremaining: 110ms\n",
      "26:\tlearn: 0.3828891\ttotal: 66.3ms\tremaining: 106ms\n",
      "27:\tlearn: 0.3797685\ttotal: 67.6ms\tremaining: 101ms\n",
      "28:\tlearn: 0.3764579\ttotal: 68.9ms\tremaining: 97.4ms\n",
      "29:\tlearn: 0.3751321\ttotal: 70ms\tremaining: 93.4ms\n",
      "30:\tlearn: 0.3724467\ttotal: 71.1ms\tremaining: 89.5ms\n",
      "31:\tlearn: 0.3697986\ttotal: 72.2ms\tremaining: 85.8ms\n",
      "32:\tlearn: 0.3664846\ttotal: 73.4ms\tremaining: 82.3ms\n",
      "33:\tlearn: 0.3640731\ttotal: 74.5ms\tremaining: 78.9ms\n",
      "34:\tlearn: 0.3626204\ttotal: 75.6ms\tremaining: 75.6ms\n",
      "35:\tlearn: 0.3610553\ttotal: 76.8ms\tremaining: 72.5ms\n",
      "36:\tlearn: 0.3599959\ttotal: 78ms\tremaining: 69.5ms\n",
      "37:\tlearn: 0.3580954\ttotal: 79.1ms\tremaining: 66.6ms\n",
      "38:\tlearn: 0.3558619\ttotal: 80.3ms\tremaining: 63.8ms\n",
      "39:\tlearn: 0.3547135\ttotal: 81.4ms\tremaining: 61ms\n",
      "40:\tlearn: 0.3536408\ttotal: 82.5ms\tremaining: 58.3ms\n",
      "41:\tlearn: 0.3528044\ttotal: 83.7ms\tremaining: 55.8ms\n",
      "42:\tlearn: 0.3514400\ttotal: 84.8ms\tremaining: 53.2ms\n",
      "43:\tlearn: 0.3500417\ttotal: 94.9ms\tremaining: 56.1ms\n",
      "44:\tlearn: 0.3493973\ttotal: 96.2ms\tremaining: 53.4ms\n",
      "45:\tlearn: 0.3483103\ttotal: 97.4ms\tremaining: 50.8ms\n",
      "46:\tlearn: 0.3467020\ttotal: 98.7ms\tremaining: 48.3ms\n",
      "47:\tlearn: 0.3445816\ttotal: 100ms\tremaining: 45.9ms\n",
      "48:\tlearn: 0.3429767\ttotal: 111ms\tremaining: 47.4ms\n",
      "49:\tlearn: 0.3420138\ttotal: 112ms\tremaining: 44.7ms\n",
      "50:\tlearn: 0.3412553\ttotal: 113ms\tremaining: 42.1ms\n",
      "51:\tlearn: 0.3396251\ttotal: 114ms\tremaining: 39.5ms\n",
      "52:\tlearn: 0.3383568\ttotal: 115ms\tremaining: 37ms\n",
      "53:\tlearn: 0.3374208\ttotal: 116ms\tremaining: 34.5ms\n",
      "54:\tlearn: 0.3366764\ttotal: 118ms\tremaining: 32.1ms\n",
      "55:\tlearn: 0.3354903\ttotal: 119ms\tremaining: 29.7ms\n",
      "56:\tlearn: 0.3339423\ttotal: 120ms\tremaining: 27.3ms\n",
      "57:\tlearn: 0.3326069\ttotal: 121ms\tremaining: 25ms\n",
      "58:\tlearn: 0.3307184\ttotal: 122ms\tremaining: 22.8ms\n",
      "59:\tlearn: 0.3289764\ttotal: 123ms\tremaining: 20.6ms\n",
      "60:\tlearn: 0.3282684\ttotal: 124ms\tremaining: 18.4ms\n",
      "61:\tlearn: 0.3275441\ttotal: 126ms\tremaining: 16.2ms\n",
      "62:\tlearn: 0.3265255\ttotal: 127ms\tremaining: 14.1ms\n",
      "63:\tlearn: 0.3253577\ttotal: 128ms\tremaining: 12ms\n",
      "64:\tlearn: 0.3245709\ttotal: 129ms\tremaining: 9.93ms\n",
      "65:\tlearn: 0.3236513\ttotal: 130ms\tremaining: 7.9ms\n",
      "66:\tlearn: 0.3217753\ttotal: 131ms\tremaining: 5.89ms\n",
      "67:\tlearn: 0.3208030\ttotal: 133ms\tremaining: 3.9ms\n",
      "68:\tlearn: 0.3197396\ttotal: 134ms\tremaining: 1.94ms\n",
      "69:\tlearn: 0.3196780\ttotal: 134ms\tremaining: 0us\n",
      "0th fold train：0.889, valid：0.832\n",
      "0:\tlearn: 0.6573269\ttotal: 7.11ms\tremaining: 491ms\n",
      "1:\tlearn: 0.6260357\ttotal: 8.52ms\tremaining: 290ms\n",
      "2:\tlearn: 0.5977468\ttotal: 9.67ms\tremaining: 216ms\n",
      "3:\tlearn: 0.5742835\ttotal: 11.4ms\tremaining: 189ms\n",
      "4:\tlearn: 0.5487196\ttotal: 13.1ms\tremaining: 171ms\n",
      "5:\tlearn: 0.5308461\ttotal: 14.4ms\tremaining: 154ms\n",
      "6:\tlearn: 0.5136272\ttotal: 15.8ms\tremaining: 142ms\n",
      "7:\tlearn: 0.5009092\ttotal: 17.3ms\tremaining: 134ms\n",
      "8:\tlearn: 0.4903276\ttotal: 18.6ms\tremaining: 126ms\n",
      "9:\tlearn: 0.4771169\ttotal: 19.7ms\tremaining: 118ms\n",
      "10:\tlearn: 0.4679074\ttotal: 21ms\tremaining: 112ms\n",
      "11:\tlearn: 0.4581575\ttotal: 22.1ms\tremaining: 107ms\n",
      "12:\tlearn: 0.4486798\ttotal: 23.4ms\tremaining: 103ms\n",
      "13:\tlearn: 0.4407991\ttotal: 24.5ms\tremaining: 98.1ms\n",
      "14:\tlearn: 0.4328174\ttotal: 25.7ms\tremaining: 94.2ms\n",
      "15:\tlearn: 0.4263258\ttotal: 26.8ms\tremaining: 90.5ms\n",
      "16:\tlearn: 0.4220403\ttotal: 27.9ms\tremaining: 87.1ms\n",
      "17:\tlearn: 0.4200998\ttotal: 28.4ms\tremaining: 82ms\n",
      "18:\tlearn: 0.4161689\ttotal: 29.4ms\tremaining: 79ms\n",
      "19:\tlearn: 0.4129489\ttotal: 30.5ms\tremaining: 76.3ms\n",
      "20:\tlearn: 0.4083938\ttotal: 31.8ms\tremaining: 74.1ms\n",
      "21:\tlearn: 0.4028758\ttotal: 32.9ms\tremaining: 71.8ms\n",
      "22:\tlearn: 0.4000857\ttotal: 34ms\tremaining: 69.5ms\n",
      "23:\tlearn: 0.3962214\ttotal: 35.2ms\tremaining: 67.5ms\n",
      "24:\tlearn: 0.3933538\ttotal: 36.4ms\tremaining: 65.6ms\n",
      "25:\tlearn: 0.3911536\ttotal: 37.6ms\tremaining: 63.6ms\n",
      "26:\tlearn: 0.3874652\ttotal: 38.8ms\tremaining: 61.7ms\n",
      "27:\tlearn: 0.3859036\ttotal: 39.9ms\tremaining: 59.8ms\n",
      "28:\tlearn: 0.3839663\ttotal: 41ms\tremaining: 58ms\n",
      "29:\tlearn: 0.3820443\ttotal: 42.2ms\tremaining: 56.3ms\n",
      "30:\tlearn: 0.3810855\ttotal: 43.3ms\tremaining: 54.4ms\n",
      "31:\tlearn: 0.3797058\ttotal: 44.5ms\tremaining: 52.8ms\n",
      "32:\tlearn: 0.3785339\ttotal: 45.6ms\tremaining: 51.2ms\n",
      "33:\tlearn: 0.3775708\ttotal: 46.3ms\tremaining: 49.1ms\n",
      "34:\tlearn: 0.3754969\ttotal: 47.8ms\tremaining: 47.8ms\n",
      "35:\tlearn: 0.3740536\ttotal: 48.9ms\tremaining: 46.2ms\n",
      "36:\tlearn: 0.3729127\ttotal: 50ms\tremaining: 44.6ms\n",
      "37:\tlearn: 0.3706027\ttotal: 51.2ms\tremaining: 43.1ms\n",
      "38:\tlearn: 0.3691300\ttotal: 52.3ms\tremaining: 41.5ms\n",
      "39:\tlearn: 0.3681987\ttotal: 53.3ms\tremaining: 40ms\n",
      "40:\tlearn: 0.3664884\ttotal: 66ms\tremaining: 46.7ms\n",
      "41:\tlearn: 0.3659258\ttotal: 67.1ms\tremaining: 44.8ms\n",
      "42:\tlearn: 0.3649374\ttotal: 68.4ms\tremaining: 42.9ms\n",
      "43:\tlearn: 0.3641564\ttotal: 69.5ms\tremaining: 41ms\n",
      "44:\tlearn: 0.3627261\ttotal: 70.6ms\tremaining: 39.2ms\n",
      "45:\tlearn: 0.3616994\ttotal: 71.7ms\tremaining: 37.4ms\n",
      "46:\tlearn: 0.3601294\ttotal: 72.8ms\tremaining: 35.6ms\n",
      "47:\tlearn: 0.3595003\ttotal: 73.9ms\tremaining: 33.9ms\n",
      "48:\tlearn: 0.3579204\ttotal: 75.1ms\tremaining: 32.2ms\n",
      "49:\tlearn: 0.3577126\ttotal: 75.9ms\tremaining: 30.4ms\n",
      "50:\tlearn: 0.3563621\ttotal: 77ms\tremaining: 28.7ms\n",
      "51:\tlearn: 0.3552575\ttotal: 78.1ms\tremaining: 27ms\n",
      "52:\tlearn: 0.3544541\ttotal: 79.3ms\tremaining: 25.4ms\n",
      "53:\tlearn: 0.3529142\ttotal: 80.6ms\tremaining: 23.9ms\n",
      "54:\tlearn: 0.3523288\ttotal: 81.8ms\tremaining: 22.3ms\n",
      "55:\tlearn: 0.3504241\ttotal: 83ms\tremaining: 20.7ms\n",
      "56:\tlearn: 0.3493728\ttotal: 84.1ms\tremaining: 19.2ms\n",
      "57:\tlearn: 0.3488547\ttotal: 85.2ms\tremaining: 17.6ms\n",
      "58:\tlearn: 0.3472013\ttotal: 86.3ms\tremaining: 16.1ms\n",
      "59:\tlearn: 0.3457035\ttotal: 87.5ms\tremaining: 14.6ms\n",
      "60:\tlearn: 0.3442112\ttotal: 88.7ms\tremaining: 13.1ms\n",
      "61:\tlearn: 0.3430700\ttotal: 90ms\tremaining: 11.6ms\n",
      "62:\tlearn: 0.3418956\ttotal: 91.2ms\tremaining: 10.1ms\n",
      "63:\tlearn: 0.3416921\ttotal: 92.4ms\tremaining: 8.66ms\n",
      "64:\tlearn: 0.3412978\ttotal: 93.3ms\tremaining: 7.18ms\n",
      "65:\tlearn: 0.3410523\ttotal: 94.5ms\tremaining: 5.72ms\n",
      "66:\tlearn: 0.3396069\ttotal: 95.7ms\tremaining: 4.29ms\n",
      "67:\tlearn: 0.3390183\ttotal: 96.9ms\tremaining: 2.85ms\n",
      "68:\tlearn: 0.3381364\ttotal: 98ms\tremaining: 1.42ms\n",
      "69:\tlearn: 0.3376898\ttotal: 99.2ms\tremaining: 0us\n",
      "1th fold train：0.874, valid：0.848\n",
      "0:\tlearn: 0.6545185\ttotal: 29.4ms\tremaining: 2.02s\n",
      "1:\tlearn: 0.6232054\ttotal: 32ms\tremaining: 1.09s\n",
      "2:\tlearn: 0.5983621\ttotal: 33.2ms\tremaining: 741ms\n",
      "3:\tlearn: 0.5682839\ttotal: 34.5ms\tremaining: 569ms\n",
      "4:\tlearn: 0.5454690\ttotal: 35.7ms\tremaining: 464ms\n",
      "5:\tlearn: 0.5241948\ttotal: 36.9ms\tremaining: 394ms\n",
      "6:\tlearn: 0.5043701\ttotal: 38.1ms\tremaining: 343ms\n",
      "7:\tlearn: 0.4874730\ttotal: 39.5ms\tremaining: 306ms\n",
      "8:\tlearn: 0.4719341\ttotal: 40.6ms\tremaining: 275ms\n",
      "9:\tlearn: 0.4577435\ttotal: 41.8ms\tremaining: 251ms\n",
      "10:\tlearn: 0.4457961\ttotal: 43ms\tremaining: 230ms\n",
      "11:\tlearn: 0.4360094\ttotal: 44.1ms\tremaining: 213ms\n",
      "12:\tlearn: 0.4293445\ttotal: 45.3ms\tremaining: 199ms\n",
      "13:\tlearn: 0.4203839\ttotal: 46.4ms\tremaining: 186ms\n",
      "14:\tlearn: 0.4124924\ttotal: 47.6ms\tremaining: 175ms\n",
      "15:\tlearn: 0.4070639\ttotal: 49ms\tremaining: 165ms\n",
      "16:\tlearn: 0.4031693\ttotal: 50.4ms\tremaining: 157ms\n",
      "17:\tlearn: 0.3983590\ttotal: 51.5ms\tremaining: 149ms\n",
      "18:\tlearn: 0.3940062\ttotal: 52.7ms\tremaining: 141ms\n",
      "19:\tlearn: 0.3914087\ttotal: 53.9ms\tremaining: 135ms\n",
      "20:\tlearn: 0.3860935\ttotal: 57.6ms\tremaining: 134ms\n",
      "21:\tlearn: 0.3818058\ttotal: 58.9ms\tremaining: 129ms\n",
      "22:\tlearn: 0.3775062\ttotal: 60ms\tremaining: 123ms\n",
      "23:\tlearn: 0.3759546\ttotal: 61.3ms\tremaining: 118ms\n",
      "24:\tlearn: 0.3732611\ttotal: 62.5ms\tremaining: 112ms\n",
      "25:\tlearn: 0.3706922\ttotal: 63.8ms\tremaining: 108ms\n",
      "26:\tlearn: 0.3677785\ttotal: 65.3ms\tremaining: 104ms\n",
      "27:\tlearn: 0.3663854\ttotal: 66.7ms\tremaining: 100ms\n",
      "28:\tlearn: 0.3628966\ttotal: 68ms\tremaining: 96.1ms\n",
      "29:\tlearn: 0.3615964\ttotal: 69.1ms\tremaining: 92.1ms\n",
      "30:\tlearn: 0.3588253\ttotal: 70.2ms\tremaining: 88.3ms\n",
      "31:\tlearn: 0.3565598\ttotal: 71.3ms\tremaining: 84.7ms\n",
      "32:\tlearn: 0.3538534\ttotal: 72.4ms\tremaining: 81.2ms\n",
      "33:\tlearn: 0.3513501\ttotal: 73.6ms\tremaining: 78ms\n",
      "34:\tlearn: 0.3491028\ttotal: 74.8ms\tremaining: 74.8ms\n",
      "35:\tlearn: 0.3478854\ttotal: 75.7ms\tremaining: 71.5ms\n",
      "36:\tlearn: 0.3451933\ttotal: 76.8ms\tremaining: 68.5ms\n",
      "37:\tlearn: 0.3432631\ttotal: 78.1ms\tremaining: 65.8ms\n",
      "38:\tlearn: 0.3424458\ttotal: 79.3ms\tremaining: 63.1ms\n",
      "39:\tlearn: 0.3398445\ttotal: 80.7ms\tremaining: 60.5ms\n",
      "40:\tlearn: 0.3383193\ttotal: 81.9ms\tremaining: 57.9ms\n",
      "41:\tlearn: 0.3366296\ttotal: 83ms\tremaining: 55.3ms\n",
      "42:\tlearn: 0.3350141\ttotal: 84ms\tremaining: 52.8ms\n",
      "43:\tlearn: 0.3338350\ttotal: 84.9ms\tremaining: 50.2ms\n",
      "44:\tlearn: 0.3326136\ttotal: 86.1ms\tremaining: 47.8ms\n",
      "45:\tlearn: 0.3303598\ttotal: 87.3ms\tremaining: 45.6ms\n",
      "46:\tlearn: 0.3297508\ttotal: 88.5ms\tremaining: 43.3ms\n",
      "47:\tlearn: 0.3288034\ttotal: 89.7ms\tremaining: 41.1ms\n",
      "48:\tlearn: 0.3283259\ttotal: 90.8ms\tremaining: 38.9ms\n",
      "49:\tlearn: 0.3272881\ttotal: 91.9ms\tremaining: 36.8ms\n",
      "50:\tlearn: 0.3269898\ttotal: 92.5ms\tremaining: 34.5ms\n",
      "51:\tlearn: 0.3252959\ttotal: 93.6ms\tremaining: 32.4ms\n",
      "52:\tlearn: 0.3239053\ttotal: 94.7ms\tremaining: 30.4ms\n",
      "53:\tlearn: 0.3230695\ttotal: 95.9ms\tremaining: 28.4ms\n",
      "54:\tlearn: 0.3212778\ttotal: 97ms\tremaining: 26.4ms\n",
      "55:\tlearn: 0.3198520\ttotal: 98.1ms\tremaining: 24.5ms\n",
      "56:\tlearn: 0.3181903\ttotal: 99.2ms\tremaining: 22.6ms\n",
      "57:\tlearn: 0.3168581\ttotal: 101ms\tremaining: 20.8ms\n",
      "58:\tlearn: 0.3162361\ttotal: 102ms\tremaining: 19ms\n",
      "59:\tlearn: 0.3150263\ttotal: 103ms\tremaining: 17.1ms\n",
      "60:\tlearn: 0.3142760\ttotal: 104ms\tremaining: 15.3ms\n",
      "61:\tlearn: 0.3126903\ttotal: 105ms\tremaining: 13.6ms\n",
      "62:\tlearn: 0.3118814\ttotal: 107ms\tremaining: 11.8ms\n",
      "63:\tlearn: 0.3114196\ttotal: 108ms\tremaining: 10.1ms\n",
      "64:\tlearn: 0.3107357\ttotal: 109ms\tremaining: 8.39ms\n",
      "65:\tlearn: 0.3100293\ttotal: 110ms\tremaining: 6.68ms\n",
      "66:\tlearn: 0.3092478\ttotal: 112ms\tremaining: 4.99ms\n",
      "67:\tlearn: 0.3080948\ttotal: 113ms\tremaining: 3.32ms\n",
      "68:\tlearn: 0.3074509\ttotal: 114ms\tremaining: 1.65ms\n",
      "69:\tlearn: 0.3063603\ttotal: 115ms\tremaining: 0us\n",
      "2th fold train：0.888, valid：0.803\n",
      "0:\tlearn: 0.6507915\ttotal: 17.4ms\tremaining: 1.2s\n",
      "1:\tlearn: 0.6250818\ttotal: 18.9ms\tremaining: 643ms\n",
      "2:\tlearn: 0.6010734\ttotal: 19.7ms\tremaining: 439ms\n",
      "3:\tlearn: 0.5745636\ttotal: 20.8ms\tremaining: 343ms\n",
      "4:\tlearn: 0.5470708\ttotal: 22ms\tremaining: 286ms\n",
      "5:\tlearn: 0.5242742\ttotal: 23.2ms\tremaining: 247ms\n",
      "6:\tlearn: 0.5049017\ttotal: 24.4ms\tremaining: 219ms\n",
      "7:\tlearn: 0.4862488\ttotal: 25.7ms\tremaining: 199ms\n",
      "8:\tlearn: 0.4694120\ttotal: 26.9ms\tremaining: 182ms\n",
      "9:\tlearn: 0.4573352\ttotal: 28.1ms\tremaining: 169ms\n",
      "10:\tlearn: 0.4470432\ttotal: 29.3ms\tremaining: 157ms\n",
      "11:\tlearn: 0.4390517\ttotal: 30.6ms\tremaining: 148ms\n",
      "12:\tlearn: 0.4279773\ttotal: 31.9ms\tremaining: 140ms\n",
      "13:\tlearn: 0.4223532\ttotal: 33.2ms\tremaining: 133ms\n",
      "14:\tlearn: 0.4179929\ttotal: 33.8ms\tremaining: 124ms\n",
      "15:\tlearn: 0.4109422\ttotal: 35ms\tremaining: 118ms\n",
      "16:\tlearn: 0.4043236\ttotal: 36.2ms\tremaining: 113ms\n",
      "17:\tlearn: 0.3987458\ttotal: 37.4ms\tremaining: 108ms\n",
      "18:\tlearn: 0.3933217\ttotal: 38.6ms\tremaining: 104ms\n",
      "19:\tlearn: 0.3888851\ttotal: 39.8ms\tremaining: 99.6ms\n",
      "20:\tlearn: 0.3862248\ttotal: 40.6ms\tremaining: 94.7ms\n",
      "21:\tlearn: 0.3822152\ttotal: 41.7ms\tremaining: 91.1ms\n",
      "22:\tlearn: 0.3789072\ttotal: 42.9ms\tremaining: 87.7ms\n",
      "23:\tlearn: 0.3763558\ttotal: 44.1ms\tremaining: 84.6ms\n",
      "24:\tlearn: 0.3743873\ttotal: 45.4ms\tremaining: 81.7ms\n",
      "25:\tlearn: 0.3721209\ttotal: 46.4ms\tremaining: 78.6ms\n",
      "26:\tlearn: 0.3701321\ttotal: 47.8ms\tremaining: 76ms\n",
      "27:\tlearn: 0.3677565\ttotal: 48.9ms\tremaining: 73.4ms\n",
      "28:\tlearn: 0.3639824\ttotal: 50.2ms\tremaining: 71ms\n",
      "29:\tlearn: 0.3617526\ttotal: 51.4ms\tremaining: 68.5ms\n",
      "30:\tlearn: 0.3593312\ttotal: 52.5ms\tremaining: 66.1ms\n",
      "31:\tlearn: 0.3561854\ttotal: 53.8ms\tremaining: 63.8ms\n",
      "32:\tlearn: 0.3546534\ttotal: 54.9ms\tremaining: 61.5ms\n",
      "33:\tlearn: 0.3524289\ttotal: 56ms\tremaining: 59.3ms\n",
      "34:\tlearn: 0.3512397\ttotal: 57.1ms\tremaining: 57.1ms\n",
      "35:\tlearn: 0.3489748\ttotal: 58.2ms\tremaining: 54.9ms\n",
      "36:\tlearn: 0.3474670\ttotal: 59.5ms\tremaining: 53.1ms\n",
      "37:\tlearn: 0.3461071\ttotal: 60.7ms\tremaining: 51.1ms\n",
      "38:\tlearn: 0.3443135\ttotal: 61.8ms\tremaining: 49.1ms\n",
      "39:\tlearn: 0.3434382\ttotal: 63ms\tremaining: 47.3ms\n",
      "40:\tlearn: 0.3409542\ttotal: 64.4ms\tremaining: 45.5ms\n"
     ]
    },
    {
     "name": "stdout",
     "output_type": "stream",
     "text": [
      "41:\tlearn: 0.3401382\ttotal: 65.9ms\tremaining: 44ms\n",
      "42:\tlearn: 0.3395426\ttotal: 67.2ms\tremaining: 42.2ms\n",
      "43:\tlearn: 0.3382731\ttotal: 68.4ms\tremaining: 40.4ms\n",
      "44:\tlearn: 0.3369495\ttotal: 69.5ms\tremaining: 38.6ms\n",
      "45:\tlearn: 0.3358904\ttotal: 70.6ms\tremaining: 36.8ms\n",
      "46:\tlearn: 0.3348484\ttotal: 71.7ms\tremaining: 35.1ms\n",
      "47:\tlearn: 0.3343818\ttotal: 72.9ms\tremaining: 33.4ms\n",
      "48:\tlearn: 0.3334072\ttotal: 74.1ms\tremaining: 31.8ms\n",
      "49:\tlearn: 0.3325843\ttotal: 75.3ms\tremaining: 30.1ms\n",
      "50:\tlearn: 0.3317454\ttotal: 76.5ms\tremaining: 28.5ms\n",
      "51:\tlearn: 0.3303710\ttotal: 77.7ms\tremaining: 26.9ms\n",
      "52:\tlearn: 0.3289884\ttotal: 78.9ms\tremaining: 25.3ms\n",
      "53:\tlearn: 0.3277937\ttotal: 80ms\tremaining: 23.7ms\n",
      "54:\tlearn: 0.3273666\ttotal: 81.2ms\tremaining: 22.1ms\n",
      "55:\tlearn: 0.3270714\ttotal: 82ms\tremaining: 20.5ms\n",
      "56:\tlearn: 0.3263741\ttotal: 83.1ms\tremaining: 19ms\n",
      "57:\tlearn: 0.3251710\ttotal: 84.4ms\tremaining: 17.5ms\n",
      "58:\tlearn: 0.3243718\ttotal: 85.6ms\tremaining: 16ms\n",
      "59:\tlearn: 0.3231574\ttotal: 86.9ms\tremaining: 14.5ms\n",
      "60:\tlearn: 0.3222736\ttotal: 88.2ms\tremaining: 13ms\n",
      "61:\tlearn: 0.3212077\ttotal: 89.5ms\tremaining: 11.6ms\n",
      "62:\tlearn: 0.3196865\ttotal: 90.8ms\tremaining: 10.1ms\n",
      "63:\tlearn: 0.3188386\ttotal: 92ms\tremaining: 8.62ms\n",
      "64:\tlearn: 0.3179911\ttotal: 93.2ms\tremaining: 7.17ms\n",
      "65:\tlearn: 0.3174460\ttotal: 94.4ms\tremaining: 5.72ms\n",
      "66:\tlearn: 0.3166447\ttotal: 95.6ms\tremaining: 4.28ms\n",
      "67:\tlearn: 0.3156936\ttotal: 96.7ms\tremaining: 2.84ms\n",
      "68:\tlearn: 0.3146982\ttotal: 97.8ms\tremaining: 1.42ms\n",
      "69:\tlearn: 0.3131368\ttotal: 99ms\tremaining: 0us\n",
      "3th fold train：0.882, valid：0.803\n",
      "0:\tlearn: 0.6534321\ttotal: 8.62ms\tremaining: 595ms\n",
      "1:\tlearn: 0.6242556\ttotal: 9.82ms\tremaining: 334ms\n",
      "2:\tlearn: 0.6019339\ttotal: 10.4ms\tremaining: 233ms\n",
      "3:\tlearn: 0.5788605\ttotal: 11.5ms\tremaining: 190ms\n",
      "4:\tlearn: 0.5541430\ttotal: 12.7ms\tremaining: 166ms\n",
      "5:\tlearn: 0.5367064\ttotal: 14ms\tremaining: 149ms\n",
      "6:\tlearn: 0.5191732\ttotal: 15.1ms\tremaining: 136ms\n",
      "7:\tlearn: 0.5006646\ttotal: 16.2ms\tremaining: 126ms\n",
      "8:\tlearn: 0.4846581\ttotal: 17.4ms\tremaining: 118ms\n",
      "9:\tlearn: 0.4732332\ttotal: 18.6ms\tremaining: 112ms\n",
      "10:\tlearn: 0.4643480\ttotal: 19.7ms\tremaining: 106ms\n",
      "11:\tlearn: 0.4561351\ttotal: 20.9ms\tremaining: 101ms\n",
      "12:\tlearn: 0.4469288\ttotal: 22ms\tremaining: 96.7ms\n",
      "13:\tlearn: 0.4405632\ttotal: 23.2ms\tremaining: 92.7ms\n",
      "14:\tlearn: 0.4365591\ttotal: 23.8ms\tremaining: 87.3ms\n",
      "15:\tlearn: 0.4291685\ttotal: 24.9ms\tremaining: 84ms\n",
      "16:\tlearn: 0.4229859\ttotal: 26ms\tremaining: 81.2ms\n",
      "17:\tlearn: 0.4186675\ttotal: 27.1ms\tremaining: 78.4ms\n",
      "18:\tlearn: 0.4144774\ttotal: 28.2ms\tremaining: 75.8ms\n",
      "19:\tlearn: 0.4109652\ttotal: 29.4ms\tremaining: 73.4ms\n",
      "20:\tlearn: 0.4064977\ttotal: 30.5ms\tremaining: 71.1ms\n",
      "21:\tlearn: 0.4032790\ttotal: 31.6ms\tremaining: 68.9ms\n",
      "22:\tlearn: 0.4011047\ttotal: 32.7ms\tremaining: 66.8ms\n",
      "23:\tlearn: 0.3977057\ttotal: 33.9ms\tremaining: 64.9ms\n",
      "24:\tlearn: 0.3935654\ttotal: 35ms\tremaining: 62.9ms\n",
      "25:\tlearn: 0.3914085\ttotal: 36.1ms\tremaining: 61.1ms\n",
      "26:\tlearn: 0.3889945\ttotal: 37.2ms\tremaining: 59.2ms\n",
      "27:\tlearn: 0.3863743\ttotal: 38.4ms\tremaining: 57.6ms\n",
      "28:\tlearn: 0.3840728\ttotal: 39.5ms\tremaining: 55.9ms\n",
      "29:\tlearn: 0.3811637\ttotal: 40.7ms\tremaining: 54.3ms\n",
      "30:\tlearn: 0.3787108\ttotal: 41.9ms\tremaining: 52.6ms\n",
      "31:\tlearn: 0.3758662\ttotal: 43ms\tremaining: 51.1ms\n",
      "32:\tlearn: 0.3734345\ttotal: 44.2ms\tremaining: 49.5ms\n",
      "33:\tlearn: 0.3712688\ttotal: 45.4ms\tremaining: 48.1ms\n",
      "34:\tlearn: 0.3711072\ttotal: 46.1ms\tremaining: 46.1ms\n",
      "35:\tlearn: 0.3680819\ttotal: 47.3ms\tremaining: 44.6ms\n",
      "36:\tlearn: 0.3660118\ttotal: 48.6ms\tremaining: 43.3ms\n",
      "37:\tlearn: 0.3642015\ttotal: 51.1ms\tremaining: 43ms\n",
      "38:\tlearn: 0.3624278\ttotal: 52.2ms\tremaining: 41.5ms\n",
      "39:\tlearn: 0.3612025\ttotal: 53.4ms\tremaining: 40ms\n",
      "40:\tlearn: 0.3605020\ttotal: 54.5ms\tremaining: 38.6ms\n",
      "41:\tlearn: 0.3584735\ttotal: 55.6ms\tremaining: 37.1ms\n",
      "42:\tlearn: 0.3573120\ttotal: 56.8ms\tremaining: 35.7ms\n",
      "43:\tlearn: 0.3562058\ttotal: 57.9ms\tremaining: 34.2ms\n",
      "44:\tlearn: 0.3550670\ttotal: 59.1ms\tremaining: 32.8ms\n",
      "45:\tlearn: 0.3533676\ttotal: 60.3ms\tremaining: 31.4ms\n",
      "46:\tlearn: 0.3520269\ttotal: 61.4ms\tremaining: 30ms\n",
      "47:\tlearn: 0.3516732\ttotal: 62.1ms\tremaining: 28.5ms\n",
      "48:\tlearn: 0.3501402\ttotal: 63.2ms\tremaining: 27.1ms\n",
      "49:\tlearn: 0.3485417\ttotal: 64.6ms\tremaining: 25.8ms\n",
      "50:\tlearn: 0.3472486\ttotal: 65.8ms\tremaining: 24.5ms\n",
      "51:\tlearn: 0.3464054\ttotal: 67.1ms\tremaining: 23.2ms\n",
      "52:\tlearn: 0.3454751\ttotal: 68.3ms\tremaining: 21.9ms\n",
      "53:\tlearn: 0.3439150\ttotal: 69.4ms\tremaining: 20.6ms\n",
      "54:\tlearn: 0.3427621\ttotal: 70.6ms\tremaining: 19.3ms\n",
      "55:\tlearn: 0.3415173\ttotal: 71.8ms\tremaining: 18ms\n",
      "56:\tlearn: 0.3402350\ttotal: 73ms\tremaining: 16.6ms\n",
      "57:\tlearn: 0.3390111\ttotal: 74.1ms\tremaining: 15.3ms\n",
      "58:\tlearn: 0.3383918\ttotal: 75.2ms\tremaining: 14ms\n",
      "59:\tlearn: 0.3369016\ttotal: 76.4ms\tremaining: 12.7ms\n",
      "60:\tlearn: 0.3365446\ttotal: 77.5ms\tremaining: 11.4ms\n",
      "61:\tlearn: 0.3358895\ttotal: 78.6ms\tremaining: 10.1ms\n",
      "62:\tlearn: 0.3354138\ttotal: 79.8ms\tremaining: 8.87ms\n",
      "63:\tlearn: 0.3346260\ttotal: 81.1ms\tremaining: 7.6ms\n",
      "64:\tlearn: 0.3335843\ttotal: 82.2ms\tremaining: 6.32ms\n",
      "65:\tlearn: 0.3327560\ttotal: 83.4ms\tremaining: 5.06ms\n",
      "66:\tlearn: 0.3318459\ttotal: 84.5ms\tremaining: 3.78ms\n",
      "67:\tlearn: 0.3313538\ttotal: 85.6ms\tremaining: 2.52ms\n",
      "68:\tlearn: 0.3303249\ttotal: 86.7ms\tremaining: 1.26ms\n",
      "69:\tlearn: 0.3298272\ttotal: 87.9ms\tremaining: 0us\n",
      "4th fold train：0.877, valid：0.871\n",
      "avg train score= 0.882, avg valid score=0.832\n"
     ]
    }
   ],
   "source": [
    "model=CatBoostClassifier()\n",
    "params={\"learning_rate\":0.06,\"n_estimators\":70}\n",
    "train_s_pred_cat,test_s_pred_cat,valid_s_acc_cat=train_model(model,params,X_train,y_train,X_test)"
   ]
  },
  {
   "cell_type": "markdown",
   "id": "186e099e",
   "metadata": {},
   "source": [
    "### svc"
   ]
  },
  {
   "cell_type": "code",
   "execution_count": 141,
   "id": "69efd527",
   "metadata": {
    "ExecuteTime": {
     "end_time": "2022-05-24T14:59:18.830915Z",
     "start_time": "2022-05-24T14:59:18.787914Z"
    }
   },
   "outputs": [
    {
     "name": "stdout",
     "output_type": "stream",
     "text": [
      "0th fold train：0.826, valid：0.832\n",
      "1th fold train：0.813, valid：0.809\n",
      "2th fold train：0.830, valid：0.787\n",
      "3th fold train：0.830, valid：0.753\n",
      "4th fold train：0.812, valid：0.860\n",
      "avg train score= 0.822, avg valid score=0.808\n"
     ]
    }
   ],
   "source": [
    "model=LinearSVC()\n",
    "params={\"C\":0.008,\"tol\":1e-4,\"max_iter\":100}\n",
    "train_s_pred_svc,test_s_pred_svc,valid_s_acc_svc=train_model(model,params,X_train,y_train,X_test)"
   ]
  },
  {
   "cell_type": "markdown",
   "id": "722d7825",
   "metadata": {},
   "source": [
    "### knn"
   ]
  },
  {
   "cell_type": "code",
   "execution_count": 148,
   "id": "f0482ffe",
   "metadata": {
    "ExecuteTime": {
     "end_time": "2022-05-24T15:00:31.435781Z",
     "start_time": "2022-05-24T15:00:31.143593Z"
    }
   },
   "outputs": [
    {
     "name": "stdout",
     "output_type": "stream",
     "text": [
      "0th fold train：0.816, valid：0.810\n",
      "1th fold train：0.811, valid：0.815\n",
      "2th fold train：0.819, valid：0.736\n",
      "3th fold train：0.806, valid：0.792\n",
      "4th fold train：0.804, valid：0.831\n",
      "avg train score= 0.811, avg valid score=0.797\n"
     ]
    }
   ],
   "source": [
    "model=KNeighborsClassifier()\n",
    "params={\"n_neighbors\":15,\"p\":1}\n",
    "train_pred_knn,test_pred_knn,valid_acc_knn=train_model(model,params,X_train,y_train,X_test)"
   ]
  },
  {
   "cell_type": "markdown",
   "id": "7f22d43d",
   "metadata": {},
   "source": [
    "### gbt"
   ]
  },
  {
   "cell_type": "code",
   "execution_count": 149,
   "id": "6fe0762a",
   "metadata": {
    "ExecuteTime": {
     "end_time": "2022-05-24T15:01:34.797143Z",
     "start_time": "2022-05-24T15:01:34.386169Z"
    }
   },
   "outputs": [
    {
     "name": "stdout",
     "output_type": "stream",
     "text": [
      "0th fold train：0.889, valid：0.832\n",
      "1th fold train：0.877, valid：0.843\n",
      "2th fold train：0.884, valid：0.831\n",
      "3th fold train：0.885, valid：0.792\n",
      "4th fold train：0.874, valid：0.871\n",
      "avg train score= 0.882, avg valid score=0.834\n"
     ]
    }
   ],
   "source": [
    "model=GradientBoostingClassifier()\n",
    "params={\"learning_rate\":0.06,\"n_estimators\":73}\n",
    "train_pred_gbt,test_pred_gbt,valid_acc_gbt=train_model(model,params,X_train,y_train,X_test)"
   ]
  },
  {
   "cell_type": "code",
   "execution_count": 300,
   "id": "c464b038",
   "metadata": {
    "ExecuteTime": {
     "end_time": "2022-05-22T04:54:28.209607Z",
     "start_time": "2022-05-22T04:54:28.197590Z"
    }
   },
   "outputs": [],
   "source": [
    "pd.DataFrame(data=np.c_[list(range(892,1310)),np.round(result_gbt_s)],columns=[\"PassengerId\",\"Survived\"],dtype=np.int64).to_csv('result_20220522_ss_gbt.txt',index=False,header=True)# 得分：0.73444"
   ]
  },
  {
   "cell_type": "code",
   "execution_count": 301,
   "id": "b706753b",
   "metadata": {
    "ExecuteTime": {
     "end_time": "2022-05-22T04:59:34.128503Z",
     "start_time": "2022-05-22T04:59:34.119528Z"
    }
   },
   "outputs": [
    {
     "data": {
      "text/plain": [
       "(array([  4,   6,  19,  21,  32,  33,  36,  37,  72,  86,  90, 125, 153,\n",
       "        158, 159, 165, 169, 181, 192, 197, 199, 225, 242, 245, 249, 252,\n",
       "        268, 280, 283, 293, 323, 344, 347, 359, 367, 382, 383, 412],\n",
       "       dtype=int64),)"
      ]
     },
     "execution_count": 301,
     "metadata": {},
     "output_type": "execute_result"
    }
   ],
   "source": [
    "np.where(np.round(result_gbt_s)!=np.round(result1))"
   ]
  },
  {
   "cell_type": "code",
   "execution_count": 303,
   "id": "b59bdd3e",
   "metadata": {
    "ExecuteTime": {
     "end_time": "2022-05-22T05:27:11.387681Z",
     "start_time": "2022-05-22T05:27:11.376675Z"
    }
   },
   "outputs": [
    {
     "data": {
      "text/plain": [
       "(array([ 72,  90, 138, 153, 245, 344], dtype=int64),)"
      ]
     },
     "execution_count": 303,
     "metadata": {},
     "output_type": "execute_result"
    }
   ],
   "source": [
    "np.where(np.round(result_rf_s)!=np.round(result_gbt_s))"
   ]
  },
  {
   "cell_type": "code",
   "execution_count": 304,
   "id": "9f19e0e8",
   "metadata": {
    "ExecuteTime": {
     "end_time": "2022-05-22T05:27:24.496543Z",
     "start_time": "2022-05-22T05:27:24.480505Z"
    }
   },
   "outputs": [
    {
     "data": {
      "text/plain": [
       "(array([ 18,  21,  64,  87, 138, 200, 202, 245, 273, 323, 345], dtype=int64),)"
      ]
     },
     "execution_count": 304,
     "metadata": {},
     "output_type": "execute_result"
    }
   ],
   "source": [
    "np.where(np.round(result_lgb_s)!=np.round(result_gbt_s))"
   ]
  },
  {
   "cell_type": "markdown",
   "id": "8ee83f00",
   "metadata": {},
   "source": [
    "### xgb"
   ]
  },
  {
   "cell_type": "code",
   "execution_count": 150,
   "id": "b1866d82",
   "metadata": {
    "ExecuteTime": {
     "end_time": "2022-05-24T15:02:07.915988Z",
     "start_time": "2022-05-24T15:02:07.679255Z"
    }
   },
   "outputs": [
    {
     "name": "stdout",
     "output_type": "stream",
     "text": [
      "[23:02:07] WARNING: D:\\bld\\xgboost-split_1645118015404\\work\\src\\learner.cc:1115: Starting in XGBoost 1.3.0, the default evaluation metric used with the objective 'binary:logistic' was changed from 'error' to 'logloss'. Explicitly set eval_metric if you'd like to restore the old behavior.\n",
      "0th fold train：0.888, valid：0.844\n",
      "[23:02:07] WARNING: D:\\bld\\xgboost-split_1645118015404\\work\\src\\learner.cc:1115: Starting in XGBoost 1.3.0, the default evaluation metric used with the objective 'binary:logistic' was changed from 'error' to 'logloss'. Explicitly set eval_metric if you'd like to restore the old behavior.\n",
      "1th fold train：0.868, valid：0.865\n",
      "[23:02:07] WARNING: D:\\bld\\xgboost-split_1645118015404\\work\\src\\learner.cc:1115: Starting in XGBoost 1.3.0, the default evaluation metric used with the objective 'binary:logistic' was changed from 'error' to 'logloss'. Explicitly set eval_metric if you'd like to restore the old behavior.\n",
      "2th fold train：0.888, valid：0.809\n",
      "[23:02:07] WARNING: D:\\bld\\xgboost-split_1645118015404\\work\\src\\learner.cc:1115: Starting in XGBoost 1.3.0, the default evaluation metric used with the objective 'binary:logistic' was changed from 'error' to 'logloss'. Explicitly set eval_metric if you'd like to restore the old behavior.\n",
      "3th fold train：0.891, valid：0.792\n",
      "[23:02:07] WARNING: D:\\bld\\xgboost-split_1645118015404\\work\\src\\learner.cc:1115: Starting in XGBoost 1.3.0, the default evaluation metric used with the objective 'binary:logistic' was changed from 'error' to 'logloss'. Explicitly set eval_metric if you'd like to restore the old behavior.\n",
      "4th fold train：0.865, valid：0.871\n",
      "avg train score= 0.880, avg valid score=0.836\n"
     ]
    }
   ],
   "source": [
    "model=XGBClassifier()\n",
    "params={\"learning_rate\":0.07,\"max_depth\":4,\"n_estimators\":61}\n",
    "train_pred_xgb,test_pred_xgb,valid_acc_xgb=train_model(model,params,X_train,y_train,X_test)"
   ]
  },
  {
   "cell_type": "markdown",
   "id": "f429bac3",
   "metadata": {},
   "source": [
    "### perceptron"
   ]
  },
  {
   "cell_type": "code",
   "execution_count": 167,
   "id": "631880f0",
   "metadata": {
    "ExecuteTime": {
     "end_time": "2022-05-24T15:03:46.950825Z",
     "start_time": "2022-05-24T15:03:46.920809Z"
    }
   },
   "outputs": [
    {
     "name": "stdout",
     "output_type": "stream",
     "text": [
      "0th fold train：0.778, valid：0.804\n",
      "1th fold train：0.798, valid：0.820\n",
      "2th fold train：0.808, valid：0.758\n",
      "3th fold train：0.829, valid：0.781\n",
      "4th fold train：0.805, valid：0.843\n",
      "avg train score= 0.804, avg valid score=0.801\n"
     ]
    }
   ],
   "source": [
    "model=Perceptron()\n",
    "params={\"penalty\":'l2',\"alpha\":1e-5,\"max_iter\":18,\"validation_fraction\":0.1,\"n_iter_no_change\":20,\"warm_start\":True}\n",
    "train_pred_pt,test_pred_pt,valid_acc_pt=train_model(model,params,X_train,y_train,X_test)"
   ]
  },
  {
   "cell_type": "markdown",
   "id": "857051fb",
   "metadata": {},
   "source": [
    "### sgd"
   ]
  },
  {
   "cell_type": "code",
   "execution_count": 177,
   "id": "24bf8866",
   "metadata": {
    "ExecuteTime": {
     "end_time": "2022-05-24T15:05:05.830787Z",
     "start_time": "2022-05-24T15:05:05.800449Z"
    }
   },
   "outputs": [
    {
     "name": "stdout",
     "output_type": "stream",
     "text": [
      "0th fold train：0.779, valid：0.804\n",
      "1th fold train：0.783, valid：0.803\n",
      "2th fold train：0.788, valid：0.758\n",
      "3th fold train：0.764, valid：0.669\n",
      "4th fold train：0.788, valid：0.826\n",
      "avg train score= 0.781, avg valid score=0.772\n"
     ]
    }
   ],
   "source": [
    "model=SGDClassifier()\n",
    "params={\"loss\":'log',\"alpha\":1e-5,\"max_iter\":20,\"validation_fraction\":0.1,\"n_iter_no_change\":10,\"warm_start\":True}\n",
    "train_s_pred_sgd,test_s_pred_sgd,valid_s_acc_sgd=train_model(model,params,X_train,y_train,X_test)"
   ]
  },
  {
   "cell_type": "markdown",
   "id": "16b45e40",
   "metadata": {
    "ExecuteTime": {
     "end_time": "2022-05-20T14:42:18.970699Z",
     "start_time": "2022-05-20T14:42:18.962723Z"
    }
   },
   "source": [
    "### bayes"
   ]
  },
  {
   "cell_type": "code",
   "execution_count": 178,
   "id": "4f90a98e",
   "metadata": {
    "ExecuteTime": {
     "end_time": "2022-05-24T15:05:39.631728Z",
     "start_time": "2022-05-24T15:05:39.594272Z"
    }
   },
   "outputs": [
    {
     "name": "stdout",
     "output_type": "stream",
     "text": [
      "0th fold train：0.788, valid：0.821\n",
      "1th fold train：0.797, valid：0.798\n",
      "2th fold train：0.798, valid：0.764\n",
      "3th fold train：0.809, valid：0.742\n",
      "4th fold train：0.781, valid：0.837\n",
      "avg train score= 0.795, avg valid score=0.792\n"
     ]
    }
   ],
   "source": [
    "model=BernoulliNB()\n",
    "params={\"alpha\":1}\n",
    "train_s_pred_by,test_s_pred_by,valid_s_acc_by=train_model(model,params,X_train,y_train,X_test)"
   ]
  },
  {
   "cell_type": "markdown",
   "id": "d00f45de",
   "metadata": {
    "ExecuteTime": {
     "end_time": "2022-05-20T14:44:23.009937Z",
     "start_time": "2022-05-20T14:44:22.993991Z"
    }
   },
   "source": [
    "### gp"
   ]
  },
  {
   "cell_type": "code",
   "execution_count": 180,
   "id": "e8c66821",
   "metadata": {
    "ExecuteTime": {
     "end_time": "2022-05-24T15:07:09.902164Z",
     "start_time": "2022-05-24T15:07:08.659955Z"
    }
   },
   "outputs": [
    {
     "name": "stdout",
     "output_type": "stream",
     "text": [
      "0th fold train：0.963, valid：0.749\n",
      "1th fold train：0.961, valid：0.747\n",
      "2th fold train：0.965, valid：0.708\n",
      "3th fold train：0.959, valid：0.725\n",
      "4th fold train：0.966, valid：0.798\n",
      "avg train score= 0.963, avg valid score=0.745\n"
     ]
    }
   ],
   "source": [
    "model=GaussianProcessClassifier()\n",
    "params={}\n",
    "train_s_pred_gp,test_s_pred_gp,valid_s_acc_gp=train_model(model,params,X_train,y_train,X_test)"
   ]
  },
  {
   "cell_type": "markdown",
   "id": "c97728d0",
   "metadata": {},
   "source": [
    "### 平均"
   ]
  },
  {
   "cell_type": "code",
   "execution_count": 324,
   "id": "4b190bc1",
   "metadata": {
    "ExecuteTime": {
     "end_time": "2022-05-22T14:47:40.515697Z",
     "start_time": "2022-05-22T14:47:40.500590Z"
    }
   },
   "outputs": [],
   "source": [
    "result_feature_1=(result_lgb_s+result_xgb_s+result_cat_s\\\n",
    "          +result_gbt_s+result_rf_s+result_lr_s\\\n",
    "         +result_svc_s+result_knn_s+result_pt_s\\\n",
    "          +result_sgd_s+result_gp_s+result_by_s)/12\n",
    "\n",
    "result_feature_2=(avg_score_lgb_s*result_lgb_s\\\n",
    "        +avg_score_xgb_s*result_xgb_s\\\n",
    "        +avg_score_cat_s*result_cat_s\\\n",
    "        +avg_score_gbt_s*result_gbt_s\\\n",
    "        +avg_score_rf_s*result_rf_s\\\n",
    "        +avg_score_lr_s*result_lr_s\\\n",
    "        +avg_score_svc_s*result_svc_s\\\n",
    "        +avg_score_knn_s*result_knn_s\\\n",
    "        +avg_score_pt_s*result_pt_s\\\n",
    "        +avg_score_sgd_s*result_sgd_s\\\n",
    "        +avg_score_gp_s*result_gp_s\\\n",
    "        +avg_score_by_s*result_by_s)/(avg_score_lgb_s+avg_score_xgb_s+avg_score_cat_s+avg_score_gbt_s+avg_score_rf_s+avg_score_lr_s\\\n",
    "                                      +avg_score_svc_s+avg_score_knn_s+avg_score_pt_s+avg_score_sgd_s+avg_score_gp_s+avg_score_by_s)"
   ]
  },
  {
   "cell_type": "code",
   "execution_count": 325,
   "id": "8cf1628a",
   "metadata": {
    "ExecuteTime": {
     "end_time": "2022-05-22T14:47:47.345238Z",
     "start_time": "2022-05-22T14:47:47.331053Z"
    }
   },
   "outputs": [
    {
     "data": {
      "text/plain": [
       "(array([], dtype=int64),)"
      ]
     },
     "execution_count": 325,
     "metadata": {},
     "output_type": "execute_result"
    }
   ],
   "source": [
    "np.where(np.round(result_feature_1)!=np.round(result_feature_2))"
   ]
  },
  {
   "cell_type": "code",
   "execution_count": null,
   "id": "cf59514f",
   "metadata": {},
   "outputs": [],
   "source": []
  },
  {
   "cell_type": "markdown",
   "id": "bb5a9e76",
   "metadata": {},
   "source": [
    "### 取前k个最好的"
   ]
  },
  {
   "cell_type": "code",
   "execution_count": null,
   "id": "d9cf5176",
   "metadata": {},
   "outputs": [],
   "source": [
    "gbt 0.850   0.842\n",
    "lgb 0.8485  0.848\n",
    "cat 0.846   0.847\n",
    "rf 0.845    0.841\n",
    "xgb 0.840   0.846\n",
    "gp 0.836    0.765\n",
    "lr 0.835    0.825\n",
    "svc 0.835   0.835\n",
    "knn 0.833   0.813\n",
    "bayes 0.808 0.806\n",
    "sgd 0.802   0.819\n",
    "perceptron 0.792  0.793"
   ]
  },
  {
   "cell_type": "code",
   "execution_count": 471,
   "id": "0539f28e",
   "metadata": {
    "ExecuteTime": {
     "end_time": "2022-05-22T15:17:41.465463Z",
     "start_time": "2022-05-22T15:17:41.448386Z"
    }
   },
   "outputs": [],
   "source": [
    "result_1=(np.round(result_lgb_s)+np.round(result_xgb_s)+np.round(result_cat_s)\\\n",
    "          +np.round(result_gbt_s)+np.round(result_rf_s)+np.round(result_lr_s)\\\n",
    "          +np.round(result_svc_s)+np.round(result_knn_s)+np.round(result_pt_s)\\\n",
    "          +np.round(result_sgd_s)+np.round(result_gp_s)+np.round(result_by_s))/12"
   ]
  },
  {
   "cell_type": "code",
   "execution_count": 459,
   "id": "933198b4",
   "metadata": {
    "ExecuteTime": {
     "end_time": "2022-05-22T12:55:04.594974Z",
     "start_time": "2022-05-22T12:55:04.578033Z"
    }
   },
   "outputs": [
    {
     "data": {
      "text/plain": [
       "(array([359], dtype=int64),)"
      ]
     },
     "execution_count": 459,
     "metadata": {},
     "output_type": "execute_result"
    }
   ],
   "source": [
    "np.where(np.round(resulto11)!=np.round(resulto22))"
   ]
  },
  {
   "cell_type": "code",
   "execution_count": 328,
   "id": "75b992ac",
   "metadata": {
    "ExecuteTime": {
     "end_time": "2022-05-22T05:56:36.533957Z",
     "start_time": "2022-05-22T05:56:36.514969Z"
    }
   },
   "outputs": [
    {
     "data": {
      "text/plain": [
       "array([0.58333333, 0.58333333, 0.58333333])"
      ]
     },
     "execution_count": 328,
     "metadata": {},
     "output_type": "execute_result"
    }
   ],
   "source": [
    "result111[np.where(np.round(result111)!=np.round(result_9))]"
   ]
  },
  {
   "cell_type": "code",
   "execution_count": 329,
   "id": "e1da3a58",
   "metadata": {
    "ExecuteTime": {
     "end_time": "2022-05-22T05:56:47.388994Z",
     "start_time": "2022-05-22T05:56:47.371055Z"
    }
   },
   "outputs": [
    {
     "data": {
      "text/plain": [
       "array([0.44444444, 0.44444444, 0.44444444])"
      ]
     },
     "execution_count": 329,
     "metadata": {},
     "output_type": "execute_result"
    }
   ],
   "source": [
    "result_9[np.where(np.round(result111)!=np.round(result_9))]"
   ]
  },
  {
   "cell_type": "code",
   "execution_count": 461,
   "id": "d393cbc5",
   "metadata": {
    "ExecuteTime": {
     "end_time": "2022-05-22T12:55:54.578959Z",
     "start_time": "2022-05-22T12:55:54.561063Z"
    }
   },
   "outputs": [
    {
     "data": {
      "text/plain": [
       "(array([ 18,  32,  64,  87,  90, 153, 181, 192, 197, 200, 202, 273, 344,\n",
       "        345, 367, 382, 383], dtype=int64),)"
      ]
     },
     "execution_count": 461,
     "metadata": {},
     "output_type": "execute_result"
    }
   ],
   "source": [
    "np.where(np.round(result_lgb_s)!=np.round(resulto22))"
   ]
  },
  {
   "cell_type": "code",
   "execution_count": 323,
   "id": "e58feb73",
   "metadata": {
    "ExecuteTime": {
     "end_time": "2022-05-22T05:55:03.922168Z",
     "start_time": "2022-05-22T05:55:03.909122Z"
    }
   },
   "outputs": [
    {
     "data": {
      "text/plain": [
       "(array([ 72,  90, 138, 153, 245, 344], dtype=int64),)"
      ]
     },
     "execution_count": 323,
     "metadata": {},
     "output_type": "execute_result"
    }
   ],
   "source": [
    "np.where(np.round(result_gbt_s)!=np.round(result_rf_s))"
   ]
  },
  {
   "cell_type": "code",
   "execution_count": 324,
   "id": "2bf965e4",
   "metadata": {
    "ExecuteTime": {
     "end_time": "2022-05-22T05:55:22.489744Z",
     "start_time": "2022-05-22T05:55:22.474762Z"
    }
   },
   "outputs": [
    {
     "data": {
      "text/plain": [
       "(array([ 34,  36, 245, 268, 273, 316, 323, 331, 412], dtype=int64),)"
      ]
     },
     "execution_count": 324,
     "metadata": {},
     "output_type": "execute_result"
    }
   ],
   "source": [
    "np.where(np.round(result_gbt_s)!=np.round(result_xgb_s))"
   ]
  },
  {
   "cell_type": "code",
   "execution_count": 313,
   "id": "221b2987",
   "metadata": {
    "ExecuteTime": {
     "end_time": "2022-05-22T05:44:07.319361Z",
     "start_time": "2022-05-22T05:44:07.312388Z"
    }
   },
   "outputs": [
    {
     "data": {
      "text/plain": [
       "array([0.5       , 0.5       , 0.5       , 0.48333333, 0.5       ])"
      ]
     },
     "execution_count": 313,
     "metadata": {},
     "output_type": "execute_result"
    }
   ],
   "source": [
    "result111[np.where(np.round(result11)!=np.round(result111))]"
   ]
  },
  {
   "cell_type": "code",
   "execution_count": 297,
   "id": "0d623236",
   "metadata": {
    "ExecuteTime": {
     "end_time": "2022-05-22T04:51:01.644469Z",
     "start_time": "2022-05-22T04:51:01.629562Z"
    }
   },
   "outputs": [
    {
     "data": {
      "text/plain": [
       "(array([  6,  19,  21,  33,  36,  37, 138, 158, 159, 165, 169, 197, 225,\n",
       "        242, 249, 252, 268, 280, 283, 293, 323, 347, 367, 382, 412],\n",
       "       dtype=int64),)"
      ]
     },
     "execution_count": 297,
     "metadata": {},
     "output_type": "execute_result"
    }
   ],
   "source": [
    "np.where(np.round(result11)!=np.round(result1))"
   ]
  },
  {
   "cell_type": "code",
   "execution_count": 298,
   "id": "11dde31b",
   "metadata": {
    "ExecuteTime": {
     "end_time": "2022-05-22T04:51:53.529755Z",
     "start_time": "2022-05-22T04:51:53.510779Z"
    }
   },
   "outputs": [
    {
     "data": {
      "text/plain": [
       "array([0.18333333, 0.33333333, 0.55      , 0.36666667, 0.3       ,\n",
       "       0.21666667, 0.43333333, 0.85      , 0.46666667, 0.28333333,\n",
       "       0.18333333, 0.5       , 0.28333333, 0.21666667, 0.23333333,\n",
       "       0.2       , 0.3       , 0.21666667, 0.28333333, 0.4       ,\n",
       "       0.51666667, 0.33333333, 0.46666667, 0.5       , 0.4       ])"
      ]
     },
     "execution_count": 298,
     "metadata": {},
     "output_type": "execute_result"
    }
   ],
   "source": [
    "result11[np.where(np.round(result11)!=np.round(result1))]"
   ]
  },
  {
   "cell_type": "code",
   "execution_count": 299,
   "id": "4bbc4921",
   "metadata": {
    "ExecuteTime": {
     "end_time": "2022-05-22T04:51:56.122275Z",
     "start_time": "2022-05-22T04:51:56.104279Z"
    }
   },
   "outputs": [
    {
     "data": {
      "text/plain": [
       "array([0.52840008, 0.52437674, 0.45679954, 0.56448001, 0.55540819,\n",
       "       0.55393837, 0.56096024, 0.43054273, 0.67248507, 0.59836365,\n",
       "       0.55539291, 0.65666669, 0.58359148, 0.54862118, 0.58336977,\n",
       "       0.52958313, 0.55540819, 0.52283612, 0.62816882, 0.52198703,\n",
       "       0.36962838, 0.54255157, 0.68228422, 0.71778027, 0.52814656])"
      ]
     },
     "execution_count": 299,
     "metadata": {},
     "output_type": "execute_result"
    }
   ],
   "source": [
    "result1[np.where(np.round(result11)!=np.round(result1))]"
   ]
  },
  {
   "cell_type": "code",
   "execution_count": 137,
   "id": "44718445",
   "metadata": {
    "ExecuteTime": {
     "end_time": "2022-05-22T04:32:04.921986Z",
     "start_time": "2022-05-22T04:32:04.903047Z"
    }
   },
   "outputs": [
    {
     "data": {
      "text/plain": [
       "array([0.18333333, 0.25      , 0.31666667, 0.25      , 0.25      ,\n",
       "       0.43333333, 0.86666667, 0.5       , 0.25      , 0.23333333,\n",
       "       0.45      , 0.25      , 0.18333333, 0.2       , 0.18333333,\n",
       "       0.25      , 0.2       , 0.25      , 0.4       , 0.36666667,\n",
       "       0.36666667])"
      ]
     },
     "execution_count": 137,
     "metadata": {},
     "output_type": "execute_result"
    }
   ],
   "source": [
    "result11[np.where(np.round(result11)!=np.round(result1))]"
   ]
  },
  {
   "cell_type": "code",
   "execution_count": 138,
   "id": "e5eaad30",
   "metadata": {
    "ExecuteTime": {
     "end_time": "2022-05-22T04:32:16.022538Z",
     "start_time": "2022-05-22T04:32:16.014565Z"
    }
   },
   "outputs": [
    {
     "data": {
      "text/plain": [
       "array([0.52840008, 0.52437674, 0.56448001, 0.55540819, 0.55393837,\n",
       "       0.56096024, 0.43054273, 0.67248507, 0.59836365, 0.55539291,\n",
       "       0.65666669, 0.58359148, 0.54862118, 0.58336977, 0.52958313,\n",
       "       0.55540819, 0.52283612, 0.62816882, 0.52198703, 0.54255157,\n",
       "       0.52814656])"
      ]
     },
     "execution_count": 138,
     "metadata": {},
     "output_type": "execute_result"
    }
   ],
   "source": [
    "result1[np.where(np.round(result11)!=np.round(result1))]"
   ]
  },
  {
   "cell_type": "code",
   "execution_count": 135,
   "id": "9f310f5a",
   "metadata": {
    "ExecuteTime": {
     "end_time": "2022-05-22T04:25:20.544168Z",
     "start_time": "2022-05-22T04:25:20.525174Z"
    }
   },
   "outputs": [
    {
     "data": {
      "text/plain": [
       "(array([  6,  19,  33,  36,  37, 138, 158, 159, 165, 169, 197, 225, 242,\n",
       "        249, 252, 268, 280, 283, 293, 347, 412], dtype=int64),)"
      ]
     },
     "execution_count": 135,
     "metadata": {},
     "output_type": "execute_result"
    }
   ],
   "source": [
    "np.where(np.round(result22)!=np.round(result1))"
   ]
  },
  {
   "cell_type": "code",
   "execution_count": 472,
   "id": "634f9d43",
   "metadata": {
    "ExecuteTime": {
     "end_time": "2022-05-22T15:18:10.786276Z",
     "start_time": "2022-05-22T15:18:10.764229Z"
    }
   },
   "outputs": [],
   "source": [
    "pd.DataFrame(data=np.c_[list(range(892,1310)),np.round(result_1)],columns=[\"PassengerId\",\"Survived\"],dtype=np.int64).to_csv('result_20220522_featurePclassSex_avg.txt',index=False,header=True)# 得分：0.73444"
   ]
  },
  {
   "cell_type": "code",
   "execution_count": null,
   "id": "6290d9c6",
   "metadata": {},
   "outputs": [],
   "source": []
  }
 ],
 "metadata": {
  "kernelspec": {
   "display_name": "Python 3",
   "language": "python",
   "name": "python3"
  },
  "language_info": {
   "codemirror_mode": {
    "name": "ipython",
    "version": 3
   },
   "file_extension": ".py",
   "mimetype": "text/x-python",
   "name": "python",
   "nbconvert_exporter": "python",
   "pygments_lexer": "ipython3",
   "version": "3.8.8"
  },
  "toc": {
   "base_numbering": 1,
   "nav_menu": {},
   "number_sections": true,
   "sideBar": true,
   "skip_h1_title": false,
   "title_cell": "Table of Contents",
   "title_sidebar": "Contents",
   "toc_cell": false,
   "toc_position": {
    "height": "calc(100% - 180px)",
    "left": "10px",
    "top": "150px",
    "width": "303.825px"
   },
   "toc_section_display": true,
   "toc_window_display": true
  },
  "varInspector": {
   "cols": {
    "lenName": 16,
    "lenType": 16,
    "lenVar": 40
   },
   "kernels_config": {
    "python": {
     "delete_cmd_postfix": "",
     "delete_cmd_prefix": "del ",
     "library": "var_list.py",
     "varRefreshCmd": "print(var_dic_list())"
    },
    "r": {
     "delete_cmd_postfix": ") ",
     "delete_cmd_prefix": "rm(",
     "library": "var_list.r",
     "varRefreshCmd": "cat(var_dic_list()) "
    }
   },
   "types_to_exclude": [
    "module",
    "function",
    "builtin_function_or_method",
    "instance",
    "_Feature"
   ],
   "window_display": false
  }
 },
 "nbformat": 4,
 "nbformat_minor": 5
}
