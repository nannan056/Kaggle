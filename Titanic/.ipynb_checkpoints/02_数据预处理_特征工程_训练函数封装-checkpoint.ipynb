{
 "cells": [
  {
   "cell_type": "code",
   "execution_count": 44,
   "id": "04fa8784",
   "metadata": {
    "ExecuteTime": {
     "end_time": "2022-05-20T13:20:54.454199Z",
     "start_time": "2022-05-20T13:20:54.447217Z"
    }
   },
   "outputs": [],
   "source": [
    "import numpy as np\n",
    "import pandas as pd\n",
    "\n",
    "import seaborn as sns\n",
    "import matplotlib.pyplot as plt\n",
    "\n",
    "from sklearn.preprocessing import OneHotEncoder\n",
    "from sklearn.model_selection import train_test_split,KFold\n",
    "\n",
    "import warnings\n",
    "warnings.filterwarnings(\"ignore\")\n",
    "\n",
    "pd.set_option('display.max_rows',None)\n",
    "pd.set_option('display.max_columns',None)\n"
   ]
  },
  {
   "cell_type": "code",
   "execution_count": 45,
   "id": "9c64912e",
   "metadata": {
    "ExecuteTime": {
     "end_time": "2022-05-20T13:20:55.616793Z",
     "start_time": "2022-05-20T13:20:55.600847Z"
    }
   },
   "outputs": [],
   "source": [
    "train=pd.read_csv(\"./data/train.csv\")#(891,12)\n",
    "test=pd.read_csv(\"./data/test.csv\")#(418,11)\n",
    "train['is_train']=1\n",
    "test['is_train']=0\n",
    "data=pd.concat([train,test])\n",
    "data_bak=data.copy()"
   ]
  },
  {
   "cell_type": "markdown",
   "id": "37069803",
   "metadata": {},
   "source": [
    "# 数据预处理\n",
    "## 数据预处理"
   ]
  },
  {
   "cell_type": "code",
   "execution_count": 46,
   "id": "8fb584f7",
   "metadata": {
    "ExecuteTime": {
     "end_time": "2022-05-20T13:20:58.214946Z",
     "start_time": "2022-05-20T13:20:58.191026Z"
    }
   },
   "outputs": [],
   "source": [
    "data['Fare']=data['Fare'].fillna(data['Fare'].median())# 有一个空值，中位数填充\n",
    "\n",
    "data['Embarked']=data['Embarked'].fillna(\"S\")# 就2个缺失值，填充了众数\n",
    "\n",
    "# Cabin只有204个非空值\n",
    "data['Cabins']=data['Cabin'].apply(lambda x:2 if len(str(x))>4 else(1 if pd.notna(x) else 0) )\n",
    "data['Cabin']=data['Cabin'].str[:1]\n",
    "data['Cabin']=data['Cabin'].fillna(\"Z\")\n",
    "\n",
    "# ticket比较复杂，先算了\n",
    "# train['Ticket'].apply(lambda x:x.split(\" \")[0]).value_counts()\n",
    "\n",
    "data['Title']=data['Name'].str.extract(' ([A-Za-z]+)\\.', expand=False)\n",
    "data['Title'] = data['Title'].replace(['Lady', 'Countess','Capt','Don','Col','Dr','Rev', 'Major', 'Sir', 'Jonkheer', 'Dona'], 'Rare')\n",
    "data['Title'] = data['Title'].replace('Mlle', 'Miss')\n",
    "data['Title'] = data['Title'].replace('Ms', 'Miss')\n",
    "data['Title'] = data['Title'].replace('Mme', 'Mrs')\n",
    "\n",
    "data['familyNum']=data['SibSp']+data['Parch']\n",
    "data['has_family']=data['familyNum'].apply(lambda x:1 if x>0 else 0)\n",
    "\n",
    "data=data.drop(['Name','Ticket','PassengerId'],axis=1)"
   ]
  },
  {
   "cell_type": "code",
   "execution_count": 55,
   "id": "f2ff5799",
   "metadata": {
    "ExecuteTime": {
     "end_time": "2022-05-16T14:22:36.042691Z",
     "start_time": "2022-05-16T14:22:36.026390Z"
    }
   },
   "outputs": [],
   "source": [
    "# ohe = OneHotEncoder(handle_unknown='ignore')\n",
    "\n",
    "# ohe.fit(train[['Cabin','Embarked','Title','Sex']])#训练规则\n",
    "# feature_names=ohe.get_feature_names(['Cabin','Embarked','Title','Sex'])#获取编码后的特征名\n",
    "# data_train_onehot=pd.DataFrame(ohe.transform(train[['Cabin','Embarked','Title','Sex']]).toarray(),columns=feature_names)#应用规则在训练集上\n",
    " \n",
    "# data_new_onehot=pd.DataFrame(ohe.transform(test[['Cabin','Embarked','Title','Sex']]).toarray(),columns=feature_names)#应用规则在预测集上"
   ]
  },
  {
   "cell_type": "code",
   "execution_count": 47,
   "id": "1889816c",
   "metadata": {
    "ExecuteTime": {
     "end_time": "2022-05-20T13:21:00.705101Z",
     "start_time": "2022-05-20T13:21:00.672072Z"
    }
   },
   "outputs": [],
   "source": [
    "for col in ['Cabin','Embarked','Title','Sex']:\n",
    "    df=pd.get_dummies(data[col],sparse=True)\n",
    "    for c in df.columns:\n",
    "        df.rename(columns={c:col+c},inplace=True)\n",
    "    data=pd.concat([data.drop([col],axis=1),df],axis=1)\n",
    "# data=data.drop(['CabinA','CabinB','CabinF','CabinG','CabinT','TitleRare'],axis=1)"
   ]
  },
  {
   "cell_type": "markdown",
   "id": "1c474266",
   "metadata": {},
   "source": [
    "## 预测测试集是否生存，用来填充缺失值"
   ]
  },
  {
   "cell_type": "code",
   "execution_count": 48,
   "id": "ef97fd2f",
   "metadata": {
    "ExecuteTime": {
     "end_time": "2022-05-20T13:21:02.611687Z",
     "start_time": "2022-05-20T13:21:02.589780Z"
    }
   },
   "outputs": [],
   "source": [
    "X_train=np.array(data[data['is_train']==1].drop(['Survived','is_train'],axis=1))\n",
    "y_train=np.array(data[data['is_train']==1]['Survived'])\n",
    "X_test=np.array(data[data['is_train']==0].drop(['Survived','is_train'],axis=1))"
   ]
  },
  {
   "cell_type": "code",
   "execution_count": 49,
   "id": "f7435ea4",
   "metadata": {
    "ExecuteTime": {
     "end_time": "2022-05-20T13:21:04.323830Z",
     "start_time": "2022-05-20T13:21:04.170237Z"
    }
   },
   "outputs": [
    {
     "name": "stdout",
     "output_type": "stream",
     "text": [
      "0 th fold： 0.8044692737430168\n",
      "1 th fold： 0.7696629213483146\n",
      "2 th fold： 0.8033707865168539\n",
      "3 th fold： 0.9101123595505618\n",
      "4 th fold： 0.8539325842696629\n",
      "avg score=  0.8283095850856821\n"
     ]
    }
   ],
   "source": [
    "from lightgbm import LGBMClassifier\n",
    "\n",
    "best_model=None\n",
    "folds=5\n",
    "avg_score=0\n",
    "best_score=0\n",
    "result=np.zeros(418)\n",
    "\n",
    "kf=KFold(n_splits=folds,shuffle=True,random_state=2022)\n",
    "for i, (train_index,test_index) in enumerate(kf.split(X_train)):\n",
    "    lgb=LGBMClassifier(learning_rate=0.07,max_depth=32,n_estimators=70)\n",
    "    lgb.fit(X_train[train_index],y_train[train_index])\n",
    "    score=lgb.score(X_train[test_index],y_train[test_index])\n",
    "    print(i,'th fold：',score)\n",
    "    if best_score<score:\n",
    "        best_score=score\n",
    "        best_model=lgb    \n",
    "    avg_score+=score\n",
    "    result+=lgb.predict(X_test)\n",
    "avg_score/=folds\n",
    "result/=folds\n",
    "\n",
    "print(\"avg score= \",avg_score)"
   ]
  },
  {
   "cell_type": "markdown",
   "id": "daf5e2ce",
   "metadata": {},
   "source": [
    "## age缺失值填充，用lgb预测"
   ]
  },
  {
   "cell_type": "code",
   "execution_count": 50,
   "id": "a3dbcd57",
   "metadata": {
    "ExecuteTime": {
     "end_time": "2022-05-20T13:21:07.171319Z",
     "start_time": "2022-05-20T13:21:07.158120Z"
    }
   },
   "outputs": [],
   "source": [
    "X_test_pred=best_model.predict(X_test)\n",
    "data.iloc[891:,0]=X_test_pred\n",
    "data=data.reset_index(drop=True)"
   ]
  },
  {
   "cell_type": "code",
   "execution_count": 51,
   "id": "b59992ef",
   "metadata": {
    "ExecuteTime": {
     "end_time": "2022-05-20T13:21:09.024854Z",
     "start_time": "2022-05-20T13:21:09.009904Z"
    }
   },
   "outputs": [],
   "source": [
    "data_age=data[data['Age'].notnull()]\n",
    "data_noAge=data[data['Age'].isnull()]\n",
    "\n",
    "X_train_age=np.array(data_age.drop(['is_train','Age'],axis=1))\n",
    "y_train_age=np.array(data_age['Age'])\n",
    "X_test_age=np.array(data_noAge.drop(['is_train','Age'],axis=1))"
   ]
  },
  {
   "cell_type": "code",
   "execution_count": 52,
   "id": "40b4839d",
   "metadata": {
    "ExecuteTime": {
     "end_time": "2022-05-20T13:21:10.805486Z",
     "start_time": "2022-05-20T13:21:10.761547Z"
    }
   },
   "outputs": [
    {
     "name": "stdout",
     "output_type": "stream",
     "text": [
      "0 th fold 0： 92.07688785077193\n",
      "0 th fold： 116.11721678928332\n",
      "1 th fold 0： 92.07857399680114\n",
      "1 th fold： 125.98550188876987\n",
      "2 th fold 0： 93.60144946658201\n",
      "2 th fold： 123.24232168543234\n",
      "3 th fold 0： 93.33004877316607\n",
      "3 th fold： 115.24514689872464\n",
      "4 th fold 0： 96.41907057424133\n",
      "4 th fold： 95.65952433752226\n",
      "avg score=  115.24994231994648\n"
     ]
    }
   ],
   "source": [
    "from lightgbm import LGBMRegressor\n",
    "from sklearn.metrics import mean_squared_error\n",
    "\n",
    "best_model=None\n",
    "folds=5\n",
    "avg_score=0\n",
    "best_score=0\n",
    "\n",
    "kf=KFold(n_splits=folds,shuffle=True,random_state=2022)\n",
    "for i, (train_index,test_index) in enumerate(kf.split(X_train_age)):\n",
    "    lgb=LGBMRegressor(learning_rate=0.5,max_depth=5,n_estimators=7)\n",
    "    lgb.fit(X_train_age[train_index],y_train_age[train_index])\n",
    "    \n",
    "    \n",
    "    pred=lgb.predict(X_train_age[train_index])\n",
    "    score0=mean_squared_error(pred,y_train_age[train_index])\n",
    "    print(i,'th fold 0：',score0)\n",
    "    \n",
    "    pred=lgb.predict(X_train_age[test_index])\n",
    "    score=mean_squared_error(pred,y_train_age[test_index])\n",
    "    print(i,'th fold：',score)\n",
    "    if best_score<score:\n",
    "        best_score=score\n",
    "        best_model=lgb    \n",
    "    avg_score+=score\n",
    "avg_score/=folds\n",
    "\n",
    "print(\"avg score= \",avg_score)"
   ]
  },
  {
   "cell_type": "code",
   "execution_count": 53,
   "id": "c7f02f22",
   "metadata": {
    "ExecuteTime": {
     "end_time": "2022-05-20T13:21:13.405978Z",
     "start_time": "2022-05-20T13:21:13.393882Z"
    }
   },
   "outputs": [],
   "source": [
    "age_pred=best_model.predict(X_test_age)\n",
    "data.iloc[data[data['Age'].isnull()].index,2]=age_pred"
   ]
  },
  {
   "cell_type": "markdown",
   "id": "3aa46d69",
   "metadata": {},
   "source": [
    "# 模型训练"
   ]
  },
  {
   "cell_type": "code",
   "execution_count": 54,
   "id": "06d652d2",
   "metadata": {
    "ExecuteTime": {
     "end_time": "2022-05-20T13:21:16.015827Z",
     "start_time": "2022-05-20T13:21:16.000878Z"
    }
   },
   "outputs": [],
   "source": [
    "X_train=np.array(data[data['is_train']==1].drop(['Survived','is_train'],axis=1))\n",
    "y_train=np.array(data[data['is_train']==1]['Survived'])\n",
    "X_test=np.array(data[data['is_train']==0].drop(['Survived','is_train'],axis=1))"
   ]
  },
  {
   "cell_type": "markdown",
   "id": "b61ecfd5",
   "metadata": {
    "ExecuteTime": {
     "end_time": "2022-05-15T14:23:20.498796Z",
     "start_time": "2022-05-15T14:23:20.486634Z"
    }
   },
   "source": [
    "## lgb"
   ]
  },
  {
   "cell_type": "code",
   "execution_count": 58,
   "id": "716f7630",
   "metadata": {
    "ExecuteTime": {
     "end_time": "2022-05-20T13:24:14.717894Z",
     "start_time": "2022-05-20T13:24:14.569613Z"
    }
   },
   "outputs": [
    {
     "name": "stdout",
     "output_type": "stream",
     "text": [
      "0 th fold： 0.8379888268156425\n",
      "1 th fold： 0.7808988764044944\n",
      "2 th fold： 0.8089887640449438\n",
      "3 th fold： 0.9101123595505618\n",
      "4 th fold： 0.8651685393258427\n",
      "avg score=  0.8406314732282969\n"
     ]
    }
   ],
   "source": [
    "from lightgbm import LGBMClassifier\n",
    "\n",
    "best_model=None\n",
    "folds=5\n",
    "best_score=0\n",
    "avg_score_lgb=0\n",
    "result_lgb=np.zeros(418)\n",
    "train_result_lgb=np.zeros(891)\n",
    "\n",
    "kf=KFold(n_splits=folds,shuffle=True,random_state=2022)\n",
    "for i, (train_index,test_index) in enumerate(kf.split(X_train)):\n",
    "    lgb=LGBMClassifier(learning_rate=0.06,max_depth=32,n_estimators=70)\n",
    "    lgb.fit(X_train[train_index],y_train[train_index])\n",
    "    score=lgb.score(X_train[test_index],y_train[test_index])\n",
    "    print(i,'th fold：',score)\n",
    "    if best_score<score:\n",
    "        best_score=score\n",
    "        best_model=lgb    \n",
    "        \n",
    "    avg_score_lgb+=score\n",
    "    result_lgb+=lgb.predict_proba(X_test)[:,1]\n",
    "    train_result_lgb[test_index]=lgb.predict_proba(X_train[test_index])[:,1]\n",
    "    \n",
    "avg_score_lgb/=folds\n",
    "result_lgb/=folds\n",
    "\n",
    "print(\"avg score= \",avg_score_lgb)"
   ]
  },
  {
   "cell_type": "markdown",
   "id": "6c9a8382",
   "metadata": {},
   "source": [
    "## xgb"
   ]
  },
  {
   "cell_type": "code",
   "execution_count": 60,
   "id": "9beeed47",
   "metadata": {
    "ExecuteTime": {
     "end_time": "2022-05-20T13:24:44.118611Z",
     "start_time": "2022-05-20T13:24:43.680330Z"
    },
    "scrolled": true
   },
   "outputs": [
    {
     "name": "stdout",
     "output_type": "stream",
     "text": [
      "[21:24:43] WARNING: D:\\bld\\xgboost-split_1645118015404\\work\\src\\learner.cc:1115: Starting in XGBoost 1.3.0, the default evaluation metric used with the objective 'binary:logistic' was changed from 'error' to 'logloss'. Explicitly set eval_metric if you'd like to restore the old behavior.\n",
      "0 th fold： 0.8491620111731844\n",
      "[21:24:43] WARNING: D:\\bld\\xgboost-split_1645118015404\\work\\src\\learner.cc:1115: Starting in XGBoost 1.3.0, the default evaluation metric used with the objective 'binary:logistic' was changed from 'error' to 'logloss'. Explicitly set eval_metric if you'd like to restore the old behavior.\n",
      "1 th fold： 0.8089887640449438\n",
      "[21:24:43] WARNING: D:\\bld\\xgboost-split_1645118015404\\work\\src\\learner.cc:1115: Starting in XGBoost 1.3.0, the default evaluation metric used with the objective 'binary:logistic' was changed from 'error' to 'logloss'. Explicitly set eval_metric if you'd like to restore the old behavior.\n",
      "2 th fold： 0.8033707865168539\n",
      "[21:24:43] WARNING: D:\\bld\\xgboost-split_1645118015404\\work\\src\\learner.cc:1115: Starting in XGBoost 1.3.0, the default evaluation metric used with the objective 'binary:logistic' was changed from 'error' to 'logloss'. Explicitly set eval_metric if you'd like to restore the old behavior.\n",
      "3 th fold： 0.898876404494382\n",
      "[21:24:44] WARNING: D:\\bld\\xgboost-split_1645118015404\\work\\src\\learner.cc:1115: Starting in XGBoost 1.3.0, the default evaluation metric used with the objective 'binary:logistic' was changed from 'error' to 'logloss'. Explicitly set eval_metric if you'd like to restore the old behavior.\n",
      "4 th fold： 0.8426966292134831\n",
      "avg score=  0.8406189190885694\n"
     ]
    }
   ],
   "source": [
    "from xgboost import XGBClassifier\n",
    "\n",
    "best_model=None\n",
    "folds=5\n",
    "best_score=0\n",
    "avg_score_xgb=0\n",
    "result_xgb=np.zeros(418)\n",
    "train_result_xgb=np.zeros(891)\n",
    "\n",
    "kf=KFold(n_splits=folds,shuffle=True,random_state=2022)\n",
    "for i, (train_index,test_index) in enumerate(kf.split(X_train)):\n",
    "    lgb=XGBClassifier(learning_rate=0.07,max_depth=32,n_estimators=70)\n",
    "    lgb.fit(X_train[train_index],y_train[train_index])\n",
    "    score=lgb.score(X_train[test_index],y_train[test_index])\n",
    "    print(i,'th fold：',score)\n",
    "    if best_score<score:\n",
    "        best_score=score\n",
    "        best_model=lgb    \n",
    "    avg_score_xgb+=score\n",
    "    result_xgb+=lgb.predict_proba(X_test)[:,1]\n",
    "    train_result_xgb[test_index]=lgb.predict_proba(X_train[test_index])[:,1]\n",
    "    \n",
    "avg_score_xgb/=folds\n",
    "result_xgb/=5\n",
    "\n",
    "print(\"avg score= \",avg_score_xgb)"
   ]
  },
  {
   "cell_type": "markdown",
   "id": "207b82fe",
   "metadata": {},
   "source": [
    "## catboost"
   ]
  },
  {
   "cell_type": "code",
   "execution_count": 61,
   "id": "7be1c0a8",
   "metadata": {
    "ExecuteTime": {
     "end_time": "2022-05-20T13:25:06.935162Z",
     "start_time": "2022-05-20T13:25:06.323386Z"
    }
   },
   "outputs": [
    {
     "name": "stdout",
     "output_type": "stream",
     "text": [
      "0:\tlearn: 0.5704193\ttotal: 1.42ms\tremaining: 98.1ms\n",
      "1:\tlearn: 0.5191577\ttotal: 2.29ms\tremaining: 78ms\n",
      "2:\tlearn: 0.4731345\ttotal: 3.38ms\tremaining: 75.6ms\n",
      "3:\tlearn: 0.4352703\ttotal: 4.29ms\tremaining: 70.8ms\n",
      "4:\tlearn: 0.4137495\ttotal: 5.2ms\tremaining: 67.5ms\n",
      "5:\tlearn: 0.3938276\ttotal: 6.13ms\tremaining: 65.4ms\n",
      "6:\tlearn: 0.3774983\ttotal: 7.04ms\tremaining: 63.4ms\n",
      "7:\tlearn: 0.3672136\ttotal: 7.96ms\tremaining: 61.7ms\n",
      "8:\tlearn: 0.3589187\ttotal: 8.96ms\tremaining: 60.7ms\n",
      "9:\tlearn: 0.3551809\ttotal: 9.79ms\tremaining: 58.7ms\n",
      "10:\tlearn: 0.3477772\ttotal: 10.8ms\tremaining: 57.7ms\n",
      "11:\tlearn: 0.3416886\ttotal: 11.7ms\tremaining: 56.5ms\n",
      "12:\tlearn: 0.3408051\ttotal: 12.2ms\tremaining: 53.6ms\n",
      "13:\tlearn: 0.3396790\ttotal: 13ms\tremaining: 52ms\n",
      "14:\tlearn: 0.3354288\ttotal: 14ms\tremaining: 51.4ms\n",
      "15:\tlearn: 0.3290559\ttotal: 14.9ms\tremaining: 50.4ms\n",
      "16:\tlearn: 0.3274765\ttotal: 15.9ms\tremaining: 49.5ms\n",
      "17:\tlearn: 0.3225848\ttotal: 16.8ms\tremaining: 48.5ms\n",
      "18:\tlearn: 0.3197832\ttotal: 17.7ms\tremaining: 47.4ms\n",
      "19:\tlearn: 0.3181801\ttotal: 18.5ms\tremaining: 46.4ms\n",
      "20:\tlearn: 0.3162336\ttotal: 19.4ms\tremaining: 45.3ms\n",
      "21:\tlearn: 0.3152842\ttotal: 20ms\tremaining: 43.6ms\n",
      "22:\tlearn: 0.3131399\ttotal: 20.9ms\tremaining: 42.7ms\n",
      "23:\tlearn: 0.3117644\ttotal: 21.8ms\tremaining: 41.8ms\n",
      "24:\tlearn: 0.3110717\ttotal: 22.5ms\tremaining: 40.5ms\n",
      "25:\tlearn: 0.3102253\ttotal: 23.4ms\tremaining: 39.6ms\n",
      "26:\tlearn: 0.3092403\ttotal: 24.5ms\tremaining: 39ms\n",
      "27:\tlearn: 0.3066178\ttotal: 25.4ms\tremaining: 38.1ms\n",
      "28:\tlearn: 0.2997765\ttotal: 26.3ms\tremaining: 37.2ms\n",
      "29:\tlearn: 0.2975966\ttotal: 27.3ms\tremaining: 36.4ms\n",
      "30:\tlearn: 0.2973145\ttotal: 27.8ms\tremaining: 34.9ms\n",
      "31:\tlearn: 0.2910405\ttotal: 28.7ms\tremaining: 34.1ms\n",
      "32:\tlearn: 0.2869626\ttotal: 29.6ms\tremaining: 33.2ms\n",
      "33:\tlearn: 0.2827248\ttotal: 30.5ms\tremaining: 32.3ms\n",
      "34:\tlearn: 0.2807592\ttotal: 31.4ms\tremaining: 31.4ms\n",
      "35:\tlearn: 0.2763522\ttotal: 32.3ms\tremaining: 30.5ms\n",
      "36:\tlearn: 0.2755606\ttotal: 33.2ms\tremaining: 29.6ms\n",
      "37:\tlearn: 0.2742590\ttotal: 34.1ms\tremaining: 28.7ms\n",
      "38:\tlearn: 0.2670063\ttotal: 35ms\tremaining: 27.8ms\n",
      "39:\tlearn: 0.2667168\ttotal: 35.7ms\tremaining: 26.8ms\n",
      "40:\tlearn: 0.2631726\ttotal: 36.6ms\tremaining: 25.9ms\n",
      "41:\tlearn: 0.2595179\ttotal: 37.6ms\tremaining: 25ms\n",
      "42:\tlearn: 0.2568761\ttotal: 38.5ms\tremaining: 24.2ms\n",
      "43:\tlearn: 0.2526598\ttotal: 39.5ms\tremaining: 23.3ms\n",
      "44:\tlearn: 0.2510740\ttotal: 40.4ms\tremaining: 22.5ms\n",
      "45:\tlearn: 0.2452656\ttotal: 41.4ms\tremaining: 21.6ms\n",
      "46:\tlearn: 0.2438294\ttotal: 42.3ms\tremaining: 20.7ms\n",
      "47:\tlearn: 0.2399371\ttotal: 43.3ms\tremaining: 19.8ms\n",
      "48:\tlearn: 0.2392485\ttotal: 44.2ms\tremaining: 19ms\n",
      "49:\tlearn: 0.2328377\ttotal: 45.2ms\tremaining: 18.1ms\n",
      "50:\tlearn: 0.2293805\ttotal: 46.1ms\tremaining: 17.2ms\n",
      "51:\tlearn: 0.2264862\ttotal: 47ms\tremaining: 16.3ms\n",
      "52:\tlearn: 0.2256336\ttotal: 47.9ms\tremaining: 15.4ms\n",
      "53:\tlearn: 0.2250916\ttotal: 48.8ms\tremaining: 14.5ms\n",
      "54:\tlearn: 0.2197490\ttotal: 49.8ms\tremaining: 13.6ms\n",
      "55:\tlearn: 0.2186677\ttotal: 50.7ms\tremaining: 12.7ms\n",
      "56:\tlearn: 0.2157453\ttotal: 51.6ms\tremaining: 11.8ms\n",
      "57:\tlearn: 0.2119990\ttotal: 52.6ms\tremaining: 10.9ms\n",
      "58:\tlearn: 0.2061112\ttotal: 53.5ms\tremaining: 9.98ms\n",
      "59:\tlearn: 0.2025443\ttotal: 54.5ms\tremaining: 9.08ms\n",
      "60:\tlearn: 0.2005495\ttotal: 55.4ms\tremaining: 8.18ms\n",
      "61:\tlearn: 0.1981957\ttotal: 56.3ms\tremaining: 7.27ms\n",
      "62:\tlearn: 0.1976508\ttotal: 57.3ms\tremaining: 6.36ms\n",
      "63:\tlearn: 0.1972775\ttotal: 58.2ms\tremaining: 5.45ms\n",
      "64:\tlearn: 0.1936325\ttotal: 59.1ms\tremaining: 4.55ms\n",
      "65:\tlearn: 0.1930180\ttotal: 60.1ms\tremaining: 3.64ms\n",
      "66:\tlearn: 0.1914692\ttotal: 61ms\tremaining: 2.73ms\n",
      "67:\tlearn: 0.1892827\ttotal: 61.9ms\tremaining: 1.82ms\n",
      "68:\tlearn: 0.1864869\ttotal: 62.8ms\tremaining: 910us\n",
      "69:\tlearn: 0.1828326\ttotal: 63.7ms\tremaining: 0us\n",
      "0 th fold： 0.8379888268156425\n",
      "0:\tlearn: 0.5607532\ttotal: 1.23ms\tremaining: 84.7ms\n",
      "1:\tlearn: 0.5018057\ttotal: 2.02ms\tremaining: 68.7ms\n",
      "2:\tlearn: 0.4585349\ttotal: 3.04ms\tremaining: 67.8ms\n",
      "3:\tlearn: 0.4227677\ttotal: 4.03ms\tremaining: 66.5ms\n",
      "4:\tlearn: 0.3985462\ttotal: 5.08ms\tremaining: 66.1ms\n",
      "5:\tlearn: 0.3806334\ttotal: 6.05ms\tremaining: 64.5ms\n",
      "6:\tlearn: 0.3689266\ttotal: 7.01ms\tremaining: 63.1ms\n",
      "7:\tlearn: 0.3632672\ttotal: 7.98ms\tremaining: 61.8ms\n",
      "8:\tlearn: 0.3540971\ttotal: 8.96ms\tremaining: 60.7ms\n",
      "9:\tlearn: 0.3486525\ttotal: 9.91ms\tremaining: 59.4ms\n",
      "10:\tlearn: 0.3414751\ttotal: 10.9ms\tremaining: 58.3ms\n",
      "11:\tlearn: 0.3358090\ttotal: 11.8ms\tremaining: 57.2ms\n",
      "12:\tlearn: 0.3299966\ttotal: 12.9ms\tremaining: 56.5ms\n",
      "13:\tlearn: 0.3240390\ttotal: 13.9ms\tremaining: 55.5ms\n",
      "14:\tlearn: 0.3210665\ttotal: 14.8ms\tremaining: 54.4ms\n",
      "15:\tlearn: 0.3179152\ttotal: 15.9ms\tremaining: 53.5ms\n",
      "16:\tlearn: 0.3129431\ttotal: 16.9ms\tremaining: 52.6ms\n",
      "17:\tlearn: 0.3103882\ttotal: 17.9ms\tremaining: 51.6ms\n",
      "18:\tlearn: 0.3077728\ttotal: 18.5ms\tremaining: 49.6ms\n",
      "19:\tlearn: 0.3062593\ttotal: 19.5ms\tremaining: 48.7ms\n",
      "20:\tlearn: 0.3039586\ttotal: 20.4ms\tremaining: 47.7ms\n",
      "21:\tlearn: 0.2997855\ttotal: 21.4ms\tremaining: 46.7ms\n",
      "22:\tlearn: 0.2936605\ttotal: 22.4ms\tremaining: 45.7ms\n",
      "23:\tlearn: 0.2901436\ttotal: 23.4ms\tremaining: 44.8ms\n",
      "24:\tlearn: 0.2871225\ttotal: 24.3ms\tremaining: 43.8ms\n",
      "25:\tlearn: 0.2846447\ttotal: 25.3ms\tremaining: 42.8ms\n",
      "26:\tlearn: 0.2842771\ttotal: 26.3ms\tremaining: 41.8ms\n",
      "27:\tlearn: 0.2800245\ttotal: 27.3ms\tremaining: 40.9ms\n",
      "28:\tlearn: 0.2767883\ttotal: 28.3ms\tremaining: 40ms\n",
      "29:\tlearn: 0.2754645\ttotal: 29.3ms\tremaining: 39ms\n",
      "30:\tlearn: 0.2735042\ttotal: 30.3ms\tremaining: 38.1ms\n",
      "31:\tlearn: 0.2719064\ttotal: 31.3ms\tremaining: 37.1ms\n",
      "32:\tlearn: 0.2699743\ttotal: 32.3ms\tremaining: 36.2ms\n",
      "33:\tlearn: 0.2670235\ttotal: 33.2ms\tremaining: 35.2ms\n",
      "34:\tlearn: 0.2640756\ttotal: 34.3ms\tremaining: 34.3ms\n",
      "35:\tlearn: 0.2613214\ttotal: 35.2ms\tremaining: 33.3ms\n",
      "36:\tlearn: 0.2592486\ttotal: 36.2ms\tremaining: 32.3ms\n",
      "37:\tlearn: 0.2567657\ttotal: 37.2ms\tremaining: 31.3ms\n",
      "38:\tlearn: 0.2558401\ttotal: 38.1ms\tremaining: 30.3ms\n",
      "39:\tlearn: 0.2525449\ttotal: 39.1ms\tremaining: 29.3ms\n",
      "40:\tlearn: 0.2477402\ttotal: 40.1ms\tremaining: 28.4ms\n",
      "41:\tlearn: 0.2455834\ttotal: 41.1ms\tremaining: 27.4ms\n",
      "42:\tlearn: 0.2448929\ttotal: 42.1ms\tremaining: 26.5ms\n",
      "43:\tlearn: 0.2428368\ttotal: 43.1ms\tremaining: 25.5ms\n",
      "44:\tlearn: 0.2393966\ttotal: 44.1ms\tremaining: 24.5ms\n",
      "45:\tlearn: 0.2331155\ttotal: 45.1ms\tremaining: 23.5ms\n",
      "46:\tlearn: 0.2315641\ttotal: 46.1ms\tremaining: 22.5ms\n",
      "47:\tlearn: 0.2300815\ttotal: 47.1ms\tremaining: 21.6ms\n",
      "48:\tlearn: 0.2271851\ttotal: 48ms\tremaining: 20.6ms\n",
      "49:\tlearn: 0.2228728\ttotal: 49ms\tremaining: 19.6ms\n",
      "50:\tlearn: 0.2214777\ttotal: 50ms\tremaining: 18.6ms\n",
      "51:\tlearn: 0.2127745\ttotal: 51ms\tremaining: 17.6ms\n",
      "52:\tlearn: 0.2115124\ttotal: 51.9ms\tremaining: 16.7ms\n",
      "53:\tlearn: 0.2085574\ttotal: 52.9ms\tremaining: 15.7ms\n",
      "54:\tlearn: 0.2045593\ttotal: 53.9ms\tremaining: 14.7ms\n",
      "55:\tlearn: 0.2023641\ttotal: 54.8ms\tremaining: 13.7ms\n",
      "56:\tlearn: 0.2001587\ttotal: 55.8ms\tremaining: 12.7ms\n",
      "57:\tlearn: 0.1945790\ttotal: 56.7ms\tremaining: 11.7ms\n",
      "58:\tlearn: 0.1908064\ttotal: 57.7ms\tremaining: 10.8ms\n",
      "59:\tlearn: 0.1898901\ttotal: 58.7ms\tremaining: 9.78ms\n",
      "60:\tlearn: 0.1864100\ttotal: 59.7ms\tremaining: 8.8ms\n",
      "61:\tlearn: 0.1846987\ttotal: 60.7ms\tremaining: 7.83ms\n",
      "62:\tlearn: 0.1837568\ttotal: 61.7ms\tremaining: 6.85ms\n",
      "63:\tlearn: 0.1833512\ttotal: 62.6ms\tremaining: 5.87ms\n",
      "64:\tlearn: 0.1773985\ttotal: 63.6ms\tremaining: 4.89ms\n",
      "65:\tlearn: 0.1751966\ttotal: 64.7ms\tremaining: 3.92ms\n",
      "66:\tlearn: 0.1747776\ttotal: 65.9ms\tremaining: 2.95ms\n",
      "67:\tlearn: 0.1735599\ttotal: 67ms\tremaining: 1.97ms\n",
      "68:\tlearn: 0.1700839\ttotal: 68ms\tremaining: 985us\n",
      "69:\tlearn: 0.1685505\ttotal: 69.1ms\tremaining: 0us\n",
      "1 th fold： 0.7865168539325843\n",
      "0:\tlearn: 0.5622699\ttotal: 2.65ms\tremaining: 183ms\n",
      "1:\tlearn: 0.4895723\ttotal: 3.69ms\tremaining: 125ms\n",
      "2:\tlearn: 0.4494044\ttotal: 4.61ms\tremaining: 103ms\n",
      "3:\tlearn: 0.4178784\ttotal: 5.57ms\tremaining: 91.9ms\n",
      "4:\tlearn: 0.3973454\ttotal: 6.51ms\tremaining: 84.6ms\n",
      "5:\tlearn: 0.3823942\ttotal: 7.44ms\tremaining: 79.4ms\n",
      "6:\tlearn: 0.3660964\ttotal: 8.4ms\tremaining: 75.6ms\n",
      "7:\tlearn: 0.3577637\ttotal: 9.32ms\tremaining: 72.3ms\n",
      "8:\tlearn: 0.3476299\ttotal: 10.3ms\tremaining: 69.7ms\n",
      "9:\tlearn: 0.3418218\ttotal: 11.2ms\tremaining: 67.3ms\n",
      "10:\tlearn: 0.3355990\ttotal: 12.2ms\tremaining: 65.4ms\n",
      "11:\tlearn: 0.3285064\ttotal: 13.1ms\tremaining: 63.5ms\n",
      "12:\tlearn: 0.3273195\ttotal: 13.9ms\tremaining: 60.9ms\n",
      "13:\tlearn: 0.3215908\ttotal: 14.8ms\tremaining: 59.2ms\n",
      "14:\tlearn: 0.3185478\ttotal: 15.7ms\tremaining: 57.6ms\n",
      "15:\tlearn: 0.3142119\ttotal: 16.7ms\tremaining: 56.2ms\n",
      "16:\tlearn: 0.3076365\ttotal: 17.7ms\tremaining: 55.1ms\n",
      "17:\tlearn: 0.3029626\ttotal: 18.6ms\tremaining: 53.7ms\n",
      "18:\tlearn: 0.3002276\ttotal: 19.6ms\tremaining: 52.5ms\n",
      "19:\tlearn: 0.2983890\ttotal: 20.6ms\tremaining: 51.4ms\n",
      "20:\tlearn: 0.2971415\ttotal: 21.3ms\tremaining: 49.8ms\n",
      "21:\tlearn: 0.2928739\ttotal: 22.3ms\tremaining: 48.7ms\n",
      "22:\tlearn: 0.2878544\ttotal: 23.2ms\tremaining: 47.5ms\n",
      "23:\tlearn: 0.2858555\ttotal: 24.2ms\tremaining: 46.3ms\n",
      "24:\tlearn: 0.2821700\ttotal: 25.2ms\tremaining: 45.3ms\n",
      "25:\tlearn: 0.2787277\ttotal: 26.1ms\tremaining: 44.1ms\n",
      "26:\tlearn: 0.2767094\ttotal: 27ms\tremaining: 43ms\n",
      "27:\tlearn: 0.2756159\ttotal: 27.9ms\tremaining: 41.9ms\n",
      "28:\tlearn: 0.2740296\ttotal: 28.9ms\tremaining: 40.8ms\n",
      "29:\tlearn: 0.2678870\ttotal: 29.8ms\tremaining: 39.7ms\n",
      "30:\tlearn: 0.2659369\ttotal: 30.9ms\tremaining: 38.8ms\n",
      "31:\tlearn: 0.2630056\ttotal: 31.9ms\tremaining: 37.8ms\n",
      "32:\tlearn: 0.2609982\ttotal: 32.6ms\tremaining: 36.6ms\n",
      "33:\tlearn: 0.2595950\ttotal: 33.6ms\tremaining: 35.6ms\n",
      "34:\tlearn: 0.2526730\ttotal: 34.5ms\tremaining: 34.5ms\n",
      "35:\tlearn: 0.2493245\ttotal: 35.4ms\tremaining: 33.4ms\n",
      "36:\tlearn: 0.2471116\ttotal: 36.3ms\tremaining: 32.4ms\n",
      "37:\tlearn: 0.2418496\ttotal: 37.3ms\tremaining: 31.4ms\n",
      "38:\tlearn: 0.2382162\ttotal: 38.2ms\tremaining: 30.4ms\n",
      "39:\tlearn: 0.2350796\ttotal: 39.2ms\tremaining: 29.4ms\n",
      "40:\tlearn: 0.2306041\ttotal: 40.1ms\tremaining: 28.4ms\n",
      "41:\tlearn: 0.2283922\ttotal: 41.1ms\tremaining: 27.4ms\n",
      "42:\tlearn: 0.2222727\ttotal: 42ms\tremaining: 26.4ms\n",
      "43:\tlearn: 0.2196479\ttotal: 43ms\tremaining: 25.4ms\n",
      "44:\tlearn: 0.2168048\ttotal: 44ms\tremaining: 24.4ms\n",
      "45:\tlearn: 0.2149567\ttotal: 45ms\tremaining: 23.5ms\n",
      "46:\tlearn: 0.2138267\ttotal: 46.1ms\tremaining: 22.5ms\n",
      "47:\tlearn: 0.2116599\ttotal: 47.1ms\tremaining: 21.6ms\n",
      "48:\tlearn: 0.2089780\ttotal: 48ms\tremaining: 20.6ms\n",
      "49:\tlearn: 0.2077239\ttotal: 48.9ms\tremaining: 19.6ms\n",
      "50:\tlearn: 0.2063145\ttotal: 50ms\tremaining: 18.6ms\n",
      "51:\tlearn: 0.2026842\ttotal: 50.9ms\tremaining: 17.6ms\n",
      "52:\tlearn: 0.2019048\ttotal: 51.8ms\tremaining: 16.6ms\n",
      "53:\tlearn: 0.1993731\ttotal: 52.8ms\tremaining: 15.6ms\n",
      "54:\tlearn: 0.1987496\ttotal: 53.7ms\tremaining: 14.7ms\n",
      "55:\tlearn: 0.1981996\ttotal: 54.7ms\tremaining: 13.7ms\n",
      "56:\tlearn: 0.1956307\ttotal: 55.6ms\tremaining: 12.7ms\n",
      "57:\tlearn: 0.1947764\ttotal: 56.6ms\tremaining: 11.7ms\n",
      "58:\tlearn: 0.1912271\ttotal: 57.5ms\tremaining: 10.7ms\n",
      "59:\tlearn: 0.1892208\ttotal: 58.4ms\tremaining: 9.73ms\n",
      "60:\tlearn: 0.1862611\ttotal: 59.3ms\tremaining: 8.76ms\n",
      "61:\tlearn: 0.1855569\ttotal: 60.4ms\tremaining: 7.79ms\n",
      "62:\tlearn: 0.1846134\ttotal: 61.3ms\tremaining: 6.82ms\n",
      "63:\tlearn: 0.1841136\ttotal: 62.3ms\tremaining: 5.84ms\n",
      "64:\tlearn: 0.1811348\ttotal: 63.2ms\tremaining: 4.86ms\n",
      "65:\tlearn: 0.1791809\ttotal: 64.2ms\tremaining: 3.89ms\n",
      "66:\tlearn: 0.1760951\ttotal: 65.2ms\tremaining: 2.92ms\n",
      "67:\tlearn: 0.1751948\ttotal: 66.1ms\tremaining: 1.94ms\n",
      "68:\tlearn: 0.1726339\ttotal: 67ms\tremaining: 971us\n",
      "69:\tlearn: 0.1696441\ttotal: 68ms\tremaining: 0us\n",
      "2 th fold： 0.8089887640449438\n",
      "0:\tlearn: 0.5998263\ttotal: 1.08ms\tremaining: 74.4ms\n",
      "1:\tlearn: 0.5294301\ttotal: 2.11ms\tremaining: 71.7ms\n",
      "2:\tlearn: 0.4854212\ttotal: 3.07ms\tremaining: 68.5ms\n",
      "3:\tlearn: 0.4512341\ttotal: 4ms\tremaining: 65.9ms\n",
      "4:\tlearn: 0.4281024\ttotal: 4.93ms\tremaining: 64.1ms\n",
      "5:\tlearn: 0.4235534\ttotal: 5.34ms\tremaining: 57ms\n",
      "6:\tlearn: 0.4053253\ttotal: 6.27ms\tremaining: 56.4ms\n",
      "7:\tlearn: 0.3950461\ttotal: 7.21ms\tremaining: 55.9ms\n",
      "8:\tlearn: 0.3884867\ttotal: 8.2ms\tremaining: 55.6ms\n",
      "9:\tlearn: 0.3787770\ttotal: 9.12ms\tremaining: 54.7ms\n",
      "10:\tlearn: 0.3722183\ttotal: 10.1ms\tremaining: 54ms\n",
      "11:\tlearn: 0.3666128\ttotal: 11ms\tremaining: 53.1ms\n",
      "12:\tlearn: 0.3637538\ttotal: 11.9ms\tremaining: 52.3ms\n",
      "13:\tlearn: 0.3591852\ttotal: 12.9ms\tremaining: 51.6ms\n",
      "14:\tlearn: 0.3570306\ttotal: 13.8ms\tremaining: 50.7ms\n",
      "15:\tlearn: 0.3529925\ttotal: 14.7ms\tremaining: 49.7ms\n",
      "16:\tlearn: 0.3509548\ttotal: 15.6ms\tremaining: 48.8ms\n",
      "17:\tlearn: 0.3461404\ttotal: 16.6ms\tremaining: 47.9ms\n"
     ]
    },
    {
     "name": "stdout",
     "output_type": "stream",
     "text": [
      "18:\tlearn: 0.3429014\ttotal: 17.8ms\tremaining: 47.8ms\n",
      "19:\tlearn: 0.3376640\ttotal: 18.8ms\tremaining: 47ms\n",
      "20:\tlearn: 0.3346616\ttotal: 19.8ms\tremaining: 46.2ms\n",
      "21:\tlearn: 0.3297585\ttotal: 20.7ms\tremaining: 45.2ms\n",
      "22:\tlearn: 0.3260646\ttotal: 21.7ms\tremaining: 44.3ms\n",
      "23:\tlearn: 0.3237255\ttotal: 22.7ms\tremaining: 43.5ms\n",
      "24:\tlearn: 0.3222398\ttotal: 23.6ms\tremaining: 42.6ms\n",
      "25:\tlearn: 0.3216728\ttotal: 24.6ms\tremaining: 41.6ms\n",
      "26:\tlearn: 0.3197405\ttotal: 25.6ms\tremaining: 40.8ms\n",
      "27:\tlearn: 0.3151398\ttotal: 26.5ms\tremaining: 39.8ms\n",
      "28:\tlearn: 0.3140420\ttotal: 27.5ms\tremaining: 38.8ms\n",
      "29:\tlearn: 0.3105485\ttotal: 28.5ms\tremaining: 37.9ms\n",
      "30:\tlearn: 0.3097569\ttotal: 29.5ms\tremaining: 37.1ms\n",
      "31:\tlearn: 0.3076757\ttotal: 30.4ms\tremaining: 36.1ms\n",
      "32:\tlearn: 0.3063105\ttotal: 31.4ms\tremaining: 35.2ms\n",
      "33:\tlearn: 0.3047101\ttotal: 32.3ms\tremaining: 34.2ms\n",
      "34:\tlearn: 0.3012479\ttotal: 33.2ms\tremaining: 33.2ms\n",
      "35:\tlearn: 0.2987600\ttotal: 34.2ms\tremaining: 32.3ms\n",
      "36:\tlearn: 0.2949842\ttotal: 35.1ms\tremaining: 31.3ms\n",
      "37:\tlearn: 0.2929200\ttotal: 36ms\tremaining: 30.3ms\n",
      "38:\tlearn: 0.2915851\ttotal: 37ms\tremaining: 29.4ms\n",
      "39:\tlearn: 0.2898545\ttotal: 38ms\tremaining: 28.5ms\n",
      "40:\tlearn: 0.2876390\ttotal: 39ms\tremaining: 27.6ms\n",
      "41:\tlearn: 0.2860351\ttotal: 40.1ms\tremaining: 26.7ms\n",
      "42:\tlearn: 0.2844415\ttotal: 41.2ms\tremaining: 25.9ms\n",
      "43:\tlearn: 0.2830738\ttotal: 42.1ms\tremaining: 24.9ms\n",
      "44:\tlearn: 0.2760642\ttotal: 43.1ms\tremaining: 24ms\n",
      "45:\tlearn: 0.2748451\ttotal: 44ms\tremaining: 23ms\n",
      "46:\tlearn: 0.2704479\ttotal: 45ms\tremaining: 22ms\n",
      "47:\tlearn: 0.2663464\ttotal: 45.9ms\tremaining: 21.1ms\n",
      "48:\tlearn: 0.2657369\ttotal: 46.9ms\tremaining: 20.1ms\n",
      "49:\tlearn: 0.2614727\ttotal: 47.8ms\tremaining: 19.1ms\n",
      "50:\tlearn: 0.2604550\ttotal: 48.8ms\tremaining: 18.2ms\n",
      "51:\tlearn: 0.2544973\ttotal: 49.7ms\tremaining: 17.2ms\n",
      "52:\tlearn: 0.2530679\ttotal: 50.6ms\tremaining: 16.2ms\n",
      "53:\tlearn: 0.2447063\ttotal: 51.7ms\tremaining: 15.3ms\n",
      "54:\tlearn: 0.2437062\ttotal: 52.6ms\tremaining: 14.3ms\n",
      "55:\tlearn: 0.2396313\ttotal: 53.5ms\tremaining: 13.4ms\n",
      "56:\tlearn: 0.2371214\ttotal: 54.4ms\tremaining: 12.4ms\n",
      "57:\tlearn: 0.2359905\ttotal: 55.3ms\tremaining: 11.4ms\n",
      "58:\tlearn: 0.2357716\ttotal: 56.2ms\tremaining: 10.5ms\n",
      "59:\tlearn: 0.2339643\ttotal: 57.1ms\tremaining: 9.52ms\n",
      "60:\tlearn: 0.2264231\ttotal: 58.1ms\tremaining: 8.57ms\n",
      "61:\tlearn: 0.2230971\ttotal: 59ms\tremaining: 7.61ms\n",
      "62:\tlearn: 0.2183085\ttotal: 59.9ms\tremaining: 6.65ms\n",
      "63:\tlearn: 0.2157566\ttotal: 60.8ms\tremaining: 5.7ms\n",
      "64:\tlearn: 0.2134602\ttotal: 61.7ms\tremaining: 4.75ms\n",
      "65:\tlearn: 0.2094284\ttotal: 62.6ms\tremaining: 3.79ms\n",
      "66:\tlearn: 0.2087979\ttotal: 63.5ms\tremaining: 2.84ms\n",
      "67:\tlearn: 0.2059389\ttotal: 64.4ms\tremaining: 1.89ms\n",
      "68:\tlearn: 0.2039865\ttotal: 65.3ms\tremaining: 946us\n",
      "69:\tlearn: 0.2022951\ttotal: 66.3ms\tremaining: 0us\n",
      "3 th fold： 0.9101123595505618\n",
      "0:\tlearn: 0.5728207\ttotal: 18ms\tremaining: 1.24s\n",
      "1:\tlearn: 0.5226387\ttotal: 18.8ms\tremaining: 639ms\n",
      "2:\tlearn: 0.4749287\ttotal: 19.8ms\tremaining: 442ms\n",
      "3:\tlearn: 0.4362997\ttotal: 20.8ms\tremaining: 343ms\n",
      "4:\tlearn: 0.4268878\ttotal: 21.4ms\tremaining: 279ms\n",
      "5:\tlearn: 0.4104722\ttotal: 22.4ms\tremaining: 239ms\n",
      "6:\tlearn: 0.4007626\ttotal: 23.3ms\tremaining: 210ms\n",
      "7:\tlearn: 0.3908961\ttotal: 24.2ms\tremaining: 188ms\n",
      "8:\tlearn: 0.3862425\ttotal: 25.1ms\tremaining: 170ms\n",
      "9:\tlearn: 0.3774547\ttotal: 26ms\tremaining: 156ms\n",
      "10:\tlearn: 0.3741655\ttotal: 27ms\tremaining: 145ms\n",
      "11:\tlearn: 0.3582168\ttotal: 27.9ms\tremaining: 135ms\n",
      "12:\tlearn: 0.3516530\ttotal: 28.8ms\tremaining: 126ms\n",
      "13:\tlearn: 0.3456985\ttotal: 29.7ms\tremaining: 119ms\n",
      "14:\tlearn: 0.3402813\ttotal: 30.7ms\tremaining: 112ms\n",
      "15:\tlearn: 0.3371337\ttotal: 31.6ms\tremaining: 107ms\n",
      "16:\tlearn: 0.3354644\ttotal: 32.5ms\tremaining: 101ms\n",
      "17:\tlearn: 0.3312843\ttotal: 33.4ms\tremaining: 96.6ms\n",
      "18:\tlearn: 0.3287642\ttotal: 34.4ms\tremaining: 92.3ms\n",
      "19:\tlearn: 0.3263734\ttotal: 35.3ms\tremaining: 88.2ms\n",
      "20:\tlearn: 0.3223066\ttotal: 36.2ms\tremaining: 84.4ms\n",
      "21:\tlearn: 0.3200262\ttotal: 37.1ms\tremaining: 81ms\n",
      "22:\tlearn: 0.3181587\ttotal: 38ms\tremaining: 77.6ms\n",
      "23:\tlearn: 0.3150429\ttotal: 38.9ms\tremaining: 74.6ms\n",
      "24:\tlearn: 0.3125478\ttotal: 39.8ms\tremaining: 71.7ms\n",
      "25:\tlearn: 0.3121376\ttotal: 40.7ms\tremaining: 68.9ms\n",
      "26:\tlearn: 0.3117663\ttotal: 41.2ms\tremaining: 65.6ms\n",
      "27:\tlearn: 0.3115256\ttotal: 41.7ms\tremaining: 62.5ms\n",
      "28:\tlearn: 0.3074683\ttotal: 42.6ms\tremaining: 60.3ms\n",
      "29:\tlearn: 0.3044917\ttotal: 43.6ms\tremaining: 58.1ms\n",
      "30:\tlearn: 0.3028042\ttotal: 44.5ms\tremaining: 56ms\n",
      "31:\tlearn: 0.3018357\ttotal: 45.5ms\tremaining: 54.1ms\n",
      "32:\tlearn: 0.2982111\ttotal: 46.4ms\tremaining: 52.1ms\n",
      "33:\tlearn: 0.2975773\ttotal: 47.3ms\tremaining: 50.1ms\n",
      "34:\tlearn: 0.2932687\ttotal: 48.2ms\tremaining: 48.2ms\n",
      "35:\tlearn: 0.2868707\ttotal: 49.1ms\tremaining: 46.4ms\n",
      "36:\tlearn: 0.2853640\ttotal: 50ms\tremaining: 44.6ms\n",
      "37:\tlearn: 0.2822439\ttotal: 51ms\tremaining: 42.9ms\n",
      "38:\tlearn: 0.2728387\ttotal: 51.9ms\tremaining: 41.2ms\n",
      "39:\tlearn: 0.2659481\ttotal: 52.8ms\tremaining: 39.6ms\n",
      "40:\tlearn: 0.2639766\ttotal: 53.7ms\tremaining: 38ms\n",
      "41:\tlearn: 0.2625862\ttotal: 54.6ms\tremaining: 36.4ms\n",
      "42:\tlearn: 0.2624005\ttotal: 55.5ms\tremaining: 34.8ms\n",
      "43:\tlearn: 0.2577587\ttotal: 56.4ms\tremaining: 33.3ms\n",
      "44:\tlearn: 0.2533557\ttotal: 57.3ms\tremaining: 31.8ms\n",
      "45:\tlearn: 0.2489279\ttotal: 58.3ms\tremaining: 30.4ms\n",
      "46:\tlearn: 0.2475119\ttotal: 59.2ms\tremaining: 29ms\n",
      "47:\tlearn: 0.2427710\ttotal: 60.1ms\tremaining: 27.5ms\n",
      "48:\tlearn: 0.2412381\ttotal: 61ms\tremaining: 26.2ms\n",
      "49:\tlearn: 0.2394041\ttotal: 61.9ms\tremaining: 24.8ms\n",
      "50:\tlearn: 0.2389506\ttotal: 62.8ms\tremaining: 23.4ms\n",
      "51:\tlearn: 0.2378180\ttotal: 63.7ms\tremaining: 22.1ms\n",
      "52:\tlearn: 0.2367554\ttotal: 64.6ms\tremaining: 20.7ms\n",
      "53:\tlearn: 0.2351984\ttotal: 65.5ms\tremaining: 19.4ms\n",
      "54:\tlearn: 0.2336698\ttotal: 66.5ms\tremaining: 18.1ms\n",
      "55:\tlearn: 0.2326815\ttotal: 67.4ms\tremaining: 16.8ms\n",
      "56:\tlearn: 0.2322614\ttotal: 68.3ms\tremaining: 15.6ms\n",
      "57:\tlearn: 0.2307645\ttotal: 69.2ms\tremaining: 14.3ms\n",
      "58:\tlearn: 0.2250356\ttotal: 70.1ms\tremaining: 13.1ms\n",
      "59:\tlearn: 0.2235149\ttotal: 71ms\tremaining: 11.8ms\n",
      "60:\tlearn: 0.2230976\ttotal: 72ms\tremaining: 10.6ms\n",
      "61:\tlearn: 0.2176156\ttotal: 72.9ms\tremaining: 9.4ms\n",
      "62:\tlearn: 0.2149534\ttotal: 73.9ms\tremaining: 8.21ms\n",
      "63:\tlearn: 0.2122510\ttotal: 74.8ms\tremaining: 7.02ms\n",
      "64:\tlearn: 0.2121476\ttotal: 75.7ms\tremaining: 5.83ms\n",
      "65:\tlearn: 0.2112523\ttotal: 76.6ms\tremaining: 4.64ms\n",
      "66:\tlearn: 0.2098287\ttotal: 77.6ms\tremaining: 3.47ms\n",
      "67:\tlearn: 0.2078895\ttotal: 78.5ms\tremaining: 2.31ms\n",
      "68:\tlearn: 0.2068680\ttotal: 79.4ms\tremaining: 1.15ms\n",
      "69:\tlearn: 0.2031164\ttotal: 80.3ms\tremaining: 0us\n",
      "4 th fold： 0.8595505617977528\n",
      "avg score=  0.840631473228297\n"
     ]
    }
   ],
   "source": [
    "from catboost import CatBoostClassifier\n",
    "best_model=None\n",
    "folds=5\n",
    "best_score=0\n",
    "avg_score_cat=0\n",
    "result_cat=np.zeros(418)\n",
    "train_result_cat=np.zeros(891)\n",
    "\n",
    "kf=KFold(n_splits=folds,shuffle=True,random_state=2022)\n",
    "for i, (train_index,test_index) in enumerate(kf.split(X_train)):\n",
    "    lgb=CatBoostClassifier(learning_rate=0.2,n_estimators=70)\n",
    "    lgb.fit(X_train[train_index],y_train[train_index])\n",
    "    score=lgb.score(X_train[test_index],y_train[test_index])\n",
    "    print(i,'th fold：',score)\n",
    "    if best_score<score:\n",
    "        best_score=score\n",
    "        best_model=lgb    \n",
    "    avg_score_cat+=score\n",
    "    result_cat+=lgb.predict_proba(X_test)[:,1]\n",
    "    train_result_cat[test_index]=lgb.predict_proba(X_train[test_index])[:,1]\n",
    "    \n",
    "avg_score_cat/=folds\n",
    "result_cat/=5\n",
    "\n",
    "print(\"avg score= \",avg_score_cat)"
   ]
  },
  {
   "cell_type": "markdown",
   "id": "c9421d7a",
   "metadata": {},
   "source": [
    "## gbt"
   ]
  },
  {
   "cell_type": "code",
   "execution_count": 62,
   "id": "0de07f09",
   "metadata": {
    "ExecuteTime": {
     "end_time": "2022-05-20T13:25:22.943329Z",
     "start_time": "2022-05-20T13:25:22.408197Z"
    }
   },
   "outputs": [
    {
     "name": "stdout",
     "output_type": "stream",
     "text": [
      "0 th fold： 0.8547486033519553\n",
      "1 th fold： 0.7808988764044944\n",
      "2 th fold： 0.8033707865168539\n",
      "3 th fold： 0.9269662921348315\n",
      "4 th fold： 0.8539325842696629\n",
      "avg score=  0.8439834285355596\n"
     ]
    }
   ],
   "source": [
    "from sklearn.ensemble import GradientBoostingClassifier\n",
    "best_model=None\n",
    "folds=5\n",
    "best_score=0\n",
    "avg_score_gbt=0\n",
    "result_gbt=np.zeros(418)\n",
    "train_result_gbt=np.zeros(891)\n",
    "\n",
    "kf=KFold(n_splits=folds,shuffle=True,random_state=2022)\n",
    "for i, (train_index,test_index) in enumerate(kf.split(X_train)):\n",
    "    lgb=GradientBoostingClassifier(learning_rate=0.2,n_estimators=150)\n",
    "    lgb.fit(X_train[train_index],y_train[train_index])\n",
    "    score=lgb.score(X_train[test_index],y_train[test_index])\n",
    "    print(i,'th fold：',score)\n",
    "    if best_score<score:\n",
    "        best_score=score\n",
    "        best_model=lgb    \n",
    "    avg_score_gbt+=score\n",
    "    result_gbt+=lgb.predict_proba(X_test)[:,1]\n",
    "    train_result_gbt[test_index]=lgb.predict_proba(X_train[test_index])[:,1]\n",
    "    \n",
    "avg_score_gbt/=folds\n",
    "result_gbt/=folds\n",
    "\n",
    "print(\"avg score= \",avg_score_gbt)"
   ]
  },
  {
   "cell_type": "markdown",
   "id": "d161dd24",
   "metadata": {},
   "source": [
    "## RF"
   ]
  },
  {
   "cell_type": "code",
   "execution_count": 63,
   "id": "bb518fc5",
   "metadata": {
    "ExecuteTime": {
     "end_time": "2022-05-20T13:25:38.347600Z",
     "start_time": "2022-05-20T13:25:37.872723Z"
    }
   },
   "outputs": [
    {
     "name": "stdout",
     "output_type": "stream",
     "text": [
      "0 th fold： 0.8379888268156425\n",
      "1 th fold： 0.8202247191011236\n",
      "2 th fold： 0.797752808988764\n",
      "3 th fold： 0.8820224719101124\n",
      "4 th fold： 0.8089887640449438\n",
      "avg score=  0.8293955181721172\n"
     ]
    }
   ],
   "source": [
    "from sklearn.ensemble import RandomForestClassifier\n",
    "best_model=None\n",
    "folds=5\n",
    "best_score=0\n",
    "avg_score_rf=0\n",
    "result_rf=np.zeros(418)\n",
    "train_result_rf=np.zeros(891)\n",
    "\n",
    "kf=KFold(n_splits=folds,shuffle=True,random_state=2022)\n",
    "for i, (train_index,test_index) in enumerate(kf.split(X_train)):\n",
    "    lgb=RandomForestClassifier(n_estimators=100,max_depth=5,min_samples_split=4,min_samples_leaf=3)\n",
    "    lgb.fit(X_train[train_index],y_train[train_index])\n",
    "    score=lgb.score(X_train[test_index],y_train[test_index])\n",
    "    print(i,'th fold：',score)\n",
    "    if best_score<score:\n",
    "        best_score=score\n",
    "        best_model=lgb    \n",
    "    avg_score_rf+=score\n",
    "    result_rf+=lgb.predict_proba(X_test)[:,1]\n",
    "    train_result_rf[test_index]=lgb.predict_proba(X_train[test_index])[:,1]\n",
    "    \n",
    "avg_score_rf/=folds\n",
    "result_rf/=folds\n",
    "\n",
    "print(\"avg score= \",avg_score_rf)"
   ]
  },
  {
   "cell_type": "markdown",
   "id": "6326d0f0",
   "metadata": {},
   "source": [
    "## lr"
   ]
  },
  {
   "cell_type": "code",
   "execution_count": 64,
   "id": "f978818e",
   "metadata": {
    "ExecuteTime": {
     "end_time": "2022-05-20T13:25:56.955060Z",
     "start_time": "2022-05-20T13:25:56.859991Z"
    }
   },
   "outputs": [
    {
     "name": "stdout",
     "output_type": "stream",
     "text": [
      "0 th fold： 0.8324022346368715\n",
      "1 th fold： 0.7808988764044944\n",
      "2 th fold： 0.797752808988764\n",
      "3 th fold： 0.8932584269662921\n",
      "4 th fold： 0.8146067415730337\n",
      "avg score=  0.8237838177138912\n"
     ]
    }
   ],
   "source": [
    "from sklearn.linear_model import LogisticRegression\n",
    "best_model=None\n",
    "folds=5\n",
    "best_score=0\n",
    "avg_score_lr=0\n",
    "result_lr=np.zeros(418)\n",
    "train_result_lr=np.zeros(891)\n",
    "\n",
    "kf=KFold(n_splits=folds,shuffle=True,random_state=2022)\n",
    "for i, (train_index,test_index) in enumerate(kf.split(X_train)):\n",
    "    lgb=LogisticRegression()\n",
    "    lgb.fit(X_train[train_index],y_train[train_index])\n",
    "    score=lgb.score(X_train[test_index],y_train[test_index])\n",
    "    print(i,'th fold：',score)\n",
    "    if best_score<score:\n",
    "        best_score=score\n",
    "        best_model=lgb    \n",
    "    avg_score_lr+=score\n",
    "    result_lr+=lgb.predict_proba(X_test)[:,1]\n",
    "    train_result_lr[test_index]=lgb.predict_proba(X_train[test_index])[:,1]\n",
    "    \n",
    "avg_score_lr/=folds\n",
    "result_lr/=folds\n",
    "\n",
    "print(\"avg score= \",avg_score_lr)"
   ]
  },
  {
   "cell_type": "markdown",
   "id": "28d7abe0",
   "metadata": {},
   "source": [
    "## SVC"
   ]
  },
  {
   "cell_type": "code",
   "execution_count": 75,
   "id": "257ef419",
   "metadata": {
    "ExecuteTime": {
     "end_time": "2022-05-20T13:29:57.278125Z",
     "start_time": "2022-05-20T13:29:57.168106Z"
    }
   },
   "outputs": [
    {
     "name": "stdout",
     "output_type": "stream",
     "text": [
      "0 th fold： 0.7877094972067039\n",
      "1 th fold： 0.8033707865168539\n",
      "2 th fold： 0.7921348314606742\n",
      "3 th fold： 0.8595505617977528\n",
      "4 th fold： 0.8314606741573034\n",
      "avg score=  0.8148452702278576\n"
     ]
    }
   ],
   "source": [
    "from sklearn.svm import LinearSVC\n",
    "\n",
    "best_model=None\n",
    "folds=5\n",
    "best_score=0\n",
    "avg_score_svc=0\n",
    "result_svc=np.zeros(418)\n",
    "train_result_svc=np.zeros(891)\n",
    "\n",
    "kf=KFold(n_splits=folds,shuffle=True,random_state=2022)\n",
    "for i, (train_index,test_index) in enumerate(kf.split(X_train)):\n",
    "    lgb=LinearSVC(C=0.09,tol=1e-4,max_iter=1000)\n",
    "    lgb.fit(X_train[train_index],y_train[train_index])\n",
    "    score=lgb.score(X_train[test_index],y_train[test_index])\n",
    "    print(i,'th fold：',score)\n",
    "    if best_score<score:\n",
    "        best_score=score\n",
    "        best_model=lgb    \n",
    "    avg_score_svc+=score\n",
    "    result_svc+=lgb.predict(X_test)\n",
    "    train_result_svc[test_index]=lgb.predict(X_train[test_index])\n",
    "    \n",
    "avg_score_svc/=folds\n",
    "result_svc/=folds\n",
    "\n",
    "print(\"avg score= \",avg_score_svc)"
   ]
  },
  {
   "cell_type": "markdown",
   "id": "8a1f175f",
   "metadata": {},
   "source": [
    "## knn"
   ]
  },
  {
   "cell_type": "code",
   "execution_count": 244,
   "id": "34f8f747",
   "metadata": {
    "ExecuteTime": {
     "end_time": "2022-05-20T14:18:06.917841Z",
     "start_time": "2022-05-20T14:18:06.820691Z"
    }
   },
   "outputs": [
    {
     "name": "stdout",
     "output_type": "stream",
     "text": [
      "0 th fold： 0.770949720670391\n",
      "1 th fold： 0.8033707865168539\n",
      "2 th fold： 0.7415730337078652\n",
      "3 th fold： 0.8314606741573034\n",
      "4 th fold： 0.7921348314606742\n",
      "avg score=  0.7878978093026175\n"
     ]
    }
   ],
   "source": [
    "from sklearn.neighbors import KNeighborsClassifier\n",
    "\n",
    "best_model=None\n",
    "folds=5\n",
    "best_score=0\n",
    "avg_score_knn=0\n",
    "result_knn=np.zeros(418)\n",
    "train_result_knn=np.zeros(891)\n",
    "\n",
    "kf=KFold(n_splits=folds,shuffle=True,random_state=2022)\n",
    "for i, (train_index,test_index) in enumerate(kf.split(X_train)):\n",
    "    lgb=KNeighborsClassifier(n_neighbors=9,p=1)\n",
    "    lgb.fit(X_train[train_index],y_train[train_index])\n",
    "    score=lgb.score(X_train[test_index],y_train[test_index])\n",
    "    print(i,'th fold：',score)\n",
    "    if best_score<score:\n",
    "        best_score=score\n",
    "        best_model=lgb    \n",
    "    avg_score_knn+=score\n",
    "    result_knn+=lgb.predict_proba(X_test)[:,1]\n",
    "    train_result_knn[test_index]=lgb.predict_proba(X_train[test_index])[:,1]\n",
    "    \n",
    "avg_score_knn/=folds\n",
    "result_knn/=folds\n",
    "\n",
    "print(\"avg score= \",avg_score_knn)"
   ]
  },
  {
   "cell_type": "markdown",
   "id": "22406314",
   "metadata": {},
   "source": [
    "## perceptron"
   ]
  },
  {
   "cell_type": "code",
   "execution_count": 80,
   "id": "aa035203",
   "metadata": {
    "ExecuteTime": {
     "end_time": "2022-05-20T13:32:49.243965Z",
     "start_time": "2022-05-20T13:32:49.224028Z"
    }
   },
   "outputs": [
    {
     "name": "stdout",
     "output_type": "stream",
     "text": [
      "0 th fold： 0.7541899441340782\n",
      "1 th fold： 0.7865168539325843\n",
      "2 th fold： 0.7191011235955056\n",
      "3 th fold： 0.7752808988764045\n",
      "4 th fold： 0.7584269662921348\n",
      "avg score=  0.7587031573661415\n"
     ]
    }
   ],
   "source": [
    "from sklearn.linear_model import Perceptron\n",
    "\n",
    "best_model=None\n",
    "folds=5\n",
    "best_score=0\n",
    "avg_score_pt=0\n",
    "result_pt=np.zeros(418)\n",
    "train_result_pt=np.zeros(891)\n",
    "\n",
    "kf=KFold(n_splits=folds,shuffle=True,random_state=2022)\n",
    "for i, (train_index,test_index) in enumerate(kf.split(X_train)):\n",
    "    lgb=Perceptron(penalty='l2',alpha=1e-5,max_iter=10,validation_fraction=0.1,n_iter_no_change=10,warm_start=True)\n",
    "    lgb.fit(X_train[train_index],y_train[train_index])\n",
    "    score=lgb.score(X_train[test_index],y_train[test_index])\n",
    "    print(i,'th fold：',score)\n",
    "    if best_score<score:\n",
    "        best_score=score\n",
    "        best_model=lgb    \n",
    "    avg_score_pt+=score\n",
    "    result_pt+=lgb.predict(X_test)\n",
    "    train_result_pt[test_index]=lgb.predict(X_train[test_index])\n",
    "    \n",
    "avg_score_pt/=folds\n",
    "result_pt/=folds\n",
    "\n",
    "print(\"avg score= \",avg_score_pt)"
   ]
  },
  {
   "cell_type": "markdown",
   "id": "b6dc6177",
   "metadata": {},
   "source": [
    "## SGD"
   ]
  },
  {
   "cell_type": "code",
   "execution_count": 91,
   "id": "91cf5045",
   "metadata": {
    "ExecuteTime": {
     "end_time": "2022-05-20T13:38:05.390675Z",
     "start_time": "2022-05-20T13:38:05.367752Z"
    }
   },
   "outputs": [
    {
     "name": "stdout",
     "output_type": "stream",
     "text": [
      "0 th fold： 0.6759776536312849\n",
      "1 th fold： 0.7134831460674157\n",
      "2 th fold： 0.7584269662921348\n",
      "3 th fold： 0.8370786516853933\n",
      "4 th fold： 0.7247191011235955\n",
      "avg score=  0.7419371037599649\n"
     ]
    }
   ],
   "source": [
    "from sklearn.linear_model import SGDClassifier\n",
    "\n",
    "best_model=None\n",
    "folds=5\n",
    "best_score=0\n",
    "avg_score_sgd=0\n",
    "result_sgd=np.zeros(418)\n",
    "train_result_sgd=np.zeros(891)\n",
    "\n",
    "kf=KFold(n_splits=folds,shuffle=True,random_state=2022)\n",
    "for i, (train_index,test_index) in enumerate(kf.split(X_train)):\n",
    "    lgb=SGDClassifier(loss='log',alpha=1e-5,max_iter=20,validation_fraction=0.1,n_iter_no_change=10,warm_start=True)\n",
    "#     lgb=SGDClassifier(penalty='l2',alpha=1e-5,max_iter=10,validation_fraction=0.1,n_iter_no_change=10,warm_start=True)\n",
    "    lgb.fit(X_train[train_index],y_train[train_index])\n",
    "    score=lgb.score(X_train[test_index],y_train[test_index])\n",
    "    print(i,'th fold：',score)\n",
    "    if best_score<score:\n",
    "        best_score=score\n",
    "        best_model=lgb    \n",
    "    avg_score_sgd+=score\n",
    "    result_sgd+=lgb.predict_proba(X_test)[:,1]\n",
    "    train_result_sgd[test_index]=lgb.predict_proba(X_train[test_index])[:,1]\n",
    "    \n",
    "avg_score_sgd/=folds\n",
    "result_sgd/=folds\n",
    "\n",
    "print(\"avg score= \",avg_score_sgd)"
   ]
  },
  {
   "cell_type": "markdown",
   "id": "b76c21cb",
   "metadata": {
    "ExecuteTime": {
     "end_time": "2022-05-19T12:55:33.942037Z",
     "start_time": "2022-05-19T12:55:33.936501Z"
    }
   },
   "source": [
    "## gp"
   ]
  },
  {
   "cell_type": "code",
   "execution_count": 92,
   "id": "3f8ee915",
   "metadata": {
    "ExecuteTime": {
     "end_time": "2022-05-20T13:38:28.636876Z",
     "start_time": "2022-05-20T13:38:27.672830Z"
    }
   },
   "outputs": [
    {
     "name": "stdout",
     "output_type": "stream",
     "text": [
      "0 th fold： 0.8156424581005587\n",
      "1 th fold： 0.7078651685393258\n",
      "2 th fold： 0.6910112359550562\n",
      "3 th fold： 0.7696629213483146\n",
      "4 th fold： 0.7134831460674157\n",
      "avg score=  0.739532986002134\n"
     ]
    }
   ],
   "source": [
    "from sklearn.gaussian_process import GaussianProcessClassifier\n",
    "\n",
    "best_model=None\n",
    "folds=5\n",
    "best_score=0\n",
    "avg_score_gp=0\n",
    "result_gp=np.zeros(418)\n",
    "train_result_gp=np.zeros(891)\n",
    "\n",
    "kf=KFold(n_splits=folds,shuffle=True,random_state=2022)\n",
    "for i, (train_index,test_index) in enumerate(kf.split(X_train)):\n",
    "    lgb=GaussianProcessClassifier()\n",
    "    lgb.fit(X_train[train_index],y_train[train_index])\n",
    "    score=lgb.score(X_train[test_index],y_train[test_index])\n",
    "    print(i,'th fold：',score)\n",
    "    if best_score<score:\n",
    "        best_score=score\n",
    "        best_model=lgb    \n",
    "    avg_score_gp+=score\n",
    "    result_gp+=lgb.predict_proba(X_test)[:,1]\n",
    "    train_result_gp[test_index]=lgb.predict_proba(X_train[test_index])[:,1]\n",
    "    \n",
    "avg_score_gp/=folds\n",
    "result_gp/=folds\n",
    "\n",
    "print(\"avg score= \",avg_score_gp)"
   ]
  },
  {
   "cell_type": "markdown",
   "id": "a119f069",
   "metadata": {},
   "source": [
    "##  bayes"
   ]
  },
  {
   "cell_type": "code",
   "execution_count": 93,
   "id": "6ba53436",
   "metadata": {
    "ExecuteTime": {
     "end_time": "2022-05-20T13:38:53.582911Z",
     "start_time": "2022-05-20T13:38:53.566841Z"
    }
   },
   "outputs": [
    {
     "name": "stdout",
     "output_type": "stream",
     "text": [
      "0 th fold： 0.7988826815642458\n",
      "1 th fold： 0.7921348314606742\n",
      "2 th fold： 0.7584269662921348\n",
      "3 th fold： 0.8651685393258427\n",
      "4 th fold： 0.7696629213483146\n",
      "avg score=  0.7968551879982424\n"
     ]
    }
   ],
   "source": [
    "from sklearn.naive_bayes import BernoulliNB\n",
    "\n",
    "best_model=None\n",
    "folds=5\n",
    "best_score=0\n",
    "avg_score_by=0\n",
    "result_by=np.zeros(418)\n",
    "train_result_by=np.zeros(891)\n",
    "\n",
    "kf=KFold(n_splits=folds,shuffle=True,random_state=2022)\n",
    "for i, (train_index,test_index) in enumerate(kf.split(X_train)):\n",
    "    lgb=BernoulliNB(alpha=10)\n",
    "    lgb.fit(X_train[train_index],y_train[train_index])\n",
    "    score=lgb.score(X_train[test_index],y_train[test_index])\n",
    "    print(i,'th fold：',score)\n",
    "    if best_score<score:\n",
    "        best_score=score\n",
    "        best_model=lgb    \n",
    "    avg_score_by+=score\n",
    "    result_by+=lgb.predict_proba(X_test)[:,1]\n",
    "    train_result_by[test_index]=lgb.predict_proba(X_train[test_index])[:,1]\n",
    "    \n",
    "avg_score_by/=folds\n",
    "result_by/=folds\n",
    "\n",
    "print(\"avg score= \",avg_score_by)"
   ]
  },
  {
   "cell_type": "markdown",
   "id": "e9a699bd",
   "metadata": {},
   "source": [
    "# 模型融合\n",
    "## 简单平均"
   ]
  },
  {
   "cell_type": "code",
   "execution_count": 36,
   "id": "467f63fd",
   "metadata": {
    "ExecuteTime": {
     "end_time": "2022-05-20T13:12:10.966702Z",
     "start_time": "2022-05-20T13:12:10.952680Z"
    }
   },
   "outputs": [],
   "source": [
    "result1=(result_lgb+result_xgb+result_cat+result_gbt+result_rf+result_lr+result_svc+result_knn+result_pt+result_sgd+result_gp+result_by)/12"
   ]
  },
  {
   "cell_type": "code",
   "execution_count": 333,
   "id": "b1290ac9",
   "metadata": {
    "ExecuteTime": {
     "end_time": "2022-05-19T13:47:04.781817Z",
     "start_time": "2022-05-19T13:47:04.770797Z"
    }
   },
   "outputs": [],
   "source": [
    "# result1_round=np.round(result1)\n",
    "pd.DataFrame(data=np.c_[list(range(892,1310)),result1_round],columns=[\"PassengerId\",\"Survived\"],dtype=np.int64).to_csv('result_20220519_avg.txt',index=False,header=True)# 得分：0.73444"
   ]
  },
  {
   "cell_type": "markdown",
   "id": "db091f47",
   "metadata": {
    "ExecuteTime": {
     "end_time": "2022-05-19T13:19:21.761363Z",
     "start_time": "2022-05-19T13:19:21.744415Z"
    }
   },
   "source": [
    "## 加权平均"
   ]
  },
  {
   "cell_type": "code",
   "execution_count": 319,
   "id": "de33db61",
   "metadata": {
    "ExecuteTime": {
     "end_time": "2022-05-19T13:38:58.088061Z",
     "start_time": "2022-05-19T13:38:58.072653Z"
    }
   },
   "outputs": [],
   "source": [
    "result2=(avg_score_lgb*result_lgb\\\n",
    "        +avg_score_xgb*result_xgb\\\n",
    "        +avg_score_cat*result_cat\\\n",
    "        +avg_score_gbt*result_gbt\\\n",
    "        +avg_score_rf*result_rf\\\n",
    "        +avg_score_lr*result_lr\\\n",
    "        +avg_score_svc*result_svc\\\n",
    "        +avg_score_knn*result_knn\\\n",
    "        +avg_score_pt*result_pt\\\n",
    "        +avg_score_sgd*result_sgd\\\n",
    "        +avg_score_gp*result_gp\\\n",
    "        +avg_score_by*result_by)/(avg_score_lgb+avg_score_xgb+avg_score_cat+avg_score_gbt+avg_score_rf+avg_score_lr+avg_score_svc\\\n",
    "                                 +avg_score_knn+avg_score_pt+avg_score_sgd+avg_score_gp+avg_score_by)"
   ]
  },
  {
   "cell_type": "code",
   "execution_count": 328,
   "id": "bf7316bd",
   "metadata": {
    "ExecuteTime": {
     "end_time": "2022-05-19T13:44:41.109208Z",
     "start_time": "2022-05-19T13:44:41.098245Z"
    }
   },
   "outputs": [
    {
     "data": {
      "text/plain": [
       "(array([], dtype=int64),)"
      ]
     },
     "execution_count": 328,
     "metadata": {},
     "output_type": "execute_result"
    }
   ],
   "source": [
    "np.where(result1_round!=result2_round)# 简单平均和加权平均结果一样"
   ]
  },
  {
   "cell_type": "markdown",
   "id": "03c5d983",
   "metadata": {
    "ExecuteTime": {
     "end_time": "2022-05-19T13:44:02.002784Z",
     "start_time": "2022-05-19T13:44:01.996811Z"
    }
   },
   "source": [
    "## stacking"
   ]
  },
  {
   "cell_type": "code",
   "execution_count": 94,
   "id": "daaad518",
   "metadata": {
    "ExecuteTime": {
     "end_time": "2022-05-20T13:39:16.835075Z",
     "start_time": "2022-05-20T13:39:16.820018Z"
    }
   },
   "outputs": [],
   "source": [
    "train_stacking=np.c_[train_result_lgb,train_result_xgb,train_result_cat,train_result_gbt,train_result_rf,train_result_lr,train_result_svc,\\\n",
    "      train_result_knn,train_result_pt,train_result_sgd,train_result_gp,train_result_by]\n",
    "y_train_stacking=y_train.copy()\n",
    "test_stacking=np.c_[result_lgb,result_xgb,result_cat,result_gbt,result_rf,result_lr,result_svc,\\\n",
    "      result_knn,result_pt,result_sgd,result_gp,result_by]"
   ]
  },
  {
   "cell_type": "code",
   "execution_count": null,
   "id": "f0c98149",
   "metadata": {},
   "outputs": [],
   "source": [
    "LogisticRegression\n",
    "RandomForestClassifier"
   ]
  },
  {
   "cell_type": "markdown",
   "id": "2b19d8a6",
   "metadata": {},
   "source": [
    "### rf"
   ]
  },
  {
   "cell_type": "code",
   "execution_count": 168,
   "id": "d06f523e",
   "metadata": {
    "ExecuteTime": {
     "end_time": "2022-05-20T14:06:57.115205Z",
     "start_time": "2022-05-20T14:06:56.545564Z"
    }
   },
   "outputs": [
    {
     "name": "stdout",
     "output_type": "stream",
     "text": [
      "0 th fold： 0.8268156424581006\n",
      "1 th fold： 0.7921348314606742\n",
      "2 th fold： 0.8202247191011236\n",
      "3 th fold： 0.9157303370786517\n",
      "4 th fold： 0.8426966292134831\n",
      "avg score=  0.8395204318624065\n"
     ]
    }
   ],
   "source": [
    "best_model=None\n",
    "folds=5\n",
    "best_score=0\n",
    "avg_score_lr=0\n",
    "result_rf_s=np.zeros(418)\n",
    "\n",
    "kf=KFold(n_splits=folds,shuffle=True,random_state=2022)\n",
    "for i, (train_index,test_index) in enumerate(kf.split(train_stacking)):\n",
    "    lgb=RandomForestClassifier(n_estimators=100,max_depth=8,min_samples_split=4,min_samples_leaf=3)\n",
    "    lgb.fit(train_stacking[train_index],y_train_stacking[train_index])\n",
    "    score=lgb.score(train_stacking[test_index],y_train_stacking[test_index])\n",
    "    print(i,'th fold：',score)\n",
    "    if best_score<score:\n",
    "        best_score=score\n",
    "        best_model=lgb    \n",
    "    avg_score_lr+=score\n",
    "    result_rf_s+=lgb.predict(test_stacking)\n",
    "    \n",
    "avg_score_lr/=folds\n",
    "result_rf_s/=folds\n",
    "\n",
    "print(\"avg score= \",avg_score_lr)"
   ]
  },
  {
   "cell_type": "code",
   "execution_count": 112,
   "id": "2d162d75",
   "metadata": {
    "ExecuteTime": {
     "end_time": "2022-05-20T13:48:40.880461Z",
     "start_time": "2022-05-20T13:48:40.867505Z"
    }
   },
   "outputs": [
    {
     "data": {
      "text/plain": [
       "(array([  4,  21,  32,  33,  34,  36,  37,  41,  73,  75,  87,  98, 125,\n",
       "        138, 144, 148, 153, 159, 165, 197, 199, 202, 242, 249, 252, 268,\n",
       "        283, 293, 316, 323, 359, 367, 379, 382], dtype=int64),)"
      ]
     },
     "execution_count": 112,
     "metadata": {},
     "output_type": "execute_result"
    }
   ],
   "source": [
    "np.where(np.round(result_rf_s)!=np.round(result1))"
   ]
  },
  {
   "cell_type": "code",
   "execution_count": 167,
   "id": "9ea38baa",
   "metadata": {
    "ExecuteTime": {
     "end_time": "2022-05-20T14:05:49.358709Z",
     "start_time": "2022-05-20T14:05:49.347213Z"
    }
   },
   "outputs": [],
   "source": [
    "pd.DataFrame(data=np.c_[list(range(892,1310)),result_lr_s],columns=[\"PassengerId\",\"Survived\"],dtype=np.int64).to_csv('result_20220520_rf_s.txt',index=False,header=True)# 得分：0.73444"
   ]
  },
  {
   "cell_type": "markdown",
   "id": "e87a4167",
   "metadata": {},
   "source": [
    "### lr"
   ]
  },
  {
   "cell_type": "code",
   "execution_count": 153,
   "id": "7c892fb2",
   "metadata": {
    "ExecuteTime": {
     "end_time": "2022-05-20T14:04:06.793514Z",
     "start_time": "2022-05-20T14:04:06.760712Z"
    }
   },
   "outputs": [
    {
     "name": "stdout",
     "output_type": "stream",
     "text": [
      "0 th fold： 0.8547486033519553\n",
      "1 th fold： 0.7921348314606742\n",
      "2 th fold： 0.8089887640449438\n",
      "3 th fold： 0.9157303370786517\n",
      "4 th fold： 0.848314606741573\n",
      "avg score=  0.8439834285355596\n"
     ]
    }
   ],
   "source": [
    "best_model=None\n",
    "folds=5\n",
    "best_score=0\n",
    "avg_score_lr=0\n",
    "result_lr_s=np.zeros(418)\n",
    "\n",
    "kf=KFold(n_splits=folds,shuffle=True,random_state=2022)\n",
    "for i, (train_index,test_index) in enumerate(kf.split(train_stacking)):\n",
    "    lgb=LogisticRegression()\n",
    "    lgb.fit(train_stacking[train_index],y_train_stacking[train_index])\n",
    "    score=lgb.score(train_stacking[test_index],y_train_stacking[test_index])\n",
    "    print(i,'th fold：',score)\n",
    "    if best_score<score:\n",
    "        best_score=score\n",
    "        best_model=lgb    \n",
    "    avg_score_lr+=score\n",
    "    result_lr_s+=lgb.predict(test_stacking)\n",
    "    \n",
    "avg_score_lr/=folds\n",
    "result_lr_s/=folds\n",
    "\n",
    "print(\"avg score= \",avg_score_lr)"
   ]
  },
  {
   "cell_type": "code",
   "execution_count": 109,
   "id": "9db79c3e",
   "metadata": {
    "ExecuteTime": {
     "end_time": "2022-05-20T13:48:01.509355Z",
     "start_time": "2022-05-20T13:48:01.490418Z"
    }
   },
   "outputs": [
    {
     "data": {
      "text/plain": [
       "(array([ 34,  36,  37,  41,  75, 138, 144, 148, 165, 197, 199, 242, 244,\n",
       "        249, 252, 268, 316, 323, 367, 405], dtype=int64),)"
      ]
     },
     "execution_count": 109,
     "metadata": {},
     "output_type": "execute_result"
    }
   ],
   "source": [
    "np.where(np.round(result_lr_s)!=np.round(result1))"
   ]
  },
  {
   "cell_type": "code",
   "execution_count": 114,
   "id": "1d16d2ac",
   "metadata": {
    "ExecuteTime": {
     "end_time": "2022-05-20T13:49:07.685699Z",
     "start_time": "2022-05-20T13:49:07.678672Z"
    }
   },
   "outputs": [
    {
     "data": {
      "text/plain": [
       "(array([  4,  21,  32,  33,  73,  87,  98, 125, 153, 159, 202, 244, 283,\n",
       "        293, 359, 379, 382, 405], dtype=int64),)"
      ]
     },
     "execution_count": 114,
     "metadata": {},
     "output_type": "execute_result"
    }
   ],
   "source": [
    "np.where(np.round(result_lr_s)!=np.round(result_rf_s))"
   ]
  },
  {
   "cell_type": "markdown",
   "id": "4509299c",
   "metadata": {},
   "source": [
    "### lgb"
   ]
  },
  {
   "cell_type": "code",
   "execution_count": 169,
   "id": "a77d399c",
   "metadata": {
    "ExecuteTime": {
     "end_time": "2022-05-20T14:07:11.691534Z",
     "start_time": "2022-05-20T14:07:11.553041Z"
    }
   },
   "outputs": [
    {
     "name": "stdout",
     "output_type": "stream",
     "text": [
      "0 th fold： 0.8212290502793296\n",
      "1 th fold： 0.7921348314606742\n",
      "2 th fold： 0.8202247191011236\n",
      "3 th fold： 0.9101123595505618\n",
      "4 th fold： 0.8595505617977528\n",
      "avg score=  0.8406503044378884\n"
     ]
    }
   ],
   "source": [
    "best_model=None\n",
    "folds=5\n",
    "best_score=0\n",
    "avg_score_lr=0\n",
    "result_lgb_s=np.zeros(418)\n",
    "\n",
    "kf=KFold(n_splits=folds,shuffle=True,random_state=2022)\n",
    "for i, (train_index,test_index) in enumerate(kf.split(train_stacking)):\n",
    "    lgb=LGBMClassifier(learning_rate=0.009,max_depth=13,n_estimators=70)\n",
    "    lgb.fit(train_stacking[train_index],y_train_stacking[train_index])\n",
    "    score=lgb.score(train_stacking[test_index],y_train_stacking[test_index])\n",
    "    print(i,'th fold：',score)\n",
    "    if best_score<score:\n",
    "        best_score=score\n",
    "        best_model=lgb    \n",
    "    avg_score_lr+=score\n",
    "    result_lgb_s+=lgb.predict(test_stacking)\n",
    "    \n",
    "avg_score_lr/=folds\n",
    "result_lgb_s/=folds\n",
    "\n",
    "print(\"avg score= \",avg_score_lr)"
   ]
  },
  {
   "cell_type": "markdown",
   "id": "ed9ef163",
   "metadata": {},
   "source": [
    "### cat"
   ]
  },
  {
   "cell_type": "code",
   "execution_count": 179,
   "id": "f9664df1",
   "metadata": {
    "ExecuteTime": {
     "end_time": "2022-05-20T14:10:28.654163Z",
     "start_time": "2022-05-20T14:10:28.107099Z"
    }
   },
   "outputs": [
    {
     "name": "stdout",
     "output_type": "stream",
     "text": [
      "0:\tlearn: 0.6465073\ttotal: 1.1ms\tremaining: 76ms\n",
      "1:\tlearn: 0.6080789\ttotal: 2.1ms\tremaining: 71.5ms\n",
      "2:\tlearn: 0.5759160\ttotal: 2.9ms\tremaining: 64.7ms\n",
      "3:\tlearn: 0.5463286\ttotal: 3.73ms\tremaining: 61.5ms\n",
      "4:\tlearn: 0.5222416\ttotal: 4.49ms\tremaining: 58.4ms\n",
      "5:\tlearn: 0.5022131\ttotal: 5.27ms\tremaining: 56.2ms\n",
      "6:\tlearn: 0.4855599\ttotal: 6.03ms\tremaining: 54.3ms\n",
      "7:\tlearn: 0.4703763\ttotal: 6.82ms\tremaining: 52.9ms\n",
      "8:\tlearn: 0.4565108\ttotal: 7.74ms\tremaining: 52.4ms\n",
      "9:\tlearn: 0.4442994\ttotal: 8.6ms\tremaining: 51.6ms\n",
      "10:\tlearn: 0.4341236\ttotal: 9.39ms\tremaining: 50.3ms\n",
      "11:\tlearn: 0.4249654\ttotal: 10.2ms\tremaining: 49.2ms\n",
      "12:\tlearn: 0.4166309\ttotal: 11ms\tremaining: 48.3ms\n",
      "13:\tlearn: 0.4089197\ttotal: 11.8ms\tremaining: 47.4ms\n",
      "14:\tlearn: 0.4029824\ttotal: 12.6ms\tremaining: 46.3ms\n",
      "15:\tlearn: 0.3972800\ttotal: 13.4ms\tremaining: 45.2ms\n",
      "16:\tlearn: 0.3922267\ttotal: 14.2ms\tremaining: 44.2ms\n",
      "17:\tlearn: 0.3870358\ttotal: 14.9ms\tremaining: 43.1ms\n",
      "18:\tlearn: 0.3828713\ttotal: 15.7ms\tremaining: 42.1ms\n",
      "19:\tlearn: 0.3785719\ttotal: 16.4ms\tremaining: 41.1ms\n",
      "20:\tlearn: 0.3750846\ttotal: 17.2ms\tremaining: 40.2ms\n",
      "21:\tlearn: 0.3714444\ttotal: 18ms\tremaining: 39.2ms\n",
      "22:\tlearn: 0.3684886\ttotal: 18.8ms\tremaining: 38.4ms\n",
      "23:\tlearn: 0.3645864\ttotal: 19.5ms\tremaining: 37.4ms\n",
      "24:\tlearn: 0.3628970\ttotal: 20ms\tremaining: 36.1ms\n",
      "25:\tlearn: 0.3597348\ttotal: 20.8ms\tremaining: 35.2ms\n",
      "26:\tlearn: 0.3573304\ttotal: 21.6ms\tremaining: 34.4ms\n",
      "27:\tlearn: 0.3550481\ttotal: 22.4ms\tremaining: 33.6ms\n",
      "28:\tlearn: 0.3531644\ttotal: 23.3ms\tremaining: 32.9ms\n",
      "29:\tlearn: 0.3506477\ttotal: 24.1ms\tremaining: 32.1ms\n",
      "30:\tlearn: 0.3493698\ttotal: 24.8ms\tremaining: 31.3ms\n",
      "31:\tlearn: 0.3479898\ttotal: 25.6ms\tremaining: 30.4ms\n",
      "32:\tlearn: 0.3464845\ttotal: 26.4ms\tremaining: 29.6ms\n",
      "33:\tlearn: 0.3454493\ttotal: 27.1ms\tremaining: 28.7ms\n",
      "34:\tlearn: 0.3441174\ttotal: 27.9ms\tremaining: 27.9ms\n",
      "35:\tlearn: 0.3425165\ttotal: 28.6ms\tremaining: 27.1ms\n",
      "36:\tlearn: 0.3408161\ttotal: 29.4ms\tremaining: 26.3ms\n",
      "37:\tlearn: 0.3390777\ttotal: 30.2ms\tremaining: 25.5ms\n",
      "38:\tlearn: 0.3382685\ttotal: 31ms\tremaining: 24.7ms\n",
      "39:\tlearn: 0.3368694\ttotal: 31.8ms\tremaining: 23.8ms\n",
      "40:\tlearn: 0.3357758\ttotal: 32.5ms\tremaining: 23ms\n",
      "41:\tlearn: 0.3344816\ttotal: 33.3ms\tremaining: 22.2ms\n",
      "42:\tlearn: 0.3335219\ttotal: 34.1ms\tremaining: 21.4ms\n",
      "43:\tlearn: 0.3324459\ttotal: 34.9ms\tremaining: 20.6ms\n",
      "44:\tlearn: 0.3313304\ttotal: 35.7ms\tremaining: 19.8ms\n",
      "45:\tlearn: 0.3305561\ttotal: 36.4ms\tremaining: 19ms\n",
      "46:\tlearn: 0.3298847\ttotal: 37.2ms\tremaining: 18.2ms\n",
      "47:\tlearn: 0.3291341\ttotal: 38.1ms\tremaining: 17.5ms\n",
      "48:\tlearn: 0.3278341\ttotal: 38.9ms\tremaining: 16.7ms\n",
      "49:\tlearn: 0.3269396\ttotal: 39.7ms\tremaining: 15.9ms\n",
      "50:\tlearn: 0.3258784\ttotal: 40.4ms\tremaining: 15.1ms\n",
      "51:\tlearn: 0.3239667\ttotal: 41.2ms\tremaining: 14.3ms\n",
      "52:\tlearn: 0.3221633\ttotal: 42ms\tremaining: 13.5ms\n",
      "53:\tlearn: 0.3214330\ttotal: 42.8ms\tremaining: 12.7ms\n",
      "54:\tlearn: 0.3198007\ttotal: 43.6ms\tremaining: 11.9ms\n",
      "55:\tlearn: 0.3190092\ttotal: 44.3ms\tremaining: 11.1ms\n",
      "56:\tlearn: 0.3180664\ttotal: 45.1ms\tremaining: 10.3ms\n",
      "57:\tlearn: 0.3172680\ttotal: 45.9ms\tremaining: 9.49ms\n",
      "58:\tlearn: 0.3166499\ttotal: 46.6ms\tremaining: 8.7ms\n",
      "59:\tlearn: 0.3157570\ttotal: 47.4ms\tremaining: 7.91ms\n",
      "60:\tlearn: 0.3147234\ttotal: 48.2ms\tremaining: 7.11ms\n",
      "61:\tlearn: 0.3131672\ttotal: 49ms\tremaining: 6.32ms\n",
      "62:\tlearn: 0.3118641\ttotal: 49.8ms\tremaining: 5.53ms\n",
      "63:\tlearn: 0.3111868\ttotal: 50.5ms\tremaining: 4.74ms\n",
      "64:\tlearn: 0.3100522\ttotal: 51.3ms\tremaining: 3.94ms\n",
      "65:\tlearn: 0.3094479\ttotal: 52ms\tremaining: 3.15ms\n",
      "66:\tlearn: 0.3084291\ttotal: 52.8ms\tremaining: 2.36ms\n",
      "67:\tlearn: 0.3078374\ttotal: 53.6ms\tremaining: 1.57ms\n",
      "68:\tlearn: 0.3062194\ttotal: 54.3ms\tremaining: 787us\n",
      "69:\tlearn: 0.3052425\ttotal: 55.1ms\tremaining: 0us\n",
      "0 th fold： 0.8491620111731844\n",
      "0:\tlearn: 0.6434193\ttotal: 1.25ms\tremaining: 86.6ms\n",
      "1:\tlearn: 0.6035046\ttotal: 2.25ms\tremaining: 76.5ms\n",
      "2:\tlearn: 0.5694072\ttotal: 3.05ms\tremaining: 68.2ms\n",
      "3:\tlearn: 0.5395365\ttotal: 3.84ms\tremaining: 63.4ms\n",
      "4:\tlearn: 0.5135526\ttotal: 4.6ms\tremaining: 59.9ms\n",
      "5:\tlearn: 0.4914635\ttotal: 5.45ms\tremaining: 58.2ms\n",
      "6:\tlearn: 0.4729647\ttotal: 6.25ms\tremaining: 56.2ms\n",
      "7:\tlearn: 0.4554624\ttotal: 7.02ms\tremaining: 54.4ms\n",
      "8:\tlearn: 0.4414419\ttotal: 7.79ms\tremaining: 52.8ms\n",
      "9:\tlearn: 0.4299614\ttotal: 8.55ms\tremaining: 51.3ms\n",
      "10:\tlearn: 0.4194534\ttotal: 9.31ms\tremaining: 49.9ms\n",
      "11:\tlearn: 0.4096496\ttotal: 10.1ms\tremaining: 48.7ms\n",
      "12:\tlearn: 0.4004995\ttotal: 10.8ms\tremaining: 47.5ms\n",
      "13:\tlearn: 0.3922649\ttotal: 11.6ms\tremaining: 46.4ms\n",
      "14:\tlearn: 0.3853413\ttotal: 12.4ms\tremaining: 45.3ms\n",
      "15:\tlearn: 0.3792599\ttotal: 13.1ms\tremaining: 44.4ms\n",
      "16:\tlearn: 0.3729200\ttotal: 13.9ms\tremaining: 43.4ms\n",
      "17:\tlearn: 0.3678116\ttotal: 14.7ms\tremaining: 42.4ms\n",
      "18:\tlearn: 0.3629301\ttotal: 15.4ms\tremaining: 41.4ms\n",
      "19:\tlearn: 0.3581518\ttotal: 16.2ms\tremaining: 40.5ms\n",
      "20:\tlearn: 0.3539874\ttotal: 17ms\tremaining: 39.6ms\n",
      "21:\tlearn: 0.3507885\ttotal: 17.7ms\tremaining: 38.7ms\n",
      "22:\tlearn: 0.3474832\ttotal: 18.5ms\tremaining: 37.9ms\n",
      "23:\tlearn: 0.3442860\ttotal: 19.3ms\tremaining: 37ms\n",
      "24:\tlearn: 0.3422456\ttotal: 19.9ms\tremaining: 35.8ms\n",
      "25:\tlearn: 0.3388306\ttotal: 20.7ms\tremaining: 35.1ms\n",
      "26:\tlearn: 0.3367026\ttotal: 21.5ms\tremaining: 34.2ms\n",
      "27:\tlearn: 0.3344289\ttotal: 22.3ms\tremaining: 33.4ms\n",
      "28:\tlearn: 0.3327588\ttotal: 23.1ms\tremaining: 32.6ms\n",
      "29:\tlearn: 0.3304315\ttotal: 23.9ms\tremaining: 31.8ms\n",
      "30:\tlearn: 0.3289829\ttotal: 24.6ms\tremaining: 31ms\n",
      "31:\tlearn: 0.3269753\ttotal: 25.4ms\tremaining: 30.2ms\n",
      "32:\tlearn: 0.3254648\ttotal: 26.2ms\tremaining: 29.4ms\n",
      "33:\tlearn: 0.3239308\ttotal: 27ms\tremaining: 28.6ms\n",
      "34:\tlearn: 0.3226909\ttotal: 27.8ms\tremaining: 27.8ms\n",
      "35:\tlearn: 0.3211674\ttotal: 28.6ms\tremaining: 27ms\n",
      "36:\tlearn: 0.3199159\ttotal: 29.4ms\tremaining: 26.2ms\n",
      "37:\tlearn: 0.3185770\ttotal: 30.1ms\tremaining: 25.4ms\n",
      "38:\tlearn: 0.3168324\ttotal: 30.9ms\tremaining: 24.6ms\n",
      "39:\tlearn: 0.3157788\ttotal: 31.7ms\tremaining: 23.8ms\n",
      "40:\tlearn: 0.3139606\ttotal: 32.4ms\tremaining: 22.9ms\n",
      "41:\tlearn: 0.3129369\ttotal: 33.2ms\tremaining: 22.1ms\n",
      "42:\tlearn: 0.3121328\ttotal: 33.9ms\tremaining: 21.3ms\n",
      "43:\tlearn: 0.3110511\ttotal: 34.7ms\tremaining: 20.5ms\n",
      "44:\tlearn: 0.3100192\ttotal: 35.5ms\tremaining: 19.7ms\n",
      "45:\tlearn: 0.3087441\ttotal: 36.3ms\tremaining: 18.9ms\n",
      "46:\tlearn: 0.3077374\ttotal: 37ms\tremaining: 18.1ms\n",
      "47:\tlearn: 0.3066960\ttotal: 37.8ms\tremaining: 17.3ms\n",
      "48:\tlearn: 0.3056016\ttotal: 38.6ms\tremaining: 16.5ms\n",
      "49:\tlearn: 0.3046847\ttotal: 39.3ms\tremaining: 15.7ms\n",
      "50:\tlearn: 0.3036214\ttotal: 40.1ms\tremaining: 14.9ms\n",
      "51:\tlearn: 0.3031026\ttotal: 40.8ms\tremaining: 14.1ms\n",
      "52:\tlearn: 0.3021755\ttotal: 41.6ms\tremaining: 13.3ms\n",
      "53:\tlearn: 0.3008641\ttotal: 42.4ms\tremaining: 12.5ms\n",
      "54:\tlearn: 0.3001685\ttotal: 43.1ms\tremaining: 11.8ms\n",
      "55:\tlearn: 0.2994432\ttotal: 43.9ms\tremaining: 11ms\n",
      "56:\tlearn: 0.2985034\ttotal: 44.6ms\tremaining: 10.2ms\n",
      "57:\tlearn: 0.2978486\ttotal: 45.4ms\tremaining: 9.39ms\n",
      "58:\tlearn: 0.2975657\ttotal: 46.1ms\tremaining: 8.6ms\n",
      "59:\tlearn: 0.2963668\ttotal: 46.9ms\tremaining: 7.82ms\n",
      "60:\tlearn: 0.2950021\ttotal: 47.7ms\tremaining: 7.04ms\n",
      "61:\tlearn: 0.2948916\ttotal: 48.2ms\tremaining: 6.22ms\n",
      "62:\tlearn: 0.2945852\ttotal: 49ms\tremaining: 5.44ms\n",
      "63:\tlearn: 0.2945056\ttotal: 49.7ms\tremaining: 4.66ms\n",
      "64:\tlearn: 0.2937491\ttotal: 50.5ms\tremaining: 3.88ms\n",
      "65:\tlearn: 0.2928841\ttotal: 51.3ms\tremaining: 3.11ms\n",
      "66:\tlearn: 0.2918985\ttotal: 52.1ms\tremaining: 2.33ms\n",
      "67:\tlearn: 0.2917389\ttotal: 52.8ms\tremaining: 1.55ms\n",
      "68:\tlearn: 0.2906467\ttotal: 53.6ms\tremaining: 776us\n",
      "69:\tlearn: 0.2904561\ttotal: 54.4ms\tremaining: 0us\n",
      "1 th fold： 0.7921348314606742\n",
      "0:\tlearn: 0.6446067\ttotal: 1.23ms\tremaining: 84.6ms\n",
      "1:\tlearn: 0.6047486\ttotal: 2.22ms\tremaining: 75.6ms\n",
      "2:\tlearn: 0.5725810\ttotal: 3.04ms\tremaining: 68ms\n",
      "3:\tlearn: 0.5447667\ttotal: 3.84ms\tremaining: 63.3ms\n",
      "4:\tlearn: 0.5169224\ttotal: 4.61ms\tremaining: 59.9ms\n",
      "5:\tlearn: 0.4956736\ttotal: 5.39ms\tremaining: 57.5ms\n",
      "6:\tlearn: 0.4776049\ttotal: 6.32ms\tremaining: 56.9ms\n",
      "7:\tlearn: 0.4609963\ttotal: 7.14ms\tremaining: 55.3ms\n",
      "8:\tlearn: 0.4475013\ttotal: 7.92ms\tremaining: 53.7ms\n",
      "9:\tlearn: 0.4351801\ttotal: 8.72ms\tremaining: 52.3ms\n",
      "10:\tlearn: 0.4235942\ttotal: 9.5ms\tremaining: 51ms\n",
      "11:\tlearn: 0.4137881\ttotal: 10.3ms\tremaining: 49.7ms\n",
      "12:\tlearn: 0.4041700\ttotal: 11.1ms\tremaining: 48.5ms\n",
      "13:\tlearn: 0.3960305\ttotal: 11.8ms\tremaining: 47.4ms\n",
      "14:\tlearn: 0.3891496\ttotal: 12.6ms\tremaining: 46.3ms\n",
      "15:\tlearn: 0.3834603\ttotal: 13.4ms\tremaining: 45.3ms\n",
      "16:\tlearn: 0.3775571\ttotal: 14.2ms\tremaining: 44.3ms\n",
      "17:\tlearn: 0.3721859\ttotal: 15ms\tremaining: 43.3ms\n",
      "18:\tlearn: 0.3676950\ttotal: 15.8ms\tremaining: 42.3ms\n",
      "19:\tlearn: 0.3631683\ttotal: 16.5ms\tremaining: 41.3ms\n",
      "20:\tlearn: 0.3591791\ttotal: 17.3ms\tremaining: 40.4ms\n",
      "21:\tlearn: 0.3561066\ttotal: 18.1ms\tremaining: 39.4ms\n",
      "22:\tlearn: 0.3515807\ttotal: 19.1ms\tremaining: 39ms\n",
      "23:\tlearn: 0.3485083\ttotal: 19.9ms\tremaining: 38.2ms\n",
      "24:\tlearn: 0.3451899\ttotal: 20.7ms\tremaining: 37.3ms\n",
      "25:\tlearn: 0.3426979\ttotal: 21.5ms\tremaining: 36.4ms\n",
      "26:\tlearn: 0.3395656\ttotal: 22.3ms\tremaining: 35.4ms\n",
      "27:\tlearn: 0.3372382\ttotal: 23.1ms\tremaining: 34.6ms\n",
      "28:\tlearn: 0.3349198\ttotal: 23.8ms\tremaining: 33.7ms\n",
      "29:\tlearn: 0.3325315\ttotal: 24.6ms\tremaining: 32.8ms\n",
      "30:\tlearn: 0.3309518\ttotal: 25.4ms\tremaining: 31.9ms\n",
      "31:\tlearn: 0.3295357\ttotal: 26.1ms\tremaining: 31ms\n",
      "32:\tlearn: 0.3276774\ttotal: 26.9ms\tremaining: 30.1ms\n",
      "33:\tlearn: 0.3256794\ttotal: 27.7ms\tremaining: 29.3ms\n",
      "34:\tlearn: 0.3237806\ttotal: 28.4ms\tremaining: 28.4ms\n",
      "35:\tlearn: 0.3216989\ttotal: 29.2ms\tremaining: 27.5ms\n",
      "36:\tlearn: 0.3200295\ttotal: 29.9ms\tremaining: 26.7ms\n",
      "37:\tlearn: 0.3188767\ttotal: 30.7ms\tremaining: 25.9ms\n",
      "38:\tlearn: 0.3180886\ttotal: 31.5ms\tremaining: 25ms\n",
      "39:\tlearn: 0.3170120\ttotal: 32.2ms\tremaining: 24.2ms\n",
      "40:\tlearn: 0.3157363\ttotal: 33ms\tremaining: 23.4ms\n",
      "41:\tlearn: 0.3144724\ttotal: 33.9ms\tremaining: 22.6ms\n",
      "42:\tlearn: 0.3129836\ttotal: 34.8ms\tremaining: 21.9ms\n",
      "43:\tlearn: 0.3117024\ttotal: 35.6ms\tremaining: 21ms\n",
      "44:\tlearn: 0.3100414\ttotal: 36.4ms\tremaining: 20.2ms\n",
      "45:\tlearn: 0.3084460\ttotal: 37.1ms\tremaining: 19.4ms\n",
      "46:\tlearn: 0.3068620\ttotal: 37.9ms\tremaining: 18.5ms\n",
      "47:\tlearn: 0.3053336\ttotal: 38.7ms\tremaining: 17.7ms\n",
      "48:\tlearn: 0.3033667\ttotal: 39.4ms\tremaining: 16.9ms\n",
      "49:\tlearn: 0.3024238\ttotal: 40.2ms\tremaining: 16.1ms\n",
      "50:\tlearn: 0.3015229\ttotal: 41ms\tremaining: 15.3ms\n",
      "51:\tlearn: 0.3008072\ttotal: 41.7ms\tremaining: 14.4ms\n",
      "52:\tlearn: 0.2993517\ttotal: 42.5ms\tremaining: 13.6ms\n",
      "53:\tlearn: 0.2980767\ttotal: 43.3ms\tremaining: 12.8ms\n",
      "54:\tlearn: 0.2972704\ttotal: 44ms\tremaining: 12ms\n",
      "55:\tlearn: 0.2967374\ttotal: 44.8ms\tremaining: 11.2ms\n",
      "56:\tlearn: 0.2957830\ttotal: 45.6ms\tremaining: 10.4ms\n",
      "57:\tlearn: 0.2949007\ttotal: 46.3ms\tremaining: 9.59ms\n",
      "58:\tlearn: 0.2942065\ttotal: 47.1ms\tremaining: 8.78ms\n",
      "59:\tlearn: 0.2922247\ttotal: 47.9ms\tremaining: 7.98ms\n",
      "60:\tlearn: 0.2914482\ttotal: 48.6ms\tremaining: 7.18ms\n",
      "61:\tlearn: 0.2905032\ttotal: 49.4ms\tremaining: 6.38ms\n",
      "62:\tlearn: 0.2897592\ttotal: 50.2ms\tremaining: 5.58ms\n",
      "63:\tlearn: 0.2894393\ttotal: 51ms\tremaining: 4.78ms\n",
      "64:\tlearn: 0.2882515\ttotal: 51.8ms\tremaining: 3.98ms\n",
      "65:\tlearn: 0.2877946\ttotal: 52.5ms\tremaining: 3.18ms\n",
      "66:\tlearn: 0.2867663\ttotal: 53.3ms\tremaining: 2.39ms\n",
      "67:\tlearn: 0.2859633\ttotal: 54.1ms\tremaining: 1.59ms\n",
      "68:\tlearn: 0.2852516\ttotal: 54.9ms\tremaining: 795us\n",
      "69:\tlearn: 0.2843738\ttotal: 55.6ms\tremaining: 0us\n",
      "2 th fold： 0.8202247191011236\n",
      "0:\tlearn: 0.6499096\ttotal: 12.5ms\tremaining: 861ms\n",
      "1:\tlearn: 0.6152144\ttotal: 13.5ms\tremaining: 459ms\n",
      "2:\tlearn: 0.5854932\ttotal: 14.3ms\tremaining: 320ms\n",
      "3:\tlearn: 0.5594870\ttotal: 15.1ms\tremaining: 250ms\n",
      "4:\tlearn: 0.5378362\ttotal: 15.9ms\tremaining: 207ms\n",
      "5:\tlearn: 0.5194875\ttotal: 16.7ms\tremaining: 178ms\n",
      "6:\tlearn: 0.5033265\ttotal: 17.5ms\tremaining: 157ms\n",
      "7:\tlearn: 0.4879922\ttotal: 18.2ms\tremaining: 141ms\n",
      "8:\tlearn: 0.4749111\ttotal: 19ms\tremaining: 129ms\n",
      "9:\tlearn: 0.4641688\ttotal: 19.8ms\tremaining: 119ms\n",
      "10:\tlearn: 0.4541324\ttotal: 20.5ms\tremaining: 110ms\n",
      "11:\tlearn: 0.4445678\ttotal: 21.3ms\tremaining: 103ms\n",
      "12:\tlearn: 0.4375660\ttotal: 22.1ms\tremaining: 96.8ms\n",
      "13:\tlearn: 0.4309771\ttotal: 22.9ms\tremaining: 91.4ms\n",
      "14:\tlearn: 0.4246782\ttotal: 23.6ms\tremaining: 86.6ms\n",
      "15:\tlearn: 0.4189069\ttotal: 24.4ms\tremaining: 82.3ms\n",
      "16:\tlearn: 0.4137595\ttotal: 25.2ms\tremaining: 78.5ms\n",
      "17:\tlearn: 0.4092544\ttotal: 25.9ms\tremaining: 75ms\n",
      "18:\tlearn: 0.4053312\ttotal: 26.7ms\tremaining: 71.7ms\n",
      "19:\tlearn: 0.4016290\ttotal: 27.5ms\tremaining: 68.7ms\n",
      "20:\tlearn: 0.3974285\ttotal: 28.2ms\tremaining: 65.9ms\n",
      "21:\tlearn: 0.3943598\ttotal: 29ms\tremaining: 63.2ms\n",
      "22:\tlearn: 0.3916148\ttotal: 29.8ms\tremaining: 60.8ms\n",
      "23:\tlearn: 0.3884873\ttotal: 30.5ms\tremaining: 58.5ms\n",
      "24:\tlearn: 0.3855137\ttotal: 31.3ms\tremaining: 56.3ms\n",
      "25:\tlearn: 0.3828980\ttotal: 32.1ms\tremaining: 54.3ms\n",
      "26:\tlearn: 0.3811781\ttotal: 32.8ms\tremaining: 52.3ms\n",
      "27:\tlearn: 0.3791647\ttotal: 33.6ms\tremaining: 50.4ms\n",
      "28:\tlearn: 0.3767897\ttotal: 34.4ms\tremaining: 48.6ms\n",
      "29:\tlearn: 0.3751870\ttotal: 35.1ms\tremaining: 46.9ms\n",
      "30:\tlearn: 0.3740641\ttotal: 35.9ms\tremaining: 45.2ms\n",
      "31:\tlearn: 0.3726182\ttotal: 36.7ms\tremaining: 43.5ms\n",
      "32:\tlearn: 0.3711001\ttotal: 37.4ms\tremaining: 42ms\n",
      "33:\tlearn: 0.3699226\ttotal: 38.2ms\tremaining: 40.5ms\n",
      "34:\tlearn: 0.3687223\ttotal: 39ms\tremaining: 39ms\n",
      "35:\tlearn: 0.3665279\ttotal: 39.8ms\tremaining: 37.6ms\n",
      "36:\tlearn: 0.3653736\ttotal: 40.5ms\tremaining: 36.2ms\n",
      "37:\tlearn: 0.3641684\ttotal: 41.3ms\tremaining: 34.8ms\n",
      "38:\tlearn: 0.3625965\ttotal: 42.1ms\tremaining: 33.4ms\n",
      "39:\tlearn: 0.3614853\ttotal: 42.8ms\tremaining: 32.1ms\n",
      "40:\tlearn: 0.3603778\ttotal: 43.6ms\tremaining: 30.9ms\n",
      "41:\tlearn: 0.3591378\ttotal: 44.4ms\tremaining: 29.6ms\n",
      "42:\tlearn: 0.3580379\ttotal: 45.2ms\tremaining: 28.4ms\n",
      "43:\tlearn: 0.3572697\ttotal: 45.9ms\tremaining: 27.1ms\n",
      "44:\tlearn: 0.3564061\ttotal: 46.7ms\tremaining: 25.9ms\n",
      "45:\tlearn: 0.3553301\ttotal: 47.4ms\tremaining: 24.8ms\n",
      "46:\tlearn: 0.3542632\ttotal: 48.2ms\tremaining: 23.6ms\n",
      "47:\tlearn: 0.3534184\ttotal: 49ms\tremaining: 22.5ms\n",
      "48:\tlearn: 0.3524167\ttotal: 49.8ms\tremaining: 21.3ms\n",
      "49:\tlearn: 0.3513541\ttotal: 50.6ms\tremaining: 20.2ms\n",
      "50:\tlearn: 0.3506248\ttotal: 51.4ms\tremaining: 19.1ms\n",
      "51:\tlearn: 0.3493247\ttotal: 52.1ms\tremaining: 18ms\n",
      "52:\tlearn: 0.3477012\ttotal: 52.9ms\tremaining: 17ms\n",
      "53:\tlearn: 0.3466519\ttotal: 53.7ms\tremaining: 15.9ms\n",
      "54:\tlearn: 0.3454422\ttotal: 54.4ms\tremaining: 14.8ms\n",
      "55:\tlearn: 0.3442945\ttotal: 55.3ms\tremaining: 13.8ms\n",
      "56:\tlearn: 0.3436453\ttotal: 56ms\tremaining: 12.8ms\n",
      "57:\tlearn: 0.3434938\ttotal: 56.8ms\tremaining: 11.7ms\n",
      "58:\tlearn: 0.3424095\ttotal: 57.6ms\tremaining: 10.7ms\n",
      "59:\tlearn: 0.3412743\ttotal: 58.3ms\tremaining: 9.72ms\n",
      "60:\tlearn: 0.3408329\ttotal: 59.1ms\tremaining: 8.72ms\n",
      "61:\tlearn: 0.3398354\ttotal: 59.8ms\tremaining: 7.72ms\n",
      "62:\tlearn: 0.3392167\ttotal: 60.6ms\tremaining: 6.74ms\n",
      "63:\tlearn: 0.3389468\ttotal: 61.4ms\tremaining: 5.76ms\n",
      "64:\tlearn: 0.3378941\ttotal: 62.2ms\tremaining: 4.79ms\n",
      "65:\tlearn: 0.3377021\ttotal: 63ms\tremaining: 3.82ms\n",
      "66:\tlearn: 0.3362145\ttotal: 63.8ms\tremaining: 2.86ms\n",
      "67:\tlearn: 0.3353330\ttotal: 64.6ms\tremaining: 1.9ms\n",
      "68:\tlearn: 0.3348335\ttotal: 65.3ms\tremaining: 946us\n",
      "69:\tlearn: 0.3343384\ttotal: 66.1ms\tremaining: 0us\n",
      "3 th fold： 0.9101123595505618\n"
     ]
    },
    {
     "name": "stdout",
     "output_type": "stream",
     "text": [
      "0:\tlearn: 0.6479801\ttotal: 7.95ms\tremaining: 549ms\n",
      "1:\tlearn: 0.6094118\ttotal: 8.94ms\tremaining: 304ms\n",
      "2:\tlearn: 0.5770288\ttotal: 9.79ms\tremaining: 219ms\n",
      "3:\tlearn: 0.5478171\ttotal: 10.6ms\tremaining: 175ms\n",
      "4:\tlearn: 0.5234638\ttotal: 11.5ms\tremaining: 149ms\n",
      "5:\tlearn: 0.5028622\ttotal: 12.2ms\tremaining: 131ms\n",
      "6:\tlearn: 0.4855186\ttotal: 13ms\tremaining: 117ms\n",
      "7:\tlearn: 0.4705139\ttotal: 13.8ms\tremaining: 107ms\n",
      "8:\tlearn: 0.4578536\ttotal: 14.6ms\tremaining: 98.7ms\n",
      "9:\tlearn: 0.4452423\ttotal: 15.3ms\tremaining: 92ms\n",
      "10:\tlearn: 0.4345067\ttotal: 16.1ms\tremaining: 86.1ms\n",
      "11:\tlearn: 0.4248581\ttotal: 16.8ms\tremaining: 81.2ms\n",
      "12:\tlearn: 0.4171389\ttotal: 17.6ms\tremaining: 77ms\n",
      "13:\tlearn: 0.4099271\ttotal: 18.3ms\tremaining: 73.3ms\n",
      "14:\tlearn: 0.4031764\ttotal: 19.2ms\tremaining: 70.4ms\n",
      "15:\tlearn: 0.3970966\ttotal: 20ms\tremaining: 67.5ms\n",
      "16:\tlearn: 0.3917714\ttotal: 20.8ms\tremaining: 64.8ms\n",
      "17:\tlearn: 0.3865804\ttotal: 21.5ms\tremaining: 62.3ms\n",
      "18:\tlearn: 0.3822826\ttotal: 22.3ms\tremaining: 59.9ms\n",
      "19:\tlearn: 0.3784691\ttotal: 23.1ms\tremaining: 57.7ms\n",
      "20:\tlearn: 0.3739905\ttotal: 23.8ms\tremaining: 55.6ms\n",
      "21:\tlearn: 0.3698342\ttotal: 24.6ms\tremaining: 53.6ms\n",
      "22:\tlearn: 0.3660995\ttotal: 25.3ms\tremaining: 51.8ms\n",
      "23:\tlearn: 0.3617986\ttotal: 26.1ms\tremaining: 50ms\n",
      "24:\tlearn: 0.3587759\ttotal: 26.9ms\tremaining: 48.3ms\n",
      "25:\tlearn: 0.3565830\ttotal: 27.6ms\tremaining: 46.8ms\n",
      "26:\tlearn: 0.3537807\ttotal: 28.4ms\tremaining: 45.2ms\n",
      "27:\tlearn: 0.3514661\ttotal: 29.1ms\tremaining: 43.7ms\n",
      "28:\tlearn: 0.3496608\ttotal: 29.9ms\tremaining: 42.3ms\n",
      "29:\tlearn: 0.3477151\ttotal: 30.7ms\tremaining: 40.9ms\n",
      "30:\tlearn: 0.3461574\ttotal: 31.4ms\tremaining: 39.5ms\n",
      "31:\tlearn: 0.3449110\ttotal: 32.2ms\tremaining: 38.2ms\n",
      "32:\tlearn: 0.3436133\ttotal: 32.9ms\tremaining: 36.9ms\n",
      "33:\tlearn: 0.3417270\ttotal: 33.7ms\tremaining: 35.7ms\n",
      "34:\tlearn: 0.3403100\ttotal: 34.5ms\tremaining: 34.5ms\n",
      "35:\tlearn: 0.3385703\ttotal: 35.4ms\tremaining: 33.4ms\n",
      "36:\tlearn: 0.3366472\ttotal: 36.2ms\tremaining: 32.2ms\n",
      "37:\tlearn: 0.3352959\ttotal: 36.9ms\tremaining: 31.1ms\n",
      "38:\tlearn: 0.3335812\ttotal: 37.7ms\tremaining: 29.9ms\n",
      "39:\tlearn: 0.3322006\ttotal: 38.4ms\tremaining: 28.8ms\n",
      "40:\tlearn: 0.3313324\ttotal: 39.2ms\tremaining: 27.7ms\n",
      "41:\tlearn: 0.3300633\ttotal: 40ms\tremaining: 26.6ms\n",
      "42:\tlearn: 0.3291729\ttotal: 40.7ms\tremaining: 25.6ms\n",
      "43:\tlearn: 0.3281548\ttotal: 41.5ms\tremaining: 24.5ms\n",
      "44:\tlearn: 0.3271241\ttotal: 42.2ms\tremaining: 23.5ms\n",
      "45:\tlearn: 0.3263172\ttotal: 43ms\tremaining: 22.4ms\n",
      "46:\tlearn: 0.3254167\ttotal: 43.7ms\tremaining: 21.4ms\n",
      "47:\tlearn: 0.3241384\ttotal: 44.5ms\tremaining: 20.4ms\n",
      "48:\tlearn: 0.3236849\ttotal: 45.2ms\tremaining: 19.4ms\n",
      "49:\tlearn: 0.3222678\ttotal: 46ms\tremaining: 18.4ms\n",
      "50:\tlearn: 0.3212379\ttotal: 46.7ms\tremaining: 17.4ms\n",
      "51:\tlearn: 0.3196928\ttotal: 47.5ms\tremaining: 16.4ms\n",
      "52:\tlearn: 0.3185247\ttotal: 48.3ms\tremaining: 15.5ms\n",
      "53:\tlearn: 0.3171943\ttotal: 49ms\tremaining: 14.5ms\n",
      "54:\tlearn: 0.3157755\ttotal: 49.8ms\tremaining: 13.6ms\n",
      "55:\tlearn: 0.3149888\ttotal: 50.6ms\tremaining: 12.7ms\n",
      "56:\tlearn: 0.3135968\ttotal: 51.4ms\tremaining: 11.7ms\n",
      "57:\tlearn: 0.3120201\ttotal: 52.1ms\tremaining: 10.8ms\n",
      "58:\tlearn: 0.3113101\ttotal: 52.9ms\tremaining: 9.86ms\n",
      "59:\tlearn: 0.3105523\ttotal: 53.6ms\tremaining: 8.94ms\n",
      "60:\tlearn: 0.3100909\ttotal: 54.4ms\tremaining: 8.03ms\n",
      "61:\tlearn: 0.3097065\ttotal: 55.1ms\tremaining: 7.11ms\n",
      "62:\tlearn: 0.3090900\ttotal: 55.9ms\tremaining: 6.21ms\n",
      "63:\tlearn: 0.3083898\ttotal: 56.7ms\tremaining: 5.31ms\n",
      "64:\tlearn: 0.3069810\ttotal: 57.4ms\tremaining: 4.42ms\n",
      "65:\tlearn: 0.3057234\ttotal: 58.2ms\tremaining: 3.53ms\n",
      "66:\tlearn: 0.3044880\ttotal: 59ms\tremaining: 2.64ms\n",
      "67:\tlearn: 0.3039705\ttotal: 59.7ms\tremaining: 1.75ms\n",
      "68:\tlearn: 0.3026726\ttotal: 60.4ms\tremaining: 875us\n",
      "69:\tlearn: 0.3020902\ttotal: 61.2ms\tremaining: 0us\n",
      "4 th fold： 0.8539325842696629\n",
      "avg score=  0.8451133011110414\n"
     ]
    }
   ],
   "source": [
    "best_model=None\n",
    "folds=5\n",
    "best_score=0\n",
    "avg_score_lr=0\n",
    "result_lgb_s=np.zeros(418)\n",
    "\n",
    "kf=KFold(n_splits=folds,shuffle=True,random_state=2022)\n",
    "for i, (train_index,test_index) in enumerate(kf.split(train_stacking)):\n",
    "    lgb=CatBoostClassifier(learning_rate=0.1,n_estimators=70)\n",
    "    lgb.fit(train_stacking[train_index],y_train_stacking[train_index])\n",
    "    score=lgb.score(train_stacking[test_index],y_train_stacking[test_index])\n",
    "    print(i,'th fold：',score)\n",
    "    if best_score<score:\n",
    "        best_score=score\n",
    "        best_model=lgb    \n",
    "    avg_score_lr+=score\n",
    "    result_lgb_s+=lgb.predict(test_stacking)\n",
    "    \n",
    "avg_score_lr/=folds\n",
    "result_lgb_s/=folds\n",
    "\n",
    "print(\"avg score= \",avg_score_lr)"
   ]
  },
  {
   "cell_type": "markdown",
   "id": "810d0912",
   "metadata": {},
   "source": [
    "### svc"
   ]
  },
  {
   "cell_type": "code",
   "execution_count": 187,
   "id": "e707b886",
   "metadata": {
    "ExecuteTime": {
     "end_time": "2022-05-20T14:12:04.378897Z",
     "start_time": "2022-05-20T14:12:04.354981Z"
    }
   },
   "outputs": [
    {
     "name": "stdout",
     "output_type": "stream",
     "text": [
      "0 th fold： 0.8379888268156425\n",
      "1 th fold： 0.7921348314606742\n",
      "2 th fold： 0.8089887640449438\n",
      "3 th fold： 0.9157303370786517\n",
      "4 th fold： 0.8539325842696629\n",
      "avg score=  0.8417550687339149\n"
     ]
    }
   ],
   "source": [
    "best_model=None\n",
    "folds=5\n",
    "best_score=0\n",
    "avg_score_lr=0\n",
    "result_svc_s=np.zeros(418)\n",
    "\n",
    "kf=KFold(n_splits=folds,shuffle=True,random_state=2022)\n",
    "for i, (train_index,test_index) in enumerate(kf.split(train_stacking)):\n",
    "    lgb=LinearSVC(C=0.09,tol=1e-5,max_iter=100)\n",
    "    lgb.fit(train_stacking[train_index],y_train_stacking[train_index])\n",
    "    score=lgb.score(train_stacking[test_index],y_train_stacking[test_index])\n",
    "    print(i,'th fold：',score)\n",
    "    if best_score<score:\n",
    "        best_score=score\n",
    "        best_model=lgb    \n",
    "    avg_score_lr+=score\n",
    "    result_svc_s+=lgb.predict(test_stacking)\n",
    "    \n",
    "avg_score_lr/=folds\n",
    "result_svc_s/=folds\n",
    "\n",
    "print(\"avg score= \",avg_score_lr)"
   ]
  },
  {
   "cell_type": "markdown",
   "id": "e838e6a5",
   "metadata": {},
   "source": [
    "### knn"
   ]
  },
  {
   "cell_type": "code",
   "execution_count": 251,
   "id": "dfa6988a",
   "metadata": {
    "ExecuteTime": {
     "end_time": "2022-05-20T14:18:39.307527Z",
     "start_time": "2022-05-20T14:18:39.203699Z"
    }
   },
   "outputs": [
    {
     "name": "stdout",
     "output_type": "stream",
     "text": [
      "0 th fold： 0.8491620111731844\n",
      "1 th fold： 0.797752808988764\n",
      "2 th fold： 0.8202247191011236\n",
      "3 th fold： 0.9044943820224719\n",
      "4 th fold： 0.8539325842696629\n",
      "avg score=  0.8451133011110414\n"
     ]
    }
   ],
   "source": [
    "best_model=None\n",
    "folds=5\n",
    "best_score=0\n",
    "avg_score_lr=0\n",
    "result_knn_s=np.zeros(418)\n",
    "\n",
    "kf=KFold(n_splits=folds,shuffle=True,random_state=2022)\n",
    "for i, (train_index,test_index) in enumerate(kf.split(train_stacking)):\n",
    "    lgb=KNeighborsClassifier(n_neighbors=34,p=1)\n",
    "    lgb.fit(train_stacking[train_index],y_train_stacking[train_index])\n",
    "    score=lgb.score(train_stacking[test_index],y_train_stacking[test_index])\n",
    "    print(i,'th fold：',score)\n",
    "    if best_score<score:\n",
    "        best_score=score\n",
    "        best_model=lgb    \n",
    "    avg_score_lr+=score\n",
    "    result_knn_s+=lgb.predict(test_stacking)\n",
    "    \n",
    "avg_score_lr/=folds\n",
    "result_knn_s/=folds\n",
    "\n",
    "print(\"avg score= \",avg_score_lr)"
   ]
  },
  {
   "cell_type": "markdown",
   "id": "aa8b3218",
   "metadata": {},
   "source": [
    "### gbt"
   ]
  },
  {
   "cell_type": "code",
   "execution_count": 265,
   "id": "378b6709",
   "metadata": {
    "ExecuteTime": {
     "end_time": "2022-05-20T14:20:59.407137Z",
     "start_time": "2022-05-20T14:20:59.029738Z"
    }
   },
   "outputs": [
    {
     "name": "stdout",
     "output_type": "stream",
     "text": [
      "0 th fold： 0.8324022346368715\n",
      "1 th fold： 0.7640449438202247\n",
      "2 th fold： 0.8202247191011236\n",
      "3 th fold： 0.9157303370786517\n",
      "4 th fold： 0.8764044943820225\n",
      "avg score=  0.8417613458037788\n"
     ]
    }
   ],
   "source": [
    "best_model=None\n",
    "folds=5\n",
    "best_score=0\n",
    "avg_score_lr=0\n",
    "result_gbt_s=np.zeros(418)\n",
    "\n",
    "kf=KFold(n_splits=folds,shuffle=True,random_state=2022)\n",
    "for i, (train_index,test_index) in enumerate(kf.split(train_stacking)):\n",
    "    lgb=GradientBoostingClassifier(learning_rate=0.1,n_estimators=65)\n",
    "    lgb.fit(train_stacking[train_index],y_train_stacking[train_index])\n",
    "    score=lgb.score(train_stacking[test_index],y_train_stacking[test_index])\n",
    "    print(i,'th fold：',score)\n",
    "    if best_score<score:\n",
    "        best_score=score\n",
    "        best_model=lgb    \n",
    "    avg_score_lr+=score\n",
    "    result_gbt_s+=lgb.predict(test_stacking)\n",
    "    \n",
    "avg_score_lr/=folds\n",
    "result_gbt_s/=folds\n",
    "\n",
    "print(\"avg score= \",avg_score_lr)"
   ]
  },
  {
   "cell_type": "markdown",
   "id": "f7e3dd57",
   "metadata": {},
   "source": [
    "### xgb"
   ]
  },
  {
   "cell_type": "code",
   "execution_count": 283,
   "id": "775738fb",
   "metadata": {
    "ExecuteTime": {
     "end_time": "2022-05-20T14:24:24.465189Z",
     "start_time": "2022-05-20T14:24:24.329899Z"
    }
   },
   "outputs": [
    {
     "name": "stdout",
     "output_type": "stream",
     "text": [
      "[22:24:24] WARNING: D:\\bld\\xgboost-split_1645118015404\\work\\src\\learner.cc:1115: Starting in XGBoost 1.3.0, the default evaluation metric used with the objective 'binary:logistic' was changed from 'error' to 'logloss'. Explicitly set eval_metric if you'd like to restore the old behavior.\n",
      "0 th fold： 0.8659217877094972\n",
      "[22:24:24] WARNING: D:\\bld\\xgboost-split_1645118015404\\work\\src\\learner.cc:1115: Starting in XGBoost 1.3.0, the default evaluation metric used with the objective 'binary:logistic' was changed from 'error' to 'logloss'. Explicitly set eval_metric if you'd like to restore the old behavior.\n",
      "1 th fold： 0.7808988764044944\n",
      "[22:24:24] WARNING: D:\\bld\\xgboost-split_1645118015404\\work\\src\\learner.cc:1115: Starting in XGBoost 1.3.0, the default evaluation metric used with the objective 'binary:logistic' was changed from 'error' to 'logloss'. Explicitly set eval_metric if you'd like to restore the old behavior.\n",
      "2 th fold： 0.8202247191011236\n",
      "[22:24:24] WARNING: D:\\bld\\xgboost-split_1645118015404\\work\\src\\learner.cc:1115: Starting in XGBoost 1.3.0, the default evaluation metric used with the objective 'binary:logistic' was changed from 'error' to 'logloss'. Explicitly set eval_metric if you'd like to restore the old behavior.\n",
      "3 th fold： 0.9157303370786517\n",
      "[22:24:24] WARNING: D:\\bld\\xgboost-split_1645118015404\\work\\src\\learner.cc:1115: Starting in XGBoost 1.3.0, the default evaluation metric used with the objective 'binary:logistic' was changed from 'error' to 'logloss'. Explicitly set eval_metric if you'd like to restore the old behavior.\n",
      "4 th fold： 0.8539325842696629\n",
      "avg score=  0.8473416609126859\n"
     ]
    }
   ],
   "source": [
    "best_model=None\n",
    "folds=5\n",
    "best_score=0\n",
    "avg_score_lr=0\n",
    "result_xbt_s=np.zeros(418)\n",
    "\n",
    "kf=KFold(n_splits=folds,shuffle=True,random_state=2022)\n",
    "for i, (train_index,test_index) in enumerate(kf.split(train_stacking)):\n",
    "    lgb=XGBClassifier(learning_rate=0.1,max_depth=1,n_estimators=70)\n",
    "    lgb.fit(train_stacking[train_index],y_train_stacking[train_index])\n",
    "    score=lgb.score(train_stacking[test_index],y_train_stacking[test_index])\n",
    "    print(i,'th fold：',score)\n",
    "    if best_score<score:\n",
    "        best_score=score\n",
    "        best_model=lgb    \n",
    "    avg_score_lr+=score\n",
    "    result_xbt_s+=lgb.predict(test_stacking)\n",
    "    \n",
    "avg_score_lr/=folds\n",
    "result_xbt_s/=folds\n",
    "\n",
    "print(\"avg score= \",avg_score_lr)"
   ]
  },
  {
   "cell_type": "markdown",
   "id": "5bcc2cae",
   "metadata": {},
   "source": [
    "### perceptron"
   ]
  },
  {
   "cell_type": "code",
   "execution_count": 302,
   "id": "9c390a63",
   "metadata": {
    "ExecuteTime": {
     "end_time": "2022-05-20T14:33:36.902160Z",
     "start_time": "2022-05-20T14:33:36.878096Z"
    }
   },
   "outputs": [
    {
     "name": "stdout",
     "output_type": "stream",
     "text": [
      "0 th fold： 0.8268156424581006\n",
      "1 th fold： 0.7584269662921348\n",
      "2 th fold： 0.797752808988764\n",
      "3 th fold： 0.9157303370786517\n",
      "4 th fold： 0.8089887640449438\n",
      "avg score=  0.8215429037725188\n"
     ]
    }
   ],
   "source": [
    "best_model=None\n",
    "folds=5\n",
    "best_score=0\n",
    "avg_score_lr=0\n",
    "result_pt_s=np.zeros(418)\n",
    "\n",
    "kf=KFold(n_splits=folds,shuffle=True,random_state=2022)\n",
    "for i, (train_index,test_index) in enumerate(kf.split(train_stacking)):\n",
    "    lgb=Perceptron(penalty='l2',alpha=1e-3,max_iter=10,validation_fraction=0.1,n_iter_no_change=10,warm_start=True)\n",
    "    lgb.fit(train_stacking[train_index],y_train_stacking[train_index])\n",
    "    score=lgb.score(train_stacking[test_index],y_train_stacking[test_index])\n",
    "    print(i,'th fold：',score)\n",
    "    if best_score<score:\n",
    "        best_score=score\n",
    "        best_model=lgb    \n",
    "    avg_score_lr+=score\n",
    "    result_pt_s+=lgb.predict(test_stacking)\n",
    "    \n",
    "avg_score_lr/=folds\n",
    "result_pt_s/=folds\n",
    "\n",
    "print(\"avg score= \",avg_score_lr)"
   ]
  },
  {
   "cell_type": "markdown",
   "id": "93ff9077",
   "metadata": {},
   "source": [
    "### sgd"
   ]
  },
  {
   "cell_type": "code",
   "execution_count": null,
   "id": "bae8e480",
   "metadata": {},
   "outputs": [],
   "source": [
    "SGDClassifier(loss='log',alpha=1e-5,max_iter=20,validation_fraction=0.1,n_iter_no_change=10,warm_start=True)"
   ]
  }
 ],
 "metadata": {
  "kernelspec": {
   "display_name": "Python 3",
   "language": "python",
   "name": "python3"
  },
  "language_info": {
   "codemirror_mode": {
    "name": "ipython",
    "version": 3
   },
   "file_extension": ".py",
   "mimetype": "text/x-python",
   "name": "python",
   "nbconvert_exporter": "python",
   "pygments_lexer": "ipython3",
   "version": "3.8.8"
  },
  "toc": {
   "base_numbering": 1,
   "nav_menu": {},
   "number_sections": true,
   "sideBar": true,
   "skip_h1_title": false,
   "title_cell": "Table of Contents",
   "title_sidebar": "Contents",
   "toc_cell": false,
   "toc_position": {
    "height": "calc(100% - 180px)",
    "left": "10px",
    "top": "150px",
    "width": "303.825px"
   },
   "toc_section_display": true,
   "toc_window_display": true
  },
  "varInspector": {
   "cols": {
    "lenName": 16,
    "lenType": 16,
    "lenVar": 40
   },
   "kernels_config": {
    "python": {
     "delete_cmd_postfix": "",
     "delete_cmd_prefix": "del ",
     "library": "var_list.py",
     "varRefreshCmd": "print(var_dic_list())"
    },
    "r": {
     "delete_cmd_postfix": ") ",
     "delete_cmd_prefix": "rm(",
     "library": "var_list.r",
     "varRefreshCmd": "cat(var_dic_list()) "
    }
   },
   "types_to_exclude": [
    "module",
    "function",
    "builtin_function_or_method",
    "instance",
    "_Feature"
   ],
   "window_display": false
  }
 },
 "nbformat": 4,
 "nbformat_minor": 5
}
