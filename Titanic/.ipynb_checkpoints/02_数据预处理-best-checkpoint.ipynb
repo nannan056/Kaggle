{
 "cells": [
  {
   "cell_type": "code",
   "execution_count": 1,
   "id": "04fa8784",
   "metadata": {
    "ExecuteTime": {
     "end_time": "2022-05-22T14:12:38.272458Z",
     "start_time": "2022-05-22T14:12:35.614732Z"
    }
   },
   "outputs": [],
   "source": [
    "import numpy as np\n",
    "import pandas as pd\n",
    "\n",
    "import seaborn as sns\n",
    "import matplotlib.pyplot as plt\n",
    "\n",
    "from sklearn.preprocessing import OneHotEncoder\n",
    "from sklearn.model_selection import train_test_split,KFold\n",
    "\n",
    "import warnings\n",
    "warnings.filterwarnings(\"ignore\")\n",
    "\n",
    "pd.set_option('display.max_rows',None)\n",
    "pd.set_option('display.max_columns',None)\n"
   ]
  },
  {
   "cell_type": "code",
   "execution_count": 344,
   "id": "9c64912e",
   "metadata": {
    "ExecuteTime": {
     "end_time": "2022-05-22T15:04:21.365737Z",
     "start_time": "2022-05-22T15:04:21.339737Z"
    }
   },
   "outputs": [],
   "source": [
    "train=pd.read_csv(\"./data/train.csv\")#(891,12)\n",
    "test=pd.read_csv(\"./data/test.csv\")#(418,11)\n",
    "train['is_train']=1\n",
    "test['is_train']=0\n",
    "data=pd.concat([train,test])\n",
    "data_bak=data.copy()"
   ]
  },
  {
   "cell_type": "code",
   "execution_count": 334,
   "id": "86ef23d8",
   "metadata": {
    "ExecuteTime": {
     "end_time": "2022-05-22T14:55:41.319131Z",
     "start_time": "2022-05-22T14:55:41.285936Z"
    }
   },
   "outputs": [
    {
     "data": {
      "text/html": [
       "<div>\n",
       "<style scoped>\n",
       "    .dataframe tbody tr th:only-of-type {\n",
       "        vertical-align: middle;\n",
       "    }\n",
       "\n",
       "    .dataframe tbody tr th {\n",
       "        vertical-align: top;\n",
       "    }\n",
       "\n",
       "    .dataframe thead th {\n",
       "        text-align: right;\n",
       "    }\n",
       "</style>\n",
       "<table border=\"1\" class=\"dataframe\">\n",
       "  <thead>\n",
       "    <tr style=\"text-align: right;\">\n",
       "      <th></th>\n",
       "      <th>Survived</th>\n",
       "      <th>Pclass</th>\n",
       "      <th>Age</th>\n",
       "      <th>SibSp</th>\n",
       "      <th>Parch</th>\n",
       "      <th>Fare</th>\n",
       "      <th>is_train</th>\n",
       "      <th>Cabins</th>\n",
       "      <th>familyNum</th>\n",
       "      <th>has_family</th>\n",
       "      <th>CabinA</th>\n",
       "      <th>CabinB</th>\n",
       "      <th>CabinC</th>\n",
       "      <th>CabinD</th>\n",
       "      <th>CabinE</th>\n",
       "      <th>CabinF</th>\n",
       "      <th>CabinG</th>\n",
       "      <th>CabinT</th>\n",
       "      <th>CabinZ</th>\n",
       "      <th>EmbarkedC</th>\n",
       "      <th>EmbarkedQ</th>\n",
       "      <th>EmbarkedS</th>\n",
       "      <th>TitleMaster</th>\n",
       "      <th>TitleMiss</th>\n",
       "      <th>TitleMr</th>\n",
       "      <th>TitleMrs</th>\n",
       "      <th>TitleRare</th>\n",
       "      <th>Sexfemale</th>\n",
       "      <th>Sexmale</th>\n",
       "      <th>female1</th>\n",
       "      <th>female2</th>\n",
       "      <th>female3</th>\n",
       "      <th>male1</th>\n",
       "      <th>male2</th>\n",
       "      <th>male3</th>\n",
       "    </tr>\n",
       "  </thead>\n",
       "  <tbody>\n",
       "    <tr>\n",
       "      <th>0</th>\n",
       "      <td>0.0</td>\n",
       "      <td>3</td>\n",
       "      <td>22.0</td>\n",
       "      <td>1</td>\n",
       "      <td>0</td>\n",
       "      <td>7.2500</td>\n",
       "      <td>1</td>\n",
       "      <td>0</td>\n",
       "      <td>1</td>\n",
       "      <td>1</td>\n",
       "      <td>0</td>\n",
       "      <td>0</td>\n",
       "      <td>0</td>\n",
       "      <td>0</td>\n",
       "      <td>0</td>\n",
       "      <td>0</td>\n",
       "      <td>0</td>\n",
       "      <td>0</td>\n",
       "      <td>1</td>\n",
       "      <td>0</td>\n",
       "      <td>0</td>\n",
       "      <td>1</td>\n",
       "      <td>0</td>\n",
       "      <td>0</td>\n",
       "      <td>1</td>\n",
       "      <td>0</td>\n",
       "      <td>0</td>\n",
       "      <td>0</td>\n",
       "      <td>1</td>\n",
       "      <td>0</td>\n",
       "      <td>0</td>\n",
       "      <td>0</td>\n",
       "      <td>0</td>\n",
       "      <td>0</td>\n",
       "      <td>1</td>\n",
       "    </tr>\n",
       "    <tr>\n",
       "      <th>1</th>\n",
       "      <td>1.0</td>\n",
       "      <td>1</td>\n",
       "      <td>38.0</td>\n",
       "      <td>1</td>\n",
       "      <td>0</td>\n",
       "      <td>71.2833</td>\n",
       "      <td>1</td>\n",
       "      <td>1</td>\n",
       "      <td>1</td>\n",
       "      <td>1</td>\n",
       "      <td>0</td>\n",
       "      <td>0</td>\n",
       "      <td>1</td>\n",
       "      <td>0</td>\n",
       "      <td>0</td>\n",
       "      <td>0</td>\n",
       "      <td>0</td>\n",
       "      <td>0</td>\n",
       "      <td>0</td>\n",
       "      <td>1</td>\n",
       "      <td>0</td>\n",
       "      <td>0</td>\n",
       "      <td>0</td>\n",
       "      <td>0</td>\n",
       "      <td>0</td>\n",
       "      <td>1</td>\n",
       "      <td>0</td>\n",
       "      <td>1</td>\n",
       "      <td>0</td>\n",
       "      <td>1</td>\n",
       "      <td>0</td>\n",
       "      <td>0</td>\n",
       "      <td>0</td>\n",
       "      <td>0</td>\n",
       "      <td>0</td>\n",
       "    </tr>\n",
       "    <tr>\n",
       "      <th>2</th>\n",
       "      <td>1.0</td>\n",
       "      <td>3</td>\n",
       "      <td>26.0</td>\n",
       "      <td>0</td>\n",
       "      <td>0</td>\n",
       "      <td>7.9250</td>\n",
       "      <td>1</td>\n",
       "      <td>0</td>\n",
       "      <td>0</td>\n",
       "      <td>0</td>\n",
       "      <td>0</td>\n",
       "      <td>0</td>\n",
       "      <td>0</td>\n",
       "      <td>0</td>\n",
       "      <td>0</td>\n",
       "      <td>0</td>\n",
       "      <td>0</td>\n",
       "      <td>0</td>\n",
       "      <td>1</td>\n",
       "      <td>0</td>\n",
       "      <td>0</td>\n",
       "      <td>1</td>\n",
       "      <td>0</td>\n",
       "      <td>1</td>\n",
       "      <td>0</td>\n",
       "      <td>0</td>\n",
       "      <td>0</td>\n",
       "      <td>1</td>\n",
       "      <td>0</td>\n",
       "      <td>0</td>\n",
       "      <td>0</td>\n",
       "      <td>1</td>\n",
       "      <td>0</td>\n",
       "      <td>0</td>\n",
       "      <td>0</td>\n",
       "    </tr>\n",
       "    <tr>\n",
       "      <th>3</th>\n",
       "      <td>1.0</td>\n",
       "      <td>1</td>\n",
       "      <td>35.0</td>\n",
       "      <td>1</td>\n",
       "      <td>0</td>\n",
       "      <td>53.1000</td>\n",
       "      <td>1</td>\n",
       "      <td>1</td>\n",
       "      <td>1</td>\n",
       "      <td>1</td>\n",
       "      <td>0</td>\n",
       "      <td>0</td>\n",
       "      <td>1</td>\n",
       "      <td>0</td>\n",
       "      <td>0</td>\n",
       "      <td>0</td>\n",
       "      <td>0</td>\n",
       "      <td>0</td>\n",
       "      <td>0</td>\n",
       "      <td>0</td>\n",
       "      <td>0</td>\n",
       "      <td>1</td>\n",
       "      <td>0</td>\n",
       "      <td>0</td>\n",
       "      <td>0</td>\n",
       "      <td>1</td>\n",
       "      <td>0</td>\n",
       "      <td>1</td>\n",
       "      <td>0</td>\n",
       "      <td>1</td>\n",
       "      <td>0</td>\n",
       "      <td>0</td>\n",
       "      <td>0</td>\n",
       "      <td>0</td>\n",
       "      <td>0</td>\n",
       "    </tr>\n",
       "    <tr>\n",
       "      <th>4</th>\n",
       "      <td>0.0</td>\n",
       "      <td>3</td>\n",
       "      <td>35.0</td>\n",
       "      <td>0</td>\n",
       "      <td>0</td>\n",
       "      <td>8.0500</td>\n",
       "      <td>1</td>\n",
       "      <td>0</td>\n",
       "      <td>0</td>\n",
       "      <td>0</td>\n",
       "      <td>0</td>\n",
       "      <td>0</td>\n",
       "      <td>0</td>\n",
       "      <td>0</td>\n",
       "      <td>0</td>\n",
       "      <td>0</td>\n",
       "      <td>0</td>\n",
       "      <td>0</td>\n",
       "      <td>1</td>\n",
       "      <td>0</td>\n",
       "      <td>0</td>\n",
       "      <td>1</td>\n",
       "      <td>0</td>\n",
       "      <td>0</td>\n",
       "      <td>1</td>\n",
       "      <td>0</td>\n",
       "      <td>0</td>\n",
       "      <td>0</td>\n",
       "      <td>1</td>\n",
       "      <td>0</td>\n",
       "      <td>0</td>\n",
       "      <td>0</td>\n",
       "      <td>0</td>\n",
       "      <td>0</td>\n",
       "      <td>1</td>\n",
       "    </tr>\n",
       "  </tbody>\n",
       "</table>\n",
       "</div>"
      ],
      "text/plain": [
       "   Survived  Pclass   Age  SibSp  Parch     Fare  is_train  Cabins  familyNum  \\\n",
       "0       0.0       3  22.0      1      0   7.2500         1       0          1   \n",
       "1       1.0       1  38.0      1      0  71.2833         1       1          1   \n",
       "2       1.0       3  26.0      0      0   7.9250         1       0          0   \n",
       "3       1.0       1  35.0      1      0  53.1000         1       1          1   \n",
       "4       0.0       3  35.0      0      0   8.0500         1       0          0   \n",
       "\n",
       "   has_family  CabinA  CabinB  CabinC  CabinD  CabinE  CabinF  CabinG  CabinT  \\\n",
       "0           1       0       0       0       0       0       0       0       0   \n",
       "1           1       0       0       1       0       0       0       0       0   \n",
       "2           0       0       0       0       0       0       0       0       0   \n",
       "3           1       0       0       1       0       0       0       0       0   \n",
       "4           0       0       0       0       0       0       0       0       0   \n",
       "\n",
       "   CabinZ  EmbarkedC  EmbarkedQ  EmbarkedS  TitleMaster  TitleMiss  TitleMr  \\\n",
       "0       1          0          0          1            0          0        1   \n",
       "1       0          1          0          0            0          0        0   \n",
       "2       1          0          0          1            0          1        0   \n",
       "3       0          0          0          1            0          0        0   \n",
       "4       1          0          0          1            0          0        1   \n",
       "\n",
       "   TitleMrs  TitleRare  Sexfemale  Sexmale  female1  female2  female3  male1  \\\n",
       "0         0          0          0        1        0        0        0      0   \n",
       "1         1          0          1        0        1        0        0      0   \n",
       "2         0          0          1        0        0        0        1      0   \n",
       "3         1          0          1        0        1        0        0      0   \n",
       "4         0          0          0        1        0        0        0      0   \n",
       "\n",
       "   male2  male3  \n",
       "0      0      1  \n",
       "1      0      0  \n",
       "2      0      0  \n",
       "3      0      0  \n",
       "4      0      1  "
      ]
     },
     "execution_count": 334,
     "metadata": {},
     "output_type": "execute_result"
    }
   ],
   "source": [
    "data.head()"
   ]
  },
  {
   "cell_type": "markdown",
   "id": "37069803",
   "metadata": {},
   "source": [
    "# 数据预处理\n",
    "## 数据预处理"
   ]
  },
  {
   "cell_type": "code",
   "execution_count": 345,
   "id": "2a1887be",
   "metadata": {
    "ExecuteTime": {
     "end_time": "2022-05-22T15:04:24.165310Z",
     "start_time": "2022-05-22T15:04:24.147311Z"
    }
   },
   "outputs": [],
   "source": [
    "data['SexPclass']=data['Sex'].str.cat(data['Pclass'].map(lambda x:str(x)))"
   ]
  },
  {
   "cell_type": "code",
   "execution_count": 346,
   "id": "8fb584f7",
   "metadata": {
    "ExecuteTime": {
     "end_time": "2022-05-22T15:04:26.369400Z",
     "start_time": "2022-05-22T15:04:26.339461Z"
    }
   },
   "outputs": [],
   "source": [
    "data['Fare']=data['Fare'].fillna(data['Fare'].median())# 有一个空值，中位数填充\n",
    "\n",
    "data['Embarked']=data['Embarked'].fillna(\"S\")# 就2个缺失值，填充了众数\n",
    "\n",
    "# Cabin只有204个非空值\n",
    "data['Cabins']=data['Cabin'].apply(lambda x:2 if len(str(x))>4 else(1 if pd.notna(x) else 0) )\n",
    "data['Cabin']=data['Cabin'].str[:1]\n",
    "data['Cabin']=data['Cabin'].fillna(\"Z\")\n",
    "\n",
    "# ticket比较复杂，先算了\n",
    "# train['Ticket'].apply(lambda x:x.split(\" \")[0]).value_counts()\n",
    "\n",
    "data['Title']=data['Name'].str.extract(' ([A-Za-z]+)\\.', expand=False)\n",
    "data['Title'] = data['Title'].replace(['Lady', 'Countess','Capt','Don','Col','Dr','Rev', 'Major', 'Sir', 'Jonkheer', 'Dona'], 'Rare')\n",
    "data['Title'] = data['Title'].replace('Mlle', 'Miss')\n",
    "data['Title'] = data['Title'].replace('Ms', 'Miss')\n",
    "data['Title'] = data['Title'].replace('Mme', 'Mrs')\n",
    "\n",
    "data['familyNum']=data['SibSp']+data['Parch']\n",
    "data['has_family']=data['familyNum'].apply(lambda x:1 if x>0 else 0)\n",
    "\n",
    "data=data.drop(['Name','Ticket','PassengerId'],axis=1)"
   ]
  },
  {
   "cell_type": "code",
   "execution_count": 55,
   "id": "f2ff5799",
   "metadata": {
    "ExecuteTime": {
     "end_time": "2022-05-16T14:22:36.042691Z",
     "start_time": "2022-05-16T14:22:36.026390Z"
    }
   },
   "outputs": [],
   "source": [
    "# ohe = OneHotEncoder(handle_unknown='ignore')\n",
    "\n",
    "# ohe.fit(train[['Cabin','Embarked','Title','Sex']])#训练规则\n",
    "# feature_names=ohe.get_feature_names(['Cabin','Embarked','Title','Sex'])#获取编码后的特征名\n",
    "# data_train_onehot=pd.DataFrame(ohe.transform(train[['Cabin','Embarked','Title','Sex']]).toarray(),columns=feature_names)#应用规则在训练集上\n",
    " \n",
    "# data_new_onehot=pd.DataFrame(ohe.transform(test[['Cabin','Embarked','Title','Sex']]).toarray(),columns=feature_names)#应用规则在预测集上"
   ]
  },
  {
   "cell_type": "code",
   "execution_count": 347,
   "id": "1889816c",
   "metadata": {
    "ExecuteTime": {
     "end_time": "2022-05-22T15:04:29.595499Z",
     "start_time": "2022-05-22T15:04:29.555503Z"
    }
   },
   "outputs": [],
   "source": [
    "for col in ['Cabin','Embarked','Title','Sex']:\n",
    "    df=pd.get_dummies(data[col],sparse=True)\n",
    "    for c in df.columns:\n",
    "        df.rename(columns={c:col+c},inplace=True)\n",
    "    data=pd.concat([data.drop([col],axis=1),df],axis=1)\n",
    "\n",
    "df=pd.get_dummies(data['SexPclass'],sparse=True)\n",
    "data=pd.concat([data.drop(['SexPclass'],axis=1),df],axis=1)\n",
    "\n",
    "data=data.drop(['CabinA','CabinD','CabinF','CabinG','CabinT','Sexmale'],axis=1)"
   ]
  },
  {
   "cell_type": "markdown",
   "id": "1c474266",
   "metadata": {},
   "source": [
    "## 预测测试集是否生存，用来填充缺失值"
   ]
  },
  {
   "cell_type": "code",
   "execution_count": 348,
   "id": "ef97fd2f",
   "metadata": {
    "ExecuteTime": {
     "end_time": "2022-05-22T15:04:32.881240Z",
     "start_time": "2022-05-22T15:04:32.849193Z"
    }
   },
   "outputs": [],
   "source": [
    "X_train=np.array(data[data['is_train']==1].drop(['Survived','is_train'],axis=1))\n",
    "y_train=np.array(data[data['is_train']==1]['Survived'])\n",
    "X_test=np.array(data[data['is_train']==0].drop(['Survived','is_train'],axis=1))"
   ]
  },
  {
   "cell_type": "code",
   "execution_count": 349,
   "id": "f7435ea4",
   "metadata": {
    "ExecuteTime": {
     "end_time": "2022-05-22T15:04:35.216188Z",
     "start_time": "2022-05-22T15:04:35.050503Z"
    }
   },
   "outputs": [
    {
     "name": "stdout",
     "output_type": "stream",
     "text": [
      "0 th fold： 0.8156424581005587\n",
      "1 th fold： 0.7752808988764045\n",
      "2 th fold： 0.8033707865168539\n",
      "3 th fold： 0.9044943820224719\n",
      "4 th fold： 0.8314606741573034\n",
      "avg score=  0.8260498399347185\n"
     ]
    }
   ],
   "source": [
    "from lightgbm import LGBMClassifier\n",
    "\n",
    "best_model=None\n",
    "folds=5\n",
    "avg_score=0\n",
    "best_score=0\n",
    "result=np.zeros(418)\n",
    "\n",
    "kf=KFold(n_splits=folds,shuffle=True,random_state=2022)\n",
    "for i, (train_index,test_index) in enumerate(kf.split(X_train)):\n",
    "    lgb=LGBMClassifier(learning_rate=0.07,max_depth=32,n_estimators=70)\n",
    "    lgb.fit(X_train[train_index],y_train[train_index])\n",
    "    score=lgb.score(X_train[test_index],y_train[test_index])\n",
    "    print(i,'th fold：',score)\n",
    "    if best_score<score:\n",
    "        best_score=score\n",
    "        best_model=lgb    \n",
    "    avg_score+=score\n",
    "    result+=lgb.predict(X_test)\n",
    "avg_score/=folds\n",
    "result/=folds\n",
    "\n",
    "print(\"avg score= \",avg_score)"
   ]
  },
  {
   "cell_type": "code",
   "execution_count": 350,
   "id": "725f3559",
   "metadata": {
    "ExecuteTime": {
     "end_time": "2022-05-22T15:04:45.695536Z",
     "start_time": "2022-05-22T15:04:45.676420Z"
    }
   },
   "outputs": [
    {
     "data": {
      "text/plain": [
       "Index(['Pclass', 'Age', 'SibSp', 'Parch', 'Fare', 'Cabins', 'familyNum',\n",
       "       'has_family', 'CabinB', 'CabinC', 'CabinE', 'CabinZ', 'EmbarkedC',\n",
       "       'EmbarkedQ', 'EmbarkedS', 'TitleMaster', 'TitleMiss', 'TitleMr',\n",
       "       'TitleMrs', 'TitleRare', 'Sexfemale', 'female1', 'female2', 'female3',\n",
       "       'male1', 'male2', 'male3'],\n",
       "      dtype='object')"
      ]
     },
     "execution_count": 350,
     "metadata": {},
     "output_type": "execute_result"
    }
   ],
   "source": [
    "data[data['is_train']==1].drop(['Survived','is_train'],axis=1).columns# CabinA,CabinD,CabinF,CabinG,CabinT,Sexmale"
   ]
  },
  {
   "cell_type": "code",
   "execution_count": 351,
   "id": "f3c56fbd",
   "metadata": {
    "ExecuteTime": {
     "end_time": "2022-05-22T15:04:48.018231Z",
     "start_time": "2022-05-22T15:04:47.999232Z"
    }
   },
   "outputs": [
    {
     "data": {
      "text/plain": [
       "array([ 47, 711,  31,  30, 676,  22,  57,   1,   6,  18,   4,   5,  25,\n",
       "        10,  59,  15,  21,  26,  22,   6,  27,  17,  16,   8,   2,   9,\n",
       "        19])"
      ]
     },
     "execution_count": 351,
     "metadata": {},
     "output_type": "execute_result"
    }
   ],
   "source": [
    "lgb.feature_importances_"
   ]
  },
  {
   "cell_type": "markdown",
   "id": "daf5e2ce",
   "metadata": {},
   "source": [
    "## age缺失值填充\n",
    "### 用lgb预测"
   ]
  },
  {
   "cell_type": "code",
   "execution_count": 352,
   "id": "a3dbcd57",
   "metadata": {
    "ExecuteTime": {
     "end_time": "2022-05-22T15:05:11.771716Z",
     "start_time": "2022-05-22T15:05:11.758915Z"
    }
   },
   "outputs": [],
   "source": [
    "# X_test_pred=pd.read_csv(\"./result_20220522_ss.txt\").iloc[:,1]# 历史最好成绩survival预测成绩\n",
    "X_test_pred=best_model.predict(X_test)\n",
    "data.iloc[891:,0]=X_test_pred\n",
    "data=data.reset_index(drop=True)"
   ]
  },
  {
   "cell_type": "code",
   "execution_count": 353,
   "id": "b59992ef",
   "metadata": {
    "ExecuteTime": {
     "end_time": "2022-05-22T15:05:13.973647Z",
     "start_time": "2022-05-22T15:05:13.949645Z"
    }
   },
   "outputs": [],
   "source": [
    "data_age=data[data['Age'].notnull()]\n",
    "data_noAge=data[data['Age'].isnull()]\n",
    "\n",
    "X_train_age=np.array(data_age.drop(['is_train','Age'],axis=1))\n",
    "y_train_age=np.array(data_age['Age'])\n",
    "X_test_age=np.array(data_noAge.drop(['is_train','Age'],axis=1))"
   ]
  },
  {
   "cell_type": "code",
   "execution_count": 354,
   "id": "40b4839d",
   "metadata": {
    "ExecuteTime": {
     "end_time": "2022-05-22T15:05:18.123991Z",
     "start_time": "2022-05-22T15:05:18.075701Z"
    }
   },
   "outputs": [
    {
     "name": "stdout",
     "output_type": "stream",
     "text": [
      "0 th fold 0： 89.0054952279947\n",
      "0 th fold： 117.55825413521964\n",
      "1 th fold 0： 94.34384533188556\n",
      "1 th fold： 119.00546938741127\n",
      "2 th fold 0： 95.13518797067388\n",
      "2 th fold： 122.36436718298364\n",
      "3 th fold 0： 94.54247052969569\n",
      "3 th fold： 116.04384703449267\n",
      "4 th fold 0： 96.23923380335228\n",
      "4 th fold： 96.83670489488938\n",
      "avg score=  114.36172852699931\n"
     ]
    }
   ],
   "source": [
    "from lightgbm import LGBMRegressor\n",
    "from sklearn.metrics import mean_squared_error\n",
    "\n",
    "best_model=None\n",
    "folds=5\n",
    "avg_score=0\n",
    "best_score=0\n",
    "\n",
    "kf=KFold(n_splits=folds,shuffle=True,random_state=2022)\n",
    "for i, (train_index,test_index) in enumerate(kf.split(X_train_age)):\n",
    "    lgb=LGBMRegressor(learning_rate=0.5,max_depth=5,n_estimators=7)\n",
    "    lgb.fit(X_train_age[train_index],y_train_age[train_index])\n",
    "    \n",
    "    \n",
    "    pred=lgb.predict(X_train_age[train_index])\n",
    "    score0=mean_squared_error(pred,y_train_age[train_index])\n",
    "    print(i,'th fold 0：',score0)\n",
    "    \n",
    "    pred=lgb.predict(X_train_age[test_index])\n",
    "    score=mean_squared_error(pred,y_train_age[test_index])\n",
    "    print(i,'th fold：',score)\n",
    "    if best_score<score:\n",
    "        best_score=score\n",
    "        best_model=lgb    \n",
    "    avg_score+=score\n",
    "avg_score/=folds\n",
    "\n",
    "print(\"avg score= \",avg_score)"
   ]
  },
  {
   "cell_type": "code",
   "execution_count": 355,
   "id": "c7f02f22",
   "metadata": {
    "ExecuteTime": {
     "end_time": "2022-05-22T15:05:20.486105Z",
     "start_time": "2022-05-22T15:05:20.474478Z"
    }
   },
   "outputs": [],
   "source": [
    "age_pred=best_model.predict(X_test_age)\n",
    "data.iloc[data[data['Age'].isnull()].index,2]=age_pred"
   ]
  },
  {
   "cell_type": "markdown",
   "id": "3aa46d69",
   "metadata": {},
   "source": [
    "# 模型训练"
   ]
  },
  {
   "cell_type": "code",
   "execution_count": 356,
   "id": "06d652d2",
   "metadata": {
    "ExecuteTime": {
     "end_time": "2022-05-22T15:05:25.336737Z",
     "start_time": "2022-05-22T15:05:25.313737Z"
    }
   },
   "outputs": [],
   "source": [
    "X_train=np.array(data[data['is_train']==1].drop(['Survived','is_train'],axis=1))\n",
    "y_train=np.array(data[data['is_train']==1]['Survived'])\n",
    "X_test=np.array(data[data['is_train']==0].drop(['Survived','is_train'],axis=1))"
   ]
  },
  {
   "cell_type": "markdown",
   "id": "b61ecfd5",
   "metadata": {
    "ExecuteTime": {
     "end_time": "2022-05-15T14:23:20.498796Z",
     "start_time": "2022-05-15T14:23:20.486634Z"
    }
   },
   "source": [
    "## lgb"
   ]
  },
  {
   "cell_type": "code",
   "execution_count": 366,
   "id": "716f7630",
   "metadata": {
    "ExecuteTime": {
     "end_time": "2022-05-22T15:06:15.352392Z",
     "start_time": "2022-05-22T15:06:15.187723Z"
    }
   },
   "outputs": [
    {
     "name": "stdout",
     "output_type": "stream",
     "text": [
      "0 th fold： 0.8435754189944135\n",
      "1 th fold： 0.7696629213483146\n",
      "2 th fold： 0.7921348314606742\n",
      "3 th fold： 0.898876404494382\n",
      "4 th fold： 0.8595505617977528\n",
      "avg score=  0.8327600276191074\n"
     ]
    }
   ],
   "source": [
    "from lightgbm import LGBMClassifier\n",
    "\n",
    "best_model=None\n",
    "folds=5\n",
    "best_score=0\n",
    "avg_score_lgb=0\n",
    "result_lgb=np.zeros(418)\n",
    "train_result_lgb=np.zeros(891)\n",
    "\n",
    "kf=KFold(n_splits=folds,shuffle=True,random_state=2022)\n",
    "for i, (train_index,test_index) in enumerate(kf.split(X_train)):\n",
    "    lgb=LGBMClassifier(learning_rate=0.07,max_depth=12,n_estimators=80)\n",
    "    lgb.fit(X_train[train_index],y_train[train_index])\n",
    "    score=lgb.score(X_train[test_index],y_train[test_index])\n",
    "    print(i,'th fold：',score)\n",
    "    if best_score<score:\n",
    "        best_score=score\n",
    "        best_model=lgb    \n",
    "        \n",
    "    avg_score_lgb+=score\n",
    "    result_lgb+=lgb.predict_proba(X_test)[:,1]\n",
    "    train_result_lgb[test_index]=lgb.predict_proba(X_train[test_index])[:,1]\n",
    "    \n",
    "avg_score_lgb/=folds\n",
    "result_lgb/=folds\n",
    "\n",
    "print(\"avg score= \",avg_score_lgb)"
   ]
  },
  {
   "cell_type": "markdown",
   "id": "6c9a8382",
   "metadata": {},
   "source": [
    "## xgb"
   ]
  },
  {
   "cell_type": "code",
   "execution_count": 382,
   "id": "9beeed47",
   "metadata": {
    "ExecuteTime": {
     "end_time": "2022-05-22T15:08:16.196166Z",
     "start_time": "2022-05-22T15:08:15.736348Z"
    },
    "scrolled": true
   },
   "outputs": [
    {
     "name": "stdout",
     "output_type": "stream",
     "text": [
      "[23:08:15] WARNING: D:\\bld\\xgboost-split_1645118015404\\work\\src\\learner.cc:1115: Starting in XGBoost 1.3.0, the default evaluation metric used with the objective 'binary:logistic' was changed from 'error' to 'logloss'. Explicitly set eval_metric if you'd like to restore the old behavior.\n",
      "0 th fold： 0.8435754189944135\n",
      "[23:08:15] WARNING: D:\\bld\\xgboost-split_1645118015404\\work\\src\\learner.cc:1115: Starting in XGBoost 1.3.0, the default evaluation metric used with the objective 'binary:logistic' was changed from 'error' to 'logloss'. Explicitly set eval_metric if you'd like to restore the old behavior.\n",
      "1 th fold： 0.7865168539325843\n",
      "[23:08:15] WARNING: D:\\bld\\xgboost-split_1645118015404\\work\\src\\learner.cc:1115: Starting in XGBoost 1.3.0, the default evaluation metric used with the objective 'binary:logistic' was changed from 'error' to 'logloss'. Explicitly set eval_metric if you'd like to restore the old behavior.\n",
      "2 th fold： 0.8089887640449438\n",
      "[23:08:16] WARNING: D:\\bld\\xgboost-split_1645118015404\\work\\src\\learner.cc:1115: Starting in XGBoost 1.3.0, the default evaluation metric used with the objective 'binary:logistic' was changed from 'error' to 'logloss'. Explicitly set eval_metric if you'd like to restore the old behavior.\n",
      "3 th fold： 0.8932584269662921\n",
      "[23:08:16] WARNING: D:\\bld\\xgboost-split_1645118015404\\work\\src\\learner.cc:1115: Starting in XGBoost 1.3.0, the default evaluation metric used with the objective 'binary:logistic' was changed from 'error' to 'logloss'. Explicitly set eval_metric if you'd like to restore the old behavior.\n",
      "4 th fold： 0.8595505617977528\n",
      "avg score=  0.8383780051471973\n"
     ]
    }
   ],
   "source": [
    "from xgboost import XGBClassifier\n",
    "\n",
    "best_model=None\n",
    "folds=5\n",
    "best_score=0\n",
    "avg_score_xgb=0\n",
    "result_xgb=np.zeros(418)\n",
    "train_result_xgb=np.zeros(891)\n",
    "\n",
    "kf=KFold(n_splits=folds,shuffle=True,random_state=2022)\n",
    "for i, (train_index,test_index) in enumerate(kf.split(X_train)):\n",
    "    lgb=XGBClassifier(learning_rate=0.05,max_depth=16,n_estimators=73)\n",
    "    lgb.fit(X_train[train_index],y_train[train_index])\n",
    "    score=lgb.score(X_train[test_index],y_train[test_index])\n",
    "    print(i,'th fold：',score)\n",
    "    if best_score<score:\n",
    "        best_score=score\n",
    "        best_model=lgb    \n",
    "    avg_score_xgb+=score\n",
    "    result_xgb+=lgb.predict_proba(X_test)[:,1]\n",
    "    train_result_xgb[test_index]=lgb.predict_proba(X_train[test_index])[:,1]\n",
    "    \n",
    "avg_score_xgb/=folds\n",
    "result_xgb/=5\n",
    "\n",
    "print(\"avg score= \",avg_score_xgb)"
   ]
  },
  {
   "cell_type": "markdown",
   "id": "207b82fe",
   "metadata": {},
   "source": [
    "## catboost"
   ]
  },
  {
   "cell_type": "code",
   "execution_count": 394,
   "id": "7be1c0a8",
   "metadata": {
    "ExecuteTime": {
     "end_time": "2022-05-22T15:09:56.426553Z",
     "start_time": "2022-05-22T15:09:55.439575Z"
    }
   },
   "outputs": [
    {
     "name": "stdout",
     "output_type": "stream",
     "text": [
      "0:\tlearn: 0.5818814\ttotal: 9.21ms\tremaining: 746ms\n",
      "1:\tlearn: 0.5320381\ttotal: 10.1ms\tremaining: 403ms\n",
      "2:\tlearn: 0.4801454\ttotal: 11.5ms\tremaining: 304ms\n",
      "3:\tlearn: 0.4511678\ttotal: 12.9ms\tremaining: 252ms\n",
      "4:\tlearn: 0.4203780\ttotal: 14.2ms\tremaining: 218ms\n",
      "5:\tlearn: 0.4065672\ttotal: 15.3ms\tremaining: 194ms\n",
      "6:\tlearn: 0.3977164\ttotal: 16.3ms\tremaining: 174ms\n",
      "7:\tlearn: 0.3887375\ttotal: 17.3ms\tremaining: 160ms\n",
      "8:\tlearn: 0.3825679\ttotal: 18.5ms\tremaining: 150ms\n",
      "9:\tlearn: 0.3772026\ttotal: 19.7ms\tremaining: 142ms\n",
      "10:\tlearn: 0.3700517\ttotal: 20.9ms\tremaining: 135ms\n",
      "11:\tlearn: 0.3658715\ttotal: 22ms\tremaining: 128ms\n",
      "12:\tlearn: 0.3624706\ttotal: 23.1ms\tremaining: 122ms\n",
      "13:\tlearn: 0.3582571\ttotal: 24.2ms\tremaining: 118ms\n",
      "14:\tlearn: 0.3521496\ttotal: 25.3ms\tremaining: 113ms\n",
      "15:\tlearn: 0.3485011\ttotal: 26.4ms\tremaining: 109ms\n",
      "16:\tlearn: 0.3471826\ttotal: 27.2ms\tremaining: 104ms\n",
      "17:\tlearn: 0.3412068\ttotal: 28.4ms\tremaining: 101ms\n",
      "18:\tlearn: 0.3362207\ttotal: 29.5ms\tremaining: 97.8ms\n",
      "19:\tlearn: 0.3339760\ttotal: 30.6ms\tremaining: 94.9ms\n",
      "20:\tlearn: 0.3288187\ttotal: 31.7ms\tremaining: 92.2ms\n",
      "21:\tlearn: 0.3273352\ttotal: 32.8ms\tremaining: 89.5ms\n",
      "22:\tlearn: 0.3241437\ttotal: 33.9ms\tremaining: 86.9ms\n",
      "23:\tlearn: 0.3209331\ttotal: 35.1ms\tremaining: 84.7ms\n",
      "24:\tlearn: 0.3176100\ttotal: 36.2ms\tremaining: 82.4ms\n",
      "25:\tlearn: 0.3154229\ttotal: 37.3ms\tremaining: 80.4ms\n",
      "26:\tlearn: 0.3134462\ttotal: 38.4ms\tremaining: 78.3ms\n",
      "27:\tlearn: 0.3100429\ttotal: 39.5ms\tremaining: 76.2ms\n",
      "28:\tlearn: 0.3084053\ttotal: 40.6ms\tremaining: 74.3ms\n",
      "29:\tlearn: 0.3039974\ttotal: 41.7ms\tremaining: 72.3ms\n",
      "30:\tlearn: 0.3028753\ttotal: 42.8ms\tremaining: 70.4ms\n",
      "31:\tlearn: 0.3021991\ttotal: 43.9ms\tremaining: 68.6ms\n",
      "32:\tlearn: 0.3011514\ttotal: 45ms\tremaining: 66.8ms\n",
      "33:\tlearn: 0.2967842\ttotal: 46ms\tremaining: 65ms\n",
      "34:\tlearn: 0.2894731\ttotal: 47.1ms\tremaining: 63.3ms\n",
      "35:\tlearn: 0.2889476\ttotal: 48.3ms\tremaining: 61.7ms\n",
      "36:\tlearn: 0.2853475\ttotal: 49.4ms\tremaining: 60ms\n",
      "37:\tlearn: 0.2844790\ttotal: 50.5ms\tremaining: 58.5ms\n",
      "38:\tlearn: 0.2818008\ttotal: 51.6ms\tremaining: 56.9ms\n",
      "39:\tlearn: 0.2812762\ttotal: 52.7ms\tremaining: 55.3ms\n",
      "40:\tlearn: 0.2782345\ttotal: 53.8ms\tremaining: 53.8ms\n",
      "41:\tlearn: 0.2764276\ttotal: 54.9ms\tremaining: 52.3ms\n",
      "42:\tlearn: 0.2755886\ttotal: 55.9ms\tremaining: 50.7ms\n",
      "43:\tlearn: 0.2741254\ttotal: 57ms\tremaining: 49.2ms\n",
      "44:\tlearn: 0.2692695\ttotal: 58ms\tremaining: 47.7ms\n",
      "45:\tlearn: 0.2665668\ttotal: 59.1ms\tremaining: 46.3ms\n",
      "46:\tlearn: 0.2642108\ttotal: 60.3ms\tremaining: 44.9ms\n",
      "47:\tlearn: 0.2560872\ttotal: 61.3ms\tremaining: 43.5ms\n",
      "48:\tlearn: 0.2528116\ttotal: 62.5ms\tremaining: 42.1ms\n",
      "49:\tlearn: 0.2505022\ttotal: 63.6ms\tremaining: 40.7ms\n",
      "50:\tlearn: 0.2483240\ttotal: 64.7ms\tremaining: 39.3ms\n",
      "51:\tlearn: 0.2449136\ttotal: 65.7ms\tremaining: 37.9ms\n",
      "52:\tlearn: 0.2437733\ttotal: 66.8ms\tremaining: 36.6ms\n",
      "53:\tlearn: 0.2428207\ttotal: 67.9ms\tremaining: 35.2ms\n",
      "54:\tlearn: 0.2360808\ttotal: 68.9ms\tremaining: 33.8ms\n",
      "55:\tlearn: 0.2321289\ttotal: 70ms\tremaining: 32.5ms\n",
      "56:\tlearn: 0.2293049\ttotal: 71.1ms\tremaining: 31.2ms\n",
      "57:\tlearn: 0.2249067\ttotal: 72.2ms\tremaining: 29.9ms\n",
      "58:\tlearn: 0.2228038\ttotal: 73.2ms\tremaining: 28.5ms\n",
      "59:\tlearn: 0.2220178\ttotal: 74.3ms\tremaining: 27.3ms\n",
      "60:\tlearn: 0.2183850\ttotal: 75.4ms\tremaining: 26ms\n",
      "61:\tlearn: 0.2175160\ttotal: 76.5ms\tremaining: 24.7ms\n",
      "62:\tlearn: 0.2147574\ttotal: 77.5ms\tremaining: 23.4ms\n",
      "63:\tlearn: 0.2125533\ttotal: 78.6ms\tremaining: 22.1ms\n",
      "64:\tlearn: 0.2112985\ttotal: 79.7ms\tremaining: 20.8ms\n",
      "65:\tlearn: 0.2108608\ttotal: 80.8ms\tremaining: 19.6ms\n",
      "66:\tlearn: 0.2070809\ttotal: 81.9ms\tremaining: 18.3ms\n",
      "67:\tlearn: 0.2046531\ttotal: 82.9ms\tremaining: 17.1ms\n",
      "68:\tlearn: 0.2004292\ttotal: 84ms\tremaining: 15.8ms\n",
      "69:\tlearn: 0.1998297\ttotal: 85ms\tremaining: 14.6ms\n",
      "70:\tlearn: 0.1962241\ttotal: 86.1ms\tremaining: 13.3ms\n",
      "71:\tlearn: 0.1943445\ttotal: 87.2ms\tremaining: 12.1ms\n",
      "72:\tlearn: 0.1919384\ttotal: 88.3ms\tremaining: 10.9ms\n",
      "73:\tlearn: 0.1892292\ttotal: 89.5ms\tremaining: 9.67ms\n",
      "74:\tlearn: 0.1865629\ttotal: 90.6ms\tremaining: 8.46ms\n",
      "75:\tlearn: 0.1830246\ttotal: 91.7ms\tremaining: 7.24ms\n",
      "76:\tlearn: 0.1822616\ttotal: 95.7ms\tremaining: 6.21ms\n",
      "77:\tlearn: 0.1810417\ttotal: 96.8ms\tremaining: 4.96ms\n",
      "78:\tlearn: 0.1793782\ttotal: 97.9ms\tremaining: 3.72ms\n",
      "79:\tlearn: 0.1770913\ttotal: 99ms\tremaining: 2.48ms\n",
      "80:\tlearn: 0.1757075\ttotal: 100ms\tremaining: 1.24ms\n",
      "81:\tlearn: 0.1729917\ttotal: 101ms\tremaining: 0us\n",
      "0 th fold： 0.8603351955307262\n",
      "0:\tlearn: 0.5720080\ttotal: 3.89ms\tremaining: 315ms\n",
      "1:\tlearn: 0.5141991\ttotal: 4.61ms\tremaining: 184ms\n",
      "2:\tlearn: 0.4560242\ttotal: 5.71ms\tremaining: 150ms\n",
      "3:\tlearn: 0.4267726\ttotal: 6.93ms\tremaining: 135ms\n",
      "4:\tlearn: 0.4043999\ttotal: 8.12ms\tremaining: 125ms\n",
      "5:\tlearn: 0.3884440\ttotal: 9.25ms\tremaining: 117ms\n",
      "6:\tlearn: 0.3715002\ttotal: 10.3ms\tremaining: 111ms\n",
      "7:\tlearn: 0.3635332\ttotal: 11.4ms\tremaining: 106ms\n",
      "8:\tlearn: 0.3526062\ttotal: 12.5ms\tremaining: 101ms\n",
      "9:\tlearn: 0.3477555\ttotal: 13.6ms\tremaining: 97.9ms\n",
      "10:\tlearn: 0.3430335\ttotal: 14.7ms\tremaining: 94.7ms\n",
      "11:\tlearn: 0.3380806\ttotal: 15.8ms\tremaining: 92ms\n",
      "12:\tlearn: 0.3333142\ttotal: 16.8ms\tremaining: 89.4ms\n",
      "13:\tlearn: 0.3289458\ttotal: 17.9ms\tremaining: 87.1ms\n",
      "14:\tlearn: 0.3232647\ttotal: 19ms\tremaining: 84.8ms\n",
      "15:\tlearn: 0.3170256\ttotal: 20.1ms\tremaining: 82.7ms\n",
      "16:\tlearn: 0.3135596\ttotal: 21.1ms\tremaining: 80.8ms\n",
      "17:\tlearn: 0.3088731\ttotal: 22.2ms\tremaining: 78.9ms\n",
      "18:\tlearn: 0.3052525\ttotal: 23.3ms\tremaining: 77.1ms\n",
      "19:\tlearn: 0.3044434\ttotal: 24.3ms\tremaining: 75.4ms\n",
      "20:\tlearn: 0.3014415\ttotal: 25.5ms\tremaining: 74ms\n",
      "21:\tlearn: 0.2986507\ttotal: 26.6ms\tremaining: 72.5ms\n",
      "22:\tlearn: 0.2965876\ttotal: 27.7ms\tremaining: 71ms\n",
      "23:\tlearn: 0.2912066\ttotal: 28.9ms\tremaining: 69.8ms\n",
      "24:\tlearn: 0.2884826\ttotal: 30ms\tremaining: 68.4ms\n",
      "25:\tlearn: 0.2858130\ttotal: 31.1ms\tremaining: 67.1ms\n",
      "26:\tlearn: 0.2839770\ttotal: 32.2ms\tremaining: 65.6ms\n",
      "27:\tlearn: 0.2816511\ttotal: 33.4ms\tremaining: 64.4ms\n",
      "28:\tlearn: 0.2773342\ttotal: 34.5ms\tremaining: 63ms\n",
      "29:\tlearn: 0.2744278\ttotal: 35.6ms\tremaining: 61.6ms\n",
      "30:\tlearn: 0.2729010\ttotal: 36.6ms\tremaining: 60.3ms\n",
      "31:\tlearn: 0.2680510\ttotal: 37.7ms\tremaining: 58.9ms\n",
      "32:\tlearn: 0.2656478\ttotal: 38.8ms\tremaining: 57.7ms\n",
      "33:\tlearn: 0.2609177\ttotal: 40.3ms\tremaining: 56.9ms\n",
      "34:\tlearn: 0.2598376\ttotal: 41.6ms\tremaining: 55.9ms\n",
      "35:\tlearn: 0.2583940\ttotal: 42.8ms\tremaining: 54.7ms\n",
      "36:\tlearn: 0.2565822\ttotal: 44.2ms\tremaining: 53.8ms\n",
      "37:\tlearn: 0.2548845\ttotal: 45.4ms\tremaining: 52.6ms\n",
      "38:\tlearn: 0.2530138\ttotal: 46.6ms\tremaining: 51.4ms\n",
      "39:\tlearn: 0.2522484\ttotal: 47.9ms\tremaining: 50.2ms\n",
      "40:\tlearn: 0.2515256\ttotal: 49.1ms\tremaining: 49.1ms\n",
      "41:\tlearn: 0.2430895\ttotal: 50.3ms\tremaining: 47.9ms\n",
      "42:\tlearn: 0.2417920\ttotal: 51.5ms\tremaining: 46.7ms\n",
      "43:\tlearn: 0.2366034\ttotal: 52.6ms\tremaining: 45.5ms\n",
      "44:\tlearn: 0.2353102\ttotal: 53.8ms\tremaining: 44.3ms\n",
      "45:\tlearn: 0.2340265\ttotal: 55ms\tremaining: 43ms\n",
      "46:\tlearn: 0.2286204\ttotal: 56.2ms\tremaining: 41.9ms\n",
      "47:\tlearn: 0.2256263\ttotal: 57.4ms\tremaining: 40.7ms\n",
      "48:\tlearn: 0.2233145\ttotal: 58.8ms\tremaining: 39.6ms\n",
      "49:\tlearn: 0.2204803\ttotal: 62.3ms\tremaining: 39.8ms\n",
      "50:\tlearn: 0.2190049\ttotal: 78.3ms\tremaining: 47.6ms\n",
      "51:\tlearn: 0.2163321\ttotal: 79.6ms\tremaining: 45.9ms\n",
      "52:\tlearn: 0.2152135\ttotal: 80.9ms\tremaining: 44.2ms\n",
      "53:\tlearn: 0.2127236\ttotal: 82ms\tremaining: 42.5ms\n",
      "54:\tlearn: 0.2117344\ttotal: 92.9ms\tremaining: 45.6ms\n",
      "55:\tlearn: 0.2097964\ttotal: 94.1ms\tremaining: 43.7ms\n",
      "56:\tlearn: 0.2035078\ttotal: 95.3ms\tremaining: 41.8ms\n",
      "57:\tlearn: 0.1998245\ttotal: 96.5ms\tremaining: 39.9ms\n",
      "58:\tlearn: 0.1982032\ttotal: 97.7ms\tremaining: 38.1ms\n",
      "59:\tlearn: 0.1965598\ttotal: 98.8ms\tremaining: 36.2ms\n",
      "60:\tlearn: 0.1934933\ttotal: 99.9ms\tremaining: 34.4ms\n",
      "61:\tlearn: 0.1909348\ttotal: 101ms\tremaining: 32.6ms\n",
      "62:\tlearn: 0.1882125\ttotal: 102ms\tremaining: 30.8ms\n",
      "63:\tlearn: 0.1839377\ttotal: 103ms\tremaining: 29.1ms\n",
      "64:\tlearn: 0.1807766\ttotal: 107ms\tremaining: 28ms\n",
      "65:\tlearn: 0.1790107\ttotal: 108ms\tremaining: 26.2ms\n",
      "66:\tlearn: 0.1772562\ttotal: 109ms\tremaining: 24.5ms\n",
      "67:\tlearn: 0.1735691\ttotal: 110ms\tremaining: 22.7ms\n",
      "68:\tlearn: 0.1722133\ttotal: 112ms\tremaining: 21ms\n",
      "69:\tlearn: 0.1712973\ttotal: 113ms\tremaining: 19.3ms\n",
      "70:\tlearn: 0.1672136\ttotal: 114ms\tremaining: 17.6ms\n",
      "71:\tlearn: 0.1657782\ttotal: 115ms\tremaining: 16ms\n",
      "72:\tlearn: 0.1631534\ttotal: 116ms\tremaining: 14.3ms\n",
      "73:\tlearn: 0.1622684\ttotal: 117ms\tremaining: 12.6ms\n",
      "74:\tlearn: 0.1608952\ttotal: 118ms\tremaining: 11ms\n",
      "75:\tlearn: 0.1598992\ttotal: 119ms\tremaining: 9.41ms\n",
      "76:\tlearn: 0.1588769\ttotal: 120ms\tremaining: 7.81ms\n",
      "77:\tlearn: 0.1567382\ttotal: 121ms\tremaining: 6.23ms\n",
      "78:\tlearn: 0.1545026\ttotal: 122ms\tremaining: 4.65ms\n",
      "79:\tlearn: 0.1526056\ttotal: 123ms\tremaining: 3.09ms\n",
      "80:\tlearn: 0.1520243\ttotal: 125ms\tremaining: 1.54ms\n",
      "81:\tlearn: 0.1509517\ttotal: 126ms\tremaining: 0us\n",
      "1 th fold： 0.7921348314606742\n",
      "0:\tlearn: 0.5743037\ttotal: 1.28ms\tremaining: 104ms\n",
      "1:\tlearn: 0.5223808\ttotal: 2ms\tremaining: 80.1ms\n",
      "2:\tlearn: 0.4685675\ttotal: 3.14ms\tremaining: 82.8ms\n",
      "3:\tlearn: 0.4379232\ttotal: 4.31ms\tremaining: 84ms\n",
      "4:\tlearn: 0.4194336\ttotal: 5.39ms\tremaining: 83ms\n",
      "5:\tlearn: 0.3980366\ttotal: 6.47ms\tremaining: 81.9ms\n",
      "6:\tlearn: 0.3803291\ttotal: 7.58ms\tremaining: 81.2ms\n",
      "7:\tlearn: 0.3690773\ttotal: 8.69ms\tremaining: 80.4ms\n",
      "8:\tlearn: 0.3608278\ttotal: 9.77ms\tremaining: 79.2ms\n",
      "9:\tlearn: 0.3552586\ttotal: 10.8ms\tremaining: 77.9ms\n",
      "10:\tlearn: 0.3498247\ttotal: 11.9ms\tremaining: 76.8ms\n",
      "11:\tlearn: 0.3451900\ttotal: 13ms\tremaining: 75.8ms\n",
      "12:\tlearn: 0.3379732\ttotal: 14.1ms\tremaining: 74.8ms\n",
      "13:\tlearn: 0.3341151\ttotal: 15.2ms\tremaining: 73.6ms\n",
      "14:\tlearn: 0.3298168\ttotal: 16.3ms\tremaining: 72.6ms\n",
      "15:\tlearn: 0.3254394\ttotal: 17.3ms\tremaining: 71.5ms\n",
      "16:\tlearn: 0.3225087\ttotal: 18.4ms\tremaining: 70.4ms\n",
      "17:\tlearn: 0.3169446\ttotal: 19.5ms\tremaining: 69.2ms\n",
      "18:\tlearn: 0.3122883\ttotal: 20.5ms\tremaining: 68ms\n",
      "19:\tlearn: 0.3111472\ttotal: 21.5ms\tremaining: 66.8ms\n",
      "20:\tlearn: 0.3086906\ttotal: 22.6ms\tremaining: 65.6ms\n",
      "21:\tlearn: 0.3024768\ttotal: 23.7ms\tremaining: 64.6ms\n",
      "22:\tlearn: 0.3009488\ttotal: 24.8ms\tremaining: 63.6ms\n",
      "23:\tlearn: 0.2977030\ttotal: 25.9ms\tremaining: 62.5ms\n",
      "24:\tlearn: 0.2952055\ttotal: 26.9ms\tremaining: 61.4ms\n",
      "25:\tlearn: 0.2934301\ttotal: 27.8ms\tremaining: 59.9ms\n",
      "26:\tlearn: 0.2902154\ttotal: 28.9ms\tremaining: 58.8ms\n",
      "27:\tlearn: 0.2881305\ttotal: 29.9ms\tremaining: 57.7ms\n",
      "28:\tlearn: 0.2865387\ttotal: 31ms\tremaining: 56.6ms\n",
      "29:\tlearn: 0.2844966\ttotal: 32.2ms\tremaining: 55.8ms\n",
      "30:\tlearn: 0.2817339\ttotal: 33.3ms\tremaining: 54.7ms\n",
      "31:\tlearn: 0.2784378\ttotal: 34.4ms\tremaining: 53.8ms\n",
      "32:\tlearn: 0.2756964\ttotal: 35.5ms\tremaining: 52.7ms\n",
      "33:\tlearn: 0.2734460\ttotal: 36.5ms\tremaining: 51.6ms\n",
      "34:\tlearn: 0.2723183\ttotal: 37.6ms\tremaining: 50.5ms\n",
      "35:\tlearn: 0.2704840\ttotal: 38.6ms\tremaining: 49.4ms\n",
      "36:\tlearn: 0.2691412\ttotal: 39.7ms\tremaining: 48.3ms\n",
      "37:\tlearn: 0.2657140\ttotal: 40.8ms\tremaining: 47.2ms\n",
      "38:\tlearn: 0.2640627\ttotal: 41.8ms\tremaining: 46.1ms\n",
      "39:\tlearn: 0.2592987\ttotal: 42.9ms\tremaining: 45ms\n",
      "40:\tlearn: 0.2573633\ttotal: 43.9ms\tremaining: 43.9ms\n",
      "41:\tlearn: 0.2538422\ttotal: 45ms\tremaining: 42.8ms\n",
      "42:\tlearn: 0.2522823\ttotal: 46.1ms\tremaining: 41.8ms\n",
      "43:\tlearn: 0.2466467\ttotal: 47.2ms\tremaining: 40.7ms\n",
      "44:\tlearn: 0.2450292\ttotal: 48.2ms\tremaining: 39.6ms\n",
      "45:\tlearn: 0.2421813\ttotal: 49.3ms\tremaining: 38.5ms\n",
      "46:\tlearn: 0.2381794\ttotal: 50.3ms\tremaining: 37.4ms\n",
      "47:\tlearn: 0.2344837\ttotal: 51.3ms\tremaining: 36.4ms\n",
      "48:\tlearn: 0.2324619\ttotal: 52.4ms\tremaining: 35.3ms\n"
     ]
    },
    {
     "name": "stdout",
     "output_type": "stream",
     "text": [
      "49:\tlearn: 0.2307972\ttotal: 53.9ms\tremaining: 34.5ms\n",
      "50:\tlearn: 0.2296670\ttotal: 55.2ms\tremaining: 33.5ms\n",
      "51:\tlearn: 0.2262790\ttotal: 56.4ms\tremaining: 32.5ms\n",
      "52:\tlearn: 0.2222518\ttotal: 57.7ms\tremaining: 31.6ms\n",
      "53:\tlearn: 0.2213689\ttotal: 58.9ms\tremaining: 30.5ms\n",
      "54:\tlearn: 0.2203660\ttotal: 60.1ms\tremaining: 29.5ms\n",
      "55:\tlearn: 0.2182059\ttotal: 61.3ms\tremaining: 28.5ms\n",
      "56:\tlearn: 0.2160375\ttotal: 62.5ms\tremaining: 27.4ms\n",
      "57:\tlearn: 0.2139453\ttotal: 63.7ms\tremaining: 26.4ms\n",
      "58:\tlearn: 0.2117002\ttotal: 64.9ms\tremaining: 25.3ms\n",
      "59:\tlearn: 0.2102988\ttotal: 66ms\tremaining: 24.2ms\n",
      "60:\tlearn: 0.2070103\ttotal: 67.3ms\tremaining: 23.2ms\n",
      "61:\tlearn: 0.2040787\ttotal: 68.5ms\tremaining: 22.1ms\n",
      "62:\tlearn: 0.2000091\ttotal: 69.7ms\tremaining: 21ms\n",
      "63:\tlearn: 0.1994148\ttotal: 70.9ms\tremaining: 19.9ms\n",
      "64:\tlearn: 0.1975308\ttotal: 72ms\tremaining: 18.8ms\n",
      "65:\tlearn: 0.1966385\ttotal: 73.1ms\tremaining: 17.7ms\n",
      "66:\tlearn: 0.1959258\ttotal: 74.1ms\tremaining: 16.6ms\n",
      "67:\tlearn: 0.1948484\ttotal: 75.2ms\tremaining: 15.5ms\n",
      "68:\tlearn: 0.1923726\ttotal: 76.3ms\tremaining: 14.4ms\n",
      "69:\tlearn: 0.1902101\ttotal: 77.4ms\tremaining: 13.3ms\n",
      "70:\tlearn: 0.1850865\ttotal: 78.5ms\tremaining: 12.2ms\n",
      "71:\tlearn: 0.1842742\ttotal: 79.5ms\tremaining: 11ms\n",
      "72:\tlearn: 0.1816355\ttotal: 80.6ms\tremaining: 9.94ms\n",
      "73:\tlearn: 0.1807528\ttotal: 81.8ms\tremaining: 8.84ms\n",
      "74:\tlearn: 0.1802753\ttotal: 82.9ms\tremaining: 7.73ms\n",
      "75:\tlearn: 0.1794766\ttotal: 84ms\tremaining: 6.63ms\n",
      "76:\tlearn: 0.1787455\ttotal: 85.1ms\tremaining: 5.52ms\n",
      "77:\tlearn: 0.1774600\ttotal: 86.1ms\tremaining: 4.42ms\n",
      "78:\tlearn: 0.1765575\ttotal: 87.3ms\tremaining: 3.31ms\n",
      "79:\tlearn: 0.1751528\ttotal: 88.3ms\tremaining: 2.21ms\n",
      "80:\tlearn: 0.1744169\ttotal: 89.4ms\tremaining: 1.1ms\n",
      "81:\tlearn: 0.1715936\ttotal: 90.4ms\tremaining: 0us\n",
      "2 th fold： 0.8033707865168539\n",
      "0:\tlearn: 0.5921729\ttotal: 10.4ms\tremaining: 846ms\n",
      "1:\tlearn: 0.5461770\ttotal: 11.3ms\tremaining: 450ms\n",
      "2:\tlearn: 0.4946297\ttotal: 12.5ms\tremaining: 329ms\n",
      "3:\tlearn: 0.4674757\ttotal: 13.9ms\tremaining: 271ms\n",
      "4:\tlearn: 0.4457702\ttotal: 15.1ms\tremaining: 233ms\n",
      "5:\tlearn: 0.4309080\ttotal: 16.4ms\tremaining: 207ms\n",
      "6:\tlearn: 0.4139332\ttotal: 17.6ms\tremaining: 188ms\n",
      "7:\tlearn: 0.4023261\ttotal: 18.8ms\tremaining: 174ms\n",
      "8:\tlearn: 0.3935104\ttotal: 19.9ms\tremaining: 162ms\n",
      "9:\tlearn: 0.3876146\ttotal: 21ms\tremaining: 151ms\n",
      "10:\tlearn: 0.3837826\ttotal: 22.1ms\tremaining: 143ms\n",
      "11:\tlearn: 0.3775509\ttotal: 23.3ms\tremaining: 136ms\n",
      "12:\tlearn: 0.3735769\ttotal: 24.5ms\tremaining: 130ms\n",
      "13:\tlearn: 0.3691942\ttotal: 25.6ms\tremaining: 124ms\n",
      "14:\tlearn: 0.3669465\ttotal: 26.8ms\tremaining: 120ms\n",
      "15:\tlearn: 0.3647107\ttotal: 27.9ms\tremaining: 115ms\n",
      "16:\tlearn: 0.3641660\ttotal: 28.8ms\tremaining: 110ms\n",
      "17:\tlearn: 0.3621777\ttotal: 29.9ms\tremaining: 106ms\n",
      "18:\tlearn: 0.3587525\ttotal: 31.1ms\tremaining: 103ms\n",
      "19:\tlearn: 0.3574354\ttotal: 32.2ms\tremaining: 99.9ms\n",
      "20:\tlearn: 0.3561563\ttotal: 33.3ms\tremaining: 96.8ms\n",
      "21:\tlearn: 0.3496471\ttotal: 34.5ms\tremaining: 94ms\n",
      "22:\tlearn: 0.3466250\ttotal: 35.6ms\tremaining: 91.4ms\n",
      "23:\tlearn: 0.3427854\ttotal: 36.7ms\tremaining: 88.8ms\n",
      "24:\tlearn: 0.3386173\ttotal: 37.8ms\tremaining: 86.3ms\n",
      "25:\tlearn: 0.3337695\ttotal: 39ms\tremaining: 83.9ms\n",
      "26:\tlearn: 0.3327815\ttotal: 40.2ms\tremaining: 81.9ms\n",
      "27:\tlearn: 0.3315127\ttotal: 41.3ms\tremaining: 79.7ms\n",
      "28:\tlearn: 0.3288820\ttotal: 42.4ms\tremaining: 77.5ms\n",
      "29:\tlearn: 0.3251232\ttotal: 43.4ms\tremaining: 75.2ms\n",
      "30:\tlearn: 0.3239544\ttotal: 44.5ms\tremaining: 73.2ms\n",
      "31:\tlearn: 0.3211143\ttotal: 45.6ms\tremaining: 71.2ms\n",
      "32:\tlearn: 0.3196933\ttotal: 46.6ms\tremaining: 69.2ms\n",
      "33:\tlearn: 0.3177844\ttotal: 47.7ms\tremaining: 67.3ms\n",
      "34:\tlearn: 0.3166321\ttotal: 48.8ms\tremaining: 65.5ms\n",
      "35:\tlearn: 0.3134223\ttotal: 49.8ms\tremaining: 63.7ms\n",
      "36:\tlearn: 0.3098097\ttotal: 50.9ms\tremaining: 61.9ms\n",
      "37:\tlearn: 0.3085907\ttotal: 51.9ms\tremaining: 60.1ms\n",
      "38:\tlearn: 0.3038371\ttotal: 53.1ms\tremaining: 58.6ms\n",
      "39:\tlearn: 0.3026098\ttotal: 54.3ms\tremaining: 57ms\n",
      "40:\tlearn: 0.3013098\ttotal: 55.5ms\tremaining: 55.5ms\n",
      "41:\tlearn: 0.2981995\ttotal: 56.7ms\tremaining: 54ms\n",
      "42:\tlearn: 0.2972047\ttotal: 57.9ms\tremaining: 52.5ms\n",
      "43:\tlearn: 0.2966219\ttotal: 59.1ms\tremaining: 51ms\n",
      "44:\tlearn: 0.2944086\ttotal: 60.2ms\tremaining: 49.5ms\n",
      "45:\tlearn: 0.2930049\ttotal: 61.3ms\tremaining: 48ms\n",
      "46:\tlearn: 0.2880357\ttotal: 62.5ms\tremaining: 46.6ms\n",
      "47:\tlearn: 0.2845139\ttotal: 63.7ms\tremaining: 45.1ms\n",
      "48:\tlearn: 0.2817227\ttotal: 64.8ms\tremaining: 43.7ms\n",
      "49:\tlearn: 0.2764989\ttotal: 66ms\tremaining: 42.3ms\n",
      "50:\tlearn: 0.2722018\ttotal: 67.3ms\tremaining: 40.9ms\n",
      "51:\tlearn: 0.2693457\ttotal: 68.5ms\tremaining: 39.5ms\n",
      "52:\tlearn: 0.2598614\ttotal: 69.6ms\tremaining: 38.1ms\n",
      "53:\tlearn: 0.2545413\ttotal: 70.8ms\tremaining: 36.7ms\n",
      "54:\tlearn: 0.2517715\ttotal: 72ms\tremaining: 35.3ms\n",
      "55:\tlearn: 0.2497714\ttotal: 73.1ms\tremaining: 33.9ms\n",
      "56:\tlearn: 0.2491655\ttotal: 74.2ms\tremaining: 32.5ms\n",
      "57:\tlearn: 0.2477029\ttotal: 75.3ms\tremaining: 31.2ms\n",
      "58:\tlearn: 0.2452965\ttotal: 76.4ms\tremaining: 29.8ms\n",
      "59:\tlearn: 0.2440032\ttotal: 77.5ms\tremaining: 28.4ms\n",
      "60:\tlearn: 0.2413662\ttotal: 78.5ms\tremaining: 27ms\n",
      "61:\tlearn: 0.2401640\ttotal: 79.6ms\tremaining: 25.7ms\n",
      "62:\tlearn: 0.2362897\ttotal: 80.7ms\tremaining: 24.3ms\n",
      "63:\tlearn: 0.2348446\ttotal: 81.8ms\tremaining: 23ms\n",
      "64:\tlearn: 0.2318098\ttotal: 82.9ms\tremaining: 21.7ms\n",
      "65:\tlearn: 0.2309840\ttotal: 83.9ms\tremaining: 20.3ms\n",
      "66:\tlearn: 0.2288164\ttotal: 85ms\tremaining: 19ms\n",
      "67:\tlearn: 0.2266402\ttotal: 86.1ms\tremaining: 17.7ms\n",
      "68:\tlearn: 0.2252944\ttotal: 87.2ms\tremaining: 16.4ms\n",
      "69:\tlearn: 0.2240966\ttotal: 88.3ms\tremaining: 15.1ms\n",
      "70:\tlearn: 0.2232128\ttotal: 89.3ms\tremaining: 13.8ms\n",
      "71:\tlearn: 0.2228200\ttotal: 90.4ms\tremaining: 12.6ms\n",
      "72:\tlearn: 0.2203911\ttotal: 91.5ms\tremaining: 11.3ms\n",
      "73:\tlearn: 0.2197143\ttotal: 92.6ms\tremaining: 10ms\n",
      "74:\tlearn: 0.2149719\ttotal: 93.7ms\tremaining: 8.74ms\n",
      "75:\tlearn: 0.2116102\ttotal: 94.7ms\tremaining: 7.48ms\n",
      "76:\tlearn: 0.2105451\ttotal: 95.8ms\tremaining: 6.22ms\n",
      "77:\tlearn: 0.2089067\ttotal: 96.9ms\tremaining: 4.97ms\n",
      "78:\tlearn: 0.2082267\ttotal: 97.9ms\tremaining: 3.72ms\n",
      "79:\tlearn: 0.2059925\ttotal: 99ms\tremaining: 2.48ms\n",
      "80:\tlearn: 0.2054845\ttotal: 100ms\tremaining: 1.24ms\n",
      "81:\tlearn: 0.2051652\ttotal: 101ms\tremaining: 0us\n",
      "3 th fold： 0.9157303370786517\n",
      "0:\tlearn: 0.5836229\ttotal: 11.1ms\tremaining: 899ms\n",
      "1:\tlearn: 0.5171930\ttotal: 13.3ms\tremaining: 530ms\n",
      "2:\tlearn: 0.4894792\ttotal: 14.2ms\tremaining: 373ms\n",
      "3:\tlearn: 0.4527510\ttotal: 15.5ms\tremaining: 301ms\n",
      "4:\tlearn: 0.4260524\ttotal: 16.8ms\tremaining: 259ms\n",
      "5:\tlearn: 0.4139625\ttotal: 18ms\tremaining: 229ms\n",
      "6:\tlearn: 0.3984763\ttotal: 19.2ms\tremaining: 206ms\n",
      "7:\tlearn: 0.3826049\ttotal: 20.3ms\tremaining: 188ms\n",
      "8:\tlearn: 0.3731526\ttotal: 21.5ms\tremaining: 174ms\n",
      "9:\tlearn: 0.3667420\ttotal: 22.6ms\tremaining: 163ms\n",
      "10:\tlearn: 0.3610556\ttotal: 23.9ms\tremaining: 154ms\n",
      "11:\tlearn: 0.3531319\ttotal: 25.2ms\tremaining: 147ms\n",
      "12:\tlearn: 0.3472243\ttotal: 26.4ms\tremaining: 140ms\n",
      "13:\tlearn: 0.3432997\ttotal: 27.5ms\tremaining: 134ms\n",
      "14:\tlearn: 0.3392964\ttotal: 28.6ms\tremaining: 128ms\n",
      "15:\tlearn: 0.3372934\ttotal: 29.7ms\tremaining: 122ms\n",
      "16:\tlearn: 0.3335385\ttotal: 30.8ms\tremaining: 118ms\n",
      "17:\tlearn: 0.3319298\ttotal: 32ms\tremaining: 114ms\n",
      "18:\tlearn: 0.3260823\ttotal: 33.1ms\tremaining: 110ms\n",
      "19:\tlearn: 0.3252632\ttotal: 34.3ms\tremaining: 106ms\n",
      "20:\tlearn: 0.3229417\ttotal: 35.5ms\tremaining: 103ms\n",
      "21:\tlearn: 0.3170851\ttotal: 36.7ms\tremaining: 100ms\n",
      "22:\tlearn: 0.3158126\ttotal: 37.8ms\tremaining: 97ms\n",
      "23:\tlearn: 0.3132421\ttotal: 39ms\tremaining: 94.2ms\n",
      "24:\tlearn: 0.3081469\ttotal: 40ms\tremaining: 91.3ms\n",
      "25:\tlearn: 0.3060832\ttotal: 41.2ms\tremaining: 88.7ms\n",
      "26:\tlearn: 0.3048485\ttotal: 42.3ms\tremaining: 86.1ms\n",
      "27:\tlearn: 0.3029778\ttotal: 43.4ms\tremaining: 83.7ms\n",
      "28:\tlearn: 0.3021694\ttotal: 44.5ms\tremaining: 81.3ms\n",
      "29:\tlearn: 0.2990164\ttotal: 45.6ms\tremaining: 79.1ms\n",
      "30:\tlearn: 0.2985880\ttotal: 46.8ms\tremaining: 77ms\n",
      "31:\tlearn: 0.2952309\ttotal: 47.9ms\tremaining: 74.9ms\n",
      "32:\tlearn: 0.2877226\ttotal: 49.3ms\tremaining: 73.2ms\n",
      "33:\tlearn: 0.2850540\ttotal: 50.5ms\tremaining: 71.4ms\n",
      "34:\tlearn: 0.2829025\ttotal: 51.8ms\tremaining: 69.5ms\n",
      "35:\tlearn: 0.2800866\ttotal: 53ms\tremaining: 67.8ms\n",
      "36:\tlearn: 0.2786286\ttotal: 54.3ms\tremaining: 66ms\n",
      "37:\tlearn: 0.2769070\ttotal: 55.5ms\tremaining: 64.2ms\n",
      "38:\tlearn: 0.2752591\ttotal: 56.6ms\tremaining: 62.4ms\n",
      "39:\tlearn: 0.2743283\ttotal: 57.6ms\tremaining: 60.4ms\n",
      "40:\tlearn: 0.2729199\ttotal: 58.8ms\tremaining: 58.8ms\n",
      "41:\tlearn: 0.2674712\ttotal: 60.1ms\tremaining: 57.2ms\n",
      "42:\tlearn: 0.2663930\ttotal: 61.3ms\tremaining: 55.6ms\n",
      "43:\tlearn: 0.2651265\ttotal: 62.6ms\tremaining: 54.1ms\n",
      "44:\tlearn: 0.2615325\ttotal: 63.8ms\tremaining: 52.5ms\n",
      "45:\tlearn: 0.2578934\ttotal: 64.9ms\tremaining: 50.8ms\n",
      "46:\tlearn: 0.2567314\ttotal: 66ms\tremaining: 49.2ms\n",
      "47:\tlearn: 0.2550442\ttotal: 67.2ms\tremaining: 47.6ms\n",
      "48:\tlearn: 0.2506302\ttotal: 68.5ms\tremaining: 46.1ms\n",
      "49:\tlearn: 0.2475198\ttotal: 69.8ms\tremaining: 44.7ms\n",
      "50:\tlearn: 0.2430002\ttotal: 71ms\tremaining: 43.1ms\n",
      "51:\tlearn: 0.2400257\ttotal: 72.1ms\tremaining: 41.6ms\n",
      "52:\tlearn: 0.2350837\ttotal: 73.3ms\tremaining: 40.1ms\n",
      "53:\tlearn: 0.2285260\ttotal: 82.8ms\tremaining: 42.9ms\n",
      "54:\tlearn: 0.2258697\ttotal: 84ms\tremaining: 41.3ms\n",
      "55:\tlearn: 0.2227931\ttotal: 85.2ms\tremaining: 39.6ms\n",
      "56:\tlearn: 0.2215722\ttotal: 86.5ms\tremaining: 37.9ms\n",
      "57:\tlearn: 0.2209646\ttotal: 87.6ms\tremaining: 36.3ms\n",
      "58:\tlearn: 0.2189128\ttotal: 88.7ms\tremaining: 34.6ms\n",
      "59:\tlearn: 0.2160247\ttotal: 89.9ms\tremaining: 33ms\n",
      "60:\tlearn: 0.2154422\ttotal: 91.1ms\tremaining: 31.4ms\n",
      "61:\tlearn: 0.2129558\ttotal: 92.2ms\tremaining: 29.7ms\n",
      "62:\tlearn: 0.2122895\ttotal: 93.3ms\tremaining: 28.1ms\n",
      "63:\tlearn: 0.2102913\ttotal: 94.4ms\tremaining: 26.6ms\n",
      "64:\tlearn: 0.2098386\ttotal: 95.5ms\tremaining: 25ms\n",
      "65:\tlearn: 0.2086941\ttotal: 96.7ms\tremaining: 23.4ms\n",
      "66:\tlearn: 0.2063491\ttotal: 97.8ms\tremaining: 21.9ms\n",
      "67:\tlearn: 0.2029663\ttotal: 99ms\tremaining: 20.4ms\n",
      "68:\tlearn: 0.2001865\ttotal: 100ms\tremaining: 18.9ms\n",
      "69:\tlearn: 0.1995846\ttotal: 101ms\tremaining: 17.3ms\n",
      "70:\tlearn: 0.1979649\ttotal: 102ms\tremaining: 15.9ms\n",
      "71:\tlearn: 0.1967379\ttotal: 103ms\tremaining: 14.4ms\n",
      "72:\tlearn: 0.1952946\ttotal: 105ms\tremaining: 12.9ms\n",
      "73:\tlearn: 0.1952044\ttotal: 106ms\tremaining: 11.4ms\n",
      "74:\tlearn: 0.1939775\ttotal: 107ms\tremaining: 9.98ms\n",
      "75:\tlearn: 0.1923171\ttotal: 108ms\tremaining: 8.53ms\n",
      "76:\tlearn: 0.1898547\ttotal: 109ms\tremaining: 7.09ms\n",
      "77:\tlearn: 0.1867426\ttotal: 110ms\tremaining: 5.66ms\n",
      "78:\tlearn: 0.1850778\ttotal: 112ms\tremaining: 4.23ms\n",
      "79:\tlearn: 0.1823081\ttotal: 113ms\tremaining: 2.82ms\n",
      "80:\tlearn: 0.1812704\ttotal: 114ms\tremaining: 1.4ms\n",
      "81:\tlearn: 0.1807259\ttotal: 115ms\tremaining: 0us\n",
      "4 th fold： 0.8651685393258427\n",
      "avg score=  0.8473479379825497\n"
     ]
    }
   ],
   "source": [
    "from catboost import CatBoostClassifier\n",
    "best_model=None\n",
    "folds=5\n",
    "best_score=0\n",
    "avg_score_cat=0\n",
    "result_cat=np.zeros(418)\n",
    "train_result_cat=np.zeros(891)\n",
    "\n",
    "kf=KFold(n_splits=folds,shuffle=True,random_state=2022)\n",
    "for i, (train_index,test_index) in enumerate(kf.split(X_train)):\n",
    "    lgb=CatBoostClassifier(learning_rate=0.18,n_estimators=82)\n",
    "    lgb.fit(X_train[train_index],y_train[train_index])\n",
    "    score=lgb.score(X_train[test_index],y_train[test_index])\n",
    "    print(i,'th fold：',score)\n",
    "    if best_score<score:\n",
    "        best_score=score\n",
    "        best_model=lgb    \n",
    "    avg_score_cat+=score\n",
    "    result_cat+=lgb.predict_proba(X_test)[:,1]\n",
    "    train_result_cat[test_index]=lgb.predict_proba(X_train[test_index])[:,1]\n",
    "    \n",
    "avg_score_cat/=folds\n",
    "result_cat/=5\n",
    "\n",
    "print(\"avg score= \",avg_score_cat)"
   ]
  },
  {
   "cell_type": "markdown",
   "id": "c9421d7a",
   "metadata": {},
   "source": [
    "## gbt"
   ]
  },
  {
   "cell_type": "code",
   "execution_count": 405,
   "id": "0de07f09",
   "metadata": {
    "ExecuteTime": {
     "end_time": "2022-05-22T15:10:52.427168Z",
     "start_time": "2022-05-22T15:10:51.467877Z"
    }
   },
   "outputs": [
    {
     "name": "stdout",
     "output_type": "stream",
     "text": [
      "0 th fold： 0.8547486033519553\n",
      "1 th fold： 0.7808988764044944\n",
      "2 th fold： 0.8370786516853933\n",
      "3 th fold： 0.9269662921348315\n",
      "4 th fold： 0.848314606741573\n",
      "avg score=  0.8496014060636495\n"
     ]
    }
   ],
   "source": [
    "from sklearn.ensemble import GradientBoostingClassifier\n",
    "best_model=None\n",
    "folds=5\n",
    "best_score=0\n",
    "avg_score_gbt=0\n",
    "result_gbt=np.zeros(418)\n",
    "train_result_gbt=np.zeros(891)\n",
    "\n",
    "kf=KFold(n_splits=folds,shuffle=True,random_state=2022)\n",
    "for i, (train_index,test_index) in enumerate(kf.split(X_train)):\n",
    "    lgb=GradientBoostingClassifier(learning_rate=0.11,n_estimators=222)\n",
    "    lgb.fit(X_train[train_index],y_train[train_index])\n",
    "    score=lgb.score(X_train[test_index],y_train[test_index])\n",
    "    print(i,'th fold：',score)\n",
    "    if best_score<score:\n",
    "        best_score=score\n",
    "        best_model=lgb    \n",
    "    avg_score_gbt+=score\n",
    "    result_gbt+=lgb.predict_proba(X_test)[:,1]\n",
    "    train_result_gbt[test_index]=lgb.predict_proba(X_train[test_index])[:,1]\n",
    "    \n",
    "avg_score_gbt/=folds\n",
    "result_gbt/=folds\n",
    "\n",
    "print(\"avg score= \",avg_score_gbt)"
   ]
  },
  {
   "cell_type": "markdown",
   "id": "d161dd24",
   "metadata": {},
   "source": [
    "## RF"
   ]
  },
  {
   "cell_type": "code",
   "execution_count": 412,
   "id": "bb518fc5",
   "metadata": {
    "ExecuteTime": {
     "end_time": "2022-05-22T15:11:37.122497Z",
     "start_time": "2022-05-22T15:11:36.206383Z"
    }
   },
   "outputs": [
    {
     "name": "stdout",
     "output_type": "stream",
     "text": [
      "0 th fold： 0.8268156424581006\n",
      "1 th fold： 0.797752808988764\n",
      "2 th fold： 0.8146067415730337\n",
      "3 th fold： 0.8876404494382022\n",
      "4 th fold： 0.8146067415730337\n",
      "avg score=  0.8282844768062269\n"
     ]
    }
   ],
   "source": [
    "from sklearn.ensemble import RandomForestClassifier\n",
    "best_model=None\n",
    "folds=5\n",
    "best_score=0\n",
    "avg_score_rf=0\n",
    "result_rf=np.zeros(418)\n",
    "train_result_rf=np.zeros(891)\n",
    "\n",
    "kf=KFold(n_splits=folds,shuffle=True,random_state=2022)\n",
    "for i, (train_index,test_index) in enumerate(kf.split(X_train)):\n",
    "    lgb=RandomForestClassifier(n_estimators=150,max_depth=4,min_samples_split=5,min_samples_leaf=3)\n",
    "    lgb.fit(X_train[train_index],y_train[train_index])\n",
    "    score=lgb.score(X_train[test_index],y_train[test_index])\n",
    "    print(i,'th fold：',score)\n",
    "    if best_score<score:\n",
    "        best_score=score\n",
    "        best_model=lgb    \n",
    "    avg_score_rf+=score\n",
    "    result_rf+=lgb.predict_proba(X_test)[:,1]\n",
    "    train_result_rf[test_index]=lgb.predict_proba(X_train[test_index])[:,1]\n",
    "    \n",
    "avg_score_rf/=folds\n",
    "result_rf/=folds\n",
    "\n",
    "print(\"avg score= \",avg_score_rf)"
   ]
  },
  {
   "cell_type": "markdown",
   "id": "6326d0f0",
   "metadata": {},
   "source": [
    "## lr"
   ]
  },
  {
   "cell_type": "code",
   "execution_count": 413,
   "id": "f978818e",
   "metadata": {
    "ExecuteTime": {
     "end_time": "2022-05-22T15:11:41.112101Z",
     "start_time": "2022-05-22T15:11:41.026283Z"
    }
   },
   "outputs": [
    {
     "name": "stdout",
     "output_type": "stream",
     "text": [
      "0 th fold： 0.8379888268156425\n",
      "1 th fold： 0.7865168539325843\n",
      "2 th fold： 0.8089887640449438\n",
      "3 th fold： 0.898876404494382\n",
      "4 th fold： 0.8314606741573034\n",
      "avg score=  0.8327663046889713\n"
     ]
    }
   ],
   "source": [
    "from sklearn.linear_model import LogisticRegression\n",
    "best_model=None\n",
    "folds=5\n",
    "best_score=0\n",
    "avg_score_lr=0\n",
    "result_lr=np.zeros(418)\n",
    "train_result_lr=np.zeros(891)\n",
    "\n",
    "kf=KFold(n_splits=folds,shuffle=True,random_state=2022)\n",
    "for i, (train_index,test_index) in enumerate(kf.split(X_train)):\n",
    "    lgb=LogisticRegression()\n",
    "    lgb.fit(X_train[train_index],y_train[train_index])\n",
    "    score=lgb.score(X_train[test_index],y_train[test_index])\n",
    "    print(i,'th fold：',score)\n",
    "    if best_score<score:\n",
    "        best_score=score\n",
    "        best_model=lgb    \n",
    "    avg_score_lr+=score\n",
    "    result_lr+=lgb.predict_proba(X_test)[:,1]\n",
    "    train_result_lr[test_index]=lgb.predict_proba(X_train[test_index])[:,1]\n",
    "    \n",
    "avg_score_lr/=folds\n",
    "result_lr/=folds\n",
    "\n",
    "print(\"avg score= \",avg_score_lr)"
   ]
  },
  {
   "cell_type": "markdown",
   "id": "28d7abe0",
   "metadata": {},
   "source": [
    "## SVC"
   ]
  },
  {
   "cell_type": "code",
   "execution_count": 438,
   "id": "257ef419",
   "metadata": {
    "ExecuteTime": {
     "end_time": "2022-05-22T15:13:22.133613Z",
     "start_time": "2022-05-22T15:13:22.010493Z"
    }
   },
   "outputs": [
    {
     "name": "stdout",
     "output_type": "stream",
     "text": [
      "0 th fold： 0.8324022346368715\n",
      "1 th fold： 0.7921348314606742\n",
      "2 th fold： 0.797752808988764\n",
      "3 th fold： 0.8932584269662921\n",
      "4 th fold： 0.8258426966292135\n",
      "avg score=  0.828278199736363\n"
     ]
    }
   ],
   "source": [
    "from sklearn.svm import LinearSVC\n",
    "\n",
    "best_model=None\n",
    "folds=5\n",
    "best_score=0\n",
    "avg_score_svc=0\n",
    "result_svc=np.zeros(418)\n",
    "train_result_svc=np.zeros(891)\n",
    "\n",
    "kf=KFold(n_splits=folds,shuffle=True,random_state=2022)\n",
    "for i, (train_index,test_index) in enumerate(kf.split(X_train)):\n",
    "    lgb=LinearSVC(C=0.12,tol=1e-4,max_iter=1000)\n",
    "    lgb.fit(X_train[train_index],y_train[train_index])\n",
    "    score=lgb.score(X_train[test_index],y_train[test_index])\n",
    "    print(i,'th fold：',score)\n",
    "    if best_score<score:\n",
    "        best_score=score\n",
    "        best_model=lgb    \n",
    "    avg_score_svc+=score\n",
    "    result_svc+=lgb.predict(X_test)\n",
    "    train_result_svc[test_index]=lgb.predict(X_train[test_index])\n",
    "    \n",
    "avg_score_svc/=folds\n",
    "result_svc/=folds\n",
    "\n",
    "print(\"avg score= \",avg_score_svc)"
   ]
  },
  {
   "cell_type": "markdown",
   "id": "8a1f175f",
   "metadata": {},
   "source": [
    "## knn"
   ]
  },
  {
   "cell_type": "code",
   "execution_count": 444,
   "id": "34f8f747",
   "metadata": {
    "ExecuteTime": {
     "end_time": "2022-05-22T15:13:44.752894Z",
     "start_time": "2022-05-22T15:13:44.632592Z"
    }
   },
   "outputs": [
    {
     "name": "stdout",
     "output_type": "stream",
     "text": [
      "0 th fold： 0.7877094972067039\n",
      "1 th fold： 0.8146067415730337\n",
      "2 th fold： 0.7752808988764045\n",
      "3 th fold： 0.8426966292134831\n",
      "4 th fold： 0.7921348314606742\n",
      "avg score=  0.80248571966606\n"
     ]
    }
   ],
   "source": [
    "from sklearn.neighbors import KNeighborsClassifier\n",
    "\n",
    "best_model=None\n",
    "folds=5\n",
    "best_score=0\n",
    "avg_score_knn=0\n",
    "result_knn=np.zeros(418)\n",
    "train_result_knn=np.zeros(891)\n",
    "\n",
    "kf=KFold(n_splits=folds,shuffle=True,random_state=2022)\n",
    "for i, (train_index,test_index) in enumerate(kf.split(X_train)):\n",
    "    lgb=KNeighborsClassifier(n_neighbors=15,p=1)\n",
    "    lgb.fit(X_train[train_index],y_train[train_index])\n",
    "    score=lgb.score(X_train[test_index],y_train[test_index])\n",
    "    print(i,'th fold：',score)\n",
    "    if best_score<score:\n",
    "        best_score=score\n",
    "        best_model=lgb    \n",
    "    avg_score_knn+=score\n",
    "    result_knn+=lgb.predict_proba(X_test)[:,1]\n",
    "    train_result_knn[test_index]=lgb.predict_proba(X_train[test_index])[:,1]\n",
    "    \n",
    "avg_score_knn/=folds\n",
    "result_knn/=folds\n",
    "\n",
    "print(\"avg score= \",avg_score_knn)"
   ]
  },
  {
   "cell_type": "markdown",
   "id": "22406314",
   "metadata": {},
   "source": [
    "## perceptron"
   ]
  },
  {
   "cell_type": "code",
   "execution_count": 453,
   "id": "aa035203",
   "metadata": {
    "ExecuteTime": {
     "end_time": "2022-05-22T15:14:16.657397Z",
     "start_time": "2022-05-22T15:14:16.624402Z"
    }
   },
   "outputs": [
    {
     "name": "stdout",
     "output_type": "stream",
     "text": [
      "0 th fold： 0.770949720670391\n",
      "1 th fold： 0.8146067415730337\n",
      "2 th fold： 0.6741573033707865\n",
      "3 th fold： 0.8033707865168539\n",
      "4 th fold： 0.7696629213483146\n",
      "avg score=  0.766549494695876\n"
     ]
    }
   ],
   "source": [
    "from sklearn.linear_model import Perceptron\n",
    "\n",
    "best_model=None\n",
    "folds=5\n",
    "best_score=0\n",
    "avg_score_pt=0\n",
    "result_pt=np.zeros(418)\n",
    "train_result_pt=np.zeros(891)\n",
    "\n",
    "kf=KFold(n_splits=folds,shuffle=True,random_state=2022)\n",
    "for i, (train_index,test_index) in enumerate(kf.split(X_train)):\n",
    "    lgb=Perceptron(penalty='l2',alpha=1e-6,max_iter=10,validation_fraction=0.1,n_iter_no_change=10,warm_start=True)\n",
    "    lgb.fit(X_train[train_index],y_train[train_index])\n",
    "    score=lgb.score(X_train[test_index],y_train[test_index])\n",
    "    print(i,'th fold：',score)\n",
    "    if best_score<score:\n",
    "        best_score=score\n",
    "        best_model=lgb    \n",
    "    avg_score_pt+=score\n",
    "    result_pt+=lgb.predict(X_test)\n",
    "    train_result_pt[test_index]=lgb.predict(X_train[test_index])\n",
    "    \n",
    "avg_score_pt/=folds\n",
    "result_pt/=folds\n",
    "\n",
    "print(\"avg score= \",avg_score_pt)"
   ]
  },
  {
   "cell_type": "markdown",
   "id": "b6dc6177",
   "metadata": {},
   "source": [
    "## SGD"
   ]
  },
  {
   "cell_type": "code",
   "execution_count": 458,
   "id": "91cf5045",
   "metadata": {
    "ExecuteTime": {
     "end_time": "2022-05-22T15:14:36.993149Z",
     "start_time": "2022-05-22T15:14:36.966150Z"
    }
   },
   "outputs": [
    {
     "name": "stdout",
     "output_type": "stream",
     "text": [
      "0 th fold： 0.7206703910614525\n",
      "1 th fold： 0.8258426966292135\n",
      "2 th fold： 0.7134831460674157\n",
      "3 th fold： 0.8595505617977528\n",
      "4 th fold： 0.7471910112359551\n",
      "avg score=  0.7733475613583579\n"
     ]
    }
   ],
   "source": [
    "from sklearn.linear_model import SGDClassifier\n",
    "\n",
    "best_model=None\n",
    "folds=5\n",
    "best_score=0\n",
    "avg_score_sgd=0\n",
    "result_sgd=np.zeros(418)\n",
    "train_result_sgd=np.zeros(891)\n",
    "\n",
    "kf=KFold(n_splits=folds,shuffle=True,random_state=2022)\n",
    "for i, (train_index,test_index) in enumerate(kf.split(X_train)):\n",
    "    lgb=SGDClassifier(loss='log',alpha=1e-4,max_iter=20,validation_fraction=0.1,n_iter_no_change=10,warm_start=True)\n",
    "#     lgb=SGDClassifier(penalty='l2',alpha=1e-5,max_iter=10,validation_fraction=0.1,n_iter_no_change=10,warm_start=True)\n",
    "    lgb.fit(X_train[train_index],y_train[train_index])\n",
    "    score=lgb.score(X_train[test_index],y_train[test_index])\n",
    "    print(i,'th fold：',score)\n",
    "    if best_score<score:\n",
    "        best_score=score\n",
    "        best_model=lgb    \n",
    "    avg_score_sgd+=score\n",
    "    result_sgd+=lgb.predict(X_test)\n",
    "    train_result_sgd[test_index]=lgb.predict(X_train[test_index])\n",
    "#     result_sgd+=lgb.predict_proba(X_test)[:,1]\n",
    "#     train_result_sgd[test_index]=lgb.predict_proba(X_train[test_index])[:,1]\n",
    "    \n",
    "avg_score_sgd/=folds\n",
    "result_sgd/=folds\n",
    "\n",
    "print(\"avg score= \",avg_score_sgd)"
   ]
  },
  {
   "cell_type": "markdown",
   "id": "b76c21cb",
   "metadata": {
    "ExecuteTime": {
     "end_time": "2022-05-19T12:55:33.942037Z",
     "start_time": "2022-05-19T12:55:33.936501Z"
    }
   },
   "source": [
    "## gp"
   ]
  },
  {
   "cell_type": "code",
   "execution_count": 460,
   "id": "3f8ee915",
   "metadata": {
    "ExecuteTime": {
     "end_time": "2022-05-22T15:14:46.731932Z",
     "start_time": "2022-05-22T15:14:45.692980Z"
    }
   },
   "outputs": [
    {
     "name": "stdout",
     "output_type": "stream",
     "text": [
      "0 th fold： 0.7821229050279329\n",
      "1 th fold： 0.7191011235955056\n",
      "2 th fold： 0.7303370786516854\n",
      "3 th fold： 0.7921348314606742\n",
      "4 th fold： 0.7134831460674157\n",
      "avg score=  0.7474358169606428\n"
     ]
    }
   ],
   "source": [
    "from sklearn.gaussian_process import GaussianProcessClassifier\n",
    "\n",
    "best_model=None\n",
    "folds=5\n",
    "best_score=0\n",
    "avg_score_gp=0\n",
    "result_gp=np.zeros(418)\n",
    "train_result_gp=np.zeros(891)\n",
    "\n",
    "kf=KFold(n_splits=folds,shuffle=True,random_state=2022)\n",
    "for i, (train_index,test_index) in enumerate(kf.split(X_train)):\n",
    "    lgb=GaussianProcessClassifier()\n",
    "    lgb.fit(X_train[train_index],y_train[train_index])\n",
    "    score=lgb.score(X_train[test_index],y_train[test_index])\n",
    "    print(i,'th fold：',score)\n",
    "    if best_score<score:\n",
    "        best_score=score\n",
    "        best_model=lgb    \n",
    "    avg_score_gp+=score\n",
    "    result_gp+=lgb.predict_proba(X_test)[:,1]\n",
    "    train_result_gp[test_index]=lgb.predict_proba(X_train[test_index])[:,1]\n",
    "    \n",
    "avg_score_gp/=folds\n",
    "result_gp/=folds\n",
    "\n",
    "print(\"avg score= \",avg_score_gp)"
   ]
  },
  {
   "cell_type": "markdown",
   "id": "a119f069",
   "metadata": {},
   "source": [
    "##  bayes"
   ]
  },
  {
   "cell_type": "code",
   "execution_count": 467,
   "id": "6ba53436",
   "metadata": {
    "ExecuteTime": {
     "end_time": "2022-05-22T15:15:09.978768Z",
     "start_time": "2022-05-22T15:15:09.940770Z"
    }
   },
   "outputs": [
    {
     "name": "stdout",
     "output_type": "stream",
     "text": [
      "0 th fold： 0.7932960893854749\n",
      "1 th fold： 0.797752808988764\n",
      "2 th fold： 0.7528089887640449\n",
      "3 th fold： 0.8426966292134831\n",
      "4 th fold： 0.7640449438202247\n",
      "avg score=  0.7901198920343984\n"
     ]
    }
   ],
   "source": [
    "from sklearn.naive_bayes import BernoulliNB\n",
    "\n",
    "best_model=None\n",
    "folds=5\n",
    "best_score=0\n",
    "avg_score_by=0\n",
    "result_by=np.zeros(418)\n",
    "train_result_by=np.zeros(891)\n",
    "\n",
    "kf=KFold(n_splits=folds,shuffle=True,random_state=2022)\n",
    "for i, (train_index,test_index) in enumerate(kf.split(X_train)):\n",
    "    lgb=BernoulliNB(alpha=20)\n",
    "    lgb.fit(X_train[train_index],y_train[train_index])\n",
    "    score=lgb.score(X_train[test_index],y_train[test_index])\n",
    "    print(i,'th fold：',score)\n",
    "    if best_score<score:\n",
    "        best_score=score\n",
    "        best_model=lgb    \n",
    "    avg_score_by+=score\n",
    "    result_by+=lgb.predict_proba(X_test)[:,1]\n",
    "    train_result_by[test_index]=lgb.predict_proba(X_train[test_index])[:,1]\n",
    "    \n",
    "avg_score_by/=folds\n",
    "result_by/=folds\n",
    "\n",
    "print(\"avg score= \",avg_score_by)"
   ]
  },
  {
   "cell_type": "markdown",
   "id": "e9a699bd",
   "metadata": {},
   "source": [
    "# 模型融合\n",
    "## 简单平均"
   ]
  },
  {
   "cell_type": "code",
   "execution_count": 468,
   "id": "467f63fd",
   "metadata": {
    "ExecuteTime": {
     "end_time": "2022-05-22T15:15:19.373888Z",
     "start_time": "2022-05-22T15:15:19.355694Z"
    }
   },
   "outputs": [],
   "source": [
    "result1=(result_lgb+result_xgb+result_cat+result_gbt+result_rf+result_lr+result_svc+result_knn+result_pt+result_sgd+result_gp+result_by)/12"
   ]
  },
  {
   "cell_type": "code",
   "execution_count": 198,
   "id": "b1290ac9",
   "metadata": {
    "ExecuteTime": {
     "end_time": "2022-05-22T14:31:51.431488Z",
     "start_time": "2022-05-22T14:31:51.419485Z"
    }
   },
   "outputs": [],
   "source": [
    "result1_round=np.round(result1)\n",
    "pd.DataFrame(data=np.c_[list(range(892,1310)),result1_round],columns=[\"PassengerId\",\"Survived\"],dtype=np.int64).to_csv('result_20220522_avg_bestSuvivalAge.txt',index=False,header=True)# 得分：0.73444"
   ]
  },
  {
   "cell_type": "code",
   "execution_count": 470,
   "id": "ec8257b1",
   "metadata": {
    "ExecuteTime": {
     "end_time": "2022-05-22T15:15:28.311141Z",
     "start_time": "2022-05-22T15:15:28.292060Z"
    }
   },
   "outputs": [
    {
     "data": {
      "text/plain": [
       "(array([234, 280], dtype=int64),)"
      ]
     },
     "execution_count": 470,
     "metadata": {},
     "output_type": "execute_result"
    }
   ],
   "source": [
    "np.where(np.round(result2)!=np.round(result1))"
   ]
  },
  {
   "cell_type": "code",
   "execution_count": 200,
   "id": "9e200a49",
   "metadata": {
    "ExecuteTime": {
     "end_time": "2022-05-22T14:36:09.803763Z",
     "start_time": "2022-05-22T14:36:09.787518Z"
    }
   },
   "outputs": [],
   "source": [
    "avg_0519=pd.read_csv(\"result_20220519_avg.txt\")[\"Survived\"].values"
   ]
  },
  {
   "cell_type": "code",
   "execution_count": 202,
   "id": "9c693c67",
   "metadata": {
    "ExecuteTime": {
     "end_time": "2022-05-22T14:36:25.158475Z",
     "start_time": "2022-05-22T14:36:25.141346Z"
    }
   },
   "outputs": [
    {
     "data": {
      "text/plain": [
       "(array([ 18,  21,  28,  32,  33,  36,  75, 158, 192, 225, 242, 244, 252,\n",
       "        268, 280, 323], dtype=int64),)"
      ]
     },
     "execution_count": 202,
     "metadata": {},
     "output_type": "execute_result"
    }
   ],
   "source": [
    "np.where(np.round(avg_0519)!=np.round(result1))"
   ]
  },
  {
   "cell_type": "markdown",
   "id": "db091f47",
   "metadata": {
    "ExecuteTime": {
     "end_time": "2022-05-19T13:19:21.761363Z",
     "start_time": "2022-05-19T13:19:21.744415Z"
    }
   },
   "source": [
    "## 加权平均"
   ]
  },
  {
   "cell_type": "code",
   "execution_count": 469,
   "id": "de33db61",
   "metadata": {
    "ExecuteTime": {
     "end_time": "2022-05-22T15:15:23.061088Z",
     "start_time": "2022-05-22T15:15:23.053041Z"
    }
   },
   "outputs": [],
   "source": [
    "result2=(avg_score_lgb*result_lgb\\\n",
    "        +avg_score_xgb*result_xgb\\\n",
    "        +avg_score_cat*result_cat\\\n",
    "        +avg_score_gbt*result_gbt\\\n",
    "        +avg_score_rf*result_rf\\\n",
    "        +avg_score_lr*result_lr\\\n",
    "        +avg_score_svc*result_svc\\\n",
    "        +avg_score_knn*result_knn\\\n",
    "        +avg_score_pt*result_pt\\\n",
    "        +avg_score_sgd*result_sgd\\\n",
    "        +avg_score_gp*result_gp\\\n",
    "        +avg_score_by*result_by)/(avg_score_lgb+avg_score_xgb+avg_score_cat+avg_score_gbt+avg_score_rf+avg_score_lr+avg_score_svc\\\n",
    "                                 +avg_score_knn+avg_score_pt+avg_score_sgd+avg_score_gp+avg_score_by)"
   ]
  },
  {
   "cell_type": "code",
   "execution_count": 328,
   "id": "bf7316bd",
   "metadata": {
    "ExecuteTime": {
     "end_time": "2022-05-19T13:44:41.109208Z",
     "start_time": "2022-05-19T13:44:41.098245Z"
    }
   },
   "outputs": [
    {
     "data": {
      "text/plain": [
       "(array([], dtype=int64),)"
      ]
     },
     "execution_count": 328,
     "metadata": {},
     "output_type": "execute_result"
    }
   ],
   "source": [
    "np.where(result1_round!=result2_round)# 简单平均和加权平均结果一样"
   ]
  },
  {
   "cell_type": "markdown",
   "id": "03c5d983",
   "metadata": {
    "ExecuteTime": {
     "end_time": "2022-05-19T13:44:02.002784Z",
     "start_time": "2022-05-19T13:44:01.996811Z"
    }
   },
   "source": [
    "## stacking"
   ]
  },
  {
   "cell_type": "code",
   "execution_count": 203,
   "id": "daaad518",
   "metadata": {
    "ExecuteTime": {
     "end_time": "2022-05-22T14:36:47.936990Z",
     "start_time": "2022-05-22T14:36:47.926959Z"
    }
   },
   "outputs": [],
   "source": [
    "train_stacking=np.c_[train_result_lgb,train_result_xgb,train_result_cat,train_result_gbt,train_result_rf,train_result_lr,train_result_svc,\\\n",
    "      train_result_knn,train_result_pt,train_result_sgd,train_result_gp,train_result_by]\n",
    "y_train_stacking=y_train.copy()\n",
    "test_stacking=np.c_[result_lgb,result_xgb,result_cat,result_gbt,result_rf,result_lr,result_svc,\\\n",
    "      result_knn,result_pt,result_sgd,result_gp,result_by]"
   ]
  },
  {
   "cell_type": "code",
   "execution_count": 333,
   "id": "3cb8d5ef",
   "metadata": {
    "ExecuteTime": {
     "end_time": "2022-05-22T12:37:42.199173Z",
     "start_time": "2022-05-22T12:37:42.193193Z"
    }
   },
   "outputs": [],
   "source": [
    "# 带上原数据的stacking\n",
    "train_stacking=np.c_[X_train,train_result_lgb,train_result_xgb,train_result_cat,train_result_gbt,train_result_rf,train_result_lr,train_result_svc,\\\n",
    "      train_result_knn,train_result_pt,train_result_sgd,train_result_gp,train_result_by]\n",
    "y_train_stacking=y_train.copy()\n",
    "test_stacking=np.c_[X_test,result_lgb,result_xgb,result_cat,result_gbt,result_rf,result_lr,result_svc,\\\n",
    "      result_knn,result_pt,result_sgd,result_gp,result_by]"
   ]
  },
  {
   "cell_type": "markdown",
   "id": "526d6253",
   "metadata": {},
   "source": [
    "### rf"
   ]
  },
  {
   "cell_type": "code",
   "execution_count": 332,
   "id": "d06f523e",
   "metadata": {
    "ExecuteTime": {
     "end_time": "2022-05-22T14:53:31.516173Z",
     "start_time": "2022-05-22T14:53:31.054042Z"
    }
   },
   "outputs": [
    {
     "name": "stdout",
     "output_type": "stream",
     "text": [
      "0 th fold： 0.8268156424581006\n",
      "1 th fold： 0.797752808988764\n",
      "2 th fold： 0.8258426966292135\n",
      "3 th fold： 0.9157303370786517\n",
      "4 th fold： 0.8539325842696629\n",
      "avg score=  0.8440148138848785\n"
     ]
    }
   ],
   "source": [
    "best_model=None\n",
    "folds=5\n",
    "best_score=0\n",
    "avg_score_rf_s=0\n",
    "result_rf_s=np.zeros(418)\n",
    "\n",
    "kf=KFold(n_splits=folds,shuffle=True,random_state=2022)\n",
    "for i, (train_index,test_index) in enumerate(kf.split(train_stacking)):\n",
    "    lgb=RandomForestClassifier(n_estimators=70,max_depth=8,min_samples_split=4,min_samples_leaf=3)\n",
    "    lgb.fit(train_stacking[train_index],y_train_stacking[train_index])\n",
    "    score=lgb.score(train_stacking[test_index],y_train_stacking[test_index])\n",
    "    print(i,'th fold：',score)\n",
    "    if best_score<score:\n",
    "        best_score=score\n",
    "        best_model=lgb    \n",
    "    avg_score_rf_s+=score\n",
    "    result_rf_s+=lgb.predict(test_stacking)\n",
    "    \n",
    "avg_score_rf_s/=folds\n",
    "result_rf_s/=folds\n",
    "\n",
    "print(\"avg score= \",avg_score_rf_s)"
   ]
  },
  {
   "cell_type": "code",
   "execution_count": 143,
   "id": "552a7d85",
   "metadata": {
    "ExecuteTime": {
     "end_time": "2022-05-22T04:34:58.302796Z",
     "start_time": "2022-05-22T04:34:58.290835Z"
    }
   },
   "outputs": [
    {
     "data": {
      "text/plain": [
       "(array([  4,   6,  19,  21,  32,  33,  36,  37,  86, 125, 138, 158, 159,\n",
       "        165, 169, 181, 192, 197, 199, 225, 242, 249, 252, 268, 280, 283,\n",
       "        293, 323, 347, 359, 367, 382, 383, 412], dtype=int64),)"
      ]
     },
     "execution_count": 143,
     "metadata": {},
     "output_type": "execute_result"
    }
   ],
   "source": [
    "np.where(np.round(result_rf_s)!=np.round(result1))"
   ]
  },
  {
   "cell_type": "code",
   "execution_count": 167,
   "id": "9ed40823",
   "metadata": {
    "ExecuteTime": {
     "end_time": "2022-05-20T14:05:49.358709Z",
     "start_time": "2022-05-20T14:05:49.347213Z"
    }
   },
   "outputs": [],
   "source": [
    "pd.DataFrame(data=np.c_[list(range(892,1310)),result_lr_s],columns=[\"PassengerId\",\"Survived\"],dtype=np.int64).to_csv('result_20220520_rf_s.txt',index=False,header=True)# 得分：0.73444"
   ]
  },
  {
   "cell_type": "markdown",
   "id": "8ff56c7e",
   "metadata": {},
   "source": [
    "### lr"
   ]
  },
  {
   "cell_type": "code",
   "execution_count": 212,
   "id": "a4a76f22",
   "metadata": {
    "ExecuteTime": {
     "end_time": "2022-05-22T14:37:35.585046Z",
     "start_time": "2022-05-22T14:37:35.546046Z"
    }
   },
   "outputs": [
    {
     "name": "stdout",
     "output_type": "stream",
     "text": [
      "0 th fold： 0.8324022346368715\n",
      "1 th fold： 0.7865168539325843\n",
      "2 th fold： 0.8314606741573034\n",
      "3 th fold： 0.9101123595505618\n",
      "4 th fold： 0.8202247191011236\n",
      "avg score=  0.8361433682756889\n"
     ]
    }
   ],
   "source": [
    "best_model=None\n",
    "folds=5\n",
    "best_score=0\n",
    "avg_score_lr_s=0\n",
    "result_lr_s=np.zeros(418)\n",
    "\n",
    "kf=KFold(n_splits=folds,shuffle=True,random_state=2022)\n",
    "for i, (train_index,test_index) in enumerate(kf.split(train_stacking)):\n",
    "    lgb=LogisticRegression()\n",
    "    lgb.fit(train_stacking[train_index],y_train_stacking[train_index])\n",
    "    score=lgb.score(train_stacking[test_index],y_train_stacking[test_index])\n",
    "    print(i,'th fold：',score)\n",
    "    if best_score<score:\n",
    "        best_score=score\n",
    "        best_model=lgb    \n",
    "    avg_score_lr_s+=score\n",
    "    result_lr_s+=lgb.predict(test_stacking)\n",
    "    \n",
    "avg_score_lr_s/=folds\n",
    "result_lr_s/=folds\n",
    "\n",
    "print(\"avg score= \",avg_score_lr_s)"
   ]
  },
  {
   "cell_type": "code",
   "execution_count": 145,
   "id": "6fe873c1",
   "metadata": {
    "ExecuteTime": {
     "end_time": "2022-05-22T04:35:11.798710Z",
     "start_time": "2022-05-22T04:35:11.790606Z"
    }
   },
   "outputs": [
    {
     "data": {
      "text/plain": [
       "(array([  6,  19,  28,  36,  37,  41, 138, 158, 165, 169, 225, 242, 249,\n",
       "        252, 268, 280, 283, 323, 347, 412], dtype=int64),)"
      ]
     },
     "execution_count": 145,
     "metadata": {},
     "output_type": "execute_result"
    }
   ],
   "source": [
    "np.where(np.round(result_lr_s)!=np.round(result1))"
   ]
  },
  {
   "cell_type": "markdown",
   "id": "f7e7a0a8",
   "metadata": {},
   "source": [
    "### lgb"
   ]
  },
  {
   "cell_type": "code",
   "execution_count": 234,
   "id": "04b1f9d0",
   "metadata": {
    "ExecuteTime": {
     "end_time": "2022-05-22T14:39:15.332540Z",
     "start_time": "2022-05-22T14:39:15.143606Z"
    }
   },
   "outputs": [
    {
     "name": "stdout",
     "output_type": "stream",
     "text": [
      "0 th fold： 0.8603351955307262\n",
      "1 th fold： 0.8258426966292135\n",
      "2 th fold： 0.8089887640449438\n",
      "3 th fold： 0.8876404494382022\n",
      "4 th fold： 0.8370786516853933\n",
      "avg score=  0.843977151465696\n"
     ]
    }
   ],
   "source": [
    "best_model=None\n",
    "folds=5\n",
    "best_score=0\n",
    "avg_score_lgb_s=0\n",
    "result_lgb_s=np.zeros(418)\n",
    "\n",
    "kf=KFold(n_splits=folds,shuffle=True,random_state=2022)\n",
    "for i, (train_index,test_index) in enumerate(kf.split(train_stacking)):\n",
    "    lgb=LGBMClassifier(learning_rate=0.2,max_depth=10,n_estimators=100)\n",
    "    lgb.fit(train_stacking[train_index],y_train_stacking[train_index])\n",
    "    score=lgb.score(train_stacking[test_index],y_train_stacking[test_index])\n",
    "    print(i,'th fold：',score)\n",
    "    if best_score<score:\n",
    "        best_score=score\n",
    "        best_model=lgb    \n",
    "    avg_score_lgb_s+=score\n",
    "    result_lgb_s+=lgb.predict(test_stacking)\n",
    "    \n",
    "avg_score_lgb_s/=folds\n",
    "result_lgb_s/=folds\n",
    "\n",
    "print(\"avg score= \",avg_score_lgb_s)"
   ]
  },
  {
   "cell_type": "code",
   "execution_count": 457,
   "id": "f3992266",
   "metadata": {
    "ExecuteTime": {
     "end_time": "2022-05-22T12:49:59.090424Z",
     "start_time": "2022-05-22T12:49:59.077467Z"
    }
   },
   "outputs": [],
   "source": [
    "pd.DataFrame(data=np.c_[list(range(892,1310)),np.round(result_lgb_s)],columns=[\"PassengerId\",\"Survived\"],dtype=np.int64).to_csv('result_20220522_sso_lgb.txt',index=False,header=True)# 得分：0.73444"
   ]
  },
  {
   "cell_type": "code",
   "execution_count": 456,
   "id": "b10c11ad",
   "metadata": {
    "ExecuteTime": {
     "end_time": "2022-05-22T12:49:18.827801Z",
     "start_time": "2022-05-22T12:49:18.811857Z"
    }
   },
   "outputs": [
    {
     "data": {
      "text/plain": [
       "(array([  4,   6,  18,  19,  32,  33,  36,  37,  64,  72,  86,  87,  90,\n",
       "        125, 138, 153, 158, 159, 165, 169, 181, 192, 197, 199, 200, 202,\n",
       "        225, 242, 249, 252, 268, 273, 280, 283, 293, 344, 345, 347, 359,\n",
       "        367, 382, 383, 412], dtype=int64),)"
      ]
     },
     "execution_count": 456,
     "metadata": {},
     "output_type": "execute_result"
    }
   ],
   "source": [
    "np.where(np.round(result_lgb_s)!=np.round(result1))"
   ]
  },
  {
   "cell_type": "markdown",
   "id": "e4197ea1",
   "metadata": {},
   "source": [
    "### cat"
   ]
  },
  {
   "cell_type": "code",
   "execution_count": 247,
   "id": "5ccda9e8",
   "metadata": {
    "ExecuteTime": {
     "end_time": "2022-05-22T14:41:00.197491Z",
     "start_time": "2022-05-22T14:40:59.666404Z"
    }
   },
   "outputs": [
    {
     "name": "stdout",
     "output_type": "stream",
     "text": [
      "0:\tlearn: 0.6281382\ttotal: 19.4ms\tremaining: 1.33s\n",
      "1:\tlearn: 0.5805890\ttotal: 22.7ms\tremaining: 771ms\n",
      "2:\tlearn: 0.5425838\ttotal: 25.6ms\tremaining: 572ms\n",
      "3:\tlearn: 0.5119499\ttotal: 27.2ms\tremaining: 450ms\n",
      "4:\tlearn: 0.4863736\ttotal: 28.2ms\tremaining: 366ms\n",
      "5:\tlearn: 0.4647630\ttotal: 29.1ms\tremaining: 310ms\n",
      "6:\tlearn: 0.4474855\ttotal: 29.9ms\tremaining: 269ms\n",
      "7:\tlearn: 0.4329090\ttotal: 30.7ms\tremaining: 238ms\n",
      "8:\tlearn: 0.4206104\ttotal: 31.6ms\tremaining: 214ms\n",
      "9:\tlearn: 0.4091981\ttotal: 32.4ms\tremaining: 195ms\n",
      "10:\tlearn: 0.4000892\ttotal: 33.3ms\tremaining: 178ms\n",
      "11:\tlearn: 0.3931484\ttotal: 34.1ms\tremaining: 165ms\n",
      "12:\tlearn: 0.3848003\ttotal: 34.9ms\tremaining: 153ms\n",
      "13:\tlearn: 0.3770952\ttotal: 35.7ms\tremaining: 143ms\n",
      "14:\tlearn: 0.3717459\ttotal: 36.5ms\tremaining: 134ms\n",
      "15:\tlearn: 0.3662718\ttotal: 37.4ms\tremaining: 126ms\n",
      "16:\tlearn: 0.3615353\ttotal: 38.3ms\tremaining: 119ms\n",
      "17:\tlearn: 0.3589200\ttotal: 39.1ms\tremaining: 113ms\n",
      "18:\tlearn: 0.3550817\ttotal: 40ms\tremaining: 107ms\n",
      "19:\tlearn: 0.3527733\ttotal: 40.8ms\tremaining: 102ms\n",
      "20:\tlearn: 0.3503711\ttotal: 41.6ms\tremaining: 97.1ms\n",
      "21:\tlearn: 0.3475293\ttotal: 42.4ms\tremaining: 92.6ms\n",
      "22:\tlearn: 0.3445269\ttotal: 43.2ms\tremaining: 88.4ms\n",
      "23:\tlearn: 0.3418102\ttotal: 44ms\tremaining: 84.4ms\n",
      "24:\tlearn: 0.3393409\ttotal: 44.8ms\tremaining: 80.7ms\n",
      "25:\tlearn: 0.3367914\ttotal: 45.8ms\tremaining: 77.5ms\n",
      "26:\tlearn: 0.3337295\ttotal: 46.7ms\tremaining: 74.3ms\n",
      "27:\tlearn: 0.3315100\ttotal: 47.5ms\tremaining: 71.3ms\n",
      "28:\tlearn: 0.3297222\ttotal: 48.3ms\tremaining: 68.3ms\n",
      "29:\tlearn: 0.3276974\ttotal: 49.2ms\tremaining: 65.5ms\n",
      "30:\tlearn: 0.3262037\ttotal: 50ms\tremaining: 62.9ms\n",
      "31:\tlearn: 0.3249611\ttotal: 50.8ms\tremaining: 60.4ms\n",
      "32:\tlearn: 0.3235939\ttotal: 51.7ms\tremaining: 57.9ms\n",
      "33:\tlearn: 0.3208708\ttotal: 52.5ms\tremaining: 55.6ms\n",
      "34:\tlearn: 0.3200317\ttotal: 53.3ms\tremaining: 53.3ms\n",
      "35:\tlearn: 0.3184584\ttotal: 54.1ms\tremaining: 51.1ms\n",
      "36:\tlearn: 0.3168089\ttotal: 55ms\tremaining: 49ms\n",
      "37:\tlearn: 0.3148678\ttotal: 55.8ms\tremaining: 47ms\n",
      "38:\tlearn: 0.3133489\ttotal: 56.6ms\tremaining: 45ms\n",
      "39:\tlearn: 0.3121316\ttotal: 57.5ms\tremaining: 43.1ms\n",
      "40:\tlearn: 0.3101309\ttotal: 58.3ms\tremaining: 41.2ms\n",
      "41:\tlearn: 0.3080117\ttotal: 59.2ms\tremaining: 39.4ms\n",
      "42:\tlearn: 0.3066220\ttotal: 60ms\tremaining: 37.7ms\n",
      "43:\tlearn: 0.3052565\ttotal: 60.9ms\tremaining: 36ms\n",
      "44:\tlearn: 0.3042974\ttotal: 61.7ms\tremaining: 34.3ms\n",
      "45:\tlearn: 0.3024707\ttotal: 62.5ms\tremaining: 32.6ms\n",
      "46:\tlearn: 0.3012526\ttotal: 63.4ms\tremaining: 31ms\n",
      "47:\tlearn: 0.2995705\ttotal: 64.2ms\tremaining: 29.4ms\n",
      "48:\tlearn: 0.2988915\ttotal: 65ms\tremaining: 27.9ms\n",
      "49:\tlearn: 0.2974925\ttotal: 65.8ms\tremaining: 26.3ms\n",
      "50:\tlearn: 0.2957205\ttotal: 66.6ms\tremaining: 24.8ms\n",
      "51:\tlearn: 0.2949431\ttotal: 67.5ms\tremaining: 23.4ms\n",
      "52:\tlearn: 0.2931235\ttotal: 68.3ms\tremaining: 21.9ms\n",
      "53:\tlearn: 0.2921109\ttotal: 69.1ms\tremaining: 20.5ms\n",
      "54:\tlearn: 0.2908185\ttotal: 70ms\tremaining: 19.1ms\n",
      "55:\tlearn: 0.2898104\ttotal: 70.8ms\tremaining: 17.7ms\n",
      "56:\tlearn: 0.2888277\ttotal: 71.6ms\tremaining: 16.3ms\n",
      "57:\tlearn: 0.2884906\ttotal: 72.4ms\tremaining: 15ms\n",
      "58:\tlearn: 0.2880440\ttotal: 73.2ms\tremaining: 13.7ms\n",
      "59:\tlearn: 0.2869915\ttotal: 74.2ms\tremaining: 12.4ms\n",
      "60:\tlearn: 0.2855116\ttotal: 75ms\tremaining: 11.1ms\n",
      "61:\tlearn: 0.2849064\ttotal: 75.9ms\tremaining: 9.79ms\n",
      "62:\tlearn: 0.2835595\ttotal: 76.7ms\tremaining: 8.52ms\n",
      "63:\tlearn: 0.2829129\ttotal: 77.5ms\tremaining: 7.26ms\n",
      "64:\tlearn: 0.2819021\ttotal: 78.3ms\tremaining: 6.02ms\n",
      "65:\tlearn: 0.2806733\ttotal: 79.1ms\tremaining: 4.79ms\n",
      "66:\tlearn: 0.2798103\ttotal: 79.9ms\tremaining: 3.58ms\n",
      "67:\tlearn: 0.2791402\ttotal: 80.7ms\tremaining: 2.37ms\n",
      "68:\tlearn: 0.2781764\ttotal: 81.5ms\tremaining: 1.18ms\n",
      "69:\tlearn: 0.2780301\ttotal: 82.3ms\tremaining: 0us\n",
      "0 th fold： 0.8379888268156425\n",
      "0:\tlearn: 0.6249237\ttotal: 1.32ms\tremaining: 91.1ms\n",
      "1:\tlearn: 0.5746127\ttotal: 2.51ms\tremaining: 85.5ms\n",
      "2:\tlearn: 0.5357883\ttotal: 3.39ms\tremaining: 75.8ms\n",
      "3:\tlearn: 0.5031198\ttotal: 4.48ms\tremaining: 74ms\n",
      "4:\tlearn: 0.4761048\ttotal: 5.33ms\tremaining: 69.3ms\n",
      "5:\tlearn: 0.4541077\ttotal: 6.2ms\tremaining: 66.1ms\n",
      "6:\tlearn: 0.4353223\ttotal: 7.02ms\tremaining: 63.2ms\n",
      "7:\tlearn: 0.4196911\ttotal: 7.85ms\tremaining: 60.9ms\n",
      "8:\tlearn: 0.4057136\ttotal: 8.68ms\tremaining: 58.8ms\n",
      "9:\tlearn: 0.3940735\ttotal: 9.48ms\tremaining: 56.9ms\n",
      "10:\tlearn: 0.3834004\ttotal: 10.3ms\tremaining: 55.1ms\n",
      "11:\tlearn: 0.3744020\ttotal: 11.1ms\tremaining: 53.6ms\n",
      "12:\tlearn: 0.3669397\ttotal: 11.9ms\tremaining: 52.2ms\n",
      "13:\tlearn: 0.3605852\ttotal: 12.7ms\tremaining: 50.9ms\n",
      "14:\tlearn: 0.3556465\ttotal: 13.5ms\tremaining: 49.7ms\n",
      "15:\tlearn: 0.3504706\ttotal: 14.3ms\tremaining: 48.4ms\n",
      "16:\tlearn: 0.3459061\ttotal: 15.2ms\tremaining: 47.3ms\n",
      "17:\tlearn: 0.3428384\ttotal: 16ms\tremaining: 46.2ms\n",
      "18:\tlearn: 0.3381622\ttotal: 16.8ms\tremaining: 45.1ms\n",
      "19:\tlearn: 0.3351621\ttotal: 17.7ms\tremaining: 44.2ms\n",
      "20:\tlearn: 0.3327096\ttotal: 18.5ms\tremaining: 43.1ms\n",
      "21:\tlearn: 0.3307194\ttotal: 19.4ms\tremaining: 42.4ms\n",
      "22:\tlearn: 0.3274869\ttotal: 20.3ms\tremaining: 41.5ms\n",
      "23:\tlearn: 0.3253861\ttotal: 21.2ms\tremaining: 40.6ms\n",
      "24:\tlearn: 0.3232028\ttotal: 22ms\tremaining: 39.6ms\n",
      "25:\tlearn: 0.3200644\ttotal: 22.8ms\tremaining: 38.6ms\n",
      "26:\tlearn: 0.3180883\ttotal: 23.6ms\tremaining: 37.6ms\n",
      "27:\tlearn: 0.3150883\ttotal: 24.4ms\tremaining: 36.6ms\n",
      "28:\tlearn: 0.3125556\ttotal: 25.2ms\tremaining: 35.7ms\n",
      "29:\tlearn: 0.3108226\ttotal: 26.1ms\tremaining: 34.8ms\n",
      "30:\tlearn: 0.3096386\ttotal: 26.9ms\tremaining: 33.8ms\n",
      "31:\tlearn: 0.3082664\ttotal: 27.7ms\tremaining: 32.9ms\n",
      "32:\tlearn: 0.3064595\ttotal: 28.5ms\tremaining: 31.9ms\n",
      "33:\tlearn: 0.3044992\ttotal: 29.3ms\tremaining: 31ms\n",
      "34:\tlearn: 0.3034889\ttotal: 30.1ms\tremaining: 30.1ms\n",
      "35:\tlearn: 0.3022030\ttotal: 30.9ms\tremaining: 29.2ms\n",
      "36:\tlearn: 0.3008505\ttotal: 31.7ms\tremaining: 28.2ms\n",
      "37:\tlearn: 0.3000750\ttotal: 32.4ms\tremaining: 27.3ms\n",
      "38:\tlearn: 0.2987996\ttotal: 33.2ms\tremaining: 26.4ms\n",
      "39:\tlearn: 0.2975794\ttotal: 34.2ms\tremaining: 25.6ms\n",
      "40:\tlearn: 0.2967482\ttotal: 35.1ms\tremaining: 24.8ms\n",
      "41:\tlearn: 0.2955499\ttotal: 36ms\tremaining: 24ms\n",
      "42:\tlearn: 0.2942246\ttotal: 36.8ms\tremaining: 23.1ms\n",
      "43:\tlearn: 0.2926864\ttotal: 37.6ms\tremaining: 22.2ms\n",
      "44:\tlearn: 0.2910430\ttotal: 38.4ms\tremaining: 21.3ms\n",
      "45:\tlearn: 0.2894252\ttotal: 39.2ms\tremaining: 20.5ms\n",
      "46:\tlearn: 0.2877970\ttotal: 40ms\tremaining: 19.6ms\n",
      "47:\tlearn: 0.2866866\ttotal: 40.8ms\tremaining: 18.7ms\n",
      "48:\tlearn: 0.2860621\ttotal: 41.6ms\tremaining: 17.8ms\n",
      "49:\tlearn: 0.2848807\ttotal: 42.5ms\tremaining: 17ms\n",
      "50:\tlearn: 0.2824812\ttotal: 43.3ms\tremaining: 16.1ms\n",
      "51:\tlearn: 0.2819948\ttotal: 44.1ms\tremaining: 15.3ms\n",
      "52:\tlearn: 0.2814353\ttotal: 44.8ms\tremaining: 14.4ms\n",
      "53:\tlearn: 0.2809155\ttotal: 45.6ms\tremaining: 13.5ms\n",
      "54:\tlearn: 0.2797882\ttotal: 46.4ms\tremaining: 12.7ms\n",
      "55:\tlearn: 0.2790629\ttotal: 47.2ms\tremaining: 11.8ms\n",
      "56:\tlearn: 0.2785321\ttotal: 47.9ms\tremaining: 10.9ms\n",
      "57:\tlearn: 0.2776337\ttotal: 48.7ms\tremaining: 10.1ms\n",
      "58:\tlearn: 0.2772708\ttotal: 49.6ms\tremaining: 9.26ms\n",
      "59:\tlearn: 0.2770203\ttotal: 50.5ms\tremaining: 8.41ms\n",
      "60:\tlearn: 0.2768485\ttotal: 51.3ms\tremaining: 7.57ms\n",
      "61:\tlearn: 0.2759774\ttotal: 52.2ms\tremaining: 6.73ms\n",
      "62:\tlearn: 0.2746634\ttotal: 53ms\tremaining: 5.89ms\n",
      "63:\tlearn: 0.2744554\ttotal: 53.8ms\tremaining: 5.04ms\n",
      "64:\tlearn: 0.2729997\ttotal: 54.7ms\tremaining: 4.21ms\n",
      "65:\tlearn: 0.2726875\ttotal: 55.5ms\tremaining: 3.36ms\n",
      "66:\tlearn: 0.2720363\ttotal: 56.3ms\tremaining: 2.52ms\n",
      "67:\tlearn: 0.2718884\ttotal: 57.2ms\tremaining: 1.68ms\n",
      "68:\tlearn: 0.2716104\ttotal: 58ms\tremaining: 841us\n",
      "69:\tlearn: 0.2714587\ttotal: 58.9ms\tremaining: 0us\n",
      "1 th fold： 0.797752808988764\n",
      "0:\tlearn: 0.6258661\ttotal: 1.19ms\tremaining: 82.1ms\n",
      "1:\tlearn: 0.5772510\ttotal: 2.67ms\tremaining: 90.9ms\n",
      "2:\tlearn: 0.5403353\ttotal: 3.63ms\tremaining: 81ms\n",
      "3:\tlearn: 0.5093101\ttotal: 4.65ms\tremaining: 76.7ms\n",
      "4:\tlearn: 0.4835196\ttotal: 5.61ms\tremaining: 73ms\n",
      "5:\tlearn: 0.4623626\ttotal: 6.52ms\tremaining: 69.6ms\n",
      "6:\tlearn: 0.4450272\ttotal: 7.35ms\tremaining: 66.2ms\n",
      "7:\tlearn: 0.4296176\ttotal: 8.21ms\tremaining: 63.6ms\n",
      "8:\tlearn: 0.4161569\ttotal: 9.03ms\tremaining: 61.2ms\n",
      "9:\tlearn: 0.4050993\ttotal: 9.85ms\tremaining: 59.1ms\n",
      "10:\tlearn: 0.3952923\ttotal: 10.7ms\tremaining: 57.3ms\n",
      "11:\tlearn: 0.3866719\ttotal: 11.5ms\tremaining: 55.7ms\n",
      "12:\tlearn: 0.3791914\ttotal: 12.3ms\tremaining: 54ms\n",
      "13:\tlearn: 0.3737230\ttotal: 13.1ms\tremaining: 52.6ms\n",
      "14:\tlearn: 0.3699057\ttotal: 14ms\tremaining: 51.2ms\n",
      "15:\tlearn: 0.3641497\ttotal: 14.7ms\tremaining: 49.8ms\n",
      "16:\tlearn: 0.3595526\ttotal: 15.6ms\tremaining: 48.6ms\n",
      "17:\tlearn: 0.3556856\ttotal: 16.8ms\tremaining: 48.4ms\n",
      "18:\tlearn: 0.3521354\ttotal: 17.8ms\tremaining: 47.9ms\n",
      "19:\tlearn: 0.3485446\ttotal: 18.7ms\tremaining: 46.8ms\n",
      "20:\tlearn: 0.3451352\ttotal: 19.6ms\tremaining: 45.7ms\n",
      "21:\tlearn: 0.3422556\ttotal: 20.4ms\tremaining: 44.6ms\n",
      "22:\tlearn: 0.3403667\ttotal: 21.3ms\tremaining: 43.5ms\n",
      "23:\tlearn: 0.3388421\ttotal: 22.1ms\tremaining: 42.4ms\n",
      "24:\tlearn: 0.3353697\ttotal: 22.9ms\tremaining: 41.3ms\n",
      "25:\tlearn: 0.3323408\ttotal: 23.7ms\tremaining: 40.1ms\n",
      "26:\tlearn: 0.3283496\ttotal: 24.5ms\tremaining: 39.1ms\n",
      "27:\tlearn: 0.3257909\ttotal: 25.3ms\tremaining: 38ms\n",
      "28:\tlearn: 0.3230669\ttotal: 26.1ms\tremaining: 37ms\n",
      "29:\tlearn: 0.3210353\ttotal: 26.9ms\tremaining: 35.9ms\n",
      "30:\tlearn: 0.3191370\ttotal: 27.7ms\tremaining: 34.9ms\n",
      "31:\tlearn: 0.3177535\ttotal: 28.6ms\tremaining: 33.9ms\n",
      "32:\tlearn: 0.3161029\ttotal: 29.5ms\tremaining: 33.1ms\n",
      "33:\tlearn: 0.3139746\ttotal: 30.4ms\tremaining: 32.2ms\n",
      "34:\tlearn: 0.3125208\ttotal: 31.3ms\tremaining: 31.3ms\n",
      "35:\tlearn: 0.3108158\ttotal: 32.2ms\tremaining: 30.4ms\n",
      "36:\tlearn: 0.3088904\ttotal: 33.1ms\tremaining: 29.5ms\n",
      "37:\tlearn: 0.3059774\ttotal: 33.9ms\tremaining: 28.6ms\n",
      "38:\tlearn: 0.3035521\ttotal: 35ms\tremaining: 27.8ms\n",
      "39:\tlearn: 0.3024574\ttotal: 35.9ms\tremaining: 26.9ms\n",
      "40:\tlearn: 0.3010057\ttotal: 36.7ms\tremaining: 26ms\n",
      "41:\tlearn: 0.3002053\ttotal: 37.5ms\tremaining: 25ms\n",
      "42:\tlearn: 0.2984810\ttotal: 38.4ms\tremaining: 24.1ms\n",
      "43:\tlearn: 0.2970112\ttotal: 39.2ms\tremaining: 23.1ms\n",
      "44:\tlearn: 0.2953213\ttotal: 40ms\tremaining: 22.2ms\n",
      "45:\tlearn: 0.2947770\ttotal: 40.8ms\tremaining: 21.3ms\n",
      "46:\tlearn: 0.2925958\ttotal: 41.6ms\tremaining: 20.3ms\n",
      "47:\tlearn: 0.2909617\ttotal: 42.4ms\tremaining: 19.4ms\n",
      "48:\tlearn: 0.2907628\ttotal: 43.1ms\tremaining: 18.5ms\n",
      "49:\tlearn: 0.2902276\ttotal: 43.9ms\tremaining: 17.6ms\n",
      "50:\tlearn: 0.2896544\ttotal: 44.8ms\tremaining: 16.7ms\n",
      "51:\tlearn: 0.2882060\ttotal: 45.5ms\tremaining: 15.8ms\n",
      "52:\tlearn: 0.2861324\ttotal: 46.4ms\tremaining: 14.9ms\n",
      "53:\tlearn: 0.2847321\ttotal: 47.2ms\tremaining: 14ms\n",
      "54:\tlearn: 0.2827524\ttotal: 48ms\tremaining: 13.1ms\n",
      "55:\tlearn: 0.2818718\ttotal: 48.8ms\tremaining: 12.2ms\n",
      "56:\tlearn: 0.2801261\ttotal: 49.6ms\tremaining: 11.3ms\n",
      "57:\tlearn: 0.2793461\ttotal: 50.5ms\tremaining: 10.4ms\n",
      "58:\tlearn: 0.2788173\ttotal: 51.4ms\tremaining: 9.57ms\n",
      "59:\tlearn: 0.2780818\ttotal: 52.2ms\tremaining: 8.7ms\n",
      "60:\tlearn: 0.2761744\ttotal: 53ms\tremaining: 7.82ms\n",
      "61:\tlearn: 0.2743628\ttotal: 53.8ms\tremaining: 6.94ms\n",
      "62:\tlearn: 0.2723331\ttotal: 54.6ms\tremaining: 6.06ms\n",
      "63:\tlearn: 0.2715263\ttotal: 55.4ms\tremaining: 5.19ms\n",
      "64:\tlearn: 0.2713249\ttotal: 56.2ms\tremaining: 4.32ms\n",
      "65:\tlearn: 0.2705058\ttotal: 57ms\tremaining: 3.45ms\n",
      "66:\tlearn: 0.2698684\ttotal: 57.8ms\tremaining: 2.59ms\n",
      "67:\tlearn: 0.2692048\ttotal: 58.6ms\tremaining: 1.72ms\n",
      "68:\tlearn: 0.2684155\ttotal: 59.4ms\tremaining: 860us\n",
      "69:\tlearn: 0.2676079\ttotal: 60.2ms\tremaining: 0us\n",
      "2 th fold： 0.8595505617977528\n",
      "0:\tlearn: 0.6342525\ttotal: 1.2ms\tremaining: 82.5ms\n",
      "1:\tlearn: 0.5898036\ttotal: 2.17ms\tremaining: 73.8ms\n",
      "2:\tlearn: 0.5556343\ttotal: 3.01ms\tremaining: 67.2ms\n",
      "3:\tlearn: 0.5282021\ttotal: 3.84ms\tremaining: 63.4ms\n",
      "4:\tlearn: 0.5056758\ttotal: 4.66ms\tremaining: 60.5ms\n",
      "5:\tlearn: 0.4875522\ttotal: 5.52ms\tremaining: 58.9ms\n",
      "6:\tlearn: 0.4722326\ttotal: 6.48ms\tremaining: 58.3ms\n",
      "7:\tlearn: 0.4578769\ttotal: 7.47ms\tremaining: 57.9ms\n",
      "8:\tlearn: 0.4460137\ttotal: 8.48ms\tremaining: 57.5ms\n",
      "9:\tlearn: 0.4362824\ttotal: 9.38ms\tremaining: 56.3ms\n",
      "10:\tlearn: 0.4263856\ttotal: 10.2ms\tremaining: 54.9ms\n",
      "11:\tlearn: 0.4190289\ttotal: 11.1ms\tremaining: 53.5ms\n",
      "12:\tlearn: 0.4116742\ttotal: 11.9ms\tremaining: 52.1ms\n",
      "13:\tlearn: 0.4059846\ttotal: 12.7ms\tremaining: 50.8ms\n",
      "14:\tlearn: 0.4019641\ttotal: 13.5ms\tremaining: 49.5ms\n",
      "15:\tlearn: 0.3961024\ttotal: 14.3ms\tremaining: 48.3ms\n",
      "16:\tlearn: 0.3924058\ttotal: 15.1ms\tremaining: 47.2ms\n",
      "17:\tlearn: 0.3901549\ttotal: 16ms\tremaining: 46.2ms\n",
      "18:\tlearn: 0.3856786\ttotal: 16.8ms\tremaining: 45.1ms\n",
      "19:\tlearn: 0.3820824\ttotal: 17.6ms\tremaining: 44ms\n",
      "20:\tlearn: 0.3794891\ttotal: 18.4ms\tremaining: 43ms\n",
      "21:\tlearn: 0.3761920\ttotal: 19.3ms\tremaining: 42ms\n",
      "22:\tlearn: 0.3724720\ttotal: 20.1ms\tremaining: 41ms\n",
      "23:\tlearn: 0.3695995\ttotal: 20.9ms\tremaining: 40.1ms\n",
      "24:\tlearn: 0.3661031\ttotal: 21.9ms\tremaining: 39.4ms\n",
      "25:\tlearn: 0.3636268\ttotal: 22.8ms\tremaining: 38.6ms\n",
      "26:\tlearn: 0.3605082\ttotal: 23.7ms\tremaining: 37.8ms\n",
      "27:\tlearn: 0.3580953\ttotal: 24.6ms\tremaining: 36.9ms\n",
      "28:\tlearn: 0.3562589\ttotal: 25.5ms\tremaining: 36ms\n",
      "29:\tlearn: 0.3545635\ttotal: 26.4ms\tremaining: 35.2ms\n",
      "30:\tlearn: 0.3529412\ttotal: 27.3ms\tremaining: 34.4ms\n",
      "31:\tlearn: 0.3506113\ttotal: 28.1ms\tremaining: 33.4ms\n",
      "32:\tlearn: 0.3483051\ttotal: 29ms\tremaining: 32.5ms\n",
      "33:\tlearn: 0.3470511\ttotal: 29.8ms\tremaining: 31.5ms\n",
      "34:\tlearn: 0.3444077\ttotal: 30.6ms\tremaining: 30.6ms\n",
      "35:\tlearn: 0.3438911\ttotal: 31.4ms\tremaining: 29.7ms\n",
      "36:\tlearn: 0.3418774\ttotal: 32.2ms\tremaining: 28.7ms\n",
      "37:\tlearn: 0.3396009\ttotal: 33ms\tremaining: 27.8ms\n",
      "38:\tlearn: 0.3386868\ttotal: 33.8ms\tremaining: 26.9ms\n",
      "39:\tlearn: 0.3369773\ttotal: 34.6ms\tremaining: 26ms\n",
      "40:\tlearn: 0.3356087\ttotal: 35.4ms\tremaining: 25.1ms\n",
      "41:\tlearn: 0.3343377\ttotal: 36.2ms\tremaining: 24.2ms\n",
      "42:\tlearn: 0.3331609\ttotal: 37ms\tremaining: 23.3ms\n",
      "43:\tlearn: 0.3320013\ttotal: 37.8ms\tremaining: 22.3ms\n",
      "44:\tlearn: 0.3299139\ttotal: 38.6ms\tremaining: 21.5ms\n",
      "45:\tlearn: 0.3290957\ttotal: 39.4ms\tremaining: 20.6ms\n",
      "46:\tlearn: 0.3264284\ttotal: 40.2ms\tremaining: 19.7ms\n",
      "47:\tlearn: 0.3246549\ttotal: 41ms\tremaining: 18.8ms\n",
      "48:\tlearn: 0.3222596\ttotal: 41.8ms\tremaining: 17.9ms\n",
      "49:\tlearn: 0.3209155\ttotal: 42.7ms\tremaining: 17.1ms\n",
      "50:\tlearn: 0.3195593\ttotal: 43.5ms\tremaining: 16.2ms\n",
      "51:\tlearn: 0.3180528\ttotal: 44.3ms\tremaining: 15.3ms\n",
      "52:\tlearn: 0.3175366\ttotal: 45.1ms\tremaining: 14.5ms\n",
      "53:\tlearn: 0.3158936\ttotal: 45.9ms\tremaining: 13.6ms\n",
      "54:\tlearn: 0.3146908\ttotal: 46.6ms\tremaining: 12.7ms\n",
      "55:\tlearn: 0.3131612\ttotal: 47.4ms\tremaining: 11.9ms\n",
      "56:\tlearn: 0.3129547\ttotal: 48.2ms\tremaining: 11ms\n",
      "57:\tlearn: 0.3108490\ttotal: 49ms\tremaining: 10.1ms\n",
      "58:\tlearn: 0.3096599\ttotal: 50ms\tremaining: 9.31ms\n",
      "59:\tlearn: 0.3093592\ttotal: 50.9ms\tremaining: 8.48ms\n",
      "60:\tlearn: 0.3084428\ttotal: 51.8ms\tremaining: 7.64ms\n",
      "61:\tlearn: 0.3080646\ttotal: 52.7ms\tremaining: 6.8ms\n",
      "62:\tlearn: 0.3071284\ttotal: 53.5ms\tremaining: 5.95ms\n",
      "63:\tlearn: 0.3053717\ttotal: 54.4ms\tremaining: 5.1ms\n",
      "64:\tlearn: 0.3048242\ttotal: 55.3ms\tremaining: 4.25ms\n",
      "65:\tlearn: 0.3044776\ttotal: 56.2ms\tremaining: 3.4ms\n",
      "66:\tlearn: 0.3043397\ttotal: 57ms\tremaining: 2.55ms\n",
      "67:\tlearn: 0.3040836\ttotal: 57.9ms\tremaining: 1.7ms\n",
      "68:\tlearn: 0.3030770\ttotal: 58.8ms\tremaining: 851us\n",
      "69:\tlearn: 0.3021829\ttotal: 59.6ms\tremaining: 0us\n",
      "3 th fold： 0.9213483146067416\n",
      "0:\tlearn: 0.6272529\ttotal: 1.22ms\tremaining: 83.9ms\n"
     ]
    },
    {
     "name": "stdout",
     "output_type": "stream",
     "text": [
      "1:\tlearn: 0.5798367\ttotal: 2.53ms\tremaining: 86ms\n",
      "2:\tlearn: 0.5432020\ttotal: 3.65ms\tremaining: 81.6ms\n",
      "3:\tlearn: 0.5118182\ttotal: 4.68ms\tremaining: 77.2ms\n",
      "4:\tlearn: 0.4870925\ttotal: 5.82ms\tremaining: 75.7ms\n",
      "5:\tlearn: 0.4654001\ttotal: 6.72ms\tremaining: 71.7ms\n",
      "6:\tlearn: 0.4481039\ttotal: 7.55ms\tremaining: 68ms\n",
      "7:\tlearn: 0.4332584\ttotal: 8.41ms\tremaining: 65.2ms\n",
      "8:\tlearn: 0.4210592\ttotal: 9.23ms\tremaining: 62.6ms\n",
      "9:\tlearn: 0.4091966\ttotal: 10ms\tremaining: 60.2ms\n",
      "10:\tlearn: 0.3989672\ttotal: 10.8ms\tremaining: 58.1ms\n",
      "11:\tlearn: 0.3903715\ttotal: 11.6ms\tremaining: 56.3ms\n",
      "12:\tlearn: 0.3835134\ttotal: 12.5ms\tremaining: 54.6ms\n",
      "13:\tlearn: 0.3780653\ttotal: 13.3ms\tremaining: 53ms\n",
      "14:\tlearn: 0.3727235\ttotal: 14.1ms\tremaining: 51.5ms\n",
      "15:\tlearn: 0.3673163\ttotal: 14.8ms\tremaining: 50.1ms\n",
      "16:\tlearn: 0.3626763\ttotal: 15.7ms\tremaining: 48.9ms\n",
      "17:\tlearn: 0.3592033\ttotal: 16.6ms\tremaining: 48ms\n",
      "18:\tlearn: 0.3557075\ttotal: 17.4ms\tremaining: 46.8ms\n",
      "19:\tlearn: 0.3510140\ttotal: 18.3ms\tremaining: 45.7ms\n",
      "20:\tlearn: 0.3480446\ttotal: 19.1ms\tremaining: 44.6ms\n",
      "21:\tlearn: 0.3448249\ttotal: 20ms\tremaining: 43.6ms\n",
      "22:\tlearn: 0.3420274\ttotal: 21ms\tremaining: 43ms\n",
      "23:\tlearn: 0.3400039\ttotal: 22ms\tremaining: 42.1ms\n",
      "24:\tlearn: 0.3381115\ttotal: 22.9ms\tremaining: 41.2ms\n",
      "25:\tlearn: 0.3353478\ttotal: 23.7ms\tremaining: 40.2ms\n",
      "26:\tlearn: 0.3311828\ttotal: 24.6ms\tremaining: 39.1ms\n",
      "27:\tlearn: 0.3294876\ttotal: 25.4ms\tremaining: 38.1ms\n",
      "28:\tlearn: 0.3273164\ttotal: 26.2ms\tremaining: 37.1ms\n",
      "29:\tlearn: 0.3242730\ttotal: 27ms\tremaining: 36.1ms\n",
      "30:\tlearn: 0.3230508\ttotal: 27.9ms\tremaining: 35.1ms\n",
      "31:\tlearn: 0.3208214\ttotal: 28.7ms\tremaining: 34.1ms\n",
      "32:\tlearn: 0.3192279\ttotal: 29.5ms\tremaining: 33.1ms\n",
      "33:\tlearn: 0.3177830\ttotal: 30.3ms\tremaining: 32.1ms\n",
      "34:\tlearn: 0.3164447\ttotal: 31.2ms\tremaining: 31.2ms\n",
      "35:\tlearn: 0.3154728\ttotal: 32ms\tremaining: 30.2ms\n",
      "36:\tlearn: 0.3147111\ttotal: 32.8ms\tremaining: 29.3ms\n",
      "37:\tlearn: 0.3132613\ttotal: 33.7ms\tremaining: 28.4ms\n",
      "38:\tlearn: 0.3119737\ttotal: 34.5ms\tremaining: 27.4ms\n",
      "39:\tlearn: 0.3099055\ttotal: 35.6ms\tremaining: 26.7ms\n",
      "40:\tlearn: 0.3067530\ttotal: 36.5ms\tremaining: 25.8ms\n",
      "41:\tlearn: 0.3056410\ttotal: 37.3ms\tremaining: 24.9ms\n",
      "42:\tlearn: 0.3043737\ttotal: 38.2ms\tremaining: 24ms\n",
      "43:\tlearn: 0.3020438\ttotal: 39ms\tremaining: 23ms\n",
      "44:\tlearn: 0.3008886\ttotal: 39.8ms\tremaining: 22.1ms\n",
      "45:\tlearn: 0.3000926\ttotal: 40.6ms\tremaining: 21.2ms\n",
      "46:\tlearn: 0.2981537\ttotal: 41.4ms\tremaining: 20.3ms\n",
      "47:\tlearn: 0.2976504\ttotal: 42.2ms\tremaining: 19.4ms\n",
      "48:\tlearn: 0.2958025\ttotal: 43ms\tremaining: 18.4ms\n",
      "49:\tlearn: 0.2928940\ttotal: 43.8ms\tremaining: 17.5ms\n",
      "50:\tlearn: 0.2923761\ttotal: 44.6ms\tremaining: 16.6ms\n",
      "51:\tlearn: 0.2916344\ttotal: 45.4ms\tremaining: 15.7ms\n",
      "52:\tlearn: 0.2906580\ttotal: 46.3ms\tremaining: 14.8ms\n",
      "53:\tlearn: 0.2895252\ttotal: 47ms\tremaining: 13.9ms\n",
      "54:\tlearn: 0.2885389\ttotal: 47.9ms\tremaining: 13.1ms\n",
      "55:\tlearn: 0.2879473\ttotal: 48.7ms\tremaining: 12.2ms\n",
      "56:\tlearn: 0.2869142\ttotal: 49.6ms\tremaining: 11.3ms\n",
      "57:\tlearn: 0.2858152\ttotal: 50.6ms\tremaining: 10.5ms\n",
      "58:\tlearn: 0.2841471\ttotal: 51.4ms\tremaining: 9.59ms\n",
      "59:\tlearn: 0.2828939\ttotal: 52.3ms\tremaining: 8.71ms\n",
      "60:\tlearn: 0.2819108\ttotal: 53.1ms\tremaining: 7.83ms\n",
      "61:\tlearn: 0.2804580\ttotal: 53.9ms\tremaining: 6.96ms\n",
      "62:\tlearn: 0.2799716\ttotal: 54.7ms\tremaining: 6.08ms\n",
      "63:\tlearn: 0.2796271\ttotal: 55.6ms\tremaining: 5.21ms\n",
      "64:\tlearn: 0.2782108\ttotal: 56.4ms\tremaining: 4.34ms\n",
      "65:\tlearn: 0.2770177\ttotal: 57.2ms\tremaining: 3.47ms\n",
      "66:\tlearn: 0.2765985\ttotal: 58.1ms\tremaining: 2.6ms\n",
      "67:\tlearn: 0.2758794\ttotal: 58.9ms\tremaining: 1.73ms\n",
      "68:\tlearn: 0.2754144\ttotal: 59.7ms\tremaining: 865us\n",
      "69:\tlearn: 0.2745751\ttotal: 60.6ms\tremaining: 0us\n",
      "4 th fold： 0.8314606741573034\n",
      "avg score=  0.8496202372732409\n"
     ]
    }
   ],
   "source": [
    "best_model=None\n",
    "folds=5\n",
    "best_score=0\n",
    "avg_score_cat_s=0\n",
    "result_cat_s=np.zeros(418)\n",
    "\n",
    "kf=KFold(n_splits=folds,shuffle=True,random_state=2022)\n",
    "for i, (train_index,test_index) in enumerate(kf.split(train_stacking)):\n",
    "    lgb=CatBoostClassifier(learning_rate=0.14,n_estimators=70)\n",
    "    lgb.fit(train_stacking[train_index],y_train_stacking[train_index])\n",
    "    score=lgb.score(train_stacking[test_index],y_train_stacking[test_index])\n",
    "    print(i,'th fold：',score)\n",
    "    if best_score<score:\n",
    "        best_score=score\n",
    "        best_model=lgb    \n",
    "    avg_score_cat_s+=score\n",
    "    result_cat_s+=lgb.predict(test_stacking)\n",
    "    \n",
    "avg_score_cat_s/=folds\n",
    "result_cat_s/=folds\n",
    "\n",
    "print(\"avg score= \",avg_score_cat_s)"
   ]
  },
  {
   "cell_type": "code",
   "execution_count": 43,
   "id": "0c7600fb",
   "metadata": {
    "ExecuteTime": {
     "end_time": "2022-05-22T03:28:07.562668Z",
     "start_time": "2022-05-22T03:28:07.559677Z"
    }
   },
   "outputs": [
    {
     "data": {
      "text/plain": [
       "(array([ 21,  28,  32,  33,  36,  37,  41,  73,  75,  87,  98, 125, 138,\n",
       "        144, 148, 153, 158, 165, 169, 197, 199, 202, 242, 249, 252, 268,\n",
       "        283, 293, 316, 323, 359, 367, 382, 390], dtype=int64),)"
      ]
     },
     "execution_count": 43,
     "metadata": {},
     "output_type": "execute_result"
    }
   ],
   "source": [
    "np.where(np.round(result_cat_s)!=np.round(result1))"
   ]
  },
  {
   "cell_type": "markdown",
   "id": "186e099e",
   "metadata": {},
   "source": [
    "### svc"
   ]
  },
  {
   "cell_type": "code",
   "execution_count": 261,
   "id": "69efd527",
   "metadata": {
    "ExecuteTime": {
     "end_time": "2022-05-22T14:42:02.258976Z",
     "start_time": "2022-05-22T14:42:02.232536Z"
    }
   },
   "outputs": [
    {
     "name": "stdout",
     "output_type": "stream",
     "text": [
      "0 th fold： 0.8435754189944135\n",
      "1 th fold： 0.797752808988764\n",
      "2 th fold： 0.8033707865168539\n",
      "3 th fold： 0.9044943820224719\n",
      "4 th fold： 0.8202247191011236\n",
      "avg score=  0.8338836231247253\n"
     ]
    }
   ],
   "source": [
    "best_model=None\n",
    "folds=5\n",
    "best_score=0\n",
    "avg_score_svc_s=0\n",
    "result_svc_s=np.zeros(418)\n",
    "\n",
    "kf=KFold(n_splits=folds,shuffle=True,random_state=2022)\n",
    "for i, (train_index,test_index) in enumerate(kf.split(train_stacking)):\n",
    "    lgb=LinearSVC(C=0.008,tol=1e-4,max_iter=100)\n",
    "    lgb.fit(train_stacking[train_index],y_train_stacking[train_index])\n",
    "    score=lgb.score(train_stacking[test_index],y_train_stacking[test_index])\n",
    "    print(i,'th fold：',score)\n",
    "    if best_score<score:\n",
    "        best_score=score\n",
    "        best_model=lgb    \n",
    "    avg_score_svc_s+=score\n",
    "    result_svc_s+=lgb.predict(test_stacking)\n",
    "    \n",
    "avg_score_svc_s/=folds\n",
    "result_svc_s/=folds\n",
    "\n",
    "print(\"avg score= \",avg_score_svc_s)"
   ]
  },
  {
   "cell_type": "code",
   "execution_count": 380,
   "id": "a09636b3",
   "metadata": {
    "ExecuteTime": {
     "end_time": "2022-05-22T12:42:17.966855Z",
     "start_time": "2022-05-22T12:42:17.959880Z"
    }
   },
   "outputs": [
    {
     "data": {
      "text/plain": [
       "(array([  6,  19,  21,  33,  34,  36,  37,  73,  75, 118, 138, 158, 169,\n",
       "        268, 280, 293, 390, 412], dtype=int64),)"
      ]
     },
     "execution_count": 380,
     "metadata": {},
     "output_type": "execute_result"
    }
   ],
   "source": [
    "np.where(np.round(result_svc_s)!=np.round(result1))"
   ]
  },
  {
   "cell_type": "markdown",
   "id": "722d7825",
   "metadata": {},
   "source": [
    "### knn"
   ]
  },
  {
   "cell_type": "code",
   "execution_count": 268,
   "id": "f0482ffe",
   "metadata": {
    "ExecuteTime": {
     "end_time": "2022-05-22T14:42:44.284705Z",
     "start_time": "2022-05-22T14:42:44.154661Z"
    }
   },
   "outputs": [
    {
     "name": "stdout",
     "output_type": "stream",
     "text": [
      "0 th fold： 0.8268156424581006\n",
      "1 th fold： 0.8033707865168539\n",
      "2 th fold： 0.8146067415730337\n",
      "3 th fold： 0.9157303370786517\n",
      "4 th fold： 0.8426966292134831\n",
      "avg score=  0.8406440273680245\n"
     ]
    }
   ],
   "source": [
    "best_model=None\n",
    "folds=5\n",
    "best_score=0\n",
    "avg_score_knn_s=0\n",
    "result_knn_s=np.zeros(418)\n",
    "\n",
    "kf=KFold(n_splits=folds,shuffle=True,random_state=2022)\n",
    "for i, (train_index,test_index) in enumerate(kf.split(train_stacking)):\n",
    "    lgb=KNeighborsClassifier(n_neighbors=27,p=1)\n",
    "    lgb.fit(train_stacking[train_index],y_train_stacking[train_index])\n",
    "    score=lgb.score(train_stacking[test_index],y_train_stacking[test_index])\n",
    "    print(i,'th fold：',score)\n",
    "    if best_score<score:\n",
    "        best_score=score\n",
    "        best_model=lgb    \n",
    "    avg_score_knn_s+=score\n",
    "    result_knn_s+=lgb.predict(test_stacking)\n",
    "    \n",
    "avg_score_knn_s/=folds\n",
    "result_knn_s/=folds\n",
    "\n",
    "print(\"avg score= \",avg_score_knn_s)"
   ]
  },
  {
   "cell_type": "code",
   "execution_count": 120,
   "id": "033ad4da",
   "metadata": {
    "ExecuteTime": {
     "end_time": "2022-05-22T04:24:24.990128Z",
     "start_time": "2022-05-22T04:24:24.979161Z"
    }
   },
   "outputs": [
    {
     "data": {
      "text/plain": [
       "(array([  6,  19,  32,  33,  36,  98, 125, 159, 181, 197, 242, 249, 252,\n",
       "        268, 280, 293, 359, 367], dtype=int64),)"
      ]
     },
     "execution_count": 120,
     "metadata": {},
     "output_type": "execute_result"
    }
   ],
   "source": [
    "np.where(np.round(result_knn_s)!=np.round(result1))"
   ]
  },
  {
   "cell_type": "markdown",
   "id": "7f22d43d",
   "metadata": {},
   "source": [
    "### gbt"
   ]
  },
  {
   "cell_type": "code",
   "execution_count": 283,
   "id": "6fe0762a",
   "metadata": {
    "ExecuteTime": {
     "end_time": "2022-05-22T14:43:54.057525Z",
     "start_time": "2022-05-22T14:43:53.590731Z"
    }
   },
   "outputs": [
    {
     "name": "stdout",
     "output_type": "stream",
     "text": [
      "0 th fold： 0.8491620111731844\n",
      "1 th fold： 0.8146067415730337\n",
      "2 th fold： 0.8202247191011236\n",
      "3 th fold： 0.9101123595505618\n",
      "4 th fold： 0.8426966292134831\n",
      "avg score=  0.8473604921222773\n"
     ]
    }
   ],
   "source": [
    "best_model=None\n",
    "folds=5\n",
    "best_score=0\n",
    "avg_score_gbt_s=0\n",
    "result_gbt_s=np.zeros(418)\n",
    "\n",
    "kf=KFold(n_splits=folds,shuffle=True,random_state=2022)\n",
    "for i, (train_index,test_index) in enumerate(kf.split(train_stacking)):\n",
    "    lgb=GradientBoostingClassifier(learning_rate=0.06,n_estimators=73)\n",
    "    lgb.fit(train_stacking[train_index],y_train_stacking[train_index])\n",
    "    score=lgb.score(train_stacking[test_index],y_train_stacking[test_index])\n",
    "    print(i,'th fold：',score)\n",
    "    if best_score<score:\n",
    "        best_score=score\n",
    "        best_model=lgb    \n",
    "    avg_score_gbt_s+=score\n",
    "    result_gbt_s+=lgb.predict(test_stacking)\n",
    "    \n",
    "avg_score_gbt_s/=folds\n",
    "result_gbt_s/=folds\n",
    "\n",
    "print(\"avg score= \",avg_score_gbt_s)"
   ]
  },
  {
   "cell_type": "code",
   "execution_count": 300,
   "id": "c464b038",
   "metadata": {
    "ExecuteTime": {
     "end_time": "2022-05-22T04:54:28.209607Z",
     "start_time": "2022-05-22T04:54:28.197590Z"
    }
   },
   "outputs": [],
   "source": [
    "pd.DataFrame(data=np.c_[list(range(892,1310)),np.round(result_gbt_s)],columns=[\"PassengerId\",\"Survived\"],dtype=np.int64).to_csv('result_20220522_ss_gbt.txt',index=False,header=True)# 得分：0.73444"
   ]
  },
  {
   "cell_type": "code",
   "execution_count": 301,
   "id": "b706753b",
   "metadata": {
    "ExecuteTime": {
     "end_time": "2022-05-22T04:59:34.128503Z",
     "start_time": "2022-05-22T04:59:34.119528Z"
    }
   },
   "outputs": [
    {
     "data": {
      "text/plain": [
       "(array([  4,   6,  19,  21,  32,  33,  36,  37,  72,  86,  90, 125, 153,\n",
       "        158, 159, 165, 169, 181, 192, 197, 199, 225, 242, 245, 249, 252,\n",
       "        268, 280, 283, 293, 323, 344, 347, 359, 367, 382, 383, 412],\n",
       "       dtype=int64),)"
      ]
     },
     "execution_count": 301,
     "metadata": {},
     "output_type": "execute_result"
    }
   ],
   "source": [
    "np.where(np.round(result_gbt_s)!=np.round(result1))"
   ]
  },
  {
   "cell_type": "code",
   "execution_count": 303,
   "id": "b59bdd3e",
   "metadata": {
    "ExecuteTime": {
     "end_time": "2022-05-22T05:27:11.387681Z",
     "start_time": "2022-05-22T05:27:11.376675Z"
    }
   },
   "outputs": [
    {
     "data": {
      "text/plain": [
       "(array([ 72,  90, 138, 153, 245, 344], dtype=int64),)"
      ]
     },
     "execution_count": 303,
     "metadata": {},
     "output_type": "execute_result"
    }
   ],
   "source": [
    "np.where(np.round(result_rf_s)!=np.round(result_gbt_s))"
   ]
  },
  {
   "cell_type": "code",
   "execution_count": 304,
   "id": "9f19e0e8",
   "metadata": {
    "ExecuteTime": {
     "end_time": "2022-05-22T05:27:24.496543Z",
     "start_time": "2022-05-22T05:27:24.480505Z"
    }
   },
   "outputs": [
    {
     "data": {
      "text/plain": [
       "(array([ 18,  21,  64,  87, 138, 200, 202, 245, 273, 323, 345], dtype=int64),)"
      ]
     },
     "execution_count": 304,
     "metadata": {},
     "output_type": "execute_result"
    }
   ],
   "source": [
    "np.where(np.round(result_lgb_s)!=np.round(result_gbt_s))"
   ]
  },
  {
   "cell_type": "markdown",
   "id": "8ee83f00",
   "metadata": {},
   "source": [
    "### xgb"
   ]
  },
  {
   "cell_type": "code",
   "execution_count": 298,
   "id": "b1866d82",
   "metadata": {
    "ExecuteTime": {
     "end_time": "2022-05-22T14:45:13.158481Z",
     "start_time": "2022-05-22T14:45:12.944495Z"
    }
   },
   "outputs": [
    {
     "name": "stdout",
     "output_type": "stream",
     "text": [
      "[22:45:12] WARNING: D:\\bld\\xgboost-split_1645118015404\\work\\src\\learner.cc:1115: Starting in XGBoost 1.3.0, the default evaluation metric used with the objective 'binary:logistic' was changed from 'error' to 'logloss'. Explicitly set eval_metric if you'd like to restore the old behavior.\n",
      "0 th fold： 0.8491620111731844\n",
      "[22:45:12] WARNING: D:\\bld\\xgboost-split_1645118015404\\work\\src\\learner.cc:1115: Starting in XGBoost 1.3.0, the default evaluation metric used with the objective 'binary:logistic' was changed from 'error' to 'logloss'. Explicitly set eval_metric if you'd like to restore the old behavior.\n",
      "1 th fold： 0.8089887640449438\n",
      "[22:45:13] WARNING: D:\\bld\\xgboost-split_1645118015404\\work\\src\\learner.cc:1115: Starting in XGBoost 1.3.0, the default evaluation metric used with the objective 'binary:logistic' was changed from 'error' to 'logloss'. Explicitly set eval_metric if you'd like to restore the old behavior.\n",
      "2 th fold： 0.8370786516853933\n",
      "[22:45:13] WARNING: D:\\bld\\xgboost-split_1645118015404\\work\\src\\learner.cc:1115: Starting in XGBoost 1.3.0, the default evaluation metric used with the objective 'binary:logistic' was changed from 'error' to 'logloss'. Explicitly set eval_metric if you'd like to restore the old behavior.\n",
      "3 th fold： 0.9101123595505618\n",
      "[22:45:13] WARNING: D:\\bld\\xgboost-split_1645118015404\\work\\src\\learner.cc:1115: Starting in XGBoost 1.3.0, the default evaluation metric used with the objective 'binary:logistic' was changed from 'error' to 'logloss'. Explicitly set eval_metric if you'd like to restore the old behavior.\n",
      "4 th fold： 0.8314606741573034\n",
      "avg score=  0.8473604921222773\n"
     ]
    }
   ],
   "source": [
    "best_model=None\n",
    "folds=5\n",
    "best_score=0\n",
    "avg_score_xgb_s=0\n",
    "result_xgb_s=np.zeros(418)\n",
    "\n",
    "kf=KFold(n_splits=folds,shuffle=True,random_state=2022)\n",
    "for i, (train_index,test_index) in enumerate(kf.split(train_stacking)):\n",
    "    lgb=XGBClassifier(learning_rate=0.07,max_depth=4,n_estimators=61)\n",
    "    lgb.fit(train_stacking[train_index],y_train_stacking[train_index])\n",
    "    score=lgb.score(train_stacking[test_index],y_train_stacking[test_index])\n",
    "    print(i,'th fold：',score)\n",
    "    if best_score<score:\n",
    "        best_score=score\n",
    "        best_model=lgb    \n",
    "    avg_score_xgb_s+=score\n",
    "    result_xgb_s+=lgb.predict(test_stacking)\n",
    "    \n",
    "avg_score_xgb_s/=folds\n",
    "result_xgb_s/=folds\n",
    "\n",
    "print(\"avg score= \",avg_score_xgb_s)"
   ]
  },
  {
   "cell_type": "markdown",
   "id": "f429bac3",
   "metadata": {},
   "source": [
    "### perceptron"
   ]
  },
  {
   "cell_type": "code",
   "execution_count": 310,
   "id": "631880f0",
   "metadata": {
    "ExecuteTime": {
     "end_time": "2022-05-22T14:46:03.321739Z",
     "start_time": "2022-05-22T14:46:03.301435Z"
    }
   },
   "outputs": [
    {
     "name": "stdout",
     "output_type": "stream",
     "text": [
      "0 th fold： 0.8044692737430168\n",
      "1 th fold： 0.7471910112359551\n",
      "2 th fold： 0.7696629213483146\n",
      "3 th fold： 0.7865168539325843\n",
      "4 th fold： 0.7808988764044944\n",
      "avg score=  0.7777477873328731\n"
     ]
    }
   ],
   "source": [
    "best_model=None\n",
    "folds=5\n",
    "best_score=0\n",
    "avg_score_pt_s=0\n",
    "result_pt_s=np.zeros(418)\n",
    "\n",
    "kf=KFold(n_splits=folds,shuffle=True,random_state=2022)\n",
    "for i, (train_index,test_index) in enumerate(kf.split(train_stacking)):\n",
    "    lgb=Perceptron(penalty='l2',alpha=1e-3,max_iter=10,validation_fraction=0.1,n_iter_no_change=20,warm_start=True)\n",
    "    lgb.fit(train_stacking[train_index],y_train_stacking[train_index])\n",
    "    score=lgb.score(train_stacking[test_index],y_train_stacking[test_index])\n",
    "    print(i,'th fold：',score)\n",
    "    if best_score<score:\n",
    "        best_score=score\n",
    "        best_model=lgb    \n",
    "    avg_score_pt_s+=score\n",
    "    result_pt_s+=lgb.predict(test_stacking)\n",
    "    \n",
    "avg_score_pt_s/=folds\n",
    "result_pt_s/=folds\n",
    "\n",
    "print(\"avg score= \",avg_score_pt_s)"
   ]
  },
  {
   "cell_type": "markdown",
   "id": "857051fb",
   "metadata": {},
   "source": [
    "### sgd"
   ]
  },
  {
   "cell_type": "code",
   "execution_count": 313,
   "id": "24bf8866",
   "metadata": {
    "ExecuteTime": {
     "end_time": "2022-05-22T14:46:13.973762Z",
     "start_time": "2022-05-22T14:46:13.944970Z"
    }
   },
   "outputs": [
    {
     "name": "stdout",
     "output_type": "stream",
     "text": [
      "0 th fold： 0.8491620111731844\n",
      "1 th fold： 0.7808988764044944\n",
      "2 th fold： 0.7640449438202247\n",
      "3 th fold： 0.8764044943820225\n",
      "4 th fold： 0.8258426966292135\n",
      "avg score=  0.8192706044818279\n"
     ]
    }
   ],
   "source": [
    "best_model=None\n",
    "folds=5\n",
    "best_score=0\n",
    "avg_score_sgd_s=0\n",
    "result_sgd_s=np.zeros(418)\n",
    "\n",
    "kf=KFold(n_splits=folds,shuffle=True,random_state=2022)\n",
    "for i, (train_index,test_index) in enumerate(kf.split(train_stacking)):\n",
    "    lgb=SGDClassifier(alpha=1e-4,max_iter=10,validation_fraction=0.1,n_iter_no_change=10,warm_start=True)\n",
    "    lgb.fit(train_stacking[train_index],y_train_stacking[train_index])\n",
    "    score=lgb.score(train_stacking[test_index],y_train_stacking[test_index])\n",
    "    print(i,'th fold：',score)\n",
    "    if best_score<score:\n",
    "        best_score=score\n",
    "        best_model=lgb    \n",
    "    avg_score_sgd_s+=score\n",
    "    result_sgd_s+=lgb.predict(test_stacking)\n",
    "    \n",
    "avg_score_sgd_s/=folds\n",
    "result_sgd_s/=folds\n",
    "\n",
    "print(\"avg score= \",avg_score_sgd_s)"
   ]
  },
  {
   "cell_type": "markdown",
   "id": "16b45e40",
   "metadata": {
    "ExecuteTime": {
     "end_time": "2022-05-20T14:42:18.970699Z",
     "start_time": "2022-05-20T14:42:18.962723Z"
    }
   },
   "source": [
    "### bayes"
   ]
  },
  {
   "cell_type": "code",
   "execution_count": 320,
   "id": "4f90a98e",
   "metadata": {
    "ExecuteTime": {
     "end_time": "2022-05-22T14:46:37.411163Z",
     "start_time": "2022-05-22T14:46:37.379827Z"
    }
   },
   "outputs": [
    {
     "name": "stdout",
     "output_type": "stream",
     "text": [
      "0 th fold： 0.8100558659217877\n",
      "1 th fold： 0.7921348314606742\n",
      "2 th fold： 0.7359550561797753\n",
      "3 th fold： 0.8707865168539326\n",
      "4 th fold： 0.7696629213483146\n",
      "avg score=  0.7957190383528967\n"
     ]
    }
   ],
   "source": [
    "best_model=None\n",
    "folds=5\n",
    "best_score=0\n",
    "avg_score_by_s=0\n",
    "result_by_s=np.zeros(418)\n",
    "\n",
    "kf=KFold(n_splits=folds,shuffle=True,random_state=2022)\n",
    "for i, (train_index,test_index) in enumerate(kf.split(train_stacking)):\n",
    "    lgb=BernoulliNB(alpha=1)\n",
    "    lgb.fit(train_stacking[train_index],y_train_stacking[train_index])\n",
    "    score=lgb.score(train_stacking[test_index],y_train_stacking[test_index])\n",
    "    print(i,'th fold：',score)\n",
    "    if best_score<score:\n",
    "        best_score=score\n",
    "        best_model=lgb    \n",
    "    avg_score_by_s+=score\n",
    "    result_by_s+=lgb.predict(test_stacking)\n",
    "    \n",
    "avg_score_by_s/=folds\n",
    "result_by_s/=folds\n",
    "\n",
    "print(\"avg score= \",avg_score_by_s)"
   ]
  },
  {
   "cell_type": "markdown",
   "id": "d00f45de",
   "metadata": {
    "ExecuteTime": {
     "end_time": "2022-05-20T14:44:23.009937Z",
     "start_time": "2022-05-20T14:44:22.993991Z"
    }
   },
   "source": [
    "### gp"
   ]
  },
  {
   "cell_type": "code",
   "execution_count": 322,
   "id": "e8c66821",
   "metadata": {
    "ExecuteTime": {
     "end_time": "2022-05-22T14:46:46.038725Z",
     "start_time": "2022-05-22T14:46:45.332512Z"
    }
   },
   "outputs": [
    {
     "name": "stdout",
     "output_type": "stream",
     "text": [
      "0 th fold： 0.8268156424581006\n",
      "1 th fold： 0.7865168539325843\n",
      "2 th fold： 0.8202247191011236\n",
      "3 th fold： 0.9101123595505618\n",
      "4 th fold： 0.8314606741573034\n",
      "avg score=  0.8350260498399347\n"
     ]
    }
   ],
   "source": [
    "best_model=None\n",
    "folds=5\n",
    "best_score=0\n",
    "avg_score_gp_s=0\n",
    "result_gp_s=np.zeros(418)\n",
    "\n",
    "kf=KFold(n_splits=folds,shuffle=True,random_state=2022)\n",
    "for i, (train_index,test_index) in enumerate(kf.split(train_stacking)):\n",
    "    lgb=GaussianProcessClassifier()\n",
    "    lgb.fit(train_stacking[train_index],y_train_stacking[train_index])\n",
    "    score=lgb.score(train_stacking[test_index],y_train_stacking[test_index])\n",
    "    print(i,'th fold：',score)\n",
    "    if best_score<score:\n",
    "        best_score=score\n",
    "        best_model=lgb    \n",
    "    avg_score_gp_s+=score\n",
    "    result_gp_s+=lgb.predict(test_stacking)\n",
    "    \n",
    "avg_score_gp_s/=folds\n",
    "result_gp_s/=folds\n",
    "\n",
    "print(\"avg score= \",avg_score_gp_s)"
   ]
  },
  {
   "cell_type": "markdown",
   "id": "c97728d0",
   "metadata": {},
   "source": [
    "### 平均"
   ]
  },
  {
   "cell_type": "code",
   "execution_count": 324,
   "id": "4b190bc1",
   "metadata": {
    "ExecuteTime": {
     "end_time": "2022-05-22T14:47:40.515697Z",
     "start_time": "2022-05-22T14:47:40.500590Z"
    }
   },
   "outputs": [],
   "source": [
    "result_feature_1=(result_lgb_s+result_xgb_s+result_cat_s\\\n",
    "          +result_gbt_s+result_rf_s+result_lr_s\\\n",
    "         +result_svc_s+result_knn_s+result_pt_s\\\n",
    "          +result_sgd_s+result_gp_s+result_by_s)/12\n",
    "\n",
    "result_feature_2=(avg_score_lgb_s*result_lgb_s\\\n",
    "        +avg_score_xgb_s*result_xgb_s\\\n",
    "        +avg_score_cat_s*result_cat_s\\\n",
    "        +avg_score_gbt_s*result_gbt_s\\\n",
    "        +avg_score_rf_s*result_rf_s\\\n",
    "        +avg_score_lr_s*result_lr_s\\\n",
    "        +avg_score_svc_s*result_svc_s\\\n",
    "        +avg_score_knn_s*result_knn_s\\\n",
    "        +avg_score_pt_s*result_pt_s\\\n",
    "        +avg_score_sgd_s*result_sgd_s\\\n",
    "        +avg_score_gp_s*result_gp_s\\\n",
    "        +avg_score_by_s*result_by_s)/(avg_score_lgb_s+avg_score_xgb_s+avg_score_cat_s+avg_score_gbt_s+avg_score_rf_s+avg_score_lr_s\\\n",
    "                                      +avg_score_svc_s+avg_score_knn_s+avg_score_pt_s+avg_score_sgd_s+avg_score_gp_s+avg_score_by_s)"
   ]
  },
  {
   "cell_type": "code",
   "execution_count": 325,
   "id": "8cf1628a",
   "metadata": {
    "ExecuteTime": {
     "end_time": "2022-05-22T14:47:47.345238Z",
     "start_time": "2022-05-22T14:47:47.331053Z"
    }
   },
   "outputs": [
    {
     "data": {
      "text/plain": [
       "(array([], dtype=int64),)"
      ]
     },
     "execution_count": 325,
     "metadata": {},
     "output_type": "execute_result"
    }
   ],
   "source": [
    "np.where(np.round(result_feature_1)!=np.round(result_feature_2))"
   ]
  },
  {
   "cell_type": "code",
   "execution_count": null,
   "id": "cf59514f",
   "metadata": {},
   "outputs": [],
   "source": []
  },
  {
   "cell_type": "markdown",
   "id": "bb5a9e76",
   "metadata": {},
   "source": [
    "### 取前k个最好的"
   ]
  },
  {
   "cell_type": "code",
   "execution_count": null,
   "id": "d9cf5176",
   "metadata": {},
   "outputs": [],
   "source": [
    "gbt 0.850   0.842\n",
    "lgb 0.8485  0.848\n",
    "cat 0.846   0.847\n",
    "rf 0.845    0.841\n",
    "xgb 0.840   0.846\n",
    "gp 0.836    0.765\n",
    "lr 0.835    0.825\n",
    "svc 0.835   0.835\n",
    "knn 0.833   0.813\n",
    "bayes 0.808 0.806\n",
    "sgd 0.802   0.819\n",
    "perceptron 0.792  0.793"
   ]
  },
  {
   "cell_type": "code",
   "execution_count": 471,
   "id": "0539f28e",
   "metadata": {
    "ExecuteTime": {
     "end_time": "2022-05-22T15:17:41.465463Z",
     "start_time": "2022-05-22T15:17:41.448386Z"
    }
   },
   "outputs": [],
   "source": [
    "result_1=(np.round(result_lgb_s)+np.round(result_xgb_s)+np.round(result_cat_s)\\\n",
    "          +np.round(result_gbt_s)+np.round(result_rf_s)+np.round(result_lr_s)\\\n",
    "          +np.round(result_svc_s)+np.round(result_knn_s)+np.round(result_pt_s)\\\n",
    "          +np.round(result_sgd_s)+np.round(result_gp_s)+np.round(result_by_s))/12"
   ]
  },
  {
   "cell_type": "code",
   "execution_count": 459,
   "id": "933198b4",
   "metadata": {
    "ExecuteTime": {
     "end_time": "2022-05-22T12:55:04.594974Z",
     "start_time": "2022-05-22T12:55:04.578033Z"
    }
   },
   "outputs": [
    {
     "data": {
      "text/plain": [
       "(array([359], dtype=int64),)"
      ]
     },
     "execution_count": 459,
     "metadata": {},
     "output_type": "execute_result"
    }
   ],
   "source": [
    "np.where(np.round(resulto11)!=np.round(resulto22))"
   ]
  },
  {
   "cell_type": "code",
   "execution_count": 328,
   "id": "75b992ac",
   "metadata": {
    "ExecuteTime": {
     "end_time": "2022-05-22T05:56:36.533957Z",
     "start_time": "2022-05-22T05:56:36.514969Z"
    }
   },
   "outputs": [
    {
     "data": {
      "text/plain": [
       "array([0.58333333, 0.58333333, 0.58333333])"
      ]
     },
     "execution_count": 328,
     "metadata": {},
     "output_type": "execute_result"
    }
   ],
   "source": [
    "result111[np.where(np.round(result111)!=np.round(result_9))]"
   ]
  },
  {
   "cell_type": "code",
   "execution_count": 329,
   "id": "e1da3a58",
   "metadata": {
    "ExecuteTime": {
     "end_time": "2022-05-22T05:56:47.388994Z",
     "start_time": "2022-05-22T05:56:47.371055Z"
    }
   },
   "outputs": [
    {
     "data": {
      "text/plain": [
       "array([0.44444444, 0.44444444, 0.44444444])"
      ]
     },
     "execution_count": 329,
     "metadata": {},
     "output_type": "execute_result"
    }
   ],
   "source": [
    "result_9[np.where(np.round(result111)!=np.round(result_9))]"
   ]
  },
  {
   "cell_type": "code",
   "execution_count": 461,
   "id": "d393cbc5",
   "metadata": {
    "ExecuteTime": {
     "end_time": "2022-05-22T12:55:54.578959Z",
     "start_time": "2022-05-22T12:55:54.561063Z"
    }
   },
   "outputs": [
    {
     "data": {
      "text/plain": [
       "(array([ 18,  32,  64,  87,  90, 153, 181, 192, 197, 200, 202, 273, 344,\n",
       "        345, 367, 382, 383], dtype=int64),)"
      ]
     },
     "execution_count": 461,
     "metadata": {},
     "output_type": "execute_result"
    }
   ],
   "source": [
    "np.where(np.round(result_lgb_s)!=np.round(resulto22))"
   ]
  },
  {
   "cell_type": "code",
   "execution_count": 323,
   "id": "e58feb73",
   "metadata": {
    "ExecuteTime": {
     "end_time": "2022-05-22T05:55:03.922168Z",
     "start_time": "2022-05-22T05:55:03.909122Z"
    }
   },
   "outputs": [
    {
     "data": {
      "text/plain": [
       "(array([ 72,  90, 138, 153, 245, 344], dtype=int64),)"
      ]
     },
     "execution_count": 323,
     "metadata": {},
     "output_type": "execute_result"
    }
   ],
   "source": [
    "np.where(np.round(result_gbt_s)!=np.round(result_rf_s))"
   ]
  },
  {
   "cell_type": "code",
   "execution_count": 324,
   "id": "2bf965e4",
   "metadata": {
    "ExecuteTime": {
     "end_time": "2022-05-22T05:55:22.489744Z",
     "start_time": "2022-05-22T05:55:22.474762Z"
    }
   },
   "outputs": [
    {
     "data": {
      "text/plain": [
       "(array([ 34,  36, 245, 268, 273, 316, 323, 331, 412], dtype=int64),)"
      ]
     },
     "execution_count": 324,
     "metadata": {},
     "output_type": "execute_result"
    }
   ],
   "source": [
    "np.where(np.round(result_gbt_s)!=np.round(result_xgb_s))"
   ]
  },
  {
   "cell_type": "code",
   "execution_count": 313,
   "id": "221b2987",
   "metadata": {
    "ExecuteTime": {
     "end_time": "2022-05-22T05:44:07.319361Z",
     "start_time": "2022-05-22T05:44:07.312388Z"
    }
   },
   "outputs": [
    {
     "data": {
      "text/plain": [
       "array([0.5       , 0.5       , 0.5       , 0.48333333, 0.5       ])"
      ]
     },
     "execution_count": 313,
     "metadata": {},
     "output_type": "execute_result"
    }
   ],
   "source": [
    "result111[np.where(np.round(result11)!=np.round(result111))]"
   ]
  },
  {
   "cell_type": "code",
   "execution_count": 297,
   "id": "0d623236",
   "metadata": {
    "ExecuteTime": {
     "end_time": "2022-05-22T04:51:01.644469Z",
     "start_time": "2022-05-22T04:51:01.629562Z"
    }
   },
   "outputs": [
    {
     "data": {
      "text/plain": [
       "(array([  6,  19,  21,  33,  36,  37, 138, 158, 159, 165, 169, 197, 225,\n",
       "        242, 249, 252, 268, 280, 283, 293, 323, 347, 367, 382, 412],\n",
       "       dtype=int64),)"
      ]
     },
     "execution_count": 297,
     "metadata": {},
     "output_type": "execute_result"
    }
   ],
   "source": [
    "np.where(np.round(result11)!=np.round(result1))"
   ]
  },
  {
   "cell_type": "code",
   "execution_count": 298,
   "id": "11dde31b",
   "metadata": {
    "ExecuteTime": {
     "end_time": "2022-05-22T04:51:53.529755Z",
     "start_time": "2022-05-22T04:51:53.510779Z"
    }
   },
   "outputs": [
    {
     "data": {
      "text/plain": [
       "array([0.18333333, 0.33333333, 0.55      , 0.36666667, 0.3       ,\n",
       "       0.21666667, 0.43333333, 0.85      , 0.46666667, 0.28333333,\n",
       "       0.18333333, 0.5       , 0.28333333, 0.21666667, 0.23333333,\n",
       "       0.2       , 0.3       , 0.21666667, 0.28333333, 0.4       ,\n",
       "       0.51666667, 0.33333333, 0.46666667, 0.5       , 0.4       ])"
      ]
     },
     "execution_count": 298,
     "metadata": {},
     "output_type": "execute_result"
    }
   ],
   "source": [
    "result11[np.where(np.round(result11)!=np.round(result1))]"
   ]
  },
  {
   "cell_type": "code",
   "execution_count": 299,
   "id": "4bbc4921",
   "metadata": {
    "ExecuteTime": {
     "end_time": "2022-05-22T04:51:56.122275Z",
     "start_time": "2022-05-22T04:51:56.104279Z"
    }
   },
   "outputs": [
    {
     "data": {
      "text/plain": [
       "array([0.52840008, 0.52437674, 0.45679954, 0.56448001, 0.55540819,\n",
       "       0.55393837, 0.56096024, 0.43054273, 0.67248507, 0.59836365,\n",
       "       0.55539291, 0.65666669, 0.58359148, 0.54862118, 0.58336977,\n",
       "       0.52958313, 0.55540819, 0.52283612, 0.62816882, 0.52198703,\n",
       "       0.36962838, 0.54255157, 0.68228422, 0.71778027, 0.52814656])"
      ]
     },
     "execution_count": 299,
     "metadata": {},
     "output_type": "execute_result"
    }
   ],
   "source": [
    "result1[np.where(np.round(result11)!=np.round(result1))]"
   ]
  },
  {
   "cell_type": "code",
   "execution_count": 137,
   "id": "44718445",
   "metadata": {
    "ExecuteTime": {
     "end_time": "2022-05-22T04:32:04.921986Z",
     "start_time": "2022-05-22T04:32:04.903047Z"
    }
   },
   "outputs": [
    {
     "data": {
      "text/plain": [
       "array([0.18333333, 0.25      , 0.31666667, 0.25      , 0.25      ,\n",
       "       0.43333333, 0.86666667, 0.5       , 0.25      , 0.23333333,\n",
       "       0.45      , 0.25      , 0.18333333, 0.2       , 0.18333333,\n",
       "       0.25      , 0.2       , 0.25      , 0.4       , 0.36666667,\n",
       "       0.36666667])"
      ]
     },
     "execution_count": 137,
     "metadata": {},
     "output_type": "execute_result"
    }
   ],
   "source": [
    "result11[np.where(np.round(result11)!=np.round(result1))]"
   ]
  },
  {
   "cell_type": "code",
   "execution_count": 138,
   "id": "e5eaad30",
   "metadata": {
    "ExecuteTime": {
     "end_time": "2022-05-22T04:32:16.022538Z",
     "start_time": "2022-05-22T04:32:16.014565Z"
    }
   },
   "outputs": [
    {
     "data": {
      "text/plain": [
       "array([0.52840008, 0.52437674, 0.56448001, 0.55540819, 0.55393837,\n",
       "       0.56096024, 0.43054273, 0.67248507, 0.59836365, 0.55539291,\n",
       "       0.65666669, 0.58359148, 0.54862118, 0.58336977, 0.52958313,\n",
       "       0.55540819, 0.52283612, 0.62816882, 0.52198703, 0.54255157,\n",
       "       0.52814656])"
      ]
     },
     "execution_count": 138,
     "metadata": {},
     "output_type": "execute_result"
    }
   ],
   "source": [
    "result1[np.where(np.round(result11)!=np.round(result1))]"
   ]
  },
  {
   "cell_type": "code",
   "execution_count": 135,
   "id": "9f310f5a",
   "metadata": {
    "ExecuteTime": {
     "end_time": "2022-05-22T04:25:20.544168Z",
     "start_time": "2022-05-22T04:25:20.525174Z"
    }
   },
   "outputs": [
    {
     "data": {
      "text/plain": [
       "(array([  6,  19,  33,  36,  37, 138, 158, 159, 165, 169, 197, 225, 242,\n",
       "        249, 252, 268, 280, 283, 293, 347, 412], dtype=int64),)"
      ]
     },
     "execution_count": 135,
     "metadata": {},
     "output_type": "execute_result"
    }
   ],
   "source": [
    "np.where(np.round(result22)!=np.round(result1))"
   ]
  },
  {
   "cell_type": "code",
   "execution_count": 472,
   "id": "634f9d43",
   "metadata": {
    "ExecuteTime": {
     "end_time": "2022-05-22T15:18:10.786276Z",
     "start_time": "2022-05-22T15:18:10.764229Z"
    }
   },
   "outputs": [],
   "source": [
    "pd.DataFrame(data=np.c_[list(range(892,1310)),np.round(result_1)],columns=[\"PassengerId\",\"Survived\"],dtype=np.int64).to_csv('result_20220522_featurePclassSex_avg.txt',index=False,header=True)# 得分：0.73444"
   ]
  },
  {
   "cell_type": "code",
   "execution_count": null,
   "id": "6290d9c6",
   "metadata": {},
   "outputs": [],
   "source": []
  }
 ],
 "metadata": {
  "kernelspec": {
   "display_name": "Python 3",
   "language": "python",
   "name": "python3"
  },
  "language_info": {
   "codemirror_mode": {
    "name": "ipython",
    "version": 3
   },
   "file_extension": ".py",
   "mimetype": "text/x-python",
   "name": "python",
   "nbconvert_exporter": "python",
   "pygments_lexer": "ipython3",
   "version": "3.8.8"
  },
  "toc": {
   "base_numbering": 1,
   "nav_menu": {},
   "number_sections": true,
   "sideBar": true,
   "skip_h1_title": false,
   "title_cell": "Table of Contents",
   "title_sidebar": "Contents",
   "toc_cell": false,
   "toc_position": {
    "height": "calc(100% - 180px)",
    "left": "10px",
    "top": "150px",
    "width": "303.825px"
   },
   "toc_section_display": true,
   "toc_window_display": true
  },
  "varInspector": {
   "cols": {
    "lenName": 16,
    "lenType": 16,
    "lenVar": 40
   },
   "kernels_config": {
    "python": {
     "delete_cmd_postfix": "",
     "delete_cmd_prefix": "del ",
     "library": "var_list.py",
     "varRefreshCmd": "print(var_dic_list())"
    },
    "r": {
     "delete_cmd_postfix": ") ",
     "delete_cmd_prefix": "rm(",
     "library": "var_list.r",
     "varRefreshCmd": "cat(var_dic_list()) "
    }
   },
   "types_to_exclude": [
    "module",
    "function",
    "builtin_function_or_method",
    "instance",
    "_Feature"
   ],
   "window_display": false
  }
 },
 "nbformat": 4,
 "nbformat_minor": 5
}
