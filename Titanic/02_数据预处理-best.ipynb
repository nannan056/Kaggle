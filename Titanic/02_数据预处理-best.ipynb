{
 "cells": [
  {
   "cell_type": "code",
   "execution_count": 1,
   "id": "04fa8784",
   "metadata": {
    "ExecuteTime": {
     "end_time": "2022-05-23T12:39:00.817058Z",
     "start_time": "2022-05-23T12:38:58.809127Z"
    }
   },
   "outputs": [],
   "source": [
    "import numpy as np\n",
    "import pandas as pd\n",
    "\n",
    "import seaborn as sns\n",
    "import matplotlib.pyplot as plt\n",
    "\n",
    "from sklearn.preprocessing import OneHotEncoder\n",
    "from sklearn.model_selection import train_test_split,KFold\n",
    "\n",
    "import warnings\n",
    "warnings.filterwarnings(\"ignore\")\n",
    "\n",
    "pd.set_option('display.max_rows',None)\n",
    "pd.set_option('display.max_columns',None)\n"
   ]
  },
  {
   "cell_type": "code",
   "execution_count": 2,
   "id": "9c64912e",
   "metadata": {
    "ExecuteTime": {
     "end_time": "2022-05-23T12:39:09.633267Z",
     "start_time": "2022-05-23T12:39:09.609268Z"
    }
   },
   "outputs": [],
   "source": [
    "train=pd.read_csv(\"./data/train.csv\")#(891,12)\n",
    "test=pd.read_csv(\"./data/test.csv\")#(418,11)\n",
    "train['is_train']=1\n",
    "test['is_train']=0\n",
    "data=pd.concat([train,test])"
   ]
  },
  {
   "cell_type": "code",
   "execution_count": 334,
   "id": "86ef23d8",
   "metadata": {
    "ExecuteTime": {
     "end_time": "2022-05-22T14:55:41.319131Z",
     "start_time": "2022-05-22T14:55:41.285936Z"
    }
   },
   "outputs": [
    {
     "data": {
      "text/html": [
       "<div>\n",
       "<style scoped>\n",
       "    .dataframe tbody tr th:only-of-type {\n",
       "        vertical-align: middle;\n",
       "    }\n",
       "\n",
       "    .dataframe tbody tr th {\n",
       "        vertical-align: top;\n",
       "    }\n",
       "\n",
       "    .dataframe thead th {\n",
       "        text-align: right;\n",
       "    }\n",
       "</style>\n",
       "<table border=\"1\" class=\"dataframe\">\n",
       "  <thead>\n",
       "    <tr style=\"text-align: right;\">\n",
       "      <th></th>\n",
       "      <th>Survived</th>\n",
       "      <th>Pclass</th>\n",
       "      <th>Age</th>\n",
       "      <th>SibSp</th>\n",
       "      <th>Parch</th>\n",
       "      <th>Fare</th>\n",
       "      <th>is_train</th>\n",
       "      <th>Cabins</th>\n",
       "      <th>familyNum</th>\n",
       "      <th>has_family</th>\n",
       "      <th>CabinA</th>\n",
       "      <th>CabinB</th>\n",
       "      <th>CabinC</th>\n",
       "      <th>CabinD</th>\n",
       "      <th>CabinE</th>\n",
       "      <th>CabinF</th>\n",
       "      <th>CabinG</th>\n",
       "      <th>CabinT</th>\n",
       "      <th>CabinZ</th>\n",
       "      <th>EmbarkedC</th>\n",
       "      <th>EmbarkedQ</th>\n",
       "      <th>EmbarkedS</th>\n",
       "      <th>TitleMaster</th>\n",
       "      <th>TitleMiss</th>\n",
       "      <th>TitleMr</th>\n",
       "      <th>TitleMrs</th>\n",
       "      <th>TitleRare</th>\n",
       "      <th>Sexfemale</th>\n",
       "      <th>Sexmale</th>\n",
       "      <th>female1</th>\n",
       "      <th>female2</th>\n",
       "      <th>female3</th>\n",
       "      <th>male1</th>\n",
       "      <th>male2</th>\n",
       "      <th>male3</th>\n",
       "    </tr>\n",
       "  </thead>\n",
       "  <tbody>\n",
       "    <tr>\n",
       "      <th>0</th>\n",
       "      <td>0.0</td>\n",
       "      <td>3</td>\n",
       "      <td>22.0</td>\n",
       "      <td>1</td>\n",
       "      <td>0</td>\n",
       "      <td>7.2500</td>\n",
       "      <td>1</td>\n",
       "      <td>0</td>\n",
       "      <td>1</td>\n",
       "      <td>1</td>\n",
       "      <td>0</td>\n",
       "      <td>0</td>\n",
       "      <td>0</td>\n",
       "      <td>0</td>\n",
       "      <td>0</td>\n",
       "      <td>0</td>\n",
       "      <td>0</td>\n",
       "      <td>0</td>\n",
       "      <td>1</td>\n",
       "      <td>0</td>\n",
       "      <td>0</td>\n",
       "      <td>1</td>\n",
       "      <td>0</td>\n",
       "      <td>0</td>\n",
       "      <td>1</td>\n",
       "      <td>0</td>\n",
       "      <td>0</td>\n",
       "      <td>0</td>\n",
       "      <td>1</td>\n",
       "      <td>0</td>\n",
       "      <td>0</td>\n",
       "      <td>0</td>\n",
       "      <td>0</td>\n",
       "      <td>0</td>\n",
       "      <td>1</td>\n",
       "    </tr>\n",
       "    <tr>\n",
       "      <th>1</th>\n",
       "      <td>1.0</td>\n",
       "      <td>1</td>\n",
       "      <td>38.0</td>\n",
       "      <td>1</td>\n",
       "      <td>0</td>\n",
       "      <td>71.2833</td>\n",
       "      <td>1</td>\n",
       "      <td>1</td>\n",
       "      <td>1</td>\n",
       "      <td>1</td>\n",
       "      <td>0</td>\n",
       "      <td>0</td>\n",
       "      <td>1</td>\n",
       "      <td>0</td>\n",
       "      <td>0</td>\n",
       "      <td>0</td>\n",
       "      <td>0</td>\n",
       "      <td>0</td>\n",
       "      <td>0</td>\n",
       "      <td>1</td>\n",
       "      <td>0</td>\n",
       "      <td>0</td>\n",
       "      <td>0</td>\n",
       "      <td>0</td>\n",
       "      <td>0</td>\n",
       "      <td>1</td>\n",
       "      <td>0</td>\n",
       "      <td>1</td>\n",
       "      <td>0</td>\n",
       "      <td>1</td>\n",
       "      <td>0</td>\n",
       "      <td>0</td>\n",
       "      <td>0</td>\n",
       "      <td>0</td>\n",
       "      <td>0</td>\n",
       "    </tr>\n",
       "    <tr>\n",
       "      <th>2</th>\n",
       "      <td>1.0</td>\n",
       "      <td>3</td>\n",
       "      <td>26.0</td>\n",
       "      <td>0</td>\n",
       "      <td>0</td>\n",
       "      <td>7.9250</td>\n",
       "      <td>1</td>\n",
       "      <td>0</td>\n",
       "      <td>0</td>\n",
       "      <td>0</td>\n",
       "      <td>0</td>\n",
       "      <td>0</td>\n",
       "      <td>0</td>\n",
       "      <td>0</td>\n",
       "      <td>0</td>\n",
       "      <td>0</td>\n",
       "      <td>0</td>\n",
       "      <td>0</td>\n",
       "      <td>1</td>\n",
       "      <td>0</td>\n",
       "      <td>0</td>\n",
       "      <td>1</td>\n",
       "      <td>0</td>\n",
       "      <td>1</td>\n",
       "      <td>0</td>\n",
       "      <td>0</td>\n",
       "      <td>0</td>\n",
       "      <td>1</td>\n",
       "      <td>0</td>\n",
       "      <td>0</td>\n",
       "      <td>0</td>\n",
       "      <td>1</td>\n",
       "      <td>0</td>\n",
       "      <td>0</td>\n",
       "      <td>0</td>\n",
       "    </tr>\n",
       "    <tr>\n",
       "      <th>3</th>\n",
       "      <td>1.0</td>\n",
       "      <td>1</td>\n",
       "      <td>35.0</td>\n",
       "      <td>1</td>\n",
       "      <td>0</td>\n",
       "      <td>53.1000</td>\n",
       "      <td>1</td>\n",
       "      <td>1</td>\n",
       "      <td>1</td>\n",
       "      <td>1</td>\n",
       "      <td>0</td>\n",
       "      <td>0</td>\n",
       "      <td>1</td>\n",
       "      <td>0</td>\n",
       "      <td>0</td>\n",
       "      <td>0</td>\n",
       "      <td>0</td>\n",
       "      <td>0</td>\n",
       "      <td>0</td>\n",
       "      <td>0</td>\n",
       "      <td>0</td>\n",
       "      <td>1</td>\n",
       "      <td>0</td>\n",
       "      <td>0</td>\n",
       "      <td>0</td>\n",
       "      <td>1</td>\n",
       "      <td>0</td>\n",
       "      <td>1</td>\n",
       "      <td>0</td>\n",
       "      <td>1</td>\n",
       "      <td>0</td>\n",
       "      <td>0</td>\n",
       "      <td>0</td>\n",
       "      <td>0</td>\n",
       "      <td>0</td>\n",
       "    </tr>\n",
       "    <tr>\n",
       "      <th>4</th>\n",
       "      <td>0.0</td>\n",
       "      <td>3</td>\n",
       "      <td>35.0</td>\n",
       "      <td>0</td>\n",
       "      <td>0</td>\n",
       "      <td>8.0500</td>\n",
       "      <td>1</td>\n",
       "      <td>0</td>\n",
       "      <td>0</td>\n",
       "      <td>0</td>\n",
       "      <td>0</td>\n",
       "      <td>0</td>\n",
       "      <td>0</td>\n",
       "      <td>0</td>\n",
       "      <td>0</td>\n",
       "      <td>0</td>\n",
       "      <td>0</td>\n",
       "      <td>0</td>\n",
       "      <td>1</td>\n",
       "      <td>0</td>\n",
       "      <td>0</td>\n",
       "      <td>1</td>\n",
       "      <td>0</td>\n",
       "      <td>0</td>\n",
       "      <td>1</td>\n",
       "      <td>0</td>\n",
       "      <td>0</td>\n",
       "      <td>0</td>\n",
       "      <td>1</td>\n",
       "      <td>0</td>\n",
       "      <td>0</td>\n",
       "      <td>0</td>\n",
       "      <td>0</td>\n",
       "      <td>0</td>\n",
       "      <td>1</td>\n",
       "    </tr>\n",
       "  </tbody>\n",
       "</table>\n",
       "</div>"
      ],
      "text/plain": [
       "   Survived  Pclass   Age  SibSp  Parch     Fare  is_train  Cabins  familyNum  \\\n",
       "0       0.0       3  22.0      1      0   7.2500         1       0          1   \n",
       "1       1.0       1  38.0      1      0  71.2833         1       1          1   \n",
       "2       1.0       3  26.0      0      0   7.9250         1       0          0   \n",
       "3       1.0       1  35.0      1      0  53.1000         1       1          1   \n",
       "4       0.0       3  35.0      0      0   8.0500         1       0          0   \n",
       "\n",
       "   has_family  CabinA  CabinB  CabinC  CabinD  CabinE  CabinF  CabinG  CabinT  \\\n",
       "0           1       0       0       0       0       0       0       0       0   \n",
       "1           1       0       0       1       0       0       0       0       0   \n",
       "2           0       0       0       0       0       0       0       0       0   \n",
       "3           1       0       0       1       0       0       0       0       0   \n",
       "4           0       0       0       0       0       0       0       0       0   \n",
       "\n",
       "   CabinZ  EmbarkedC  EmbarkedQ  EmbarkedS  TitleMaster  TitleMiss  TitleMr  \\\n",
       "0       1          0          0          1            0          0        1   \n",
       "1       0          1          0          0            0          0        0   \n",
       "2       1          0          0          1            0          1        0   \n",
       "3       0          0          0          1            0          0        0   \n",
       "4       1          0          0          1            0          0        1   \n",
       "\n",
       "   TitleMrs  TitleRare  Sexfemale  Sexmale  female1  female2  female3  male1  \\\n",
       "0         0          0          0        1        0        0        0      0   \n",
       "1         1          0          1        0        1        0        0      0   \n",
       "2         0          0          1        0        0        0        1      0   \n",
       "3         1          0          1        0        1        0        0      0   \n",
       "4         0          0          0        1        0        0        0      0   \n",
       "\n",
       "   male2  male3  \n",
       "0      0      1  \n",
       "1      0      0  \n",
       "2      0      0  \n",
       "3      0      0  \n",
       "4      0      1  "
      ]
     },
     "execution_count": 334,
     "metadata": {},
     "output_type": "execute_result"
    }
   ],
   "source": [
    "data.head()"
   ]
  },
  {
   "cell_type": "markdown",
   "id": "37069803",
   "metadata": {},
   "source": [
    "# 数据预处理\n",
    "## 数据预处理"
   ]
  },
  {
   "cell_type": "code",
   "execution_count": 3,
   "id": "8fb584f7",
   "metadata": {
    "ExecuteTime": {
     "end_time": "2022-05-23T12:39:17.101082Z",
     "start_time": "2022-05-23T12:39:17.058719Z"
    }
   },
   "outputs": [],
   "source": [
    "data['Fare']=data['Fare'].fillna(data['Fare'].median())# 有一个空值，中位数填充\n",
    "\n",
    "data['Embarked']=data['Embarked'].fillna(\"S\")# 就2个缺失值，填充了众数\n",
    "\n",
    "# Cabin只有204个非空值\n",
    "data['Cabins']=data['Cabin'].apply(lambda x:2 if len(str(x))>4 else(1 if pd.notna(x) else 0) )\n",
    "data['Cabin']=data['Cabin'].str[:1]\n",
    "data['Cabin']=data['Cabin'].fillna(\"Z\")\n",
    "\n",
    "# ticket比较复杂，先算了\n",
    "# train['Ticket'].apply(lambda x:x.split(\" \")[0]).value_counts()\n",
    "\n",
    "data['Title']=data['Name'].str.extract(' ([A-Za-z]+)\\.', expand=False)\n",
    "data['Title'] = data['Title'].replace(['Lady', 'Countess','Capt','Don','Col','Dr','Rev', 'Major', 'Sir', 'Jonkheer', 'Dona'], 'Rare')\n",
    "data['Title'] = data['Title'].replace('Mlle', 'Miss')\n",
    "data['Title'] = data['Title'].replace('Ms', 'Miss')\n",
    "data['Title'] = data['Title'].replace('Mme', 'Mrs')\n",
    "\n",
    "data['familyNum']=data['SibSp']+data['Parch']\n",
    "data['has_family']=data['familyNum'].apply(lambda x:1 if x>0 else 0)\n",
    "\n",
    "data=data.drop(['Name','Ticket','PassengerId'],axis=1)"
   ]
  },
  {
   "cell_type": "code",
   "execution_count": 55,
   "id": "f2ff5799",
   "metadata": {
    "ExecuteTime": {
     "end_time": "2022-05-16T14:22:36.042691Z",
     "start_time": "2022-05-16T14:22:36.026390Z"
    }
   },
   "outputs": [],
   "source": [
    "# ohe = OneHotEncoder(handle_unknown='ignore')\n",
    "\n",
    "# ohe.fit(train[['Cabin','Embarked','Title','Sex']])#训练规则\n",
    "# feature_names=ohe.get_feature_names(['Cabin','Embarked','Title','Sex'])#获取编码后的特征名\n",
    "# data_train_onehot=pd.DataFrame(ohe.transform(train[['Cabin','Embarked','Title','Sex']]).toarray(),columns=feature_names)#应用规则在训练集上\n",
    " \n",
    "# data_new_onehot=pd.DataFrame(ohe.transform(test[['Cabin','Embarked','Title','Sex']]).toarray(),columns=feature_names)#应用规则在预测集上"
   ]
  },
  {
   "cell_type": "code",
   "execution_count": null,
   "id": "39305df6",
   "metadata": {},
   "outputs": [],
   "source": [
    "for col in ['Cabin','Embarked','Title','Sex']:\n",
    "    df=pd.get_dummies(data[col],sparse=True)\n",
    "    for c in df.columns:\n",
    "        df.rename(columns={c:col+c},inplace=True)\n",
    "    data=pd.concat([data.drop([col],axis=1),df],axis=1)\n",
    "\n",
    "# df=pd.get_dummies(data['SexPclass'],sparse=True)\n",
    "# data=pd.concat([data.drop(['SexPclass'],axis=1),df],axis=1)\n",
    "\n",
    "# data=data.drop(['CabinA','CabinD','CabinF','CabinG','CabinT','Sexmale'],axis=1)"
   ]
  },
  {
   "cell_type": "markdown",
   "id": "1c474266",
   "metadata": {},
   "source": [
    "## 预测测试集是否生存，用来填充缺失值"
   ]
  },
  {
   "cell_type": "code",
   "execution_count": 6,
   "id": "ef97fd2f",
   "metadata": {
    "ExecuteTime": {
     "end_time": "2022-05-23T12:40:22.013534Z",
     "start_time": "2022-05-23T12:40:21.990531Z"
    }
   },
   "outputs": [],
   "source": [
    "X_train=np.array(data[data['is_train']==1].drop(['Survived','is_train'],axis=1))\n",
    "y_train=np.array(data[data['is_train']==1]['Survived'])\n",
    "X_test=np.array(data[data['is_train']==0].drop(['Survived','is_train'],axis=1))"
   ]
  },
  {
   "cell_type": "code",
   "execution_count": 7,
   "id": "f7435ea4",
   "metadata": {
    "ExecuteTime": {
     "end_time": "2022-05-23T12:40:25.697002Z",
     "start_time": "2022-05-23T12:40:24.869690Z"
    }
   },
   "outputs": [
    {
     "name": "stdout",
     "output_type": "stream",
     "text": [
      "0 th fold： 0.8044692737430168\n",
      "1 th fold： 0.7696629213483146\n",
      "2 th fold： 0.8033707865168539\n",
      "3 th fold： 0.9101123595505618\n",
      "4 th fold： 0.8539325842696629\n",
      "avg score=  0.8283095850856821\n"
     ]
    }
   ],
   "source": [
    "from lightgbm import LGBMClassifier\n",
    "\n",
    "best_model=None\n",
    "folds=5\n",
    "avg_score=0\n",
    "best_score=0\n",
    "result=np.zeros(418)\n",
    "\n",
    "kf=KFold(n_splits=folds,shuffle=True,random_state=2022)\n",
    "for i, (train_index,test_index) in enumerate(kf.split(X_train)):\n",
    "    lgb=LGBMClassifier(learning_rate=0.07,max_depth=32,n_estimators=70)\n",
    "    lgb.fit(X_train[train_index],y_train[train_index])\n",
    "    score=lgb.score(X_train[test_index],y_train[test_index])\n",
    "    print(i,'th fold：',score)\n",
    "    if best_score<score:\n",
    "        best_score=score\n",
    "        best_model=lgb    \n",
    "    avg_score+=score\n",
    "    result+=lgb.predict(X_test)\n",
    "avg_score/=folds\n",
    "result/=folds\n",
    "\n",
    "print(\"avg score= \",avg_score)"
   ]
  },
  {
   "cell_type": "code",
   "execution_count": 350,
   "id": "725f3559",
   "metadata": {
    "ExecuteTime": {
     "end_time": "2022-05-22T15:04:45.695536Z",
     "start_time": "2022-05-22T15:04:45.676420Z"
    }
   },
   "outputs": [
    {
     "data": {
      "text/plain": [
       "Index(['Pclass', 'Age', 'SibSp', 'Parch', 'Fare', 'Cabins', 'familyNum',\n",
       "       'has_family', 'CabinB', 'CabinC', 'CabinE', 'CabinZ', 'EmbarkedC',\n",
       "       'EmbarkedQ', 'EmbarkedS', 'TitleMaster', 'TitleMiss', 'TitleMr',\n",
       "       'TitleMrs', 'TitleRare', 'Sexfemale', 'female1', 'female2', 'female3',\n",
       "       'male1', 'male2', 'male3'],\n",
       "      dtype='object')"
      ]
     },
     "execution_count": 350,
     "metadata": {},
     "output_type": "execute_result"
    }
   ],
   "source": [
    "data[data['is_train']==1].drop(['Survived','is_train'],axis=1).columns# CabinA,CabinD,CabinF,CabinG,CabinT,Sexmale"
   ]
  },
  {
   "cell_type": "code",
   "execution_count": 351,
   "id": "f3c56fbd",
   "metadata": {
    "ExecuteTime": {
     "end_time": "2022-05-22T15:04:48.018231Z",
     "start_time": "2022-05-22T15:04:47.999232Z"
    }
   },
   "outputs": [
    {
     "data": {
      "text/plain": [
       "array([ 47, 711,  31,  30, 676,  22,  57,   1,   6,  18,   4,   5,  25,\n",
       "        10,  59,  15,  21,  26,  22,   6,  27,  17,  16,   8,   2,   9,\n",
       "        19])"
      ]
     },
     "execution_count": 351,
     "metadata": {},
     "output_type": "execute_result"
    }
   ],
   "source": [
    "lgb.feature_importances_"
   ]
  },
  {
   "cell_type": "markdown",
   "id": "daf5e2ce",
   "metadata": {},
   "source": [
    "## age缺失值填充\n",
    "### 用lgb预测"
   ]
  },
  {
   "cell_type": "code",
   "execution_count": 8,
   "id": "a3dbcd57",
   "metadata": {
    "ExecuteTime": {
     "end_time": "2022-05-23T12:40:40.810564Z",
     "start_time": "2022-05-23T12:40:40.794289Z"
    }
   },
   "outputs": [],
   "source": [
    "# X_test_pred=pd.read_csv(\"./result_20220522_ss.txt\").iloc[:,1]# 历史最好成绩survival预测成绩\n",
    "X_test_pred=best_model.predict(X_test)\n",
    "data.iloc[891:,0]=X_test_pred\n",
    "data=data.reset_index(drop=True)"
   ]
  },
  {
   "cell_type": "code",
   "execution_count": 9,
   "id": "b59992ef",
   "metadata": {
    "ExecuteTime": {
     "end_time": "2022-05-23T12:40:42.714679Z",
     "start_time": "2022-05-23T12:40:42.692586Z"
    }
   },
   "outputs": [],
   "source": [
    "data_age=data[data['Age'].notnull()]\n",
    "data_noAge=data[data['Age'].isnull()]\n",
    "\n",
    "X_train_age=np.array(data_age.drop(['is_train','Age'],axis=1))\n",
    "y_train_age=np.array(data_age['Age'])\n",
    "X_test_age=np.array(data_noAge.drop(['is_train','Age'],axis=1))"
   ]
  },
  {
   "cell_type": "code",
   "execution_count": 10,
   "id": "40b4839d",
   "metadata": {
    "ExecuteTime": {
     "end_time": "2022-05-23T12:40:45.261786Z",
     "start_time": "2022-05-23T12:40:45.220102Z"
    }
   },
   "outputs": [
    {
     "name": "stdout",
     "output_type": "stream",
     "text": [
      "0 th fold 0： 92.07688785077193\n",
      "0 th fold： 116.11721678928332\n",
      "1 th fold 0： 92.07857399680114\n",
      "1 th fold： 125.98550188876987\n",
      "2 th fold 0： 93.60144946658201\n",
      "2 th fold： 123.24232168543234\n",
      "3 th fold 0： 93.33004877316607\n",
      "3 th fold： 115.24514689872464\n",
      "4 th fold 0： 96.41907057424133\n",
      "4 th fold： 95.65952433752226\n",
      "avg score=  115.24994231994648\n"
     ]
    }
   ],
   "source": [
    "from lightgbm import LGBMRegressor\n",
    "from sklearn.metrics import mean_squared_error\n",
    "\n",
    "best_model=None\n",
    "folds=5\n",
    "avg_score=0\n",
    "best_score=0\n",
    "\n",
    "kf=KFold(n_splits=folds,shuffle=True,random_state=2022)\n",
    "for i, (train_index,test_index) in enumerate(kf.split(X_train_age)):\n",
    "    lgb=LGBMRegressor(learning_rate=0.5,max_depth=5,n_estimators=7)\n",
    "    lgb.fit(X_train_age[train_index],y_train_age[train_index])\n",
    "    \n",
    "    \n",
    "    pred=lgb.predict(X_train_age[train_index])\n",
    "    score0=mean_squared_error(pred,y_train_age[train_index])\n",
    "    print(i,'th fold 0：',score0)\n",
    "    \n",
    "    pred=lgb.predict(X_train_age[test_index])\n",
    "    score=mean_squared_error(pred,y_train_age[test_index])\n",
    "    print(i,'th fold：',score)\n",
    "    if best_score<score:\n",
    "        best_score=score\n",
    "        best_model=lgb    \n",
    "    avg_score+=score\n",
    "avg_score/=folds\n",
    "\n",
    "print(\"avg score= \",avg_score)"
   ]
  },
  {
   "cell_type": "code",
   "execution_count": 11,
   "id": "c7f02f22",
   "metadata": {
    "ExecuteTime": {
     "end_time": "2022-05-23T12:40:48.158723Z",
     "start_time": "2022-05-23T12:40:48.147249Z"
    }
   },
   "outputs": [],
   "source": [
    "age_pred=best_model.predict(X_test_age)\n",
    "data.iloc[data[data['Age'].isnull()].index,2]=age_pred"
   ]
  },
  {
   "cell_type": "markdown",
   "id": "3aa46d69",
   "metadata": {},
   "source": [
    "# 模型训练"
   ]
  },
  {
   "cell_type": "code",
   "execution_count": 12,
   "id": "06d652d2",
   "metadata": {
    "ExecuteTime": {
     "end_time": "2022-05-23T12:40:50.916437Z",
     "start_time": "2022-05-23T12:40:50.898432Z"
    }
   },
   "outputs": [],
   "source": [
    "X_train=np.array(data[data['is_train']==1].drop(['Survived','is_train'],axis=1))\n",
    "y_train=np.array(data[data['is_train']==1]['Survived'])\n",
    "X_test=np.array(data[data['is_train']==0].drop(['Survived','is_train'],axis=1))"
   ]
  },
  {
   "cell_type": "markdown",
   "id": "b61ecfd5",
   "metadata": {
    "ExecuteTime": {
     "end_time": "2022-05-15T14:23:20.498796Z",
     "start_time": "2022-05-15T14:23:20.486634Z"
    }
   },
   "source": [
    "## lgb"
   ]
  },
  {
   "cell_type": "code",
   "execution_count": 130,
   "id": "716f7630",
   "metadata": {
    "ExecuteTime": {
     "end_time": "2022-05-23T12:59:47.877823Z",
     "start_time": "2022-05-23T12:59:47.712579Z"
    }
   },
   "outputs": [
    {
     "name": "stdout",
     "output_type": "stream",
     "text": [
      "0 th fold： 0.8435754189944135\n",
      "1 th fold： 0.7865168539325843\n",
      "2 th fold： 0.8146067415730337\n",
      "3 th fold： 0.9044943820224719\n",
      "4 th fold： 0.8707865168539326\n",
      "avg score=  0.8439959826752872\n"
     ]
    }
   ],
   "source": [
    "from lightgbm import LGBMClassifier\n",
    "\n",
    "best_model=None\n",
    "folds=5\n",
    "best_score=0\n",
    "avg_score_lgb=0\n",
    "result_lgb=np.zeros(418)\n",
    "train_result_lgb=np.zeros(891)\n",
    "\n",
    "kf=KFold(n_splits=folds,shuffle=True,random_state=2022)\n",
    "for i, (train_index,test_index) in enumerate(kf.split(X_train)):\n",
    "    lgb=LGBMClassifier(learning_rate=0.06,max_depth=12,n_estimators=80)\n",
    "    lgb.fit(X_train[train_index],y_train[train_index])\n",
    "    score=lgb.score(X_train[test_index],y_train[test_index])\n",
    "    print(i,'th fold：',score)\n",
    "    if best_score<score:\n",
    "        best_score=score\n",
    "        best_model=lgb    \n",
    "        \n",
    "    avg_score_lgb+=score\n",
    "    result_lgb+=lgb.predict_proba(X_test)[:,1]\n",
    "    train_result_lgb[test_index]=lgb.predict_proba(X_train[test_index])[:,1]\n",
    "    \n",
    "avg_score_lgb/=folds\n",
    "result_lgb/=folds\n",
    "\n",
    "print(\"avg score= \",avg_score_lgb)"
   ]
  },
  {
   "cell_type": "markdown",
   "id": "6c9a8382",
   "metadata": {},
   "source": [
    "## xgb"
   ]
  },
  {
   "cell_type": "code",
   "execution_count": 148,
   "id": "9beeed47",
   "metadata": {
    "ExecuteTime": {
     "end_time": "2022-05-23T13:04:09.002816Z",
     "start_time": "2022-05-23T13:04:08.573999Z"
    },
    "scrolled": true
   },
   "outputs": [
    {
     "name": "stdout",
     "output_type": "stream",
     "text": [
      "[21:04:08] WARNING: D:\\bld\\xgboost-split_1645118015404\\work\\src\\learner.cc:1115: Starting in XGBoost 1.3.0, the default evaluation metric used with the objective 'binary:logistic' was changed from 'error' to 'logloss'. Explicitly set eval_metric if you'd like to restore the old behavior.\n",
      "0 th fold： 0.8547486033519553\n",
      "[21:04:08] WARNING: D:\\bld\\xgboost-split_1645118015404\\work\\src\\learner.cc:1115: Starting in XGBoost 1.3.0, the default evaluation metric used with the objective 'binary:logistic' was changed from 'error' to 'logloss'. Explicitly set eval_metric if you'd like to restore the old behavior.\n",
      "1 th fold： 0.8202247191011236\n",
      "[21:04:08] WARNING: D:\\bld\\xgboost-split_1645118015404\\work\\src\\learner.cc:1115: Starting in XGBoost 1.3.0, the default evaluation metric used with the objective 'binary:logistic' was changed from 'error' to 'logloss'. Explicitly set eval_metric if you'd like to restore the old behavior.\n",
      "2 th fold： 0.8314606741573034\n",
      "[21:04:08] WARNING: D:\\bld\\xgboost-split_1645118015404\\work\\src\\learner.cc:1115: Starting in XGBoost 1.3.0, the default evaluation metric used with the objective 'binary:logistic' was changed from 'error' to 'logloss'. Explicitly set eval_metric if you'd like to restore the old behavior.\n",
      "3 th fold： 0.9101123595505618\n",
      "[21:04:08] WARNING: D:\\bld\\xgboost-split_1645118015404\\work\\src\\learner.cc:1115: Starting in XGBoost 1.3.0, the default evaluation metric used with the objective 'binary:logistic' was changed from 'error' to 'logloss'. Explicitly set eval_metric if you'd like to restore the old behavior.\n",
      "4 th fold： 0.8539325842696629\n",
      "avg score=  0.8540957880861214\n"
     ]
    }
   ],
   "source": [
    "from xgboost import XGBClassifier\n",
    "\n",
    "best_model=None\n",
    "folds=5\n",
    "best_score=0\n",
    "avg_score_xgb=0\n",
    "result_xgb=np.zeros(418)\n",
    "train_result_xgb=np.zeros(891)\n",
    "\n",
    "kf=KFold(n_splits=folds,shuffle=True,random_state=2022)\n",
    "for i, (train_index,test_index) in enumerate(kf.split(X_train)):\n",
    "    lgb=XGBClassifier(learning_rate=0.016,max_depth=16,n_estimators=73)\n",
    "    lgb.fit(X_train[train_index],y_train[train_index])\n",
    "    score=lgb.score(X_train[test_index],y_train[test_index])\n",
    "    print(i,'th fold：',score)\n",
    "    if best_score<score:\n",
    "        best_score=score\n",
    "        best_model=lgb    \n",
    "    avg_score_xgb+=score\n",
    "    result_xgb+=lgb.predict_proba(X_test)[:,1]\n",
    "    train_result_xgb[test_index]=lgb.predict_proba(X_train[test_index])[:,1]\n",
    "    \n",
    "avg_score_xgb/=folds\n",
    "result_xgb/=5\n",
    "\n",
    "print(\"avg score= \",avg_score_xgb)"
   ]
  },
  {
   "cell_type": "code",
   "execution_count": 143,
   "id": "218fd507",
   "metadata": {
    "ExecuteTime": {
     "end_time": "2022-05-23T13:03:05.776664Z",
     "start_time": "2022-05-23T13:03:05.762673Z"
    }
   },
   "outputs": [
    {
     "data": {
      "text/plain": [
       "(array([  4,  28,  32,  39,  68,  73,  86,  87,  90, 125, 138, 144, 148,\n",
       "        159, 165, 181, 192, 197, 283, 331, 344, 383, 404, 405], dtype=int64),)"
      ]
     },
     "execution_count": 143,
     "metadata": {},
     "output_type": "execute_result"
    }
   ],
   "source": [
    "best_line=pd.read_csv(\"./results/result_20220522_ss_gbt.txt\").iloc[:,1]\n",
    "np.where(np.round(result_xgb)!=best_line)"
   ]
  },
  {
   "cell_type": "markdown",
   "id": "207b82fe",
   "metadata": {},
   "source": [
    "## catboost"
   ]
  },
  {
   "cell_type": "code",
   "execution_count": 151,
   "id": "7be1c0a8",
   "metadata": {
    "ExecuteTime": {
     "end_time": "2022-05-23T13:05:03.530318Z",
     "start_time": "2022-05-23T13:05:02.837077Z"
    }
   },
   "outputs": [
    {
     "name": "stdout",
     "output_type": "stream",
     "text": [
      "0:\tlearn: 0.6085408\ttotal: 1.31ms\tremaining: 106ms\n",
      "1:\tlearn: 0.5650476\ttotal: 2.05ms\tremaining: 81.9ms\n",
      "2:\tlearn: 0.5234278\ttotal: 3.26ms\tremaining: 85.8ms\n",
      "3:\tlearn: 0.4820338\ttotal: 4.4ms\tremaining: 85.9ms\n",
      "4:\tlearn: 0.4559431\ttotal: 5.69ms\tremaining: 87.7ms\n",
      "5:\tlearn: 0.4392616\ttotal: 6.89ms\tremaining: 87.3ms\n",
      "6:\tlearn: 0.4226631\ttotal: 8.04ms\tremaining: 86.1ms\n",
      "7:\tlearn: 0.4102533\ttotal: 9.11ms\tremaining: 84.3ms\n",
      "8:\tlearn: 0.4015329\ttotal: 10.2ms\tremaining: 82.9ms\n",
      "9:\tlearn: 0.3970154\ttotal: 11.1ms\tremaining: 79.7ms\n",
      "10:\tlearn: 0.3892624\ttotal: 12.3ms\tremaining: 79.2ms\n",
      "11:\tlearn: 0.3803759\ttotal: 13.4ms\tremaining: 78.2ms\n",
      "12:\tlearn: 0.3784468\ttotal: 14ms\tremaining: 74.3ms\n",
      "13:\tlearn: 0.3766813\ttotal: 14.9ms\tremaining: 72.2ms\n",
      "14:\tlearn: 0.3715771\ttotal: 16ms\tremaining: 71.2ms\n",
      "15:\tlearn: 0.3653191\ttotal: 17ms\tremaining: 70.3ms\n",
      "16:\tlearn: 0.3593422\ttotal: 18ms\tremaining: 68.9ms\n",
      "17:\tlearn: 0.3525755\ttotal: 19.3ms\tremaining: 68.6ms\n",
      "18:\tlearn: 0.3500315\ttotal: 20.4ms\tremaining: 67.7ms\n",
      "19:\tlearn: 0.3481051\ttotal: 21.5ms\tremaining: 66.7ms\n",
      "20:\tlearn: 0.3453088\ttotal: 22.8ms\tremaining: 66.2ms\n",
      "21:\tlearn: 0.3432282\ttotal: 23.6ms\tremaining: 64.4ms\n",
      "22:\tlearn: 0.3400733\ttotal: 24.9ms\tremaining: 63.8ms\n",
      "23:\tlearn: 0.3384602\ttotal: 26.1ms\tremaining: 63ms\n",
      "24:\tlearn: 0.3372419\ttotal: 27ms\tremaining: 61.6ms\n",
      "25:\tlearn: 0.3363066\ttotal: 28.1ms\tremaining: 60.5ms\n",
      "26:\tlearn: 0.3317255\ttotal: 29.3ms\tremaining: 59.8ms\n",
      "27:\tlearn: 0.3290346\ttotal: 30.5ms\tremaining: 58.8ms\n",
      "28:\tlearn: 0.3236011\ttotal: 31.6ms\tremaining: 57.8ms\n",
      "29:\tlearn: 0.3212656\ttotal: 33ms\tremaining: 57.1ms\n",
      "30:\tlearn: 0.3210121\ttotal: 33.6ms\tremaining: 55.2ms\n",
      "31:\tlearn: 0.3183431\ttotal: 34.7ms\tremaining: 54.3ms\n",
      "32:\tlearn: 0.3169071\ttotal: 35.9ms\tremaining: 53.4ms\n",
      "33:\tlearn: 0.3159959\ttotal: 37.1ms\tremaining: 52.3ms\n",
      "34:\tlearn: 0.3156465\ttotal: 37.7ms\tremaining: 50.7ms\n",
      "35:\tlearn: 0.3147577\ttotal: 38.9ms\tremaining: 49.8ms\n",
      "36:\tlearn: 0.3114492\ttotal: 40.2ms\tremaining: 48.9ms\n",
      "37:\tlearn: 0.3108932\ttotal: 41.4ms\tremaining: 47.9ms\n",
      "38:\tlearn: 0.3092149\ttotal: 42.5ms\tremaining: 46.9ms\n",
      "39:\tlearn: 0.3082387\ttotal: 43.6ms\tremaining: 45.8ms\n",
      "40:\tlearn: 0.3068616\ttotal: 44.8ms\tremaining: 44.8ms\n",
      "41:\tlearn: 0.3052627\ttotal: 46ms\tremaining: 43.8ms\n",
      "42:\tlearn: 0.3026665\ttotal: 47ms\tremaining: 42.6ms\n",
      "43:\tlearn: 0.2984417\ttotal: 48.1ms\tremaining: 41.6ms\n",
      "44:\tlearn: 0.2967206\ttotal: 49.4ms\tremaining: 40.6ms\n",
      "45:\tlearn: 0.2965476\ttotal: 50ms\tremaining: 39.1ms\n",
      "46:\tlearn: 0.2964534\ttotal: 50.6ms\tremaining: 37.7ms\n",
      "47:\tlearn: 0.2952015\ttotal: 51.7ms\tremaining: 36.6ms\n",
      "48:\tlearn: 0.2941450\ttotal: 52.6ms\tremaining: 35.5ms\n",
      "49:\tlearn: 0.2929074\ttotal: 53.6ms\tremaining: 34.3ms\n",
      "50:\tlearn: 0.2903757\ttotal: 54.5ms\tremaining: 33.1ms\n",
      "51:\tlearn: 0.2865029\ttotal: 55.5ms\tremaining: 32ms\n",
      "52:\tlearn: 0.2827776\ttotal: 56.5ms\tremaining: 30.9ms\n",
      "53:\tlearn: 0.2810359\ttotal: 57.4ms\tremaining: 29.8ms\n",
      "54:\tlearn: 0.2781086\ttotal: 58.5ms\tremaining: 28.7ms\n",
      "55:\tlearn: 0.2750564\ttotal: 59.5ms\tremaining: 27.6ms\n",
      "56:\tlearn: 0.2732923\ttotal: 60.5ms\tremaining: 26.5ms\n",
      "57:\tlearn: 0.2714450\ttotal: 61.5ms\tremaining: 25.5ms\n",
      "58:\tlearn: 0.2686918\ttotal: 62.6ms\tremaining: 24.4ms\n",
      "59:\tlearn: 0.2678200\ttotal: 63.5ms\tremaining: 23.3ms\n",
      "60:\tlearn: 0.2667426\ttotal: 64.6ms\tremaining: 22.2ms\n",
      "61:\tlearn: 0.2657086\ttotal: 65.6ms\tremaining: 21.2ms\n",
      "62:\tlearn: 0.2632427\ttotal: 66.6ms\tremaining: 20.1ms\n",
      "63:\tlearn: 0.2620416\ttotal: 67.7ms\tremaining: 19ms\n",
      "64:\tlearn: 0.2615722\ttotal: 68.7ms\tremaining: 18ms\n",
      "65:\tlearn: 0.2606772\ttotal: 69.6ms\tremaining: 16.9ms\n",
      "66:\tlearn: 0.2600138\ttotal: 70.6ms\tremaining: 15.8ms\n",
      "67:\tlearn: 0.2562434\ttotal: 72.1ms\tremaining: 14.8ms\n",
      "68:\tlearn: 0.2543132\ttotal: 73.1ms\tremaining: 13.8ms\n",
      "69:\tlearn: 0.2533522\ttotal: 74ms\tremaining: 12.7ms\n",
      "70:\tlearn: 0.2513642\ttotal: 75ms\tremaining: 11.6ms\n",
      "71:\tlearn: 0.2489972\ttotal: 75.9ms\tremaining: 10.5ms\n",
      "72:\tlearn: 0.2488426\ttotal: 76.9ms\tremaining: 9.48ms\n",
      "73:\tlearn: 0.2481064\ttotal: 77.8ms\tremaining: 8.41ms\n",
      "74:\tlearn: 0.2428929\ttotal: 78.8ms\tremaining: 7.36ms\n",
      "75:\tlearn: 0.2423142\ttotal: 79.8ms\tremaining: 6.3ms\n",
      "76:\tlearn: 0.2396479\ttotal: 80.8ms\tremaining: 5.25ms\n",
      "77:\tlearn: 0.2360588\ttotal: 81.8ms\tremaining: 4.2ms\n",
      "78:\tlearn: 0.2340259\ttotal: 82.8ms\tremaining: 3.14ms\n",
      "79:\tlearn: 0.2311733\ttotal: 83.7ms\tremaining: 2.09ms\n",
      "80:\tlearn: 0.2277563\ttotal: 84.7ms\tremaining: 1.04ms\n",
      "81:\tlearn: 0.2248648\ttotal: 85.7ms\tremaining: 0us\n",
      "0 th fold： 0.8268156424581006\n",
      "0:\tlearn: 0.6017651\ttotal: 1.15ms\tremaining: 92.9ms\n",
      "1:\tlearn: 0.5513907\ttotal: 1.82ms\tremaining: 72.9ms\n",
      "2:\tlearn: 0.5094938\ttotal: 2.82ms\tremaining: 74.2ms\n",
      "3:\tlearn: 0.4714959\ttotal: 3.78ms\tremaining: 73.7ms\n",
      "4:\tlearn: 0.4411538\ttotal: 4.73ms\tremaining: 72.8ms\n",
      "5:\tlearn: 0.4234824\ttotal: 5.7ms\tremaining: 72.2ms\n",
      "6:\tlearn: 0.4053833\ttotal: 6.82ms\tremaining: 73ms\n",
      "7:\tlearn: 0.3959963\ttotal: 7.82ms\tremaining: 72.3ms\n",
      "8:\tlearn: 0.3873876\ttotal: 8.8ms\tremaining: 71.4ms\n",
      "9:\tlearn: 0.3812200\ttotal: 9.58ms\tremaining: 69ms\n",
      "10:\tlearn: 0.3751509\ttotal: 10.6ms\tremaining: 68.4ms\n",
      "11:\tlearn: 0.3665501\ttotal: 11.7ms\tremaining: 68.1ms\n",
      "12:\tlearn: 0.3647071\ttotal: 12.2ms\tremaining: 64.9ms\n",
      "13:\tlearn: 0.3549322\ttotal: 13.2ms\tremaining: 64.2ms\n",
      "14:\tlearn: 0.3502276\ttotal: 14.2ms\tremaining: 63.4ms\n",
      "15:\tlearn: 0.3477534\ttotal: 15.2ms\tremaining: 62.6ms\n",
      "16:\tlearn: 0.3402824\ttotal: 16.2ms\tremaining: 62ms\n",
      "17:\tlearn: 0.3358615\ttotal: 17.2ms\tremaining: 61.1ms\n",
      "18:\tlearn: 0.3324593\ttotal: 18.2ms\tremaining: 60.2ms\n",
      "19:\tlearn: 0.3252253\ttotal: 19.1ms\tremaining: 59.4ms\n",
      "20:\tlearn: 0.3218566\ttotal: 20.1ms\tremaining: 58.4ms\n",
      "21:\tlearn: 0.3195992\ttotal: 21ms\tremaining: 57.4ms\n",
      "22:\tlearn: 0.3176104\ttotal: 22ms\tremaining: 56.4ms\n",
      "23:\tlearn: 0.3169521\ttotal: 22.7ms\tremaining: 54.9ms\n",
      "24:\tlearn: 0.3124798\ttotal: 23.7ms\tremaining: 54ms\n",
      "25:\tlearn: 0.3110292\ttotal: 24.6ms\tremaining: 53.1ms\n",
      "26:\tlearn: 0.3066613\ttotal: 25.6ms\tremaining: 52.2ms\n",
      "27:\tlearn: 0.3064990\ttotal: 26.1ms\tremaining: 50.3ms\n",
      "28:\tlearn: 0.3018980\ttotal: 27ms\tremaining: 49.4ms\n",
      "29:\tlearn: 0.3006473\ttotal: 28ms\tremaining: 48.5ms\n",
      "30:\tlearn: 0.2983965\ttotal: 28.9ms\tremaining: 47.6ms\n",
      "31:\tlearn: 0.2930533\ttotal: 29.9ms\tremaining: 46.7ms\n",
      "32:\tlearn: 0.2867504\ttotal: 30.9ms\tremaining: 45.8ms\n",
      "33:\tlearn: 0.2846178\ttotal: 31.8ms\tremaining: 44.9ms\n",
      "34:\tlearn: 0.2835983\ttotal: 32.7ms\tremaining: 43.9ms\n",
      "35:\tlearn: 0.2815339\ttotal: 33.7ms\tremaining: 43.1ms\n",
      "36:\tlearn: 0.2804035\ttotal: 34.4ms\tremaining: 41.9ms\n",
      "37:\tlearn: 0.2780475\ttotal: 35.4ms\tremaining: 41ms\n",
      "38:\tlearn: 0.2773962\ttotal: 36.4ms\tremaining: 40.1ms\n",
      "39:\tlearn: 0.2762722\ttotal: 37.4ms\tremaining: 39.3ms\n",
      "40:\tlearn: 0.2728915\ttotal: 38.4ms\tremaining: 38.4ms\n",
      "41:\tlearn: 0.2696452\ttotal: 39.4ms\tremaining: 37.6ms\n",
      "42:\tlearn: 0.2681469\ttotal: 40.4ms\tremaining: 36.6ms\n",
      "43:\tlearn: 0.2653999\ttotal: 41.4ms\tremaining: 35.7ms\n",
      "44:\tlearn: 0.2629285\ttotal: 42.3ms\tremaining: 34.8ms\n",
      "45:\tlearn: 0.2607637\ttotal: 43.5ms\tremaining: 34.1ms\n",
      "46:\tlearn: 0.2579101\ttotal: 44.8ms\tremaining: 33.3ms\n",
      "47:\tlearn: 0.2576114\ttotal: 45.7ms\tremaining: 32.4ms\n",
      "48:\tlearn: 0.2551481\ttotal: 46.8ms\tremaining: 31.5ms\n",
      "49:\tlearn: 0.2531499\ttotal: 47.7ms\tremaining: 30.5ms\n",
      "50:\tlearn: 0.2500566\ttotal: 48.7ms\tremaining: 29.6ms\n",
      "51:\tlearn: 0.2487211\ttotal: 49.8ms\tremaining: 28.7ms\n",
      "52:\tlearn: 0.2474811\ttotal: 50.8ms\tremaining: 27.8ms\n",
      "53:\tlearn: 0.2451420\ttotal: 51.7ms\tremaining: 26.8ms\n",
      "54:\tlearn: 0.2441052\ttotal: 52.7ms\tremaining: 25.9ms\n",
      "55:\tlearn: 0.2420992\ttotal: 53.7ms\tremaining: 24.9ms\n",
      "56:\tlearn: 0.2400662\ttotal: 54.7ms\tremaining: 24ms\n",
      "57:\tlearn: 0.2389526\ttotal: 55.6ms\tremaining: 23ms\n",
      "58:\tlearn: 0.2347603\ttotal: 56.6ms\tremaining: 22.1ms\n",
      "59:\tlearn: 0.2331785\ttotal: 57.5ms\tremaining: 21.1ms\n",
      "60:\tlearn: 0.2316771\ttotal: 58.5ms\tremaining: 20.1ms\n",
      "61:\tlearn: 0.2304393\ttotal: 59.5ms\tremaining: 19.2ms\n",
      "62:\tlearn: 0.2290707\ttotal: 61.2ms\tremaining: 18.4ms\n",
      "63:\tlearn: 0.2278604\ttotal: 63.3ms\tremaining: 17.8ms\n",
      "64:\tlearn: 0.2270905\ttotal: 65.6ms\tremaining: 17.2ms\n",
      "65:\tlearn: 0.2246066\ttotal: 67.1ms\tremaining: 16.3ms\n",
      "66:\tlearn: 0.2226736\ttotal: 68.3ms\tremaining: 15.3ms\n",
      "67:\tlearn: 0.2217480\ttotal: 69.4ms\tremaining: 14.3ms\n",
      "68:\tlearn: 0.2186718\ttotal: 70.4ms\tremaining: 13.3ms\n",
      "69:\tlearn: 0.2171823\ttotal: 71.4ms\tremaining: 12.2ms\n",
      "70:\tlearn: 0.2150337\ttotal: 72.4ms\tremaining: 11.2ms\n",
      "71:\tlearn: 0.2143071\ttotal: 73.4ms\tremaining: 10.2ms\n",
      "72:\tlearn: 0.2138495\ttotal: 74.4ms\tremaining: 9.17ms\n",
      "73:\tlearn: 0.2122673\ttotal: 75.5ms\tremaining: 8.17ms\n",
      "74:\tlearn: 0.2071564\ttotal: 76.6ms\tremaining: 7.15ms\n",
      "75:\tlearn: 0.2048087\ttotal: 77.6ms\tremaining: 6.12ms\n",
      "76:\tlearn: 0.2035859\ttotal: 78.6ms\tremaining: 5.1ms\n",
      "77:\tlearn: 0.2013558\ttotal: 79.6ms\tremaining: 4.08ms\n",
      "78:\tlearn: 0.1974689\ttotal: 80.7ms\tremaining: 3.06ms\n",
      "79:\tlearn: 0.1963345\ttotal: 81.8ms\tremaining: 2.04ms\n",
      "80:\tlearn: 0.1952093\ttotal: 82.9ms\tremaining: 1.02ms\n",
      "81:\tlearn: 0.1935906\ttotal: 83.9ms\tremaining: 0us\n",
      "1 th fold： 0.7921348314606742\n",
      "0:\tlearn: 0.6027333\ttotal: 1.12ms\tremaining: 90.6ms\n",
      "1:\tlearn: 0.5426243\ttotal: 2.16ms\tremaining: 86.4ms\n",
      "2:\tlearn: 0.5039310\ttotal: 3.15ms\tremaining: 82.8ms\n",
      "3:\tlearn: 0.4654517\ttotal: 4.07ms\tremaining: 79.4ms\n",
      "4:\tlearn: 0.4416917\ttotal: 5.01ms\tremaining: 77.1ms\n",
      "5:\tlearn: 0.4218803\ttotal: 5.95ms\tremaining: 75.4ms\n",
      "6:\tlearn: 0.4089190\ttotal: 6.87ms\tremaining: 73.7ms\n",
      "7:\tlearn: 0.4019777\ttotal: 7.6ms\tremaining: 70.3ms\n",
      "8:\tlearn: 0.3956811\ttotal: 8.51ms\tremaining: 69ms\n",
      "9:\tlearn: 0.3842023\ttotal: 9.45ms\tremaining: 68ms\n",
      "10:\tlearn: 0.3766275\ttotal: 10.4ms\tremaining: 66.9ms\n",
      "11:\tlearn: 0.3686929\ttotal: 11.3ms\tremaining: 66ms\n",
      "12:\tlearn: 0.3614599\ttotal: 12.3ms\tremaining: 65.1ms\n",
      "13:\tlearn: 0.3552113\ttotal: 13.2ms\tremaining: 64.2ms\n",
      "14:\tlearn: 0.3487368\ttotal: 14.1ms\tremaining: 63.2ms\n",
      "15:\tlearn: 0.3456534\ttotal: 15.1ms\tremaining: 62.1ms\n",
      "16:\tlearn: 0.3426574\ttotal: 16ms\tremaining: 61.1ms\n",
      "17:\tlearn: 0.3400202\ttotal: 16.9ms\tremaining: 60.2ms\n",
      "18:\tlearn: 0.3333950\ttotal: 17.9ms\tremaining: 59.2ms\n",
      "19:\tlearn: 0.3307214\ttotal: 18.8ms\tremaining: 58.3ms\n",
      "20:\tlearn: 0.3284832\ttotal: 19.5ms\tremaining: 56.7ms\n",
      "21:\tlearn: 0.3251235\ttotal: 20.5ms\tremaining: 55.8ms\n",
      "22:\tlearn: 0.3206687\ttotal: 21.4ms\tremaining: 54.8ms\n",
      "23:\tlearn: 0.3188842\ttotal: 22.3ms\tremaining: 53.9ms\n",
      "24:\tlearn: 0.3146484\ttotal: 23.2ms\tremaining: 52.9ms\n",
      "25:\tlearn: 0.3129829\ttotal: 24.1ms\tremaining: 52ms\n",
      "26:\tlearn: 0.3079089\ttotal: 25.1ms\tremaining: 51.1ms\n",
      "27:\tlearn: 0.3022628\ttotal: 26ms\tremaining: 50.2ms\n",
      "28:\tlearn: 0.2998283\ttotal: 27ms\tremaining: 49.3ms\n",
      "29:\tlearn: 0.2967500\ttotal: 27.9ms\tremaining: 48.3ms\n",
      "30:\tlearn: 0.2956477\ttotal: 28.8ms\tremaining: 47.4ms\n",
      "31:\tlearn: 0.2944760\ttotal: 29.7ms\tremaining: 46.5ms\n",
      "32:\tlearn: 0.2922447\ttotal: 30.6ms\tremaining: 45.5ms\n",
      "33:\tlearn: 0.2905954\ttotal: 31.6ms\tremaining: 44.6ms\n",
      "34:\tlearn: 0.2894820\ttotal: 32.5ms\tremaining: 43.7ms\n",
      "35:\tlearn: 0.2883440\ttotal: 33.6ms\tremaining: 42.9ms\n",
      "36:\tlearn: 0.2867908\ttotal: 34.6ms\tremaining: 42ms\n",
      "37:\tlearn: 0.2851898\ttotal: 35.6ms\tremaining: 41.2ms\n",
      "38:\tlearn: 0.2843434\ttotal: 36.6ms\tremaining: 40.3ms\n",
      "39:\tlearn: 0.2836758\ttotal: 37.6ms\tremaining: 39.4ms\n",
      "40:\tlearn: 0.2823795\ttotal: 38.5ms\tremaining: 38.5ms\n",
      "41:\tlearn: 0.2813813\ttotal: 39.5ms\tremaining: 37.6ms\n",
      "42:\tlearn: 0.2763876\ttotal: 40.4ms\tremaining: 36.7ms\n",
      "43:\tlearn: 0.2759182\ttotal: 41.3ms\tremaining: 35.7ms\n",
      "44:\tlearn: 0.2740708\ttotal: 42.3ms\tremaining: 34.8ms\n",
      "45:\tlearn: 0.2732243\ttotal: 43.2ms\tremaining: 33.8ms\n",
      "46:\tlearn: 0.2710451\ttotal: 44.2ms\tremaining: 32.9ms\n",
      "47:\tlearn: 0.2700086\ttotal: 45.1ms\tremaining: 31.9ms\n",
      "48:\tlearn: 0.2675989\ttotal: 46ms\tremaining: 31ms\n",
      "49:\tlearn: 0.2652254\ttotal: 47.1ms\tremaining: 30.1ms\n",
      "50:\tlearn: 0.2630955\ttotal: 48ms\tremaining: 29.2ms\n",
      "51:\tlearn: 0.2613985\ttotal: 49ms\tremaining: 28.3ms\n",
      "52:\tlearn: 0.2590244\ttotal: 50ms\tremaining: 27.3ms\n",
      "53:\tlearn: 0.2577337\ttotal: 50.9ms\tremaining: 26.4ms\n",
      "54:\tlearn: 0.2552889\ttotal: 51.8ms\tremaining: 25.4ms\n",
      "55:\tlearn: 0.2542962\ttotal: 52.7ms\tremaining: 24.5ms\n",
      "56:\tlearn: 0.2527204\ttotal: 53.6ms\tremaining: 23.5ms\n",
      "57:\tlearn: 0.2507667\ttotal: 54.5ms\tremaining: 22.5ms\n",
      "58:\tlearn: 0.2477148\ttotal: 55.4ms\tremaining: 21.6ms\n",
      "59:\tlearn: 0.2467331\ttotal: 56.4ms\tremaining: 20.7ms\n",
      "60:\tlearn: 0.2459926\ttotal: 57.4ms\tremaining: 19.8ms\n",
      "61:\tlearn: 0.2444123\ttotal: 58.3ms\tremaining: 18.8ms\n",
      "62:\tlearn: 0.2415522\ttotal: 59.3ms\tremaining: 17.9ms\n",
      "63:\tlearn: 0.2402125\ttotal: 60.2ms\tremaining: 16.9ms\n",
      "64:\tlearn: 0.2365090\ttotal: 61.2ms\tremaining: 16ms\n",
      "65:\tlearn: 0.2350693\ttotal: 62.2ms\tremaining: 15.1ms\n",
      "66:\tlearn: 0.2323563\ttotal: 63.1ms\tremaining: 14.1ms\n",
      "67:\tlearn: 0.2311079\ttotal: 64.1ms\tremaining: 13.2ms\n",
      "68:\tlearn: 0.2297608\ttotal: 65ms\tremaining: 12.2ms\n",
      "69:\tlearn: 0.2289100\ttotal: 65.9ms\tremaining: 11.3ms\n",
      "70:\tlearn: 0.2254662\ttotal: 66.8ms\tremaining: 10.4ms\n",
      "71:\tlearn: 0.2234830\ttotal: 67.7ms\tremaining: 9.41ms\n",
      "72:\tlearn: 0.2226516\ttotal: 68.6ms\tremaining: 8.46ms\n",
      "73:\tlearn: 0.2213120\ttotal: 69.6ms\tremaining: 7.52ms\n",
      "74:\tlearn: 0.2208569\ttotal: 70.5ms\tremaining: 6.58ms\n",
      "75:\tlearn: 0.2193877\ttotal: 71.4ms\tremaining: 5.64ms\n",
      "76:\tlearn: 0.2167377\ttotal: 72.3ms\tremaining: 4.7ms\n",
      "77:\tlearn: 0.2141470\ttotal: 73.3ms\tremaining: 3.76ms\n",
      "78:\tlearn: 0.2130963\ttotal: 74.2ms\tremaining: 2.82ms\n",
      "79:\tlearn: 0.2109169\ttotal: 75.2ms\tremaining: 1.88ms\n",
      "80:\tlearn: 0.2097001\ttotal: 76.1ms\tremaining: 939us\n",
      "81:\tlearn: 0.2081843\ttotal: 77.1ms\tremaining: 0us\n",
      "2 th fold： 0.8146067415730337\n"
     ]
    },
    {
     "name": "stdout",
     "output_type": "stream",
     "text": [
      "0:\tlearn: 0.6292978\ttotal: 13.9ms\tremaining: 1.12s\n",
      "1:\tlearn: 0.5736805\ttotal: 15.3ms\tremaining: 612ms\n",
      "2:\tlearn: 0.5294578\ttotal: 16.4ms\tremaining: 432ms\n",
      "3:\tlearn: 0.4908416\ttotal: 17.5ms\tremaining: 341ms\n",
      "4:\tlearn: 0.4704738\ttotal: 18.6ms\tremaining: 286ms\n",
      "5:\tlearn: 0.4626350\ttotal: 19ms\tremaining: 240ms\n",
      "6:\tlearn: 0.4451549\ttotal: 20ms\tremaining: 214ms\n",
      "7:\tlearn: 0.4302467\ttotal: 21ms\tremaining: 194ms\n",
      "8:\tlearn: 0.4210643\ttotal: 22ms\tremaining: 178ms\n",
      "9:\tlearn: 0.4170755\ttotal: 22.6ms\tremaining: 163ms\n",
      "10:\tlearn: 0.4069832\ttotal: 23.6ms\tremaining: 153ms\n",
      "11:\tlearn: 0.3996352\ttotal: 24.6ms\tremaining: 144ms\n",
      "12:\tlearn: 0.3941316\ttotal: 25.9ms\tremaining: 137ms\n",
      "13:\tlearn: 0.3892232\ttotal: 27.1ms\tremaining: 132ms\n",
      "14:\tlearn: 0.3866593\ttotal: 28.2ms\tremaining: 126ms\n",
      "15:\tlearn: 0.3820987\ttotal: 29.2ms\tremaining: 121ms\n",
      "16:\tlearn: 0.3799100\ttotal: 30.3ms\tremaining: 116ms\n",
      "17:\tlearn: 0.3748635\ttotal: 31.3ms\tremaining: 111ms\n",
      "18:\tlearn: 0.3697674\ttotal: 32.3ms\tremaining: 107ms\n",
      "19:\tlearn: 0.3669177\ttotal: 33.4ms\tremaining: 104ms\n",
      "20:\tlearn: 0.3659675\ttotal: 34.5ms\tremaining: 100ms\n",
      "21:\tlearn: 0.3620424\ttotal: 35.6ms\tremaining: 97.1ms\n",
      "22:\tlearn: 0.3597272\ttotal: 36.6ms\tremaining: 93.9ms\n",
      "23:\tlearn: 0.3566970\ttotal: 37.6ms\tremaining: 90.8ms\n",
      "24:\tlearn: 0.3524175\ttotal: 38.6ms\tremaining: 88ms\n",
      "25:\tlearn: 0.3508477\ttotal: 39.6ms\tremaining: 85.3ms\n",
      "26:\tlearn: 0.3490008\ttotal: 40.6ms\tremaining: 82.7ms\n",
      "27:\tlearn: 0.3478322\ttotal: 41.6ms\tremaining: 80.2ms\n",
      "28:\tlearn: 0.3438973\ttotal: 42.6ms\tremaining: 77.9ms\n",
      "29:\tlearn: 0.3419873\ttotal: 43.6ms\tremaining: 75.6ms\n",
      "30:\tlearn: 0.3407206\ttotal: 44.6ms\tremaining: 73.4ms\n",
      "31:\tlearn: 0.3382303\ttotal: 45.6ms\tremaining: 71.2ms\n",
      "32:\tlearn: 0.3360660\ttotal: 46.5ms\tremaining: 69.1ms\n",
      "33:\tlearn: 0.3344275\ttotal: 47.5ms\tremaining: 67.1ms\n",
      "34:\tlearn: 0.3324811\ttotal: 48.5ms\tremaining: 65.1ms\n",
      "35:\tlearn: 0.3311680\ttotal: 49.5ms\tremaining: 63.2ms\n",
      "36:\tlearn: 0.3299468\ttotal: 50.4ms\tremaining: 61.3ms\n",
      "37:\tlearn: 0.3287831\ttotal: 51.4ms\tremaining: 59.5ms\n",
      "38:\tlearn: 0.3279909\ttotal: 52.4ms\tremaining: 57.7ms\n",
      "39:\tlearn: 0.3240435\ttotal: 53.4ms\tremaining: 56.1ms\n",
      "40:\tlearn: 0.3226504\ttotal: 54.4ms\tremaining: 54.4ms\n",
      "41:\tlearn: 0.3209687\ttotal: 55.5ms\tremaining: 52.8ms\n",
      "42:\tlearn: 0.3201732\ttotal: 56.6ms\tremaining: 51.3ms\n",
      "43:\tlearn: 0.3177595\ttotal: 57.6ms\tremaining: 49.8ms\n",
      "44:\tlearn: 0.3146149\ttotal: 58.6ms\tremaining: 48.2ms\n",
      "45:\tlearn: 0.3127691\ttotal: 59.7ms\tremaining: 46.7ms\n",
      "46:\tlearn: 0.3102080\ttotal: 60.7ms\tremaining: 45.2ms\n",
      "47:\tlearn: 0.3044868\ttotal: 61.7ms\tremaining: 43.7ms\n",
      "48:\tlearn: 0.3011534\ttotal: 62.8ms\tremaining: 42.3ms\n",
      "49:\tlearn: 0.2967403\ttotal: 63.9ms\tremaining: 40.9ms\n",
      "50:\tlearn: 0.2939011\ttotal: 65ms\tremaining: 39.5ms\n",
      "51:\tlearn: 0.2925083\ttotal: 66ms\tremaining: 38.1ms\n",
      "52:\tlearn: 0.2916385\ttotal: 67ms\tremaining: 36.7ms\n",
      "53:\tlearn: 0.2909784\ttotal: 68.1ms\tremaining: 35.3ms\n",
      "54:\tlearn: 0.2892530\ttotal: 69.1ms\tremaining: 33.9ms\n",
      "55:\tlearn: 0.2861520\ttotal: 70.1ms\tremaining: 32.6ms\n",
      "56:\tlearn: 0.2835683\ttotal: 85ms\tremaining: 37.3ms\n",
      "57:\tlearn: 0.2828522\ttotal: 86ms\tremaining: 35.6ms\n",
      "58:\tlearn: 0.2812057\ttotal: 87ms\tremaining: 33.9ms\n",
      "59:\tlearn: 0.2767139\ttotal: 88ms\tremaining: 32.3ms\n",
      "60:\tlearn: 0.2759884\ttotal: 88.9ms\tremaining: 30.6ms\n",
      "61:\tlearn: 0.2740465\ttotal: 89.9ms\tremaining: 29ms\n",
      "62:\tlearn: 0.2734348\ttotal: 90.9ms\tremaining: 27.4ms\n",
      "63:\tlearn: 0.2729755\ttotal: 91.8ms\tremaining: 25.8ms\n",
      "64:\tlearn: 0.2707445\ttotal: 92.8ms\tremaining: 24.3ms\n",
      "65:\tlearn: 0.2686265\ttotal: 93.8ms\tremaining: 22.7ms\n",
      "66:\tlearn: 0.2678469\ttotal: 94.8ms\tremaining: 21.2ms\n",
      "67:\tlearn: 0.2674133\ttotal: 95.8ms\tremaining: 19.7ms\n",
      "68:\tlearn: 0.2659432\ttotal: 96.8ms\tremaining: 18.2ms\n",
      "69:\tlearn: 0.2655612\ttotal: 97.7ms\tremaining: 16.8ms\n",
      "70:\tlearn: 0.2644848\ttotal: 98.7ms\tremaining: 15.3ms\n",
      "71:\tlearn: 0.2625263\ttotal: 99.7ms\tremaining: 13.8ms\n",
      "72:\tlearn: 0.2620853\ttotal: 101ms\tremaining: 12.4ms\n",
      "73:\tlearn: 0.2599025\ttotal: 102ms\tremaining: 11ms\n",
      "74:\tlearn: 0.2587356\ttotal: 103ms\tremaining: 9.57ms\n",
      "75:\tlearn: 0.2552213\ttotal: 104ms\tremaining: 8.18ms\n",
      "76:\tlearn: 0.2549830\ttotal: 105ms\tremaining: 6.79ms\n",
      "77:\tlearn: 0.2537958\ttotal: 106ms\tremaining: 5.41ms\n",
      "78:\tlearn: 0.2520907\ttotal: 107ms\tremaining: 4.04ms\n",
      "79:\tlearn: 0.2513714\ttotal: 108ms\tremaining: 2.69ms\n",
      "80:\tlearn: 0.2508782\ttotal: 108ms\tremaining: 1.34ms\n",
      "81:\tlearn: 0.2469429\ttotal: 109ms\tremaining: 0us\n",
      "3 th fold： 0.9157303370786517\n",
      "0:\tlearn: 0.6102686\ttotal: 1.23ms\tremaining: 99.4ms\n",
      "1:\tlearn: 0.5677638\ttotal: 1.98ms\tremaining: 79.4ms\n",
      "2:\tlearn: 0.5214561\ttotal: 3.08ms\tremaining: 81.1ms\n",
      "3:\tlearn: 0.4851741\ttotal: 4.07ms\tremaining: 79.3ms\n",
      "4:\tlearn: 0.4665375\ttotal: 4.7ms\tremaining: 72.4ms\n",
      "5:\tlearn: 0.4469569\ttotal: 5.68ms\tremaining: 72ms\n",
      "6:\tlearn: 0.4338403\ttotal: 6.63ms\tremaining: 71.1ms\n",
      "7:\tlearn: 0.4247384\ttotal: 7.59ms\tremaining: 70.2ms\n",
      "8:\tlearn: 0.4181361\ttotal: 8.53ms\tremaining: 69.2ms\n",
      "9:\tlearn: 0.4052059\ttotal: 9.48ms\tremaining: 68.3ms\n",
      "10:\tlearn: 0.4005443\ttotal: 10.4ms\tremaining: 67.4ms\n",
      "11:\tlearn: 0.3917648\ttotal: 11.4ms\tremaining: 66.4ms\n",
      "12:\tlearn: 0.3815612\ttotal: 12.4ms\tremaining: 65.6ms\n",
      "13:\tlearn: 0.3754128\ttotal: 13.3ms\tremaining: 64.6ms\n",
      "14:\tlearn: 0.3710737\ttotal: 14.3ms\tremaining: 63.9ms\n",
      "15:\tlearn: 0.3665510\ttotal: 15.3ms\tremaining: 62.9ms\n",
      "16:\tlearn: 0.3646670\ttotal: 16.2ms\tremaining: 62ms\n",
      "17:\tlearn: 0.3613551\ttotal: 17.2ms\tremaining: 61.1ms\n",
      "18:\tlearn: 0.3598430\ttotal: 18.1ms\tremaining: 60.1ms\n",
      "19:\tlearn: 0.3567986\ttotal: 19.1ms\tremaining: 59.1ms\n",
      "20:\tlearn: 0.3551575\ttotal: 20ms\tremaining: 58.1ms\n",
      "21:\tlearn: 0.3522681\ttotal: 21ms\tremaining: 57.2ms\n",
      "22:\tlearn: 0.3494789\ttotal: 21.9ms\tremaining: 56.3ms\n",
      "23:\tlearn: 0.3466630\ttotal: 22.9ms\tremaining: 55.3ms\n",
      "24:\tlearn: 0.3435056\ttotal: 23.8ms\tremaining: 54.3ms\n",
      "25:\tlearn: 0.3392184\ttotal: 24.8ms\tremaining: 53.4ms\n",
      "26:\tlearn: 0.3389573\ttotal: 25.3ms\tremaining: 51.6ms\n",
      "27:\tlearn: 0.3387429\ttotal: 26.1ms\tremaining: 50.4ms\n",
      "28:\tlearn: 0.3315538\ttotal: 27.1ms\tremaining: 49.6ms\n",
      "29:\tlearn: 0.3286313\ttotal: 28.2ms\tremaining: 48.9ms\n",
      "30:\tlearn: 0.3254975\ttotal: 29.3ms\tremaining: 48.2ms\n",
      "31:\tlearn: 0.3238834\ttotal: 30.3ms\tremaining: 47.3ms\n",
      "32:\tlearn: 0.3232165\ttotal: 31.2ms\tremaining: 46.4ms\n",
      "33:\tlearn: 0.3218637\ttotal: 32.2ms\tremaining: 45.5ms\n",
      "34:\tlearn: 0.3209289\ttotal: 33.2ms\tremaining: 44.5ms\n",
      "35:\tlearn: 0.3166073\ttotal: 34.1ms\tremaining: 43.6ms\n",
      "36:\tlearn: 0.3156465\ttotal: 35.2ms\tremaining: 42.8ms\n",
      "37:\tlearn: 0.3155147\ttotal: 35.7ms\tremaining: 41.3ms\n",
      "38:\tlearn: 0.3109830\ttotal: 36.7ms\tremaining: 40.5ms\n",
      "39:\tlearn: 0.3091810\ttotal: 37.7ms\tremaining: 39.6ms\n",
      "40:\tlearn: 0.3067161\ttotal: 38.7ms\tremaining: 38.7ms\n",
      "41:\tlearn: 0.3055467\ttotal: 39.7ms\tremaining: 37.8ms\n",
      "42:\tlearn: 0.3040977\ttotal: 40.6ms\tremaining: 36.9ms\n",
      "43:\tlearn: 0.3018372\ttotal: 41.6ms\tremaining: 35.9ms\n",
      "44:\tlearn: 0.2981391\ttotal: 42.5ms\tremaining: 35ms\n",
      "45:\tlearn: 0.2959706\ttotal: 43.5ms\tremaining: 34.1ms\n",
      "46:\tlearn: 0.2949421\ttotal: 44.5ms\tremaining: 33.2ms\n",
      "47:\tlearn: 0.2938011\ttotal: 45.5ms\tremaining: 32.2ms\n",
      "48:\tlearn: 0.2925937\ttotal: 46.5ms\tremaining: 31.3ms\n",
      "49:\tlearn: 0.2919819\ttotal: 47.4ms\tremaining: 30.3ms\n",
      "50:\tlearn: 0.2913953\ttotal: 48.3ms\tremaining: 29.4ms\n",
      "51:\tlearn: 0.2913358\ttotal: 48.8ms\tremaining: 28.1ms\n",
      "52:\tlearn: 0.2905621\ttotal: 49.7ms\tremaining: 27.2ms\n",
      "53:\tlearn: 0.2877230\ttotal: 50.7ms\tremaining: 26.3ms\n",
      "54:\tlearn: 0.2853381\ttotal: 51.6ms\tremaining: 25.3ms\n",
      "55:\tlearn: 0.2842062\ttotal: 52.6ms\tremaining: 24.4ms\n",
      "56:\tlearn: 0.2824949\ttotal: 53.5ms\tremaining: 23.5ms\n",
      "57:\tlearn: 0.2801498\ttotal: 54.5ms\tremaining: 22.5ms\n",
      "58:\tlearn: 0.2774151\ttotal: 55.4ms\tremaining: 21.6ms\n",
      "59:\tlearn: 0.2756816\ttotal: 56.4ms\tremaining: 20.7ms\n",
      "60:\tlearn: 0.2744142\ttotal: 57.3ms\tremaining: 19.7ms\n",
      "61:\tlearn: 0.2740441\ttotal: 58.2ms\tremaining: 18.8ms\n",
      "62:\tlearn: 0.2735267\ttotal: 59.3ms\tremaining: 17.9ms\n",
      "63:\tlearn: 0.2719282\ttotal: 60.2ms\tremaining: 16.9ms\n",
      "64:\tlearn: 0.2710750\ttotal: 61.2ms\tremaining: 16ms\n",
      "65:\tlearn: 0.2684968\ttotal: 62.2ms\tremaining: 15.1ms\n",
      "66:\tlearn: 0.2675629\ttotal: 63.2ms\tremaining: 14.1ms\n",
      "67:\tlearn: 0.2641707\ttotal: 64.2ms\tremaining: 13.2ms\n",
      "68:\tlearn: 0.2635847\ttotal: 65.2ms\tremaining: 12.3ms\n",
      "69:\tlearn: 0.2617727\ttotal: 66.2ms\tremaining: 11.3ms\n",
      "70:\tlearn: 0.2611389\ttotal: 67.2ms\tremaining: 10.4ms\n",
      "71:\tlearn: 0.2606686\ttotal: 68.1ms\tremaining: 9.46ms\n",
      "72:\tlearn: 0.2591137\ttotal: 69ms\tremaining: 8.51ms\n",
      "73:\tlearn: 0.2583414\ttotal: 70ms\tremaining: 7.56ms\n",
      "74:\tlearn: 0.2550888\ttotal: 71ms\tremaining: 6.62ms\n",
      "75:\tlearn: 0.2541142\ttotal: 71.9ms\tremaining: 5.68ms\n",
      "76:\tlearn: 0.2505852\ttotal: 72.8ms\tremaining: 4.73ms\n",
      "77:\tlearn: 0.2479172\ttotal: 73.8ms\tremaining: 3.79ms\n",
      "78:\tlearn: 0.2465206\ttotal: 74.8ms\tremaining: 2.84ms\n",
      "79:\tlearn: 0.2451047\ttotal: 75.8ms\tremaining: 1.89ms\n",
      "80:\tlearn: 0.2420846\ttotal: 76.7ms\tremaining: 947us\n",
      "81:\tlearn: 0.2399115\ttotal: 77.7ms\tremaining: 0us\n",
      "4 th fold： 0.8539325842696629\n",
      "avg score=  0.8406440273680247\n"
     ]
    }
   ],
   "source": [
    "from catboost import CatBoostClassifier\n",
    "best_model=None\n",
    "folds=5\n",
    "best_score=0\n",
    "avg_score_cat=0\n",
    "result_cat=np.zeros(418)\n",
    "train_result_cat=np.zeros(891)\n",
    "\n",
    "kf=KFold(n_splits=folds,shuffle=True,random_state=2022)\n",
    "for i, (train_index,test_index) in enumerate(kf.split(X_train)):\n",
    "    lgb=CatBoostClassifier(learning_rate=0.13,n_estimators=82)\n",
    "    lgb.fit(X_train[train_index],y_train[train_index])\n",
    "    score=lgb.score(X_train[test_index],y_train[test_index])\n",
    "    print(i,'th fold：',score)\n",
    "    if best_score<score:\n",
    "        best_score=score\n",
    "        best_model=lgb    \n",
    "    avg_score_cat+=score\n",
    "    result_cat+=lgb.predict_proba(X_test)[:,1]\n",
    "    train_result_cat[test_index]=lgb.predict_proba(X_train[test_index])[:,1]\n",
    "    \n",
    "avg_score_cat/=folds\n",
    "result_cat/=5\n",
    "\n",
    "print(\"avg score= \",avg_score_cat)"
   ]
  },
  {
   "cell_type": "markdown",
   "id": "c9421d7a",
   "metadata": {},
   "source": [
    "## gbt"
   ]
  },
  {
   "cell_type": "code",
   "execution_count": 168,
   "id": "0de07f09",
   "metadata": {
    "ExecuteTime": {
     "end_time": "2022-05-23T13:12:07.833762Z",
     "start_time": "2022-05-23T13:12:07.054139Z"
    }
   },
   "outputs": [
    {
     "name": "stdout",
     "output_type": "stream",
     "text": [
      "0 th fold： 0.8324022346368715\n",
      "1 th fold： 0.7921348314606742\n",
      "2 th fold： 0.8089887640449438\n",
      "3 th fold： 0.9213483146067416\n",
      "4 th fold： 0.8539325842696629\n",
      "avg score=  0.8417613458037788\n"
     ]
    }
   ],
   "source": [
    "from sklearn.ensemble import GradientBoostingClassifier\n",
    "best_model=None\n",
    "folds=5\n",
    "best_score=0\n",
    "avg_score_gbt=0\n",
    "result_gbt=np.zeros(418)\n",
    "train_result_gbt=np.zeros(891)\n",
    "\n",
    "kf=KFold(n_splits=folds,shuffle=True,random_state=2022)\n",
    "for i, (train_index,test_index) in enumerate(kf.split(X_train)):\n",
    "    lgb=GradientBoostingClassifier(learning_rate=0.1,n_estimators=220)\n",
    "    lgb.fit(X_train[train_index],y_train[train_index])\n",
    "    score=lgb.score(X_train[test_index],y_train[test_index])\n",
    "    print(i,'th fold：',score)\n",
    "    if best_score<score:\n",
    "        best_score=score\n",
    "        best_model=lgb    \n",
    "    avg_score_gbt+=score\n",
    "    result_gbt+=lgb.predict_proba(X_test)[:,1]\n",
    "    train_result_gbt[test_index]=lgb.predict_proba(X_train[test_index])[:,1]\n",
    "    \n",
    "avg_score_gbt/=folds\n",
    "result_gbt/=folds\n",
    "\n",
    "print(\"avg score= \",avg_score_gbt)"
   ]
  },
  {
   "cell_type": "markdown",
   "id": "d161dd24",
   "metadata": {},
   "source": [
    "## RF"
   ]
  },
  {
   "cell_type": "code",
   "execution_count": 177,
   "id": "bb518fc5",
   "metadata": {
    "ExecuteTime": {
     "end_time": "2022-05-23T13:12:43.184767Z",
     "start_time": "2022-05-23T13:12:42.475167Z"
    }
   },
   "outputs": [
    {
     "name": "stdout",
     "output_type": "stream",
     "text": [
      "0 th fold： 0.8435754189944135\n",
      "1 th fold： 0.8202247191011236\n",
      "2 th fold： 0.8033707865168539\n",
      "3 th fold： 0.8820224719101124\n",
      "4 th fold： 0.8202247191011236\n",
      "avg score=  0.8338836231247253\n"
     ]
    }
   ],
   "source": [
    "from sklearn.ensemble import RandomForestClassifier\n",
    "best_model=None\n",
    "folds=5\n",
    "best_score=0\n",
    "avg_score_rf=0\n",
    "result_rf=np.zeros(418)\n",
    "train_result_rf=np.zeros(891)\n",
    "\n",
    "kf=KFold(n_splits=folds,shuffle=True,random_state=2022)\n",
    "for i, (train_index,test_index) in enumerate(kf.split(X_train)):\n",
    "    lgb=RandomForestClassifier(n_estimators=150,max_depth=5,min_samples_split=5,min_samples_leaf=3)\n",
    "    lgb.fit(X_train[train_index],y_train[train_index])\n",
    "    score=lgb.score(X_train[test_index],y_train[test_index])\n",
    "    print(i,'th fold：',score)\n",
    "    if best_score<score:\n",
    "        best_score=score\n",
    "        best_model=lgb    \n",
    "    avg_score_rf+=score\n",
    "    result_rf+=lgb.predict_proba(X_test)[:,1]\n",
    "    train_result_rf[test_index]=lgb.predict_proba(X_train[test_index])[:,1]\n",
    "    \n",
    "avg_score_rf/=folds\n",
    "result_rf/=folds\n",
    "\n",
    "print(\"avg score= \",avg_score_rf)"
   ]
  },
  {
   "cell_type": "markdown",
   "id": "6326d0f0",
   "metadata": {},
   "source": [
    "## lr"
   ]
  },
  {
   "cell_type": "code",
   "execution_count": 178,
   "id": "f978818e",
   "metadata": {
    "ExecuteTime": {
     "end_time": "2022-05-23T13:12:48.642343Z",
     "start_time": "2022-05-23T13:12:48.556445Z"
    }
   },
   "outputs": [
    {
     "name": "stdout",
     "output_type": "stream",
     "text": [
      "0 th fold： 0.8324022346368715\n",
      "1 th fold： 0.7808988764044944\n",
      "2 th fold： 0.797752808988764\n",
      "3 th fold： 0.8932584269662921\n",
      "4 th fold： 0.8146067415730337\n",
      "avg score=  0.8237838177138912\n"
     ]
    }
   ],
   "source": [
    "from sklearn.linear_model import LogisticRegression\n",
    "best_model=None\n",
    "folds=5\n",
    "best_score=0\n",
    "avg_score_lr=0\n",
    "result_lr=np.zeros(418)\n",
    "train_result_lr=np.zeros(891)\n",
    "\n",
    "kf=KFold(n_splits=folds,shuffle=True,random_state=2022)\n",
    "for i, (train_index,test_index) in enumerate(kf.split(X_train)):\n",
    "    lgb=LogisticRegression()\n",
    "    lgb.fit(X_train[train_index],y_train[train_index])\n",
    "    score=lgb.score(X_train[test_index],y_train[test_index])\n",
    "    print(i,'th fold：',score)\n",
    "    if best_score<score:\n",
    "        best_score=score\n",
    "        best_model=lgb    \n",
    "    avg_score_lr+=score\n",
    "    result_lr+=lgb.predict_proba(X_test)[:,1]\n",
    "    train_result_lr[test_index]=lgb.predict_proba(X_train[test_index])[:,1]\n",
    "    \n",
    "avg_score_lr/=folds\n",
    "result_lr/=folds\n",
    "\n",
    "print(\"avg score= \",avg_score_lr)"
   ]
  },
  {
   "cell_type": "markdown",
   "id": "28d7abe0",
   "metadata": {},
   "source": [
    "## SVC"
   ]
  },
  {
   "cell_type": "code",
   "execution_count": 202,
   "id": "257ef419",
   "metadata": {
    "ExecuteTime": {
     "end_time": "2022-05-23T13:13:54.014860Z",
     "start_time": "2022-05-23T13:13:53.900845Z"
    }
   },
   "outputs": [
    {
     "name": "stdout",
     "output_type": "stream",
     "text": [
      "0 th fold： 0.8268156424581006\n",
      "1 th fold： 0.8146067415730337\n",
      "2 th fold： 0.8033707865168539\n",
      "3 th fold： 0.8764044943820225\n",
      "4 th fold： 0.8089887640449438\n",
      "avg score=  0.8260372857949909\n"
     ]
    }
   ],
   "source": [
    "from sklearn.svm import LinearSVC\n",
    "\n",
    "best_model=None\n",
    "folds=5\n",
    "best_score=0\n",
    "avg_score_svc=0\n",
    "result_svc=np.zeros(418)\n",
    "train_result_svc=np.zeros(891)\n",
    "\n",
    "kf=KFold(n_splits=folds,shuffle=True,random_state=2022)\n",
    "for i, (train_index,test_index) in enumerate(kf.split(X_train)):\n",
    "    lgb=LinearSVC(C=0.12,tol=1e-4,max_iter=1000)\n",
    "    lgb.fit(X_train[train_index],y_train[train_index])\n",
    "    score=lgb.score(X_train[test_index],y_train[test_index])\n",
    "    print(i,'th fold：',score)\n",
    "    if best_score<score:\n",
    "        best_score=score\n",
    "        best_model=lgb    \n",
    "    avg_score_svc+=score\n",
    "    result_svc+=lgb.predict(X_test)\n",
    "    train_result_svc[test_index]=lgb.predict(X_train[test_index])\n",
    "    \n",
    "avg_score_svc/=folds\n",
    "result_svc/=folds\n",
    "\n",
    "print(\"avg score= \",avg_score_svc)"
   ]
  },
  {
   "cell_type": "markdown",
   "id": "8a1f175f",
   "metadata": {},
   "source": [
    "## knn"
   ]
  },
  {
   "cell_type": "code",
   "execution_count": 209,
   "id": "34f8f747",
   "metadata": {
    "ExecuteTime": {
     "end_time": "2022-05-23T13:14:20.138292Z",
     "start_time": "2022-05-23T13:14:20.048484Z"
    }
   },
   "outputs": [
    {
     "name": "stdout",
     "output_type": "stream",
     "text": [
      "0 th fold： 0.7486033519553073\n",
      "1 th fold： 0.8089887640449438\n",
      "2 th fold： 0.7415730337078652\n",
      "3 th fold： 0.8258426966292135\n",
      "4 th fold： 0.8033707865168539\n",
      "avg score=  0.7856757265708368\n"
     ]
    }
   ],
   "source": [
    "from sklearn.neighbors import KNeighborsClassifier\n",
    "\n",
    "best_model=None\n",
    "folds=5\n",
    "best_score=0\n",
    "avg_score_knn=0\n",
    "result_knn=np.zeros(418)\n",
    "train_result_knn=np.zeros(891)\n",
    "\n",
    "kf=KFold(n_splits=folds,shuffle=True,random_state=2022)\n",
    "for i, (train_index,test_index) in enumerate(kf.split(X_train)):\n",
    "    lgb=KNeighborsClassifier(n_neighbors=5,p=1)\n",
    "    lgb.fit(X_train[train_index],y_train[train_index])\n",
    "    score=lgb.score(X_train[test_index],y_train[test_index])\n",
    "    print(i,'th fold：',score)\n",
    "    if best_score<score:\n",
    "        best_score=score\n",
    "        best_model=lgb    \n",
    "    avg_score_knn+=score\n",
    "    result_knn+=lgb.predict_proba(X_test)[:,1]\n",
    "    train_result_knn[test_index]=lgb.predict_proba(X_train[test_index])[:,1]\n",
    "    \n",
    "avg_score_knn/=folds\n",
    "result_knn/=folds\n",
    "\n",
    "print(\"avg score= \",avg_score_knn)"
   ]
  },
  {
   "cell_type": "markdown",
   "id": "22406314",
   "metadata": {},
   "source": [
    "## perceptron"
   ]
  },
  {
   "cell_type": "code",
   "execution_count": 216,
   "id": "aa035203",
   "metadata": {
    "ExecuteTime": {
     "end_time": "2022-05-23T13:14:49.184481Z",
     "start_time": "2022-05-23T13:14:49.168533Z"
    }
   },
   "outputs": [
    {
     "name": "stdout",
     "output_type": "stream",
     "text": [
      "0 th fold： 0.7262569832402235\n",
      "1 th fold： 0.797752808988764\n",
      "2 th fold： 0.7471910112359551\n",
      "3 th fold： 0.8314606741573034\n",
      "4 th fold： 0.7640449438202247\n",
      "avg score=  0.7733412842884941\n"
     ]
    }
   ],
   "source": [
    "from sklearn.linear_model import Perceptron\n",
    "\n",
    "best_model=None\n",
    "folds=5\n",
    "best_score=0\n",
    "avg_score_pt=0\n",
    "result_pt=np.zeros(418)\n",
    "train_result_pt=np.zeros(891)\n",
    "\n",
    "kf=KFold(n_splits=folds,shuffle=True,random_state=2022)\n",
    "for i, (train_index,test_index) in enumerate(kf.split(X_train)):\n",
    "    lgb=Perceptron(penalty='l2',alpha=2e-6,max_iter=10,validation_fraction=0.1,n_iter_no_change=10,warm_start=True)\n",
    "    lgb.fit(X_train[train_index],y_train[train_index])\n",
    "    score=lgb.score(X_train[test_index],y_train[test_index])\n",
    "    print(i,'th fold：',score)\n",
    "    if best_score<score:\n",
    "        best_score=score\n",
    "        best_model=lgb    \n",
    "    avg_score_pt+=score\n",
    "    result_pt+=lgb.predict(X_test)\n",
    "    train_result_pt[test_index]=lgb.predict(X_train[test_index])\n",
    "    \n",
    "avg_score_pt/=folds\n",
    "result_pt/=folds\n",
    "\n",
    "print(\"avg score= \",avg_score_pt)"
   ]
  },
  {
   "cell_type": "markdown",
   "id": "b6dc6177",
   "metadata": {},
   "source": [
    "## SGD"
   ]
  },
  {
   "cell_type": "code",
   "execution_count": 227,
   "id": "91cf5045",
   "metadata": {
    "ExecuteTime": {
     "end_time": "2022-05-23T13:15:23.045507Z",
     "start_time": "2022-05-23T13:15:23.023308Z"
    }
   },
   "outputs": [
    {
     "name": "stdout",
     "output_type": "stream",
     "text": [
      "0 th fold： 0.7653631284916201\n",
      "1 th fold： 0.8202247191011236\n",
      "2 th fold： 0.7528089887640449\n",
      "3 th fold： 0.8202247191011236\n",
      "4 th fold： 0.7247191011235955\n",
      "avg score=  0.7766681313163015\n"
     ]
    }
   ],
   "source": [
    "from sklearn.linear_model import SGDClassifier\n",
    "\n",
    "best_model=None\n",
    "folds=5\n",
    "best_score=0\n",
    "avg_score_sgd=0\n",
    "result_sgd=np.zeros(418)\n",
    "train_result_sgd=np.zeros(891)\n",
    "\n",
    "kf=KFold(n_splits=folds,shuffle=True,random_state=2022)\n",
    "for i, (train_index,test_index) in enumerate(kf.split(X_train)):\n",
    "    lgb=SGDClassifier(loss='log',alpha=1e-3,max_iter=20,validation_fraction=0.1,n_iter_no_change=10,warm_start=True)\n",
    "#     lgb=SGDClassifier(penalty='l2',alpha=1e-5,max_iter=10,validation_fraction=0.1,n_iter_no_change=10,warm_start=True)\n",
    "    lgb.fit(X_train[train_index],y_train[train_index])\n",
    "    score=lgb.score(X_train[test_index],y_train[test_index])\n",
    "    print(i,'th fold：',score)\n",
    "    if best_score<score:\n",
    "        best_score=score\n",
    "        best_model=lgb    \n",
    "    avg_score_sgd+=score\n",
    "    result_sgd+=lgb.predict(X_test)\n",
    "    train_result_sgd[test_index]=lgb.predict(X_train[test_index])\n",
    "#     result_sgd+=lgb.predict_proba(X_test)[:,1]\n",
    "#     train_result_sgd[test_index]=lgb.predict_proba(X_train[test_index])[:,1]\n",
    "    \n",
    "avg_score_sgd/=folds\n",
    "result_sgd/=folds\n",
    "\n",
    "print(\"avg score= \",avg_score_sgd)"
   ]
  },
  {
   "cell_type": "markdown",
   "id": "b76c21cb",
   "metadata": {
    "ExecuteTime": {
     "end_time": "2022-05-19T12:55:33.942037Z",
     "start_time": "2022-05-19T12:55:33.936501Z"
    }
   },
   "source": [
    "## gp"
   ]
  },
  {
   "cell_type": "code",
   "execution_count": 228,
   "id": "3f8ee915",
   "metadata": {
    "ExecuteTime": {
     "end_time": "2022-05-23T13:15:29.836652Z",
     "start_time": "2022-05-23T13:15:28.885704Z"
    }
   },
   "outputs": [
    {
     "name": "stdout",
     "output_type": "stream",
     "text": [
      "0 th fold： 0.8156424581005587\n",
      "1 th fold： 0.7078651685393258\n",
      "2 th fold： 0.6910112359550562\n",
      "3 th fold： 0.7696629213483146\n",
      "4 th fold： 0.7134831460674157\n",
      "avg score=  0.739532986002134\n"
     ]
    }
   ],
   "source": [
    "from sklearn.gaussian_process import GaussianProcessClassifier\n",
    "\n",
    "best_model=None\n",
    "folds=5\n",
    "best_score=0\n",
    "avg_score_gp=0\n",
    "result_gp=np.zeros(418)\n",
    "train_result_gp=np.zeros(891)\n",
    "\n",
    "kf=KFold(n_splits=folds,shuffle=True,random_state=2022)\n",
    "for i, (train_index,test_index) in enumerate(kf.split(X_train)):\n",
    "    lgb=GaussianProcessClassifier()\n",
    "    lgb.fit(X_train[train_index],y_train[train_index])\n",
    "    score=lgb.score(X_train[test_index],y_train[test_index])\n",
    "    print(i,'th fold：',score)\n",
    "    if best_score<score:\n",
    "        best_score=score\n",
    "        best_model=lgb    \n",
    "    avg_score_gp+=score\n",
    "    result_gp+=lgb.predict_proba(X_test)[:,1]\n",
    "    train_result_gp[test_index]=lgb.predict_proba(X_train[test_index])[:,1]\n",
    "    \n",
    "avg_score_gp/=folds\n",
    "result_gp/=folds\n",
    "\n",
    "print(\"avg score= \",avg_score_gp)"
   ]
  },
  {
   "cell_type": "markdown",
   "id": "a119f069",
   "metadata": {},
   "source": [
    "##  bayes"
   ]
  },
  {
   "cell_type": "code",
   "execution_count": 229,
   "id": "6ba53436",
   "metadata": {
    "ExecuteTime": {
     "end_time": "2022-05-23T13:15:33.672899Z",
     "start_time": "2022-05-23T13:15:33.656895Z"
    }
   },
   "outputs": [
    {
     "name": "stdout",
     "output_type": "stream",
     "text": [
      "0 th fold： 0.8044692737430168\n",
      "1 th fold： 0.7921348314606742\n",
      "2 th fold： 0.7528089887640449\n",
      "3 th fold： 0.8595505617977528\n",
      "4 th fold： 0.7696629213483146\n",
      "avg score=  0.7957253154227606\n"
     ]
    }
   ],
   "source": [
    "from sklearn.naive_bayes import BernoulliNB\n",
    "\n",
    "best_model=None\n",
    "folds=5\n",
    "best_score=0\n",
    "avg_score_by=0\n",
    "result_by=np.zeros(418)\n",
    "train_result_by=np.zeros(891)\n",
    "\n",
    "kf=KFold(n_splits=folds,shuffle=True,random_state=2022)\n",
    "for i, (train_index,test_index) in enumerate(kf.split(X_train)):\n",
    "    lgb=BernoulliNB(alpha=20)\n",
    "    lgb.fit(X_train[train_index],y_train[train_index])\n",
    "    score=lgb.score(X_train[test_index],y_train[test_index])\n",
    "    print(i,'th fold：',score)\n",
    "    if best_score<score:\n",
    "        best_score=score\n",
    "        best_model=lgb    \n",
    "    avg_score_by+=score\n",
    "    result_by+=lgb.predict_proba(X_test)[:,1]\n",
    "    train_result_by[test_index]=lgb.predict_proba(X_train[test_index])[:,1]\n",
    "    \n",
    "avg_score_by/=folds\n",
    "result_by/=folds\n",
    "\n",
    "print(\"avg score= \",avg_score_by)"
   ]
  },
  {
   "cell_type": "markdown",
   "id": "e9a699bd",
   "metadata": {},
   "source": [
    "# 模型融合\n",
    "## 简单平均"
   ]
  },
  {
   "cell_type": "code",
   "execution_count": 230,
   "id": "467f63fd",
   "metadata": {
    "ExecuteTime": {
     "end_time": "2022-05-23T13:15:36.822252Z",
     "start_time": "2022-05-23T13:15:36.817247Z"
    }
   },
   "outputs": [],
   "source": [
    "result1=(result_lgb+result_xgb+result_cat+result_gbt+result_rf+result_lr+result_svc+result_knn+result_pt+result_sgd+result_gp+result_by)/12"
   ]
  },
  {
   "cell_type": "code",
   "execution_count": 198,
   "id": "b1290ac9",
   "metadata": {
    "ExecuteTime": {
     "end_time": "2022-05-22T14:31:51.431488Z",
     "start_time": "2022-05-22T14:31:51.419485Z"
    }
   },
   "outputs": [],
   "source": [
    "result1_round=np.round(result1)\n",
    "pd.DataFrame(data=np.c_[list(range(892,1310)),result1_round],columns=[\"PassengerId\",\"Survived\"],dtype=np.int64).to_csv('result_20220522_avg_bestSuvivalAge.txt',index=False,header=True)# 得分：0.73444"
   ]
  },
  {
   "cell_type": "code",
   "execution_count": 234,
   "id": "ec8257b1",
   "metadata": {
    "ExecuteTime": {
     "end_time": "2022-05-23T13:17:21.416538Z",
     "start_time": "2022-05-23T13:17:21.400302Z"
    }
   },
   "outputs": [
    {
     "data": {
      "text/plain": [
       "(array([ 19,  28,  34,  72,  75, 118, 142, 158, 225, 242, 252, 280, 316,\n",
       "        323, 347, 390, 412], dtype=int64),)"
      ]
     },
     "execution_count": 234,
     "metadata": {},
     "output_type": "execute_result"
    }
   ],
   "source": [
    "baseline=pd.read_csv(\"./results/result_20220519_avg.txt\").iloc[:,1]\n",
    "np.where(np.round(result1)!=baseline)"
   ]
  },
  {
   "cell_type": "markdown",
   "id": "db091f47",
   "metadata": {
    "ExecuteTime": {
     "end_time": "2022-05-19T13:19:21.761363Z",
     "start_time": "2022-05-19T13:19:21.744415Z"
    }
   },
   "source": [
    "## 加权平均"
   ]
  },
  {
   "cell_type": "code",
   "execution_count": 236,
   "id": "de33db61",
   "metadata": {
    "ExecuteTime": {
     "end_time": "2022-05-23T13:20:23.334662Z",
     "start_time": "2022-05-23T13:20:23.331576Z"
    }
   },
   "outputs": [],
   "source": [
    "result2=(avg_score_lgb*result_lgb\\\n",
    "        +avg_score_xgb*result_xgb\\\n",
    "        +avg_score_cat*result_cat\\\n",
    "        +avg_score_gbt*result_gbt\\\n",
    "        +avg_score_rf*result_rf\\\n",
    "        +avg_score_lr*result_lr\\\n",
    "        +avg_score_svc*result_svc\\\n",
    "        +avg_score_knn*result_knn\\\n",
    "        +avg_score_pt*result_pt\\\n",
    "        +avg_score_sgd*result_sgd\\\n",
    "        +avg_score_gp*result_gp\\\n",
    "        +avg_score_by*result_by)/(avg_score_lgb+avg_score_xgb+avg_score_cat+avg_score_gbt+avg_score_rf+avg_score_lr+avg_score_svc\\\n",
    "                                 +avg_score_knn+avg_score_pt+avg_score_sgd+avg_score_gp+avg_score_by)"
   ]
  },
  {
   "cell_type": "code",
   "execution_count": 237,
   "id": "bf7316bd",
   "metadata": {
    "ExecuteTime": {
     "end_time": "2022-05-23T13:20:53.371044Z",
     "start_time": "2022-05-23T13:20:53.353045Z"
    }
   },
   "outputs": [
    {
     "data": {
      "text/plain": [
       "(array([316], dtype=int64),)"
      ]
     },
     "execution_count": 237,
     "metadata": {},
     "output_type": "execute_result"
    }
   ],
   "source": [
    "np.where(np.round(result2)!=np.round(result1))# 简单平均和加权平均结果一样"
   ]
  },
  {
   "cell_type": "markdown",
   "id": "03c5d983",
   "metadata": {
    "ExecuteTime": {
     "end_time": "2022-05-19T13:44:02.002784Z",
     "start_time": "2022-05-19T13:44:01.996811Z"
    }
   },
   "source": [
    "## stacking"
   ]
  },
  {
   "cell_type": "code",
   "execution_count": 238,
   "id": "daaad518",
   "metadata": {
    "ExecuteTime": {
     "end_time": "2022-05-23T13:21:11.523298Z",
     "start_time": "2022-05-23T13:21:11.516354Z"
    }
   },
   "outputs": [],
   "source": [
    "train_stacking=np.c_[train_result_lgb,train_result_xgb,train_result_cat,train_result_gbt,train_result_rf,train_result_lr,train_result_svc,\\\n",
    "      train_result_knn,train_result_pt,train_result_sgd,train_result_gp,train_result_by]\n",
    "y_train_stacking=y_train.copy()\n",
    "test_stacking=np.c_[result_lgb,result_xgb,result_cat,result_gbt,result_rf,result_lr,result_svc,\\\n",
    "      result_knn,result_pt,result_sgd,result_gp,result_by]"
   ]
  },
  {
   "cell_type": "code",
   "execution_count": 333,
   "id": "3cb8d5ef",
   "metadata": {
    "ExecuteTime": {
     "end_time": "2022-05-22T12:37:42.199173Z",
     "start_time": "2022-05-22T12:37:42.193193Z"
    }
   },
   "outputs": [],
   "source": [
    "# 带上原数据的stacking\n",
    "train_stacking=np.c_[X_train,train_result_lgb,train_result_xgb,train_result_cat,train_result_gbt,train_result_rf,train_result_lr,train_result_svc,\\\n",
    "      train_result_knn,train_result_pt,train_result_sgd,train_result_gp,train_result_by]\n",
    "y_train_stacking=y_train.copy()\n",
    "test_stacking=np.c_[X_test,result_lgb,result_xgb,result_cat,result_gbt,result_rf,result_lr,result_svc,\\\n",
    "      result_knn,result_pt,result_sgd,result_gp,result_by]"
   ]
  },
  {
   "cell_type": "markdown",
   "id": "526d6253",
   "metadata": {},
   "source": [
    "### rf"
   ]
  },
  {
   "cell_type": "code",
   "execution_count": 239,
   "id": "d06f523e",
   "metadata": {
    "ExecuteTime": {
     "end_time": "2022-05-23T13:21:15.317284Z",
     "start_time": "2022-05-23T13:21:14.869010Z"
    }
   },
   "outputs": [
    {
     "name": "stdout",
     "output_type": "stream",
     "text": [
      "0 th fold： 0.8268156424581006\n",
      "1 th fold： 0.8033707865168539\n",
      "2 th fold： 0.8146067415730337\n",
      "3 th fold： 0.9157303370786517\n",
      "4 th fold： 0.848314606741573\n",
      "avg score=  0.8417676228736426\n"
     ]
    }
   ],
   "source": [
    "best_model=None\n",
    "folds=5\n",
    "best_score=0\n",
    "avg_score_rf_s=0\n",
    "result_rf_s=np.zeros(418)\n",
    "\n",
    "kf=KFold(n_splits=folds,shuffle=True,random_state=2022)\n",
    "for i, (train_index,test_index) in enumerate(kf.split(train_stacking)):\n",
    "    lgb=RandomForestClassifier(n_estimators=70,max_depth=8,min_samples_split=4,min_samples_leaf=3)\n",
    "    lgb.fit(train_stacking[train_index],y_train_stacking[train_index])\n",
    "    score=lgb.score(train_stacking[test_index],y_train_stacking[test_index])\n",
    "    print(i,'th fold：',score)\n",
    "    if best_score<score:\n",
    "        best_score=score\n",
    "        best_model=lgb    \n",
    "    avg_score_rf_s+=score\n",
    "    result_rf_s+=lgb.predict(test_stacking)\n",
    "    \n",
    "avg_score_rf_s/=folds\n",
    "result_rf_s/=folds\n",
    "\n",
    "print(\"avg score= \",avg_score_rf_s)"
   ]
  },
  {
   "cell_type": "code",
   "execution_count": 143,
   "id": "552a7d85",
   "metadata": {
    "ExecuteTime": {
     "end_time": "2022-05-22T04:34:58.302796Z",
     "start_time": "2022-05-22T04:34:58.290835Z"
    }
   },
   "outputs": [
    {
     "data": {
      "text/plain": [
       "(array([  4,   6,  19,  21,  32,  33,  36,  37,  86, 125, 138, 158, 159,\n",
       "        165, 169, 181, 192, 197, 199, 225, 242, 249, 252, 268, 280, 283,\n",
       "        293, 323, 347, 359, 367, 382, 383, 412], dtype=int64),)"
      ]
     },
     "execution_count": 143,
     "metadata": {},
     "output_type": "execute_result"
    }
   ],
   "source": [
    "np.where(np.round(result_rf_s)!=np.round(result1))"
   ]
  },
  {
   "cell_type": "code",
   "execution_count": 167,
   "id": "9ed40823",
   "metadata": {
    "ExecuteTime": {
     "end_time": "2022-05-20T14:05:49.358709Z",
     "start_time": "2022-05-20T14:05:49.347213Z"
    }
   },
   "outputs": [],
   "source": [
    "pd.DataFrame(data=np.c_[list(range(892,1310)),result_lr_s],columns=[\"PassengerId\",\"Survived\"],dtype=np.int64).to_csv('result_20220520_rf_s.txt',index=False,header=True)# 得分：0.73444"
   ]
  },
  {
   "cell_type": "markdown",
   "id": "8ff56c7e",
   "metadata": {},
   "source": [
    "### lr"
   ]
  },
  {
   "cell_type": "code",
   "execution_count": 240,
   "id": "a4a76f22",
   "metadata": {
    "ExecuteTime": {
     "end_time": "2022-05-23T13:21:18.813987Z",
     "start_time": "2022-05-23T13:21:18.777696Z"
    }
   },
   "outputs": [
    {
     "name": "stdout",
     "output_type": "stream",
     "text": [
      "0 th fold： 0.8379888268156425\n",
      "1 th fold： 0.7808988764044944\n",
      "2 th fold： 0.8202247191011236\n",
      "3 th fold： 0.9101123595505618\n",
      "4 th fold： 0.8426966292134831\n",
      "avg score=  0.8383842822170611\n"
     ]
    }
   ],
   "source": [
    "best_model=None\n",
    "folds=5\n",
    "best_score=0\n",
    "avg_score_lr_s=0\n",
    "result_lr_s=np.zeros(418)\n",
    "\n",
    "kf=KFold(n_splits=folds,shuffle=True,random_state=2022)\n",
    "for i, (train_index,test_index) in enumerate(kf.split(train_stacking)):\n",
    "    lgb=LogisticRegression()\n",
    "    lgb.fit(train_stacking[train_index],y_train_stacking[train_index])\n",
    "    score=lgb.score(train_stacking[test_index],y_train_stacking[test_index])\n",
    "    print(i,'th fold：',score)\n",
    "    if best_score<score:\n",
    "        best_score=score\n",
    "        best_model=lgb    \n",
    "    avg_score_lr_s+=score\n",
    "    result_lr_s+=lgb.predict(test_stacking)\n",
    "    \n",
    "avg_score_lr_s/=folds\n",
    "result_lr_s/=folds\n",
    "\n",
    "print(\"avg score= \",avg_score_lr_s)"
   ]
  },
  {
   "cell_type": "code",
   "execution_count": 145,
   "id": "6fe873c1",
   "metadata": {
    "ExecuteTime": {
     "end_time": "2022-05-22T04:35:11.798710Z",
     "start_time": "2022-05-22T04:35:11.790606Z"
    }
   },
   "outputs": [
    {
     "data": {
      "text/plain": [
       "(array([  6,  19,  28,  36,  37,  41, 138, 158, 165, 169, 225, 242, 249,\n",
       "        252, 268, 280, 283, 323, 347, 412], dtype=int64),)"
      ]
     },
     "execution_count": 145,
     "metadata": {},
     "output_type": "execute_result"
    }
   ],
   "source": [
    "np.where(np.round(result_lr_s)!=np.round(result1))"
   ]
  },
  {
   "cell_type": "markdown",
   "id": "f7e7a0a8",
   "metadata": {},
   "source": [
    "### lgb"
   ]
  },
  {
   "cell_type": "code",
   "execution_count": 241,
   "id": "04b1f9d0",
   "metadata": {
    "ExecuteTime": {
     "end_time": "2022-05-23T13:21:22.623034Z",
     "start_time": "2022-05-23T13:21:22.442842Z"
    }
   },
   "outputs": [
    {
     "name": "stdout",
     "output_type": "stream",
     "text": [
      "0 th fold： 0.8268156424581006\n",
      "1 th fold： 0.7865168539325843\n",
      "2 th fold： 0.8258426966292135\n",
      "3 th fold： 0.898876404494382\n",
      "4 th fold： 0.848314606741573\n",
      "avg score=  0.8372732408511707\n"
     ]
    }
   ],
   "source": [
    "best_model=None\n",
    "folds=5\n",
    "best_score=0\n",
    "avg_score_lgb_s=0\n",
    "result_lgb_s=np.zeros(418)\n",
    "\n",
    "kf=KFold(n_splits=folds,shuffle=True,random_state=2022)\n",
    "for i, (train_index,test_index) in enumerate(kf.split(train_stacking)):\n",
    "    lgb=LGBMClassifier(learning_rate=0.2,max_depth=10,n_estimators=100)\n",
    "    lgb.fit(train_stacking[train_index],y_train_stacking[train_index])\n",
    "    score=lgb.score(train_stacking[test_index],y_train_stacking[test_index])\n",
    "    print(i,'th fold：',score)\n",
    "    if best_score<score:\n",
    "        best_score=score\n",
    "        best_model=lgb    \n",
    "    avg_score_lgb_s+=score\n",
    "    result_lgb_s+=lgb.predict(test_stacking)\n",
    "    \n",
    "avg_score_lgb_s/=folds\n",
    "result_lgb_s/=folds\n",
    "\n",
    "print(\"avg score= \",avg_score_lgb_s)"
   ]
  },
  {
   "cell_type": "code",
   "execution_count": 457,
   "id": "f3992266",
   "metadata": {
    "ExecuteTime": {
     "end_time": "2022-05-22T12:49:59.090424Z",
     "start_time": "2022-05-22T12:49:59.077467Z"
    }
   },
   "outputs": [],
   "source": [
    "pd.DataFrame(data=np.c_[list(range(892,1310)),np.round(result_lgb_s)],columns=[\"PassengerId\",\"Survived\"],dtype=np.int64).to_csv('result_20220522_sso_lgb.txt',index=False,header=True)# 得分：0.73444"
   ]
  },
  {
   "cell_type": "code",
   "execution_count": 456,
   "id": "b10c11ad",
   "metadata": {
    "ExecuteTime": {
     "end_time": "2022-05-22T12:49:18.827801Z",
     "start_time": "2022-05-22T12:49:18.811857Z"
    }
   },
   "outputs": [
    {
     "data": {
      "text/plain": [
       "(array([  4,   6,  18,  19,  32,  33,  36,  37,  64,  72,  86,  87,  90,\n",
       "        125, 138, 153, 158, 159, 165, 169, 181, 192, 197, 199, 200, 202,\n",
       "        225, 242, 249, 252, 268, 273, 280, 283, 293, 344, 345, 347, 359,\n",
       "        367, 382, 383, 412], dtype=int64),)"
      ]
     },
     "execution_count": 456,
     "metadata": {},
     "output_type": "execute_result"
    }
   ],
   "source": [
    "np.where(np.round(result_lgb_s)!=np.round(result1))"
   ]
  },
  {
   "cell_type": "markdown",
   "id": "e4197ea1",
   "metadata": {},
   "source": [
    "### cat"
   ]
  },
  {
   "cell_type": "code",
   "execution_count": 242,
   "id": "5ccda9e8",
   "metadata": {
    "ExecuteTime": {
     "end_time": "2022-05-23T13:21:26.488430Z",
     "start_time": "2022-05-23T13:21:25.934921Z"
    }
   },
   "outputs": [
    {
     "name": "stdout",
     "output_type": "stream",
     "text": [
      "0:\tlearn: 0.6261120\ttotal: 3.82ms\tremaining: 263ms\n",
      "1:\tlearn: 0.5794638\ttotal: 4.95ms\tremaining: 168ms\n",
      "2:\tlearn: 0.5458153\ttotal: 6.28ms\tremaining: 140ms\n",
      "3:\tlearn: 0.5142316\ttotal: 7.24ms\tremaining: 119ms\n",
      "4:\tlearn: 0.4885095\ttotal: 8.29ms\tremaining: 108ms\n",
      "5:\tlearn: 0.4669942\ttotal: 9.24ms\tremaining: 98.5ms\n",
      "6:\tlearn: 0.4495646\ttotal: 10.1ms\tremaining: 90.6ms\n",
      "7:\tlearn: 0.4350862\ttotal: 10.9ms\tremaining: 84.3ms\n",
      "8:\tlearn: 0.4218912\ttotal: 11.7ms\tremaining: 79.1ms\n",
      "9:\tlearn: 0.4110226\ttotal: 12.3ms\tremaining: 73.6ms\n",
      "10:\tlearn: 0.4000356\ttotal: 13.1ms\tremaining: 70ms\n",
      "11:\tlearn: 0.3926617\ttotal: 13.9ms\tremaining: 67ms\n",
      "12:\tlearn: 0.3856142\ttotal: 14.7ms\tremaining: 64.3ms\n",
      "13:\tlearn: 0.3794251\ttotal: 15.5ms\tremaining: 61.9ms\n",
      "14:\tlearn: 0.3732273\ttotal: 16.3ms\tremaining: 59.8ms\n",
      "15:\tlearn: 0.3682686\ttotal: 17.1ms\tremaining: 57.8ms\n",
      "16:\tlearn: 0.3632503\ttotal: 17.9ms\tremaining: 55.9ms\n",
      "17:\tlearn: 0.3599870\ttotal: 18.7ms\tremaining: 54.1ms\n",
      "18:\tlearn: 0.3564826\ttotal: 19.5ms\tremaining: 52.5ms\n",
      "19:\tlearn: 0.3527742\ttotal: 20.4ms\tremaining: 50.9ms\n",
      "20:\tlearn: 0.3501694\ttotal: 21.5ms\tremaining: 50.1ms\n",
      "21:\tlearn: 0.3478431\ttotal: 22.3ms\tremaining: 48.7ms\n",
      "22:\tlearn: 0.3462484\ttotal: 23.2ms\tremaining: 47.4ms\n",
      "23:\tlearn: 0.3434102\ttotal: 24ms\tremaining: 46ms\n",
      "24:\tlearn: 0.3415107\ttotal: 24.8ms\tremaining: 44.7ms\n",
      "25:\tlearn: 0.3395284\ttotal: 25.7ms\tremaining: 43.5ms\n",
      "26:\tlearn: 0.3372468\ttotal: 26.5ms\tremaining: 42.2ms\n",
      "27:\tlearn: 0.3358796\ttotal: 27.3ms\tremaining: 41ms\n",
      "28:\tlearn: 0.3341223\ttotal: 28.2ms\tremaining: 39.8ms\n",
      "29:\tlearn: 0.3320083\ttotal: 29ms\tremaining: 38.7ms\n",
      "30:\tlearn: 0.3304150\ttotal: 29.8ms\tremaining: 37.5ms\n",
      "31:\tlearn: 0.3279083\ttotal: 30.6ms\tremaining: 36.4ms\n",
      "32:\tlearn: 0.3259853\ttotal: 31.5ms\tremaining: 35.3ms\n",
      "33:\tlearn: 0.3238674\ttotal: 32.4ms\tremaining: 34.4ms\n",
      "34:\tlearn: 0.3225853\ttotal: 33.4ms\tremaining: 33.4ms\n",
      "35:\tlearn: 0.3213161\ttotal: 34.4ms\tremaining: 32.5ms\n",
      "36:\tlearn: 0.3205959\ttotal: 35.4ms\tremaining: 31.6ms\n",
      "37:\tlearn: 0.3188614\ttotal: 36.6ms\tremaining: 30.8ms\n",
      "38:\tlearn: 0.3167825\ttotal: 37.8ms\tremaining: 30ms\n",
      "39:\tlearn: 0.3154362\ttotal: 38.7ms\tremaining: 29ms\n",
      "40:\tlearn: 0.3145665\ttotal: 39.5ms\tremaining: 27.9ms\n",
      "41:\tlearn: 0.3129916\ttotal: 40.3ms\tremaining: 26.9ms\n",
      "42:\tlearn: 0.3125317\ttotal: 41.2ms\tremaining: 25.9ms\n",
      "43:\tlearn: 0.3103151\ttotal: 42.1ms\tremaining: 24.9ms\n",
      "44:\tlearn: 0.3088818\ttotal: 43ms\tremaining: 23.9ms\n",
      "45:\tlearn: 0.3076988\ttotal: 43.9ms\tremaining: 22.9ms\n",
      "46:\tlearn: 0.3074429\ttotal: 44.8ms\tremaining: 21.9ms\n",
      "47:\tlearn: 0.3062226\ttotal: 45.7ms\tremaining: 20.9ms\n",
      "48:\tlearn: 0.3039393\ttotal: 46.6ms\tremaining: 20ms\n",
      "49:\tlearn: 0.3032979\ttotal: 47.6ms\tremaining: 19ms\n",
      "50:\tlearn: 0.3021994\ttotal: 48.6ms\tremaining: 18.1ms\n",
      "51:\tlearn: 0.3005106\ttotal: 49.6ms\tremaining: 17.2ms\n",
      "52:\tlearn: 0.2978925\ttotal: 50.6ms\tremaining: 16.2ms\n",
      "53:\tlearn: 0.2966309\ttotal: 51.7ms\tremaining: 15.3ms\n",
      "54:\tlearn: 0.2956994\ttotal: 52.7ms\tremaining: 14.4ms\n",
      "55:\tlearn: 0.2932987\ttotal: 53.7ms\tremaining: 13.4ms\n",
      "56:\tlearn: 0.2917266\ttotal: 54.6ms\tremaining: 12.5ms\n",
      "57:\tlearn: 0.2905337\ttotal: 55.6ms\tremaining: 11.5ms\n",
      "58:\tlearn: 0.2904277\ttotal: 56.5ms\tremaining: 10.5ms\n",
      "59:\tlearn: 0.2882331\ttotal: 57.3ms\tremaining: 9.55ms\n",
      "60:\tlearn: 0.2873525\ttotal: 58.2ms\tremaining: 8.59ms\n",
      "61:\tlearn: 0.2865405\ttotal: 59.2ms\tremaining: 7.63ms\n",
      "62:\tlearn: 0.2852910\ttotal: 60.1ms\tremaining: 6.67ms\n",
      "63:\tlearn: 0.2843464\ttotal: 60.9ms\tremaining: 5.71ms\n",
      "64:\tlearn: 0.2841293\ttotal: 61.7ms\tremaining: 4.75ms\n",
      "65:\tlearn: 0.2823726\ttotal: 62.6ms\tremaining: 3.79ms\n",
      "66:\tlearn: 0.2807033\ttotal: 63.4ms\tremaining: 2.84ms\n",
      "67:\tlearn: 0.2796157\ttotal: 64.3ms\tremaining: 1.89ms\n",
      "68:\tlearn: 0.2784891\ttotal: 65.3ms\tremaining: 945us\n",
      "69:\tlearn: 0.2782013\ttotal: 66.3ms\tremaining: 0us\n",
      "0 th fold： 0.8379888268156425\n",
      "0:\tlearn: 0.6213557\ttotal: 4.48ms\tremaining: 309ms\n",
      "1:\tlearn: 0.5702985\ttotal: 5.47ms\tremaining: 186ms\n",
      "2:\tlearn: 0.5299161\ttotal: 6.35ms\tremaining: 142ms\n",
      "3:\tlearn: 0.4971079\ttotal: 7.25ms\tremaining: 120ms\n",
      "4:\tlearn: 0.4703784\ttotal: 8.14ms\tremaining: 106ms\n",
      "5:\tlearn: 0.4493098\ttotal: 9.04ms\tremaining: 96.5ms\n",
      "6:\tlearn: 0.4306758\ttotal: 9.92ms\tremaining: 89.3ms\n",
      "7:\tlearn: 0.4150365\ttotal: 10.8ms\tremaining: 83.8ms\n",
      "8:\tlearn: 0.4010094\ttotal: 11.7ms\tremaining: 79.1ms\n",
      "9:\tlearn: 0.3904726\ttotal: 12.5ms\tremaining: 75.2ms\n",
      "10:\tlearn: 0.3809836\ttotal: 13.4ms\tremaining: 71.9ms\n",
      "11:\tlearn: 0.3716857\ttotal: 14.3ms\tremaining: 69.2ms\n",
      "12:\tlearn: 0.3641582\ttotal: 15.2ms\tremaining: 66.7ms\n",
      "13:\tlearn: 0.3561634\ttotal: 16.1ms\tremaining: 64.5ms\n",
      "14:\tlearn: 0.3506487\ttotal: 16.9ms\tremaining: 62ms\n",
      "15:\tlearn: 0.3460362\ttotal: 17.9ms\tremaining: 60.3ms\n",
      "16:\tlearn: 0.3414591\ttotal: 18.7ms\tremaining: 58.4ms\n",
      "17:\tlearn: 0.3382145\ttotal: 19.6ms\tremaining: 56.7ms\n",
      "18:\tlearn: 0.3357879\ttotal: 20.5ms\tremaining: 55ms\n",
      "19:\tlearn: 0.3333515\ttotal: 21.4ms\tremaining: 53.4ms\n",
      "20:\tlearn: 0.3311574\ttotal: 22.3ms\tremaining: 51.9ms\n",
      "21:\tlearn: 0.3291947\ttotal: 23.1ms\tremaining: 50.5ms\n",
      "22:\tlearn: 0.3270328\ttotal: 24ms\tremaining: 49.1ms\n",
      "23:\tlearn: 0.3248672\ttotal: 24.9ms\tremaining: 47.8ms\n",
      "24:\tlearn: 0.3221728\ttotal: 25.8ms\tremaining: 46.5ms\n",
      "25:\tlearn: 0.3198010\ttotal: 26.7ms\tremaining: 45.2ms\n",
      "26:\tlearn: 0.3171751\ttotal: 27.6ms\tremaining: 44ms\n",
      "27:\tlearn: 0.3147906\ttotal: 28.5ms\tremaining: 42.8ms\n",
      "28:\tlearn: 0.3126172\ttotal: 29.4ms\tremaining: 41.6ms\n",
      "29:\tlearn: 0.3106401\ttotal: 30.2ms\tremaining: 40.3ms\n",
      "30:\tlearn: 0.3084123\ttotal: 31.1ms\tremaining: 39.1ms\n",
      "31:\tlearn: 0.3075758\ttotal: 32.1ms\tremaining: 38.1ms\n",
      "32:\tlearn: 0.3063526\ttotal: 33ms\tremaining: 37ms\n",
      "33:\tlearn: 0.3048660\ttotal: 33.9ms\tremaining: 35.9ms\n",
      "34:\tlearn: 0.3022964\ttotal: 34.8ms\tremaining: 34.8ms\n",
      "35:\tlearn: 0.3009948\ttotal: 35.6ms\tremaining: 33.7ms\n",
      "36:\tlearn: 0.2994920\ttotal: 36.6ms\tremaining: 32.6ms\n",
      "37:\tlearn: 0.2973992\ttotal: 37.4ms\tremaining: 31.5ms\n",
      "38:\tlearn: 0.2964458\ttotal: 38.3ms\tremaining: 30.5ms\n",
      "39:\tlearn: 0.2953465\ttotal: 39.2ms\tremaining: 29.4ms\n",
      "40:\tlearn: 0.2934325\ttotal: 40.1ms\tremaining: 28.4ms\n",
      "41:\tlearn: 0.2911015\ttotal: 41ms\tremaining: 27.3ms\n",
      "42:\tlearn: 0.2895608\ttotal: 41.9ms\tremaining: 26.3ms\n",
      "43:\tlearn: 0.2886717\ttotal: 42.8ms\tremaining: 25.3ms\n",
      "44:\tlearn: 0.2873826\ttotal: 43.7ms\tremaining: 24.3ms\n",
      "45:\tlearn: 0.2866913\ttotal: 44.6ms\tremaining: 23.3ms\n",
      "46:\tlearn: 0.2849650\ttotal: 45.5ms\tremaining: 22.3ms\n",
      "47:\tlearn: 0.2843917\ttotal: 46.4ms\tremaining: 21.3ms\n",
      "48:\tlearn: 0.2836781\ttotal: 47.2ms\tremaining: 20.2ms\n",
      "49:\tlearn: 0.2816014\ttotal: 48.1ms\tremaining: 19.2ms\n",
      "50:\tlearn: 0.2800994\ttotal: 49ms\tremaining: 18.3ms\n",
      "51:\tlearn: 0.2797466\ttotal: 49.9ms\tremaining: 17.3ms\n",
      "52:\tlearn: 0.2783389\ttotal: 50.8ms\tremaining: 16.3ms\n",
      "53:\tlearn: 0.2769948\ttotal: 51.6ms\tremaining: 15.3ms\n",
      "54:\tlearn: 0.2756904\ttotal: 52.4ms\tremaining: 14.3ms\n",
      "55:\tlearn: 0.2739904\ttotal: 53.3ms\tremaining: 13.3ms\n",
      "56:\tlearn: 0.2736606\ttotal: 54.2ms\tremaining: 12.4ms\n",
      "57:\tlearn: 0.2727915\ttotal: 55ms\tremaining: 11.4ms\n",
      "58:\tlearn: 0.2720636\ttotal: 55.8ms\tremaining: 10.4ms\n",
      "59:\tlearn: 0.2712047\ttotal: 56.5ms\tremaining: 9.42ms\n",
      "60:\tlearn: 0.2698463\ttotal: 57.3ms\tremaining: 8.46ms\n",
      "61:\tlearn: 0.2682779\ttotal: 58.1ms\tremaining: 7.5ms\n",
      "62:\tlearn: 0.2674098\ttotal: 58.9ms\tremaining: 6.54ms\n",
      "63:\tlearn: 0.2661973\ttotal: 59.6ms\tremaining: 5.59ms\n",
      "64:\tlearn: 0.2651301\ttotal: 60.5ms\tremaining: 4.65ms\n",
      "65:\tlearn: 0.2632495\ttotal: 61.2ms\tremaining: 3.71ms\n",
      "66:\tlearn: 0.2625567\ttotal: 62.1ms\tremaining: 2.78ms\n",
      "67:\tlearn: 0.2618232\ttotal: 62.9ms\tremaining: 1.85ms\n",
      "68:\tlearn: 0.2604865\ttotal: 63.6ms\tremaining: 922us\n",
      "69:\tlearn: 0.2601441\ttotal: 64.4ms\tremaining: 0us\n",
      "1 th fold： 0.7921348314606742\n",
      "0:\tlearn: 0.6244402\ttotal: 9.72ms\tremaining: 671ms\n",
      "1:\tlearn: 0.5747145\ttotal: 10.9ms\tremaining: 372ms\n",
      "2:\tlearn: 0.5371113\ttotal: 11.9ms\tremaining: 266ms\n",
      "3:\tlearn: 0.5054491\ttotal: 12.7ms\tremaining: 210ms\n",
      "4:\tlearn: 0.4787327\ttotal: 13.5ms\tremaining: 176ms\n",
      "5:\tlearn: 0.4573180\ttotal: 14.3ms\tremaining: 152ms\n",
      "6:\tlearn: 0.4391100\ttotal: 14.8ms\tremaining: 134ms\n",
      "7:\tlearn: 0.4234115\ttotal: 15.6ms\tremaining: 121ms\n",
      "8:\tlearn: 0.4083959\ttotal: 16.4ms\tremaining: 111ms\n",
      "9:\tlearn: 0.3963941\ttotal: 17.1ms\tremaining: 103ms\n",
      "10:\tlearn: 0.3879865\ttotal: 17.9ms\tremaining: 96.1ms\n",
      "11:\tlearn: 0.3785993\ttotal: 18.7ms\tremaining: 90.4ms\n",
      "12:\tlearn: 0.3720179\ttotal: 19.5ms\tremaining: 85.4ms\n",
      "13:\tlearn: 0.3655281\ttotal: 20.2ms\tremaining: 81ms\n",
      "14:\tlearn: 0.3598190\ttotal: 21ms\tremaining: 77.1ms\n",
      "15:\tlearn: 0.3539139\ttotal: 21.8ms\tremaining: 73.5ms\n",
      "16:\tlearn: 0.3494069\ttotal: 22.6ms\tremaining: 70.4ms\n",
      "17:\tlearn: 0.3461764\ttotal: 23.4ms\tremaining: 67.5ms\n",
      "18:\tlearn: 0.3427168\ttotal: 24.2ms\tremaining: 64.8ms\n",
      "19:\tlearn: 0.3389475\ttotal: 24.9ms\tremaining: 62.3ms\n",
      "20:\tlearn: 0.3360427\ttotal: 25.9ms\tremaining: 60.3ms\n",
      "21:\tlearn: 0.3327815\ttotal: 26.6ms\tremaining: 58.1ms\n",
      "22:\tlearn: 0.3313317\ttotal: 27.4ms\tremaining: 56.1ms\n",
      "23:\tlearn: 0.3285136\ttotal: 28.2ms\tremaining: 54ms\n",
      "24:\tlearn: 0.3263278\ttotal: 29ms\tremaining: 52.1ms\n",
      "25:\tlearn: 0.3235584\ttotal: 29.7ms\tremaining: 50.3ms\n",
      "26:\tlearn: 0.3221050\ttotal: 30.5ms\tremaining: 48.5ms\n",
      "27:\tlearn: 0.3192660\ttotal: 31.3ms\tremaining: 46.9ms\n",
      "28:\tlearn: 0.3177449\ttotal: 32ms\tremaining: 45.3ms\n",
      "29:\tlearn: 0.3155557\ttotal: 32.8ms\tremaining: 43.7ms\n",
      "30:\tlearn: 0.3142259\ttotal: 33.6ms\tremaining: 42.3ms\n",
      "31:\tlearn: 0.3116063\ttotal: 34.4ms\tremaining: 40.8ms\n",
      "32:\tlearn: 0.3099803\ttotal: 35.2ms\tremaining: 39.4ms\n",
      "33:\tlearn: 0.3075795\ttotal: 35.9ms\tremaining: 38ms\n",
      "34:\tlearn: 0.3060543\ttotal: 36.7ms\tremaining: 36.7ms\n",
      "35:\tlearn: 0.3045819\ttotal: 37.5ms\tremaining: 35.5ms\n",
      "36:\tlearn: 0.3028716\ttotal: 38.3ms\tremaining: 34.2ms\n",
      "37:\tlearn: 0.3005617\ttotal: 39.1ms\tremaining: 32.9ms\n",
      "38:\tlearn: 0.2988373\ttotal: 39.9ms\tremaining: 31.7ms\n",
      "39:\tlearn: 0.2971974\ttotal: 40.8ms\tremaining: 30.6ms\n",
      "40:\tlearn: 0.2957633\ttotal: 41.6ms\tremaining: 29.4ms\n",
      "41:\tlearn: 0.2946498\ttotal: 42.3ms\tremaining: 28.2ms\n",
      "42:\tlearn: 0.2934287\ttotal: 43.1ms\tremaining: 27.1ms\n",
      "43:\tlearn: 0.2925093\ttotal: 43.9ms\tremaining: 25.9ms\n",
      "44:\tlearn: 0.2918079\ttotal: 44.7ms\tremaining: 24.8ms\n",
      "45:\tlearn: 0.2909289\ttotal: 45.5ms\tremaining: 23.7ms\n",
      "46:\tlearn: 0.2887584\ttotal: 46.2ms\tremaining: 22.6ms\n",
      "47:\tlearn: 0.2870193\ttotal: 47ms\tremaining: 21.5ms\n",
      "48:\tlearn: 0.2859479\ttotal: 47.8ms\tremaining: 20.5ms\n",
      "49:\tlearn: 0.2844993\ttotal: 48.6ms\tremaining: 19.4ms\n",
      "50:\tlearn: 0.2817463\ttotal: 49.3ms\tremaining: 18.4ms\n",
      "51:\tlearn: 0.2808647\ttotal: 50.1ms\tremaining: 17.3ms\n",
      "52:\tlearn: 0.2796251\ttotal: 50.9ms\tremaining: 16.3ms\n",
      "53:\tlearn: 0.2785624\ttotal: 51.7ms\tremaining: 15.3ms\n",
      "54:\tlearn: 0.2766560\ttotal: 52.5ms\tremaining: 14.3ms\n",
      "55:\tlearn: 0.2758481\ttotal: 53.3ms\tremaining: 13.3ms\n",
      "56:\tlearn: 0.2746075\ttotal: 54ms\tremaining: 12.3ms\n",
      "57:\tlearn: 0.2731776\ttotal: 54.8ms\tremaining: 11.3ms\n",
      "58:\tlearn: 0.2724475\ttotal: 55.7ms\tremaining: 10.4ms\n",
      "59:\tlearn: 0.2715458\ttotal: 56.4ms\tremaining: 9.4ms\n",
      "60:\tlearn: 0.2704709\ttotal: 57.2ms\tremaining: 8.44ms\n",
      "61:\tlearn: 0.2680723\ttotal: 58ms\tremaining: 7.48ms\n",
      "62:\tlearn: 0.2670836\ttotal: 58.7ms\tremaining: 6.53ms\n",
      "63:\tlearn: 0.2656515\ttotal: 59.5ms\tremaining: 5.58ms\n",
      "64:\tlearn: 0.2654843\ttotal: 60.3ms\tremaining: 4.64ms\n",
      "65:\tlearn: 0.2640982\ttotal: 61.1ms\tremaining: 3.7ms\n",
      "66:\tlearn: 0.2627147\ttotal: 61.8ms\tremaining: 2.77ms\n",
      "67:\tlearn: 0.2610973\ttotal: 62.6ms\tremaining: 1.84ms\n",
      "68:\tlearn: 0.2606979\ttotal: 63.4ms\tremaining: 918us\n",
      "69:\tlearn: 0.2596091\ttotal: 64.2ms\tremaining: 0us\n",
      "2 th fold： 0.8426966292134831\n",
      "0:\tlearn: 0.6295682\ttotal: 14.5ms\tremaining: 1s\n",
      "1:\tlearn: 0.5852130\ttotal: 15.7ms\tremaining: 533ms\n",
      "2:\tlearn: 0.5518294\ttotal: 16.7ms\tremaining: 372ms\n",
      "3:\tlearn: 0.5226799\ttotal: 17.5ms\tremaining: 289ms\n",
      "4:\tlearn: 0.4981580\ttotal: 18.3ms\tremaining: 238ms\n",
      "5:\tlearn: 0.4797020\ttotal: 19.1ms\tremaining: 204ms\n",
      "6:\tlearn: 0.4638183\ttotal: 19.9ms\tremaining: 179ms\n",
      "7:\tlearn: 0.4499769\ttotal: 20.7ms\tremaining: 160ms\n",
      "8:\tlearn: 0.4372427\ttotal: 21.4ms\tremaining: 145ms\n",
      "9:\tlearn: 0.4272696\ttotal: 22.2ms\tremaining: 133ms\n",
      "10:\tlearn: 0.4195059\ttotal: 22.9ms\tremaining: 123ms\n",
      "11:\tlearn: 0.4121777\ttotal: 23.7ms\tremaining: 115ms\n",
      "12:\tlearn: 0.4047110\ttotal: 24.5ms\tremaining: 108ms\n",
      "13:\tlearn: 0.3991203\ttotal: 25.3ms\tremaining: 101ms\n",
      "14:\tlearn: 0.3946967\ttotal: 26.1ms\tremaining: 95.6ms\n",
      "15:\tlearn: 0.3883668\ttotal: 26.8ms\tremaining: 90.5ms\n",
      "16:\tlearn: 0.3847404\ttotal: 27.6ms\tremaining: 86.1ms\n",
      "17:\tlearn: 0.3813570\ttotal: 28.4ms\tremaining: 82.1ms\n",
      "18:\tlearn: 0.3782775\ttotal: 29.2ms\tremaining: 78.4ms\n",
      "19:\tlearn: 0.3754354\ttotal: 30ms\tremaining: 75ms\n",
      "20:\tlearn: 0.3726964\ttotal: 30.8ms\tremaining: 71.8ms\n",
      "21:\tlearn: 0.3702650\ttotal: 31.6ms\tremaining: 68.8ms\n",
      "22:\tlearn: 0.3685248\ttotal: 32.3ms\tremaining: 66ms\n",
      "23:\tlearn: 0.3670294\ttotal: 33.1ms\tremaining: 63.4ms\n",
      "24:\tlearn: 0.3649812\ttotal: 33.8ms\tremaining: 60.9ms\n",
      "25:\tlearn: 0.3620072\ttotal: 34.6ms\tremaining: 58.6ms\n",
      "26:\tlearn: 0.3602744\ttotal: 35.4ms\tremaining: 56.4ms\n",
      "27:\tlearn: 0.3580878\ttotal: 36.2ms\tremaining: 54.3ms\n",
      "28:\tlearn: 0.3559224\ttotal: 36.9ms\tremaining: 52.2ms\n",
      "29:\tlearn: 0.3534021\ttotal: 37.8ms\tremaining: 50.4ms\n",
      "30:\tlearn: 0.3503701\ttotal: 38.6ms\tremaining: 48.5ms\n",
      "31:\tlearn: 0.3484958\ttotal: 39.4ms\tremaining: 46.7ms\n",
      "32:\tlearn: 0.3463216\ttotal: 40.2ms\tremaining: 45ms\n",
      "33:\tlearn: 0.3451617\ttotal: 40.9ms\tremaining: 43.4ms\n",
      "34:\tlearn: 0.3434828\ttotal: 41.7ms\tremaining: 41.7ms\n",
      "35:\tlearn: 0.3422055\ttotal: 42.5ms\tremaining: 40.2ms\n",
      "36:\tlearn: 0.3407629\ttotal: 43.3ms\tremaining: 38.6ms\n",
      "37:\tlearn: 0.3391551\ttotal: 44.1ms\tremaining: 37.1ms\n",
      "38:\tlearn: 0.3373928\ttotal: 44.9ms\tremaining: 35.7ms\n",
      "39:\tlearn: 0.3352871\ttotal: 45.6ms\tremaining: 34.2ms\n",
      "40:\tlearn: 0.3337503\ttotal: 46.4ms\tremaining: 32.8ms\n",
      "41:\tlearn: 0.3327442\ttotal: 47.2ms\tremaining: 31.5ms\n",
      "42:\tlearn: 0.3311473\ttotal: 48ms\tremaining: 30.2ms\n",
      "43:\tlearn: 0.3293276\ttotal: 48.8ms\tremaining: 28.8ms\n",
      "44:\tlearn: 0.3278811\ttotal: 49.6ms\tremaining: 27.5ms\n",
      "45:\tlearn: 0.3265521\ttotal: 50.4ms\tremaining: 26.3ms\n",
      "46:\tlearn: 0.3243636\ttotal: 51.1ms\tremaining: 25ms\n",
      "47:\tlearn: 0.3233310\ttotal: 51.9ms\tremaining: 23.8ms\n",
      "48:\tlearn: 0.3227642\ttotal: 52.7ms\tremaining: 22.6ms\n",
      "49:\tlearn: 0.3216811\ttotal: 53.5ms\tremaining: 21.4ms\n",
      "50:\tlearn: 0.3192724\ttotal: 54.2ms\tremaining: 20.2ms\n",
      "51:\tlearn: 0.3172054\ttotal: 55ms\tremaining: 19ms\n",
      "52:\tlearn: 0.3165019\ttotal: 55.8ms\tremaining: 17.9ms\n",
      "53:\tlearn: 0.3156415\ttotal: 56.6ms\tremaining: 16.8ms\n",
      "54:\tlearn: 0.3141560\ttotal: 57.4ms\tremaining: 15.6ms\n",
      "55:\tlearn: 0.3138670\ttotal: 58.1ms\tremaining: 14.5ms\n",
      "56:\tlearn: 0.3125592\ttotal: 58.9ms\tremaining: 13.4ms\n",
      "57:\tlearn: 0.3118097\ttotal: 59.7ms\tremaining: 12.4ms\n",
      "58:\tlearn: 0.3105330\ttotal: 60.5ms\tremaining: 11.3ms\n",
      "59:\tlearn: 0.3086886\ttotal: 61.2ms\tremaining: 10.2ms\n",
      "60:\tlearn: 0.3072961\ttotal: 62ms\tremaining: 9.15ms\n",
      "61:\tlearn: 0.3061595\ttotal: 62.8ms\tremaining: 8.11ms\n",
      "62:\tlearn: 0.3047511\ttotal: 63.6ms\tremaining: 7.07ms\n",
      "63:\tlearn: 0.3035099\ttotal: 64.4ms\tremaining: 6.03ms\n",
      "64:\tlearn: 0.3024751\ttotal: 65.1ms\tremaining: 5.01ms\n",
      "65:\tlearn: 0.3008389\ttotal: 65.9ms\tremaining: 4ms\n",
      "66:\tlearn: 0.3002894\ttotal: 66.7ms\tremaining: 2.99ms\n",
      "67:\tlearn: 0.2988621\ttotal: 67.5ms\tremaining: 1.98ms\n",
      "68:\tlearn: 0.2976930\ttotal: 68.3ms\tremaining: 989us\n",
      "69:\tlearn: 0.2970333\ttotal: 69ms\tremaining: 0us\n",
      "3 th fold： 0.9101123595505618\n"
     ]
    },
    {
     "name": "stdout",
     "output_type": "stream",
     "text": [
      "0:\tlearn: 0.6283389\ttotal: 1.12ms\tremaining: 77.2ms\n",
      "1:\tlearn: 0.5795725\ttotal: 2.36ms\tremaining: 80.3ms\n",
      "2:\tlearn: 0.5426227\ttotal: 3.56ms\tremaining: 79.5ms\n",
      "3:\tlearn: 0.5107787\ttotal: 4.66ms\tremaining: 76.8ms\n",
      "4:\tlearn: 0.4850111\ttotal: 5.67ms\tremaining: 73.7ms\n",
      "5:\tlearn: 0.4636749\ttotal: 6.72ms\tremaining: 71.7ms\n",
      "6:\tlearn: 0.4468429\ttotal: 7.75ms\tremaining: 69.7ms\n",
      "7:\tlearn: 0.4320438\ttotal: 8.79ms\tremaining: 68.2ms\n",
      "8:\tlearn: 0.4194646\ttotal: 9.85ms\tremaining: 66.7ms\n",
      "9:\tlearn: 0.4099536\ttotal: 10.9ms\tremaining: 65.3ms\n",
      "10:\tlearn: 0.4004107\ttotal: 12ms\tremaining: 64.4ms\n",
      "11:\tlearn: 0.3921594\ttotal: 13.1ms\tremaining: 63.5ms\n",
      "12:\tlearn: 0.3844673\ttotal: 14.2ms\tremaining: 62.3ms\n",
      "13:\tlearn: 0.3766045\ttotal: 15.3ms\tremaining: 61.2ms\n",
      "14:\tlearn: 0.3711235\ttotal: 16.4ms\tremaining: 60ms\n",
      "15:\tlearn: 0.3658858\ttotal: 17.4ms\tremaining: 58.8ms\n",
      "16:\tlearn: 0.3616976\ttotal: 18.5ms\tremaining: 57.5ms\n",
      "17:\tlearn: 0.3573479\ttotal: 19.5ms\tremaining: 56.3ms\n",
      "18:\tlearn: 0.3550255\ttotal: 20.5ms\tremaining: 55ms\n",
      "19:\tlearn: 0.3518099\ttotal: 21.5ms\tremaining: 53.8ms\n",
      "20:\tlearn: 0.3484281\ttotal: 22.6ms\tremaining: 52.6ms\n",
      "21:\tlearn: 0.3459976\ttotal: 23.6ms\tremaining: 51.5ms\n",
      "22:\tlearn: 0.3426469\ttotal: 24.6ms\tremaining: 50.3ms\n",
      "23:\tlearn: 0.3400217\ttotal: 25.7ms\tremaining: 49.2ms\n",
      "24:\tlearn: 0.3372695\ttotal: 26.7ms\tremaining: 48.1ms\n",
      "25:\tlearn: 0.3351960\ttotal: 27.8ms\tremaining: 47ms\n",
      "26:\tlearn: 0.3332654\ttotal: 28.9ms\tremaining: 46ms\n",
      "27:\tlearn: 0.3311859\ttotal: 29.9ms\tremaining: 44.9ms\n",
      "28:\tlearn: 0.3285128\ttotal: 31ms\tremaining: 43.8ms\n",
      "29:\tlearn: 0.3270273\ttotal: 32ms\tremaining: 42.7ms\n",
      "30:\tlearn: 0.3259419\ttotal: 33.1ms\tremaining: 41.7ms\n",
      "31:\tlearn: 0.3248014\ttotal: 34.2ms\tremaining: 40.6ms\n",
      "32:\tlearn: 0.3236538\ttotal: 35.2ms\tremaining: 39.5ms\n",
      "33:\tlearn: 0.3213610\ttotal: 36.3ms\tremaining: 38.4ms\n",
      "34:\tlearn: 0.3196469\ttotal: 37.3ms\tremaining: 37.3ms\n",
      "35:\tlearn: 0.3178067\ttotal: 38.4ms\tremaining: 36.2ms\n",
      "36:\tlearn: 0.3157703\ttotal: 39.4ms\tremaining: 35.1ms\n",
      "37:\tlearn: 0.3137790\ttotal: 40.4ms\tremaining: 34.1ms\n",
      "38:\tlearn: 0.3123805\ttotal: 41.5ms\tremaining: 33ms\n",
      "39:\tlearn: 0.3109360\ttotal: 42.5ms\tremaining: 31.9ms\n",
      "40:\tlearn: 0.3095020\ttotal: 43.6ms\tremaining: 30.8ms\n",
      "41:\tlearn: 0.3078776\ttotal: 44.6ms\tremaining: 29.8ms\n",
      "42:\tlearn: 0.3061424\ttotal: 45.7ms\tremaining: 28.7ms\n",
      "43:\tlearn: 0.3042940\ttotal: 46.7ms\tremaining: 27.6ms\n",
      "44:\tlearn: 0.3026075\ttotal: 47.8ms\tremaining: 26.5ms\n",
      "45:\tlearn: 0.3015645\ttotal: 48.8ms\tremaining: 25.5ms\n",
      "46:\tlearn: 0.3003112\ttotal: 49.8ms\tremaining: 24.4ms\n",
      "47:\tlearn: 0.2991078\ttotal: 50.9ms\tremaining: 23.3ms\n",
      "48:\tlearn: 0.2985402\ttotal: 51.9ms\tremaining: 22.3ms\n",
      "49:\tlearn: 0.2970080\ttotal: 53ms\tremaining: 21.2ms\n",
      "50:\tlearn: 0.2949048\ttotal: 54.1ms\tremaining: 20.2ms\n",
      "51:\tlearn: 0.2938131\ttotal: 55.2ms\tremaining: 19.1ms\n",
      "52:\tlearn: 0.2918414\ttotal: 56.2ms\tremaining: 18ms\n",
      "53:\tlearn: 0.2910075\ttotal: 57.3ms\tremaining: 17ms\n",
      "54:\tlearn: 0.2882819\ttotal: 58.4ms\tremaining: 15.9ms\n",
      "55:\tlearn: 0.2871059\ttotal: 59.5ms\tremaining: 14.9ms\n",
      "56:\tlearn: 0.2864771\ttotal: 60.5ms\tremaining: 13.8ms\n",
      "57:\tlearn: 0.2844539\ttotal: 61.6ms\tremaining: 12.7ms\n",
      "58:\tlearn: 0.2827612\ttotal: 62.6ms\tremaining: 11.7ms\n",
      "59:\tlearn: 0.2822048\ttotal: 63.6ms\tremaining: 10.6ms\n",
      "60:\tlearn: 0.2810438\ttotal: 64.7ms\tremaining: 9.54ms\n",
      "61:\tlearn: 0.2795738\ttotal: 65.7ms\tremaining: 8.48ms\n",
      "62:\tlearn: 0.2794215\ttotal: 66.7ms\tremaining: 7.42ms\n",
      "63:\tlearn: 0.2781755\ttotal: 67.8ms\tremaining: 6.36ms\n",
      "64:\tlearn: 0.2769161\ttotal: 68.9ms\tremaining: 5.3ms\n",
      "65:\tlearn: 0.2762893\ttotal: 70ms\tremaining: 4.24ms\n",
      "66:\tlearn: 0.2747116\ttotal: 71.6ms\tremaining: 3.2ms\n",
      "67:\tlearn: 0.2745074\ttotal: 72.6ms\tremaining: 2.14ms\n",
      "68:\tlearn: 0.2738552\ttotal: 73.7ms\tremaining: 1.07ms\n",
      "69:\tlearn: 0.2736061\ttotal: 74.8ms\tremaining: 0us\n",
      "4 th fold： 0.848314606741573\n",
      "avg score=  0.8462494507563869\n"
     ]
    }
   ],
   "source": [
    "best_model=None\n",
    "folds=5\n",
    "best_score=0\n",
    "avg_score_cat_s=0\n",
    "result_cat_s=np.zeros(418)\n",
    "\n",
    "kf=KFold(n_splits=folds,shuffle=True,random_state=2022)\n",
    "for i, (train_index,test_index) in enumerate(kf.split(train_stacking)):\n",
    "    lgb=CatBoostClassifier(learning_rate=0.14,n_estimators=70)\n",
    "    lgb.fit(train_stacking[train_index],y_train_stacking[train_index])\n",
    "    score=lgb.score(train_stacking[test_index],y_train_stacking[test_index])\n",
    "    print(i,'th fold：',score)\n",
    "    if best_score<score:\n",
    "        best_score=score\n",
    "        best_model=lgb    \n",
    "    avg_score_cat_s+=score\n",
    "    result_cat_s+=lgb.predict(test_stacking)\n",
    "    \n",
    "avg_score_cat_s/=folds\n",
    "result_cat_s/=folds\n",
    "\n",
    "print(\"avg score= \",avg_score_cat_s)"
   ]
  },
  {
   "cell_type": "code",
   "execution_count": 43,
   "id": "0c7600fb",
   "metadata": {
    "ExecuteTime": {
     "end_time": "2022-05-22T03:28:07.562668Z",
     "start_time": "2022-05-22T03:28:07.559677Z"
    }
   },
   "outputs": [
    {
     "data": {
      "text/plain": [
       "(array([ 21,  28,  32,  33,  36,  37,  41,  73,  75,  87,  98, 125, 138,\n",
       "        144, 148, 153, 158, 165, 169, 197, 199, 202, 242, 249, 252, 268,\n",
       "        283, 293, 316, 323, 359, 367, 382, 390], dtype=int64),)"
      ]
     },
     "execution_count": 43,
     "metadata": {},
     "output_type": "execute_result"
    }
   ],
   "source": [
    "np.where(np.round(result_cat_s)!=np.round(result1))"
   ]
  },
  {
   "cell_type": "markdown",
   "id": "186e099e",
   "metadata": {},
   "source": [
    "### svc"
   ]
  },
  {
   "cell_type": "code",
   "execution_count": 243,
   "id": "69efd527",
   "metadata": {
    "ExecuteTime": {
     "end_time": "2022-05-23T13:21:36.509965Z",
     "start_time": "2022-05-23T13:21:36.497965Z"
    }
   },
   "outputs": [
    {
     "name": "stdout",
     "output_type": "stream",
     "text": [
      "0 th fold： 0.8324022346368715\n",
      "1 th fold： 0.8089887640449438\n",
      "2 th fold： 0.8033707865168539\n",
      "3 th fold： 0.8764044943820225\n",
      "4 th fold： 0.8258426966292135\n",
      "avg score=  0.8294017952419811\n"
     ]
    }
   ],
   "source": [
    "best_model=None\n",
    "folds=5\n",
    "best_score=0\n",
    "avg_score_svc_s=0\n",
    "result_svc_s=np.zeros(418)\n",
    "\n",
    "kf=KFold(n_splits=folds,shuffle=True,random_state=2022)\n",
    "for i, (train_index,test_index) in enumerate(kf.split(train_stacking)):\n",
    "    lgb=LinearSVC(C=0.008,tol=1e-4,max_iter=100)\n",
    "    lgb.fit(train_stacking[train_index],y_train_stacking[train_index])\n",
    "    score=lgb.score(train_stacking[test_index],y_train_stacking[test_index])\n",
    "    print(i,'th fold：',score)\n",
    "    if best_score<score:\n",
    "        best_score=score\n",
    "        best_model=lgb    \n",
    "    avg_score_svc_s+=score\n",
    "    result_svc_s+=lgb.predict(test_stacking)\n",
    "    \n",
    "avg_score_svc_s/=folds\n",
    "result_svc_s/=folds\n",
    "\n",
    "print(\"avg score= \",avg_score_svc_s)"
   ]
  },
  {
   "cell_type": "code",
   "execution_count": 380,
   "id": "a09636b3",
   "metadata": {
    "ExecuteTime": {
     "end_time": "2022-05-22T12:42:17.966855Z",
     "start_time": "2022-05-22T12:42:17.959880Z"
    }
   },
   "outputs": [
    {
     "data": {
      "text/plain": [
       "(array([  6,  19,  21,  33,  34,  36,  37,  73,  75, 118, 138, 158, 169,\n",
       "        268, 280, 293, 390, 412], dtype=int64),)"
      ]
     },
     "execution_count": 380,
     "metadata": {},
     "output_type": "execute_result"
    }
   ],
   "source": [
    "np.where(np.round(result_svc_s)!=np.round(result1))"
   ]
  },
  {
   "cell_type": "markdown",
   "id": "722d7825",
   "metadata": {},
   "source": [
    "### knn"
   ]
  },
  {
   "cell_type": "code",
   "execution_count": 244,
   "id": "f0482ffe",
   "metadata": {
    "ExecuteTime": {
     "end_time": "2022-05-23T13:21:40.176406Z",
     "start_time": "2022-05-23T13:21:40.081860Z"
    }
   },
   "outputs": [
    {
     "name": "stdout",
     "output_type": "stream",
     "text": [
      "0 th fold： 0.8268156424581006\n",
      "1 th fold： 0.8033707865168539\n",
      "2 th fold： 0.8258426966292135\n",
      "3 th fold： 0.9213483146067416\n",
      "4 th fold： 0.8314606741573034\n",
      "avg score=  0.8417676228736426\n"
     ]
    }
   ],
   "source": [
    "best_model=None\n",
    "folds=5\n",
    "best_score=0\n",
    "avg_score_knn_s=0\n",
    "result_knn_s=np.zeros(418)\n",
    "\n",
    "kf=KFold(n_splits=folds,shuffle=True,random_state=2022)\n",
    "for i, (train_index,test_index) in enumerate(kf.split(train_stacking)):\n",
    "    lgb=KNeighborsClassifier(n_neighbors=27,p=1)\n",
    "    lgb.fit(train_stacking[train_index],y_train_stacking[train_index])\n",
    "    score=lgb.score(train_stacking[test_index],y_train_stacking[test_index])\n",
    "    print(i,'th fold：',score)\n",
    "    if best_score<score:\n",
    "        best_score=score\n",
    "        best_model=lgb    \n",
    "    avg_score_knn_s+=score\n",
    "    result_knn_s+=lgb.predict(test_stacking)\n",
    "    \n",
    "avg_score_knn_s/=folds\n",
    "result_knn_s/=folds\n",
    "\n",
    "print(\"avg score= \",avg_score_knn_s)"
   ]
  },
  {
   "cell_type": "code",
   "execution_count": 120,
   "id": "033ad4da",
   "metadata": {
    "ExecuteTime": {
     "end_time": "2022-05-22T04:24:24.990128Z",
     "start_time": "2022-05-22T04:24:24.979161Z"
    }
   },
   "outputs": [
    {
     "data": {
      "text/plain": [
       "(array([  6,  19,  32,  33,  36,  98, 125, 159, 181, 197, 242, 249, 252,\n",
       "        268, 280, 293, 359, 367], dtype=int64),)"
      ]
     },
     "execution_count": 120,
     "metadata": {},
     "output_type": "execute_result"
    }
   ],
   "source": [
    "np.where(np.round(result_knn_s)!=np.round(result1))"
   ]
  },
  {
   "cell_type": "markdown",
   "id": "7f22d43d",
   "metadata": {},
   "source": [
    "### gbt"
   ]
  },
  {
   "cell_type": "code",
   "execution_count": 245,
   "id": "6fe0762a",
   "metadata": {
    "ExecuteTime": {
     "end_time": "2022-05-23T13:21:44.247482Z",
     "start_time": "2022-05-23T13:21:43.832855Z"
    }
   },
   "outputs": [
    {
     "name": "stdout",
     "output_type": "stream",
     "text": [
      "0 th fold： 0.8603351955307262\n",
      "1 th fold： 0.8314606741573034\n",
      "2 th fold： 0.8146067415730337\n",
      "3 th fold： 0.9101123595505618\n",
      "4 th fold： 0.848314606741573\n",
      "avg score=  0.8529659155106396\n"
     ]
    }
   ],
   "source": [
    "best_model=None\n",
    "folds=5\n",
    "best_score=0\n",
    "avg_score_gbt_s=0\n",
    "result_gbt_s=np.zeros(418)\n",
    "\n",
    "kf=KFold(n_splits=folds,shuffle=True,random_state=2022)\n",
    "for i, (train_index,test_index) in enumerate(kf.split(train_stacking)):\n",
    "    lgb=GradientBoostingClassifier(learning_rate=0.06,n_estimators=73)\n",
    "    lgb.fit(train_stacking[train_index],y_train_stacking[train_index])\n",
    "    score=lgb.score(train_stacking[test_index],y_train_stacking[test_index])\n",
    "    print(i,'th fold：',score)\n",
    "    if best_score<score:\n",
    "        best_score=score\n",
    "        best_model=lgb    \n",
    "    avg_score_gbt_s+=score\n",
    "    result_gbt_s+=lgb.predict(test_stacking)\n",
    "    \n",
    "avg_score_gbt_s/=folds\n",
    "result_gbt_s/=folds\n",
    "\n",
    "print(\"avg score= \",avg_score_gbt_s)"
   ]
  },
  {
   "cell_type": "code",
   "execution_count": 255,
   "id": "c464b038",
   "metadata": {
    "ExecuteTime": {
     "end_time": "2022-05-23T13:25:23.850060Z",
     "start_time": "2022-05-23T13:25:23.841997Z"
    }
   },
   "outputs": [],
   "source": [
    "pd.DataFrame(data=np.c_[list(range(892,1310)),np.round(result_gbt_s)],columns=[\"PassengerId\",\"Survived\"],dtype=np.int64).to_csv('result_20220523_s_gbt.txt',index=False,header=True)# 得分：0.73444"
   ]
  },
  {
   "cell_type": "code",
   "execution_count": 301,
   "id": "b706753b",
   "metadata": {
    "ExecuteTime": {
     "end_time": "2022-05-22T04:59:34.128503Z",
     "start_time": "2022-05-22T04:59:34.119528Z"
    }
   },
   "outputs": [
    {
     "data": {
      "text/plain": [
       "(array([  4,   6,  19,  21,  32,  33,  36,  37,  72,  86,  90, 125, 153,\n",
       "        158, 159, 165, 169, 181, 192, 197, 199, 225, 242, 245, 249, 252,\n",
       "        268, 280, 283, 293, 323, 344, 347, 359, 367, 382, 383, 412],\n",
       "       dtype=int64),)"
      ]
     },
     "execution_count": 301,
     "metadata": {},
     "output_type": "execute_result"
    }
   ],
   "source": [
    "np.where(np.round(result_gbt_s)!=np.round(result1))"
   ]
  },
  {
   "cell_type": "code",
   "execution_count": 303,
   "id": "b59bdd3e",
   "metadata": {
    "ExecuteTime": {
     "end_time": "2022-05-22T05:27:11.387681Z",
     "start_time": "2022-05-22T05:27:11.376675Z"
    }
   },
   "outputs": [
    {
     "data": {
      "text/plain": [
       "(array([ 72,  90, 138, 153, 245, 344], dtype=int64),)"
      ]
     },
     "execution_count": 303,
     "metadata": {},
     "output_type": "execute_result"
    }
   ],
   "source": [
    "np.where(np.round(result_rf_s)!=np.round(result_gbt_s))"
   ]
  },
  {
   "cell_type": "code",
   "execution_count": 304,
   "id": "9f19e0e8",
   "metadata": {
    "ExecuteTime": {
     "end_time": "2022-05-22T05:27:24.496543Z",
     "start_time": "2022-05-22T05:27:24.480505Z"
    }
   },
   "outputs": [
    {
     "data": {
      "text/plain": [
       "(array([ 18,  21,  64,  87, 138, 200, 202, 245, 273, 323, 345], dtype=int64),)"
      ]
     },
     "execution_count": 304,
     "metadata": {},
     "output_type": "execute_result"
    }
   ],
   "source": [
    "np.where(np.round(result_lgb_s)!=np.round(result_gbt_s))"
   ]
  },
  {
   "cell_type": "markdown",
   "id": "8ee83f00",
   "metadata": {},
   "source": [
    "### xgb"
   ]
  },
  {
   "cell_type": "code",
   "execution_count": 246,
   "id": "b1866d82",
   "metadata": {
    "ExecuteTime": {
     "end_time": "2022-05-23T13:21:53.483621Z",
     "start_time": "2022-05-23T13:21:53.273520Z"
    }
   },
   "outputs": [
    {
     "name": "stdout",
     "output_type": "stream",
     "text": [
      "[21:21:53] WARNING: D:\\bld\\xgboost-split_1645118015404\\work\\src\\learner.cc:1115: Starting in XGBoost 1.3.0, the default evaluation metric used with the objective 'binary:logistic' was changed from 'error' to 'logloss'. Explicitly set eval_metric if you'd like to restore the old behavior.\n",
      "0 th fold： 0.8603351955307262\n",
      "[21:21:53] WARNING: D:\\bld\\xgboost-split_1645118015404\\work\\src\\learner.cc:1115: Starting in XGBoost 1.3.0, the default evaluation metric used with the objective 'binary:logistic' was changed from 'error' to 'logloss'. Explicitly set eval_metric if you'd like to restore the old behavior.\n",
      "1 th fold： 0.8146067415730337\n",
      "[21:21:53] WARNING: D:\\bld\\xgboost-split_1645118015404\\work\\src\\learner.cc:1115: Starting in XGBoost 1.3.0, the default evaluation metric used with the objective 'binary:logistic' was changed from 'error' to 'logloss'. Explicitly set eval_metric if you'd like to restore the old behavior.\n",
      "2 th fold： 0.8202247191011236\n",
      "[21:21:53] WARNING: D:\\bld\\xgboost-split_1645118015404\\work\\src\\learner.cc:1115: Starting in XGBoost 1.3.0, the default evaluation metric used with the objective 'binary:logistic' was changed from 'error' to 'logloss'. Explicitly set eval_metric if you'd like to restore the old behavior.\n",
      "3 th fold： 0.9044943820224719\n",
      "[21:21:53] WARNING: D:\\bld\\xgboost-split_1645118015404\\work\\src\\learner.cc:1115: Starting in XGBoost 1.3.0, the default evaluation metric used with the objective 'binary:logistic' was changed from 'error' to 'logloss'. Explicitly set eval_metric if you'd like to restore the old behavior.\n",
      "4 th fold： 0.848314606741573\n",
      "avg score=  0.8495951289937856\n"
     ]
    }
   ],
   "source": [
    "best_model=None\n",
    "folds=5\n",
    "best_score=0\n",
    "avg_score_xgb_s=0\n",
    "result_xgb_s=np.zeros(418)\n",
    "\n",
    "kf=KFold(n_splits=folds,shuffle=True,random_state=2022)\n",
    "for i, (train_index,test_index) in enumerate(kf.split(train_stacking)):\n",
    "    lgb=XGBClassifier(learning_rate=0.07,max_depth=4,n_estimators=61)\n",
    "    lgb.fit(train_stacking[train_index],y_train_stacking[train_index])\n",
    "    score=lgb.score(train_stacking[test_index],y_train_stacking[test_index])\n",
    "    print(i,'th fold：',score)\n",
    "    if best_score<score:\n",
    "        best_score=score\n",
    "        best_model=lgb    \n",
    "    avg_score_xgb_s+=score\n",
    "    result_xgb_s+=lgb.predict(test_stacking)\n",
    "    \n",
    "avg_score_xgb_s/=folds\n",
    "result_xgb_s/=folds\n",
    "\n",
    "print(\"avg score= \",avg_score_xgb_s)"
   ]
  },
  {
   "cell_type": "markdown",
   "id": "f429bac3",
   "metadata": {},
   "source": [
    "### perceptron"
   ]
  },
  {
   "cell_type": "code",
   "execution_count": 247,
   "id": "631880f0",
   "metadata": {
    "ExecuteTime": {
     "end_time": "2022-05-23T13:22:00.527788Z",
     "start_time": "2022-05-23T13:22:00.501784Z"
    }
   },
   "outputs": [
    {
     "name": "stdout",
     "output_type": "stream",
     "text": [
      "0 th fold： 0.8156424581005587\n",
      "1 th fold： 0.7303370786516854\n",
      "2 th fold： 0.7865168539325843\n",
      "3 th fold： 0.6685393258426966\n",
      "4 th fold： 0.797752808988764\n",
      "avg score=  0.7597577051032578\n"
     ]
    }
   ],
   "source": [
    "best_model=None\n",
    "folds=5\n",
    "best_score=0\n",
    "avg_score_pt_s=0\n",
    "result_pt_s=np.zeros(418)\n",
    "\n",
    "kf=KFold(n_splits=folds,shuffle=True,random_state=2022)\n",
    "for i, (train_index,test_index) in enumerate(kf.split(train_stacking)):\n",
    "    lgb=Perceptron(penalty='l2',alpha=1e-3,max_iter=10,validation_fraction=0.1,n_iter_no_change=20,warm_start=True)\n",
    "    lgb.fit(train_stacking[train_index],y_train_stacking[train_index])\n",
    "    score=lgb.score(train_stacking[test_index],y_train_stacking[test_index])\n",
    "    print(i,'th fold：',score)\n",
    "    if best_score<score:\n",
    "        best_score=score\n",
    "        best_model=lgb    \n",
    "    avg_score_pt_s+=score\n",
    "    result_pt_s+=lgb.predict(test_stacking)\n",
    "    \n",
    "avg_score_pt_s/=folds\n",
    "result_pt_s/=folds\n",
    "\n",
    "print(\"avg score= \",avg_score_pt_s)"
   ]
  },
  {
   "cell_type": "markdown",
   "id": "857051fb",
   "metadata": {},
   "source": [
    "### sgd"
   ]
  },
  {
   "cell_type": "code",
   "execution_count": 249,
   "id": "24bf8866",
   "metadata": {
    "ExecuteTime": {
     "end_time": "2022-05-23T13:22:07.951345Z",
     "start_time": "2022-05-23T13:22:07.932340Z"
    }
   },
   "outputs": [
    {
     "name": "stdout",
     "output_type": "stream",
     "text": [
      "0 th fold： 0.8212290502793296\n",
      "1 th fold： 0.7752808988764045\n",
      "2 th fold： 0.7584269662921348\n",
      "3 th fold： 0.9101123595505618\n",
      "4 th fold： 0.797752808988764\n",
      "avg score=  0.812560416797439\n"
     ]
    }
   ],
   "source": [
    "best_model=None\n",
    "folds=5\n",
    "best_score=0\n",
    "avg_score_sgd_s=0\n",
    "result_sgd_s=np.zeros(418)\n",
    "\n",
    "kf=KFold(n_splits=folds,shuffle=True,random_state=2022)\n",
    "for i, (train_index,test_index) in enumerate(kf.split(train_stacking)):\n",
    "    lgb=SGDClassifier(alpha=1e-4,max_iter=10,validation_fraction=0.1,n_iter_no_change=10,warm_start=True)\n",
    "    lgb.fit(train_stacking[train_index],y_train_stacking[train_index])\n",
    "    score=lgb.score(train_stacking[test_index],y_train_stacking[test_index])\n",
    "    print(i,'th fold：',score)\n",
    "    if best_score<score:\n",
    "        best_score=score\n",
    "        best_model=lgb    \n",
    "    avg_score_sgd_s+=score\n",
    "    result_sgd_s+=lgb.predict(test_stacking)\n",
    "    \n",
    "avg_score_sgd_s/=folds\n",
    "result_sgd_s/=folds\n",
    "\n",
    "print(\"avg score= \",avg_score_sgd_s)"
   ]
  },
  {
   "cell_type": "markdown",
   "id": "16b45e40",
   "metadata": {
    "ExecuteTime": {
     "end_time": "2022-05-20T14:42:18.970699Z",
     "start_time": "2022-05-20T14:42:18.962723Z"
    }
   },
   "source": [
    "### bayes"
   ]
  },
  {
   "cell_type": "code",
   "execution_count": 250,
   "id": "4f90a98e",
   "metadata": {
    "ExecuteTime": {
     "end_time": "2022-05-23T13:22:11.793805Z",
     "start_time": "2022-05-23T13:22:11.774807Z"
    }
   },
   "outputs": [
    {
     "name": "stdout",
     "output_type": "stream",
     "text": [
      "0 th fold： 0.7932960893854749\n",
      "1 th fold： 0.8370786516853933\n",
      "2 th fold： 0.7640449438202247\n",
      "3 th fold： 0.8595505617977528\n",
      "4 th fold： 0.797752808988764\n",
      "avg score=  0.8103446111355218\n"
     ]
    }
   ],
   "source": [
    "best_model=None\n",
    "folds=5\n",
    "best_score=0\n",
    "avg_score_by_s=0\n",
    "result_by_s=np.zeros(418)\n",
    "\n",
    "kf=KFold(n_splits=folds,shuffle=True,random_state=2022)\n",
    "for i, (train_index,test_index) in enumerate(kf.split(train_stacking)):\n",
    "    lgb=BernoulliNB(alpha=1)\n",
    "    lgb.fit(train_stacking[train_index],y_train_stacking[train_index])\n",
    "    score=lgb.score(train_stacking[test_index],y_train_stacking[test_index])\n",
    "    print(i,'th fold：',score)\n",
    "    if best_score<score:\n",
    "        best_score=score\n",
    "        best_model=lgb    \n",
    "    avg_score_by_s+=score\n",
    "    result_by_s+=lgb.predict(test_stacking)\n",
    "    \n",
    "avg_score_by_s/=folds\n",
    "result_by_s/=folds\n",
    "\n",
    "print(\"avg score= \",avg_score_by_s)"
   ]
  },
  {
   "cell_type": "markdown",
   "id": "d00f45de",
   "metadata": {
    "ExecuteTime": {
     "end_time": "2022-05-20T14:44:23.009937Z",
     "start_time": "2022-05-20T14:44:22.993991Z"
    }
   },
   "source": [
    "### gp"
   ]
  },
  {
   "cell_type": "code",
   "execution_count": 251,
   "id": "e8c66821",
   "metadata": {
    "ExecuteTime": {
     "end_time": "2022-05-23T13:22:17.945677Z",
     "start_time": "2022-05-23T13:22:17.280598Z"
    }
   },
   "outputs": [
    {
     "name": "stdout",
     "output_type": "stream",
     "text": [
      "0 th fold： 0.8324022346368715\n",
      "1 th fold： 0.797752808988764\n",
      "2 th fold： 0.8314606741573034\n",
      "3 th fold： 0.9157303370786517\n",
      "4 th fold： 0.8539325842696629\n",
      "avg score=  0.8462557278262507\n"
     ]
    }
   ],
   "source": [
    "best_model=None\n",
    "folds=5\n",
    "best_score=0\n",
    "avg_score_gp_s=0\n",
    "result_gp_s=np.zeros(418)\n",
    "\n",
    "kf=KFold(n_splits=folds,shuffle=True,random_state=2022)\n",
    "for i, (train_index,test_index) in enumerate(kf.split(train_stacking)):\n",
    "    lgb=GaussianProcessClassifier()\n",
    "    lgb.fit(train_stacking[train_index],y_train_stacking[train_index])\n",
    "    score=lgb.score(train_stacking[test_index],y_train_stacking[test_index])\n",
    "    print(i,'th fold：',score)\n",
    "    if best_score<score:\n",
    "        best_score=score\n",
    "        best_model=lgb    \n",
    "    avg_score_gp_s+=score\n",
    "    result_gp_s+=lgb.predict(test_stacking)\n",
    "    \n",
    "avg_score_gp_s/=folds\n",
    "result_gp_s/=folds\n",
    "\n",
    "print(\"avg score= \",avg_score_gp_s)"
   ]
  },
  {
   "cell_type": "markdown",
   "id": "c97728d0",
   "metadata": {},
   "source": [
    "### 平均"
   ]
  },
  {
   "cell_type": "code",
   "execution_count": 252,
   "id": "4b190bc1",
   "metadata": {
    "ExecuteTime": {
     "end_time": "2022-05-23T13:22:28.632819Z",
     "start_time": "2022-05-23T13:22:28.622817Z"
    }
   },
   "outputs": [],
   "source": [
    "result_feature_1=(result_lgb_s+result_xgb_s+result_cat_s\\\n",
    "          +result_gbt_s+result_rf_s+result_lr_s\\\n",
    "         +result_svc_s+result_knn_s+result_pt_s\\\n",
    "          +result_sgd_s+result_gp_s+result_by_s)/12\n",
    "\n",
    "result_feature_2=(avg_score_lgb_s*result_lgb_s\\\n",
    "        +avg_score_xgb_s*result_xgb_s\\\n",
    "        +avg_score_cat_s*result_cat_s\\\n",
    "        +avg_score_gbt_s*result_gbt_s\\\n",
    "        +avg_score_rf_s*result_rf_s\\\n",
    "        +avg_score_lr_s*result_lr_s\\\n",
    "        +avg_score_svc_s*result_svc_s\\\n",
    "        +avg_score_knn_s*result_knn_s\\\n",
    "        +avg_score_pt_s*result_pt_s\\\n",
    "        +avg_score_sgd_s*result_sgd_s\\\n",
    "        +avg_score_gp_s*result_gp_s\\\n",
    "        +avg_score_by_s*result_by_s)/(avg_score_lgb_s+avg_score_xgb_s+avg_score_cat_s+avg_score_gbt_s+avg_score_rf_s+avg_score_lr_s\\\n",
    "                                      +avg_score_svc_s+avg_score_knn_s+avg_score_pt_s+avg_score_sgd_s+avg_score_gp_s+avg_score_by_s)"
   ]
  },
  {
   "cell_type": "code",
   "execution_count": 253,
   "id": "8cf1628a",
   "metadata": {
    "ExecuteTime": {
     "end_time": "2022-05-23T13:22:30.650918Z",
     "start_time": "2022-05-23T13:22:30.633904Z"
    }
   },
   "outputs": [
    {
     "data": {
      "text/plain": [
       "(array([], dtype=int64),)"
      ]
     },
     "execution_count": 253,
     "metadata": {},
     "output_type": "execute_result"
    }
   ],
   "source": [
    "np.where(np.round(result_feature_1)!=np.round(result_feature_2))"
   ]
  },
  {
   "cell_type": "code",
   "execution_count": 254,
   "id": "cf59514f",
   "metadata": {
    "ExecuteTime": {
     "end_time": "2022-05-23T13:23:58.899971Z",
     "start_time": "2022-05-23T13:23:58.889968Z"
    }
   },
   "outputs": [],
   "source": [
    "pd.DataFrame(data=np.c_[list(range(892,1310)),np.round(result_feature_1)],columns=[\"PassengerId\",\"Survived\"],dtype=np.int64).to_csv('result_20220523_s_avg.txt',index=False,header=True)# 得分：0.73444"
   ]
  },
  {
   "cell_type": "markdown",
   "id": "bb5a9e76",
   "metadata": {},
   "source": [
    "### 取前k个最好的"
   ]
  },
  {
   "cell_type": "code",
   "execution_count": null,
   "id": "d9cf5176",
   "metadata": {},
   "outputs": [],
   "source": [
    "gbt 0.850   0.842\n",
    "lgb 0.8485  0.848\n",
    "cat 0.846   0.847\n",
    "rf 0.845    0.841\n",
    "xgb 0.840   0.846\n",
    "gp 0.836    0.765\n",
    "lr 0.835    0.825\n",
    "svc 0.835   0.835\n",
    "knn 0.833   0.813\n",
    "bayes 0.808 0.806\n",
    "sgd 0.802   0.819\n",
    "perceptron 0.792  0.793"
   ]
  },
  {
   "cell_type": "code",
   "execution_count": 471,
   "id": "0539f28e",
   "metadata": {
    "ExecuteTime": {
     "end_time": "2022-05-22T15:17:41.465463Z",
     "start_time": "2022-05-22T15:17:41.448386Z"
    }
   },
   "outputs": [],
   "source": [
    "result_1=(np.round(result_lgb_s)+np.round(result_xgb_s)+np.round(result_cat_s)\\\n",
    "          +np.round(result_gbt_s)+np.round(result_rf_s)+np.round(result_lr_s)\\\n",
    "          +np.round(result_svc_s)+np.round(result_knn_s)+np.round(result_pt_s)\\\n",
    "          +np.round(result_sgd_s)+np.round(result_gp_s)+np.round(result_by_s))/12"
   ]
  },
  {
   "cell_type": "code",
   "execution_count": 459,
   "id": "933198b4",
   "metadata": {
    "ExecuteTime": {
     "end_time": "2022-05-22T12:55:04.594974Z",
     "start_time": "2022-05-22T12:55:04.578033Z"
    }
   },
   "outputs": [
    {
     "data": {
      "text/plain": [
       "(array([359], dtype=int64),)"
      ]
     },
     "execution_count": 459,
     "metadata": {},
     "output_type": "execute_result"
    }
   ],
   "source": [
    "np.where(np.round(resulto11)!=np.round(resulto22))"
   ]
  },
  {
   "cell_type": "code",
   "execution_count": 328,
   "id": "75b992ac",
   "metadata": {
    "ExecuteTime": {
     "end_time": "2022-05-22T05:56:36.533957Z",
     "start_time": "2022-05-22T05:56:36.514969Z"
    }
   },
   "outputs": [
    {
     "data": {
      "text/plain": [
       "array([0.58333333, 0.58333333, 0.58333333])"
      ]
     },
     "execution_count": 328,
     "metadata": {},
     "output_type": "execute_result"
    }
   ],
   "source": [
    "result111[np.where(np.round(result111)!=np.round(result_9))]"
   ]
  },
  {
   "cell_type": "code",
   "execution_count": 329,
   "id": "e1da3a58",
   "metadata": {
    "ExecuteTime": {
     "end_time": "2022-05-22T05:56:47.388994Z",
     "start_time": "2022-05-22T05:56:47.371055Z"
    }
   },
   "outputs": [
    {
     "data": {
      "text/plain": [
       "array([0.44444444, 0.44444444, 0.44444444])"
      ]
     },
     "execution_count": 329,
     "metadata": {},
     "output_type": "execute_result"
    }
   ],
   "source": [
    "result_9[np.where(np.round(result111)!=np.round(result_9))]"
   ]
  },
  {
   "cell_type": "code",
   "execution_count": 461,
   "id": "d393cbc5",
   "metadata": {
    "ExecuteTime": {
     "end_time": "2022-05-22T12:55:54.578959Z",
     "start_time": "2022-05-22T12:55:54.561063Z"
    }
   },
   "outputs": [
    {
     "data": {
      "text/plain": [
       "(array([ 18,  32,  64,  87,  90, 153, 181, 192, 197, 200, 202, 273, 344,\n",
       "        345, 367, 382, 383], dtype=int64),)"
      ]
     },
     "execution_count": 461,
     "metadata": {},
     "output_type": "execute_result"
    }
   ],
   "source": [
    "np.where(np.round(result_lgb_s)!=np.round(resulto22))"
   ]
  },
  {
   "cell_type": "code",
   "execution_count": 323,
   "id": "e58feb73",
   "metadata": {
    "ExecuteTime": {
     "end_time": "2022-05-22T05:55:03.922168Z",
     "start_time": "2022-05-22T05:55:03.909122Z"
    }
   },
   "outputs": [
    {
     "data": {
      "text/plain": [
       "(array([ 72,  90, 138, 153, 245, 344], dtype=int64),)"
      ]
     },
     "execution_count": 323,
     "metadata": {},
     "output_type": "execute_result"
    }
   ],
   "source": [
    "np.where(np.round(result_gbt_s)!=np.round(result_rf_s))"
   ]
  },
  {
   "cell_type": "code",
   "execution_count": 324,
   "id": "2bf965e4",
   "metadata": {
    "ExecuteTime": {
     "end_time": "2022-05-22T05:55:22.489744Z",
     "start_time": "2022-05-22T05:55:22.474762Z"
    }
   },
   "outputs": [
    {
     "data": {
      "text/plain": [
       "(array([ 34,  36, 245, 268, 273, 316, 323, 331, 412], dtype=int64),)"
      ]
     },
     "execution_count": 324,
     "metadata": {},
     "output_type": "execute_result"
    }
   ],
   "source": [
    "np.where(np.round(result_gbt_s)!=np.round(result_xgb_s))"
   ]
  },
  {
   "cell_type": "code",
   "execution_count": 313,
   "id": "221b2987",
   "metadata": {
    "ExecuteTime": {
     "end_time": "2022-05-22T05:44:07.319361Z",
     "start_time": "2022-05-22T05:44:07.312388Z"
    }
   },
   "outputs": [
    {
     "data": {
      "text/plain": [
       "array([0.5       , 0.5       , 0.5       , 0.48333333, 0.5       ])"
      ]
     },
     "execution_count": 313,
     "metadata": {},
     "output_type": "execute_result"
    }
   ],
   "source": [
    "result111[np.where(np.round(result11)!=np.round(result111))]"
   ]
  },
  {
   "cell_type": "code",
   "execution_count": 297,
   "id": "0d623236",
   "metadata": {
    "ExecuteTime": {
     "end_time": "2022-05-22T04:51:01.644469Z",
     "start_time": "2022-05-22T04:51:01.629562Z"
    }
   },
   "outputs": [
    {
     "data": {
      "text/plain": [
       "(array([  6,  19,  21,  33,  36,  37, 138, 158, 159, 165, 169, 197, 225,\n",
       "        242, 249, 252, 268, 280, 283, 293, 323, 347, 367, 382, 412],\n",
       "       dtype=int64),)"
      ]
     },
     "execution_count": 297,
     "metadata": {},
     "output_type": "execute_result"
    }
   ],
   "source": [
    "np.where(np.round(result11)!=np.round(result1))"
   ]
  },
  {
   "cell_type": "code",
   "execution_count": 298,
   "id": "11dde31b",
   "metadata": {
    "ExecuteTime": {
     "end_time": "2022-05-22T04:51:53.529755Z",
     "start_time": "2022-05-22T04:51:53.510779Z"
    }
   },
   "outputs": [
    {
     "data": {
      "text/plain": [
       "array([0.18333333, 0.33333333, 0.55      , 0.36666667, 0.3       ,\n",
       "       0.21666667, 0.43333333, 0.85      , 0.46666667, 0.28333333,\n",
       "       0.18333333, 0.5       , 0.28333333, 0.21666667, 0.23333333,\n",
       "       0.2       , 0.3       , 0.21666667, 0.28333333, 0.4       ,\n",
       "       0.51666667, 0.33333333, 0.46666667, 0.5       , 0.4       ])"
      ]
     },
     "execution_count": 298,
     "metadata": {},
     "output_type": "execute_result"
    }
   ],
   "source": [
    "result11[np.where(np.round(result11)!=np.round(result1))]"
   ]
  },
  {
   "cell_type": "code",
   "execution_count": 299,
   "id": "4bbc4921",
   "metadata": {
    "ExecuteTime": {
     "end_time": "2022-05-22T04:51:56.122275Z",
     "start_time": "2022-05-22T04:51:56.104279Z"
    }
   },
   "outputs": [
    {
     "data": {
      "text/plain": [
       "array([0.52840008, 0.52437674, 0.45679954, 0.56448001, 0.55540819,\n",
       "       0.55393837, 0.56096024, 0.43054273, 0.67248507, 0.59836365,\n",
       "       0.55539291, 0.65666669, 0.58359148, 0.54862118, 0.58336977,\n",
       "       0.52958313, 0.55540819, 0.52283612, 0.62816882, 0.52198703,\n",
       "       0.36962838, 0.54255157, 0.68228422, 0.71778027, 0.52814656])"
      ]
     },
     "execution_count": 299,
     "metadata": {},
     "output_type": "execute_result"
    }
   ],
   "source": [
    "result1[np.where(np.round(result11)!=np.round(result1))]"
   ]
  },
  {
   "cell_type": "code",
   "execution_count": 137,
   "id": "44718445",
   "metadata": {
    "ExecuteTime": {
     "end_time": "2022-05-22T04:32:04.921986Z",
     "start_time": "2022-05-22T04:32:04.903047Z"
    }
   },
   "outputs": [
    {
     "data": {
      "text/plain": [
       "array([0.18333333, 0.25      , 0.31666667, 0.25      , 0.25      ,\n",
       "       0.43333333, 0.86666667, 0.5       , 0.25      , 0.23333333,\n",
       "       0.45      , 0.25      , 0.18333333, 0.2       , 0.18333333,\n",
       "       0.25      , 0.2       , 0.25      , 0.4       , 0.36666667,\n",
       "       0.36666667])"
      ]
     },
     "execution_count": 137,
     "metadata": {},
     "output_type": "execute_result"
    }
   ],
   "source": [
    "result11[np.where(np.round(result11)!=np.round(result1))]"
   ]
  },
  {
   "cell_type": "code",
   "execution_count": 138,
   "id": "e5eaad30",
   "metadata": {
    "ExecuteTime": {
     "end_time": "2022-05-22T04:32:16.022538Z",
     "start_time": "2022-05-22T04:32:16.014565Z"
    }
   },
   "outputs": [
    {
     "data": {
      "text/plain": [
       "array([0.52840008, 0.52437674, 0.56448001, 0.55540819, 0.55393837,\n",
       "       0.56096024, 0.43054273, 0.67248507, 0.59836365, 0.55539291,\n",
       "       0.65666669, 0.58359148, 0.54862118, 0.58336977, 0.52958313,\n",
       "       0.55540819, 0.52283612, 0.62816882, 0.52198703, 0.54255157,\n",
       "       0.52814656])"
      ]
     },
     "execution_count": 138,
     "metadata": {},
     "output_type": "execute_result"
    }
   ],
   "source": [
    "result1[np.where(np.round(result11)!=np.round(result1))]"
   ]
  },
  {
   "cell_type": "code",
   "execution_count": 135,
   "id": "9f310f5a",
   "metadata": {
    "ExecuteTime": {
     "end_time": "2022-05-22T04:25:20.544168Z",
     "start_time": "2022-05-22T04:25:20.525174Z"
    }
   },
   "outputs": [
    {
     "data": {
      "text/plain": [
       "(array([  6,  19,  33,  36,  37, 138, 158, 159, 165, 169, 197, 225, 242,\n",
       "        249, 252, 268, 280, 283, 293, 347, 412], dtype=int64),)"
      ]
     },
     "execution_count": 135,
     "metadata": {},
     "output_type": "execute_result"
    }
   ],
   "source": [
    "np.where(np.round(result22)!=np.round(result1))"
   ]
  },
  {
   "cell_type": "code",
   "execution_count": 472,
   "id": "634f9d43",
   "metadata": {
    "ExecuteTime": {
     "end_time": "2022-05-22T15:18:10.786276Z",
     "start_time": "2022-05-22T15:18:10.764229Z"
    }
   },
   "outputs": [],
   "source": [
    "pd.DataFrame(data=np.c_[list(range(892,1310)),np.round(result_1)],columns=[\"PassengerId\",\"Survived\"],dtype=np.int64).to_csv('result_20220522_featurePclassSex_avg.txt',index=False,header=True)# 得分：0.73444"
   ]
  },
  {
   "cell_type": "code",
   "execution_count": null,
   "id": "6290d9c6",
   "metadata": {},
   "outputs": [],
   "source": []
  }
 ],
 "metadata": {
  "kernelspec": {
   "display_name": "Python 3",
   "language": "python",
   "name": "python3"
  },
  "language_info": {
   "codemirror_mode": {
    "name": "ipython",
    "version": 3
   },
   "file_extension": ".py",
   "mimetype": "text/x-python",
   "name": "python",
   "nbconvert_exporter": "python",
   "pygments_lexer": "ipython3",
   "version": "3.8.8"
  },
  "toc": {
   "base_numbering": 1,
   "nav_menu": {},
   "number_sections": true,
   "sideBar": true,
   "skip_h1_title": false,
   "title_cell": "Table of Contents",
   "title_sidebar": "Contents",
   "toc_cell": false,
   "toc_position": {
    "height": "calc(100% - 180px)",
    "left": "10px",
    "top": "150px",
    "width": "303.825px"
   },
   "toc_section_display": true,
   "toc_window_display": true
  },
  "varInspector": {
   "cols": {
    "lenName": 16,
    "lenType": 16,
    "lenVar": 40
   },
   "kernels_config": {
    "python": {
     "delete_cmd_postfix": "",
     "delete_cmd_prefix": "del ",
     "library": "var_list.py",
     "varRefreshCmd": "print(var_dic_list())"
    },
    "r": {
     "delete_cmd_postfix": ") ",
     "delete_cmd_prefix": "rm(",
     "library": "var_list.r",
     "varRefreshCmd": "cat(var_dic_list()) "
    }
   },
   "types_to_exclude": [
    "module",
    "function",
    "builtin_function_or_method",
    "instance",
    "_Feature"
   ],
   "window_display": false
  }
 },
 "nbformat": 4,
 "nbformat_minor": 5
}
